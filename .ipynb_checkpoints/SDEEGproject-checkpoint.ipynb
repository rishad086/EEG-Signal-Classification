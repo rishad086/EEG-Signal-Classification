{
 "cells": [
  {
   "cell_type": "code",
   "execution_count": 1,
   "id": "db264813",
   "metadata": {},
   "outputs": [],
   "source": [
    "import pandas as pd\n",
    "import numpy as np\n",
    "from glob import glob\n",
    "import scipy.io\n",
    "import torch.nn as nn\n",
    "import torch\n",
    "from ssqueezepy import cwt\n",
    "from ssqueezepy.visuals import plot, imshow\n",
    "import os\n",
    "import re\n",
    "import numpy as np\n",
    "from pytorch_lightning import seed_everything, LightningModule, Trainer\n",
    "from sklearn.utils import class_weight\n",
    "import torch.nn as nn\n",
    "import torch\n",
    "from torch.utils.data.dataloader import DataLoader\n",
    "from pytorch_lightning.callbacks import EarlyStopping,ModelCheckpoint,LearningRateMonitor\n",
    "from torch.optim.lr_scheduler import CyclicLR, ReduceLROnPlateau,CosineAnnealingWarmRestarts,OneCycleLR,CosineAnnealingLR\n",
    "import torchvision\n",
    "from sklearn.metrics import classification_report,f1_score,accuracy_score,roc_curve,auc,roc_auc_score\n",
    "import matplotlib.pyplot as plt\n",
    "import pandas as pd\n",
    "import numpy as np\n",
    "from glob import glob\n",
    "from PIL import Image\n",
    "\n",
    "from torch.utils.data import DataLoader, Dataset,ConcatDataset\n",
    "import torchmetrics\n",
    "import timm\n",
    "import random\n",
    "from sklearn.model_selection import train_test_split\n",
    "from tensorflow.keras import datasets, layers, models\n",
    "import tensorflow as tf"
   ]
  },
  {
   "cell_type": "code",
   "execution_count": null,
   "id": "b3d33ffa",
   "metadata": {},
   "outputs": [],
   "source": [
    "df= pd.read_csv('amr.csv')\n",
    "df.head(50)"
   ]
  },
  {
   "cell_type": "code",
   "execution_count": null,
   "id": "6052aebb",
   "metadata": {},
   "outputs": [],
   "source": [
    "X = df['path']\n",
    "Y = df['label']\n"
   ]
  },
  {
   "cell_type": "code",
   "execution_count": null,
   "id": "81e7c7df",
   "metadata": {},
   "outputs": [],
   "source": [
    "for i in range (510):\n",
    "    X[i] = np.load(X[i])"
   ]
  },
  {
   "cell_type": "code",
   "execution_count": null,
   "id": "2b846d46",
   "metadata": {},
   "outputs": [],
   "source": [
    "a=[]\n",
    "b=[]"
   ]
  },
  {
   "cell_type": "code",
   "execution_count": null,
   "id": "294d10f2",
   "metadata": {},
   "outputs": [],
   "source": [
    "i=0\n",
    "while i<510:\n",
    "    if Y[i]==1:\n",
    "        a.append(i)\n",
    "    i = i + 1\n",
    "i=0\n",
    "while i<510:\n",
    "    if Y[i]==0:\n",
    "        b.append(i)\n",
    "    i = i + 1"
   ]
  },
  {
   "cell_type": "code",
   "execution_count": null,
   "id": "87f4c975",
   "metadata": {},
   "outputs": [],
   "source": [
    "imshow(X[0][12])"
   ]
  },
  {
   "cell_type": "code",
   "execution_count": null,
   "id": "bd4a66ca",
   "metadata": {},
   "outputs": [],
   "source": [
    "imshow(X[0][13])"
   ]
  },
  {
   "cell_type": "code",
   "execution_count": 2,
   "id": "97dceb4f",
   "metadata": {},
   "outputs": [],
   "source": [
    "import os\n",
    "from PIL import Image"
   ]
  },
  {
   "cell_type": "code",
   "execution_count": null,
   "id": "d5cd0cb2",
   "metadata": {},
   "outputs": [],
   "source": [
    "base_dir = 'D:\\EEG project\\Zero'\n",
    "os.mkdir(base_dir)"
   ]
  },
  {
   "cell_type": "code",
   "execution_count": null,
   "id": "0c4e87b3",
   "metadata": {},
   "outputs": [],
   "source": [
    "base1_dir = 'D:\\EEG project\\One'\n",
    "os.mkdir(base1_dir)"
   ]
  },
  {
   "cell_type": "code",
   "execution_count": null,
   "id": "acec05ee",
   "metadata": {},
   "outputs": [],
   "source": [
    "for x in range(14):\n",
    "    path=os.path.join(base_dir,f'AF_{5}{x}.png')\n",
    "    plt.imsave(path,X[0][x])"
   ]
  },
  {
   "cell_type": "code",
   "execution_count": null,
   "id": "62db2f9c",
   "metadata": {},
   "outputs": [],
   "source": [
    "df_scale"
   ]
  },
  {
   "cell_type": "code",
   "execution_count": null,
   "id": "352ef74d",
   "metadata": {},
   "outputs": [],
   "source": []
  },
  {
   "cell_type": "code",
   "execution_count": null,
   "id": "8162b6ab",
   "metadata": {},
   "outputs": [],
   "source": [
    "X[0].shape\n"
   ]
  },
  {
   "cell_type": "code",
   "execution_count": null,
   "id": "c04311d1",
   "metadata": {},
   "outputs": [],
   "source": [
    "imshow(X[0][2])  "
   ]
  },
  {
   "cell_type": "code",
   "execution_count": null,
   "id": "d7614029",
   "metadata": {},
   "outputs": [],
   "source": [
    "len(a)"
   ]
  },
  {
   "cell_type": "code",
   "execution_count": null,
   "id": "d4b9255f",
   "metadata": {},
   "outputs": [],
   "source": [
    "b=[]"
   ]
  },
  {
   "cell_type": "code",
   "execution_count": null,
   "id": "8a20d867",
   "metadata": {},
   "outputs": [],
   "source": [
    "i=0\n",
    "while i<510:\n",
    "    if Y[i]==0:\n",
    "        b.append(i)\n",
    "    i = i + 1"
   ]
  },
  {
   "cell_type": "code",
   "execution_count": null,
   "id": "703f1c8a",
   "metadata": {},
   "outputs": [],
   "source": [
    "b"
   ]
  },
  {
   "cell_type": "code",
   "execution_count": null,
   "id": "ab2c7143",
   "metadata": {},
   "outputs": [],
   "source": [
    "len(b)"
   ]
  },
  {
   "cell_type": "code",
   "execution_count": null,
   "id": "5624c07c",
   "metadata": {},
   "outputs": [],
   "source": [
    "b[0]"
   ]
  },
  {
   "cell_type": "code",
   "execution_count": null,
   "id": "faf877e4",
   "metadata": {},
   "outputs": [],
   "source": [
    "j = 0\n",
    "while j < 103:\n",
    "    k = 0 \n",
    "    while k < 14:\n",
    "        path=os.path.join(base_dir,f'channel_{j}_{k}.png')\n",
    "        plt.imsave(path,X[b[j]][k])\n",
    "        k=k+1\n",
    "    j=j+1\n",
    "        \n",
    "        "
   ]
  },
  {
   "cell_type": "code",
   "execution_count": null,
   "id": "a8301d05",
   "metadata": {},
   "outputs": [],
   "source": [
    "j = 0\n",
    "while j < 407:\n",
    "    k = 0 \n",
    "    while k < 14:\n",
    "        path=os.path.join(base1_dir,f'chOne_{j}_{k}.png')\n",
    "        plt.imsave(path,X[a[j]][k])\n",
    "        k=k+1\n",
    "    j=j+1"
   ]
  },
  {
   "cell_type": "code",
   "execution_count": null,
   "id": "ea1b96a1",
   "metadata": {},
   "outputs": [],
   "source": [
    "j"
   ]
  },
  {
   "cell_type": "code",
   "execution_count": 3,
   "id": "32fd2f23",
   "metadata": {},
   "outputs": [],
   "source": [
    "dataset_dir = 'D:\\EEG project\\RunModel'"
   ]
  },
  {
   "cell_type": "code",
   "execution_count": 4,
   "id": "0ef52cb5",
   "metadata": {},
   "outputs": [],
   "source": [
    "os.mkdir(dataset_dir)"
   ]
  },
  {
   "cell_type": "code",
   "execution_count": 5,
   "id": "9e4bd042",
   "metadata": {},
   "outputs": [],
   "source": [
    "train_dir = os.path.join(dataset_dir,'train')"
   ]
  },
  {
   "cell_type": "code",
   "execution_count": 6,
   "id": "c177143c",
   "metadata": {},
   "outputs": [],
   "source": [
    "os.mkdir(train_dir)"
   ]
  },
  {
   "cell_type": "code",
   "execution_count": 7,
   "id": "746c4755",
   "metadata": {},
   "outputs": [],
   "source": [
    "test_dir = os.path.join(dataset_dir,'test')"
   ]
  },
  {
   "cell_type": "code",
   "execution_count": 8,
   "id": "59426f88",
   "metadata": {},
   "outputs": [],
   "source": [
    "os.mkdir(test_dir)"
   ]
  },
  {
   "cell_type": "code",
   "execution_count": 9,
   "id": "628b2db3",
   "metadata": {},
   "outputs": [],
   "source": [
    "val_dir = os.path.join(dataset_dir,'validation')"
   ]
  },
  {
   "cell_type": "code",
   "execution_count": 10,
   "id": "f14d5819",
   "metadata": {},
   "outputs": [],
   "source": [
    "os.mkdir(val_dir)"
   ]
  },
  {
   "cell_type": "code",
   "execution_count": 11,
   "id": "d2467afb",
   "metadata": {},
   "outputs": [],
   "source": [
    "train_one = os.path.join(train_dir,'one')"
   ]
  },
  {
   "cell_type": "code",
   "execution_count": 12,
   "id": "d95ceb6a",
   "metadata": {},
   "outputs": [],
   "source": [
    "os.mkdir(train_one)"
   ]
  },
  {
   "cell_type": "code",
   "execution_count": 13,
   "id": "7bf6be28",
   "metadata": {},
   "outputs": [],
   "source": [
    "train_zero = os.path.join(train_dir,'zero')"
   ]
  },
  {
   "cell_type": "code",
   "execution_count": 14,
   "id": "d4631ab6",
   "metadata": {},
   "outputs": [],
   "source": [
    "os.mkdir(train_zero)"
   ]
  },
  {
   "cell_type": "code",
   "execution_count": 15,
   "id": "adf71a05",
   "metadata": {},
   "outputs": [],
   "source": [
    "test_one = os.path.join(test_dir,'one')\n",
    "os.mkdir(test_one)\n",
    "test_zero = os.path.join(test_dir,'zero')\n",
    "os.mkdir(test_zero)\n",
    "val_one = os.path.join(val_dir,'one')\n",
    "os.mkdir(val_one)\n",
    "val_zero = os.path.join(val_dir,'zero')\n",
    "os.mkdir(val_zero)"
   ]
  },
  {
   "cell_type": "code",
   "execution_count": 17,
   "id": "b5ae7727",
   "metadata": {},
   "outputs": [],
   "source": [
    "orginal_src = 'D:\\EEG project\\dataset'"
   ]
  },
  {
   "cell_type": "code",
   "execution_count": 18,
   "id": "c61a93c6",
   "metadata": {},
   "outputs": [],
   "source": [
    "import shutil"
   ]
  },
  {
   "cell_type": "code",
   "execution_count": 23,
   "id": "689ce322",
   "metadata": {},
   "outputs": [],
   "source": [
    "path = os.chdir('D:\\EEG project\\Zero')\n",
    "i=0\n",
    "for file in os.listdir(path):\n",
    "    new_file_name = \"zero{}.png\".format(i)\n",
    "    os.rename(file,new_file_name)\n",
    "    i = i + 1"
   ]
  },
  {
   "cell_type": "code",
   "execution_count": 24,
   "id": "628a8891",
   "metadata": {},
   "outputs": [],
   "source": [
    "path1 = os.chdir('D:\\EEG project\\One')\n",
    "i=0\n",
    "for file in os.listdir(path1):\n",
    "    new_file_name1 = \"one{}.png\".format(i)\n",
    "    os.rename(file,new_file_name1)\n",
    "    i = i + 1"
   ]
  },
  {
   "cell_type": "code",
   "execution_count": 26,
   "id": "029140e6",
   "metadata": {},
   "outputs": [],
   "source": [
    "fname = ['zero{}.png'.format(i) for i in range(900)]\n",
    "for f in fname:\n",
    "    src = os.path.join(orginal_src,f)\n",
    "    dst = os.path.join(train_zero,f)\n",
    "    shutil.copyfile(src,dst)"
   ]
  },
  {
   "cell_type": "code",
   "execution_count": 27,
   "id": "6241b812",
   "metadata": {},
   "outputs": [],
   "source": [
    "fname = ['zero{}.png'.format(i) for i in range(900,1143)]\n",
    "for f in fname:\n",
    "    src = os.path.join(orginal_src,f)\n",
    "    dst = os.path.join(test_zero,f)\n",
    "    shutil.copyfile(src,dst)"
   ]
  },
  {
   "cell_type": "code",
   "execution_count": 29,
   "id": "044ae84d",
   "metadata": {},
   "outputs": [],
   "source": [
    "fname = ['zero{}.png'.format(i) for i in range(1143,1442)]\n",
    "for f in fname:\n",
    "    src = os.path.join(orginal_src,f)\n",
    "    dst = os.path.join(val_zero,f)\n",
    "    shutil.copyfile(src,dst)"
   ]
  },
  {
   "cell_type": "code",
   "execution_count": 30,
   "id": "8adf47e5",
   "metadata": {},
   "outputs": [],
   "source": [
    "fname = ['one{}.png'.format(i) for i in range(4000)]\n",
    "for f in fname:\n",
    "    src = os.path.join(orginal_src,f)\n",
    "    dst = os.path.join(train_one,f)\n",
    "    shutil.copyfile(src,dst)"
   ]
  },
  {
   "cell_type": "code",
   "execution_count": 35,
   "id": "3ddeab67",
   "metadata": {},
   "outputs": [],
   "source": [
    "fname = ['one{}.png'.format(i) for i in range(5000,5698)]\n",
    "for f in fname:\n",
    "    src = os.path.join(orginal_src,f)\n",
    "    dst = os.path.join(test_one,f)\n",
    "    shutil.copyfile(src,dst)"
   ]
  },
  {
   "cell_type": "code",
   "execution_count": 34,
   "id": "d3be601f",
   "metadata": {},
   "outputs": [],
   "source": [
    "fname = ['one{}.png'.format(i) for i in range(4000,5000)]\n",
    "for f in fname:\n",
    "    src = os.path.join(orginal_src,f)\n",
    "    dst = os.path.join(val_one,f)\n",
    "    shutil.copyfile(src,dst)"
   ]
  },
  {
   "cell_type": "code",
   "execution_count": 36,
   "id": "5c1500dd",
   "metadata": {},
   "outputs": [
    {
     "name": "stdout",
     "output_type": "stream",
     "text": [
      "Model: \"sequential\"\n",
      "_________________________________________________________________\n",
      " Layer (type)                Output Shape              Param #   \n",
      "=================================================================\n",
      " conv2d (Conv2D)             (None, 382, 228, 32)      896       \n",
      "                                                                 \n",
      " max_pooling2d (MaxPooling2D  (None, 191, 114, 32)     0         \n",
      " )                                                               \n",
      "                                                                 \n",
      " conv2d_1 (Conv2D)           (None, 189, 112, 64)      18496     \n",
      "                                                                 \n",
      " max_pooling2d_1 (MaxPooling  (None, 94, 56, 64)       0         \n",
      " 2D)                                                             \n",
      "                                                                 \n",
      " conv2d_2 (Conv2D)           (None, 92, 54, 128)       73856     \n",
      "                                                                 \n",
      " max_pooling2d_2 (MaxPooling  (None, 46, 27, 128)      0         \n",
      " 2D)                                                             \n",
      "                                                                 \n",
      " conv2d_3 (Conv2D)           (None, 44, 25, 128)       147584    \n",
      "                                                                 \n",
      " max_pooling2d_3 (MaxPooling  (None, 22, 12, 128)      0         \n",
      " 2D)                                                             \n",
      "                                                                 \n",
      " flatten (Flatten)           (None, 33792)             0         \n",
      "                                                                 \n",
      " dense (Dense)               (None, 512)               17302016  \n",
      "                                                                 \n",
      " dense_1 (Dense)             (None, 1)                 513       \n",
      "                                                                 \n",
      "=================================================================\n",
      "Total params: 17,543,361\n",
      "Trainable params: 17,543,361\n",
      "Non-trainable params: 0\n",
      "_________________________________________________________________\n"
     ]
    }
   ],
   "source": [
    "from keras import layers\n",
    "from keras import models\n",
    "\n",
    "#Created sequential models using Keras\n",
    "model = models.Sequential()\n",
    "model.add(layers.Conv2D(32, (3, 3), activation='relu', input_shape=(384, 230, 3)))\n",
    "model.add(layers.MaxPooling2D((2, 2)))\n",
    "model.add(layers.Conv2D(64, (3, 3), activation='relu'))\n",
    "model.add(layers.MaxPooling2D((2, 2)))\n",
    "model.add(layers.Conv2D(128, (3, 3), activation='relu'))\n",
    "model.add(layers.MaxPooling2D((2, 2)))\n",
    "model.add(layers.Conv2D(128, (3, 3), activation='relu'))\n",
    "model.add(layers.MaxPooling2D((2, 2)))\n",
    "model.add(layers.Flatten())\n",
    "model.add(layers.Dense(512, activation='relu'))\n",
    "model.add(layers.Dense(1, activation='sigmoid'))\n",
    "model.summary()"
   ]
  },
  {
   "cell_type": "code",
   "execution_count": 37,
   "id": "ea34ad3d",
   "metadata": {},
   "outputs": [
    {
     "name": "stderr",
     "output_type": "stream",
     "text": [
      "C:\\python\\lib\\site-packages\\keras\\optimizer_v2\\rmsprop.py:130: UserWarning: The `lr` argument is deprecated, use `learning_rate` instead.\n",
      "  super(RMSprop, self).__init__(name, **kwargs)\n"
     ]
    }
   ],
   "source": [
    "from tensorflow.keras import optimizers\n",
    "model.compile(loss='binary_crossentropy', \n",
    "              optimizer=optimizers.RMSprop(lr=1e-4),\n",
    "              metrics=['acc'])"
   ]
  },
  {
   "cell_type": "code",
   "execution_count": 40,
   "id": "ee8dc1bc",
   "metadata": {},
   "outputs": [
    {
     "name": "stdout",
     "output_type": "stream",
     "text": [
      "Found 4900 images belonging to 2 classes.\n",
      "Found 1299 images belonging to 2 classes.\n"
     ]
    }
   ],
   "source": [
    "from keras.preprocessing.image import ImageDataGenerator\n",
    "\n",
    "train_datagen = ImageDataGenerator(rescale=1./255)\n",
    "test_datagen = ImageDataGenerator(rescale=1./255)\n",
    "\n",
    "train_generator = train_datagen.flow_from_directory(train_dir,\n",
    "                                                    target_size=(384, 230), \n",
    "                                                    batch_size=20,\n",
    "                                                    class_mode='binary')\n",
    "\n",
    "validation_generator = test_datagen.flow_from_directory(val_dir,\n",
    "                                                        target_size=(384, 230),\n",
    "                                                        batch_size=20,\n",
    "                                                        class_mode='binary')"
   ]
  },
  {
   "cell_type": "code",
   "execution_count": 41,
   "id": "ca24fa3d",
   "metadata": {},
   "outputs": [
    {
     "name": "stderr",
     "output_type": "stream",
     "text": [
      "C:\\Users\\aLiF\\AppData\\Local\\Temp\\ipykernel_4564\\516763950.py:1: UserWarning: `Model.fit_generator` is deprecated and will be removed in a future version. Please use `Model.fit`, which supports generators.\n",
      "  history = model.fit_generator(train_generator,\n"
     ]
    },
    {
     "name": "stdout",
     "output_type": "stream",
     "text": [
      "Epoch 1/20\n",
      "100/100 [==============================] - 155s 2s/step - loss: 0.4396 - acc: 0.8145 - val_loss: 0.6562 - val_acc: 0.7800\n",
      "Epoch 2/20\n",
      "100/100 [==============================] - 155s 2s/step - loss: 0.4046 - acc: 0.8275 - val_loss: 0.6768 - val_acc: 0.6800\n",
      "Epoch 3/20\n",
      "100/100 [==============================] - 153s 2s/step - loss: 0.3748 - acc: 0.8405 - val_loss: 0.6813 - val_acc: 0.7700\n",
      "Epoch 4/20\n",
      "100/100 [==============================] - 155s 2s/step - loss: 0.3496 - acc: 0.8610 - val_loss: 0.7706 - val_acc: 0.6450\n",
      "Epoch 5/20\n",
      "100/100 [==============================] - 153s 2s/step - loss: 0.3267 - acc: 0.8735 - val_loss: 0.7279 - val_acc: 0.6800\n",
      "Epoch 6/20\n",
      "100/100 [==============================] - 159s 2s/step - loss: 0.3070 - acc: 0.8760 - val_loss: 0.6399 - val_acc: 0.7250\n",
      "Epoch 7/20\n",
      "100/100 [==============================] - 164s 2s/step - loss: 0.2939 - acc: 0.8790 - val_loss: 0.8211 - val_acc: 0.5800\n",
      "Epoch 8/20\n",
      "100/100 [==============================] - 156s 2s/step - loss: 0.2755 - acc: 0.8925 - val_loss: 0.7392 - val_acc: 0.6100\n",
      "Epoch 9/20\n",
      "100/100 [==============================] - 154s 2s/step - loss: 0.2879 - acc: 0.8825 - val_loss: 0.8822 - val_acc: 0.5100\n",
      "Epoch 10/20\n",
      "100/100 [==============================] - 155s 2s/step - loss: 0.2780 - acc: 0.8795 - val_loss: 0.8269 - val_acc: 0.6600\n",
      "Epoch 11/20\n",
      "100/100 [==============================] - 157s 2s/step - loss: 0.2492 - acc: 0.8990 - val_loss: 0.9044 - val_acc: 0.6600\n",
      "Epoch 12/20\n",
      "100/100 [==============================] - 155s 2s/step - loss: 0.2575 - acc: 0.8970 - val_loss: 0.8710 - val_acc: 0.5950\n",
      "Epoch 13/20\n",
      "100/100 [==============================] - 156s 2s/step - loss: 0.2319 - acc: 0.9085 - val_loss: 0.6957 - val_acc: 0.7000\n",
      "Epoch 14/20\n",
      "100/100 [==============================] - 155s 2s/step - loss: 0.2420 - acc: 0.9050 - val_loss: 0.9909 - val_acc: 0.5750\n",
      "Epoch 15/20\n",
      "100/100 [==============================] - 156s 2s/step - loss: 0.2214 - acc: 0.9050 - val_loss: 0.8672 - val_acc: 0.6700\n",
      "Epoch 16/20\n",
      "100/100 [==============================] - 155s 2s/step - loss: 0.2052 - acc: 0.9145 - val_loss: 1.0306 - val_acc: 0.5200\n",
      "Epoch 17/20\n",
      "100/100 [==============================] - 160s 2s/step - loss: 0.2063 - acc: 0.9185 - val_loss: 1.0581 - val_acc: 0.6500\n",
      "Epoch 18/20\n",
      "100/100 [==============================] - 155s 2s/step - loss: 0.1679 - acc: 0.9350 - val_loss: 1.1262 - val_acc: 0.4800\n",
      "Epoch 19/20\n",
      "100/100 [==============================] - 155s 2s/step - loss: 0.1675 - acc: 0.9310 - val_loss: 1.0280 - val_acc: 0.5900\n",
      "Epoch 20/20\n",
      "100/100 [==============================] - 159s 2s/step - loss: 0.1563 - acc: 0.9385 - val_loss: 1.2496 - val_acc: 0.6600\n"
     ]
    }
   ],
   "source": [
    "history = model.fit_generator(train_generator,\n",
    "                              steps_per_epoch=100,\n",
    "                              epochs=20,\n",
    "                              validation_data=validation_generator,\n",
    "                              validation_steps=10)\n",
    "     \n"
   ]
  },
  {
   "cell_type": "code",
   "execution_count": null,
   "id": "c2ea3370",
   "metadata": {},
   "outputs": [],
   "source": [
    "model."
   ]
  }
 ],
 "metadata": {
  "kernelspec": {
   "display_name": "Python 3 (ipykernel)",
   "language": "python",
   "name": "python3"
  },
  "language_info": {
   "codemirror_mode": {
    "name": "ipython",
    "version": 3
   },
   "file_extension": ".py",
   "mimetype": "text/x-python",
   "name": "python",
   "nbconvert_exporter": "python",
   "pygments_lexer": "ipython3",
   "version": "3.9.0"
  }
 },
 "nbformat": 4,
 "nbformat_minor": 5
}

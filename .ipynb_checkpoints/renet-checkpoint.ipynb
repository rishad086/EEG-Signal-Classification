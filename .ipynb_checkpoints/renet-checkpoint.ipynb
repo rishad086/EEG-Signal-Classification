{
 "cells": [
  {
   "cell_type": "code",
   "execution_count": 8,
   "id": "db264813",
   "metadata": {},
   "outputs": [],
   "source": [
    "import pandas as pd\n",
    "import numpy as np\n",
    "from glob import glob\n",
    "import scipy.io\n",
    "\n",
    "\n",
    "\n",
    "import os\n",
    "import re\n",
    "import numpy as np\n",
    "\n",
    "from sklearn.utils import class_weight\n",
    "\n",
    "from sklearn.metrics import classification_report,f1_score,accuracy_score,roc_curve,auc,roc_auc_score\n",
    "import matplotlib.pyplot as plt\n",
    "import pandas as pd\n",
    "import numpy as np\n",
    "from glob import glob\n",
    "from PIL import Image\n",
    "\n",
    "\n",
    "import random\n",
    "from sklearn.model_selection import train_test_split\n",
    "from tensorflow.keras import datasets, layers, models\n",
    "import tensorflow as tf"
   ]
  },
  {
   "cell_type": "code",
   "execution_count": null,
   "id": "b3d33ffa",
   "metadata": {},
   "outputs": [],
   "source": [
    "df= pd.read_csv('D:/EEG project/amr.csv')\n",
    "df.head(50)"
   ]
  },
  {
   "cell_type": "code",
   "execution_count": null,
   "id": "6052aebb",
   "metadata": {},
   "outputs": [],
   "source": [
    "X = df['path']\n",
    "Y = df['label']\n"
   ]
  },
  {
   "cell_type": "code",
   "execution_count": null,
   "id": "81e7c7df",
   "metadata": {},
   "outputs": [],
   "source": [
    "for i in range (510):\n",
    "    X[i] = np.load(X[i])"
   ]
  },
  {
   "cell_type": "code",
   "execution_count": null,
   "id": "acf0d276",
   "metadata": {},
   "outputs": [],
   "source": [
    "X[0].shape"
   ]
  },
  {
   "cell_type": "code",
   "execution_count": null,
   "id": "858ca1c4",
   "metadata": {},
   "outputs": [],
   "source": [
    "X[0][0]"
   ]
  },
  {
   "cell_type": "code",
   "execution_count": null,
   "id": "3ec8fdef",
   "metadata": {},
   "outputs": [],
   "source": [
    "X[0][0].shape"
   ]
  },
  {
   "cell_type": "code",
   "execution_count": null,
   "id": "3de7962b",
   "metadata": {},
   "outputs": [],
   "source": [
    "plt.imshow(X[0][0])"
   ]
  },
  {
   "cell_type": "code",
   "execution_count": null,
   "id": "3b9098a9",
   "metadata": {},
   "outputs": [],
   "source": [
    "plt.plot(X[0][0])"
   ]
  },
  {
   "cell_type": "code",
   "execution_count": null,
   "id": "cf520e48",
   "metadata": {},
   "outputs": [],
   "source": [
    "plt.imsave('t.png',X[0][0])"
   ]
  },
  {
   "cell_type": "code",
   "execution_count": null,
   "id": "d0f5fb75",
   "metadata": {},
   "outputs": [],
   "source": [
    "img = plt.imread('t.png')"
   ]
  },
  {
   "cell_type": "code",
   "execution_count": null,
   "id": "f0454294",
   "metadata": {},
   "outputs": [],
   "source": [
    "img"
   ]
  },
  {
   "cell_type": "code",
   "execution_count": null,
   "id": "7eeecf24",
   "metadata": {},
   "outputs": [],
   "source": [
    "img.shape"
   ]
  },
  {
   "cell_type": "code",
   "execution_count": null,
   "id": "2b846d46",
   "metadata": {},
   "outputs": [],
   "source": [
    "plt.imsave('t1.jpg',X[0][0])\n"
   ]
  },
  {
   "cell_type": "code",
   "execution_count": null,
   "id": "fab88d4d",
   "metadata": {},
   "outputs": [],
   "source": [
    "ijpg = plt.imread('t1.jpg')\n",
    "ijpg.shape"
   ]
  },
  {
   "cell_type": "code",
   "execution_count": null,
   "id": "969323c0",
   "metadata": {},
   "outputs": [],
   "source": [
    "0.46899614/0.27450982"
   ]
  },
  {
   "cell_type": "code",
   "execution_count": null,
   "id": "06951a40",
   "metadata": {},
   "outputs": [],
   "source": [
    " 0.6572903/0.3607843"
   ]
  },
  {
   "cell_type": "code",
   "execution_count": null,
   "id": "07d5c7ca",
   "metadata": {},
   "outputs": [],
   "source": [
    "a=[]\n",
    "b=[]"
   ]
  },
  {
   "cell_type": "code",
   "execution_count": null,
   "id": "294d10f2",
   "metadata": {},
   "outputs": [],
   "source": [
    "i=0\n",
    "while i<510:\n",
    "    if Y[i]==1:\n",
    "        a.append(i)\n",
    "    i = i + 1\n",
    "i=0\n",
    "while i<510:\n",
    "    if Y[i]==0:\n",
    "        b.append(i)\n",
    "    i = i + 1"
   ]
  },
  {
   "cell_type": "code",
   "execution_count": null,
   "id": "87f4c975",
   "metadata": {},
   "outputs": [],
   "source": [
    "imshow(X[0][12])"
   ]
  },
  {
   "cell_type": "code",
   "execution_count": null,
   "id": "bd4a66ca",
   "metadata": {},
   "outputs": [],
   "source": [
    "imshow(X[0][13])"
   ]
  },
  {
   "cell_type": "code",
   "execution_count": null,
   "id": "97dceb4f",
   "metadata": {},
   "outputs": [],
   "source": [
    "import os\n",
    "from PIL import Image"
   ]
  },
  {
   "cell_type": "code",
   "execution_count": null,
   "id": "d5cd0cb2",
   "metadata": {},
   "outputs": [],
   "source": [
    "base_dir = 'D:\\EEG project\\Zero'\n",
    "# os.mkdir(base_dir)"
   ]
  },
  {
   "cell_type": "code",
   "execution_count": null,
   "id": "0c4e87b3",
   "metadata": {},
   "outputs": [],
   "source": [
    "base1_dir = 'D:\\EEG project\\One'\n",
    "# os.mkdir(base1_dir)"
   ]
  },
  {
   "cell_type": "code",
   "execution_count": null,
   "id": "78e3ac6c",
   "metadata": {},
   "outputs": [],
   "source": [
    "baseOne_dir = 'D:\\EEG project\\OneJPG'\n",
    "# os.mkdir(baseOne_dir)\n",
    "baseZero_dir = 'D:\\EEG project\\ZeroJPG'\n",
    "# os.mkdir(baseZero_dir)"
   ]
  },
  {
   "cell_type": "code",
   "execution_count": null,
   "id": "acec05ee",
   "metadata": {},
   "outputs": [],
   "source": [
    "for x in range(14):\n",
    "    path=os.path.join(base_dir,f'AF_{5}{x}.png')\n",
    "    plt.imsave(path,X[0][x])"
   ]
  },
  {
   "cell_type": "code",
   "execution_count": null,
   "id": "62db2f9c",
   "metadata": {},
   "outputs": [],
   "source": [
    "df_scale"
   ]
  },
  {
   "cell_type": "code",
   "execution_count": null,
   "id": "352ef74d",
   "metadata": {},
   "outputs": [],
   "source": [
    "import opencv\n"
   ]
  },
  {
   "cell_type": "code",
   "execution_count": null,
   "id": "b1bda5f2",
   "metadata": {},
   "outputs": [],
   "source": []
  },
  {
   "cell_type": "code",
   "execution_count": null,
   "id": "8162b6ab",
   "metadata": {},
   "outputs": [],
   "source": [
    "X[0].shape\n"
   ]
  },
  {
   "cell_type": "code",
   "execution_count": null,
   "id": "c04311d1",
   "metadata": {},
   "outputs": [],
   "source": [
    "imshow(X[0][2])  "
   ]
  },
  {
   "cell_type": "code",
   "execution_count": null,
   "id": "d7614029",
   "metadata": {},
   "outputs": [],
   "source": [
    "len(a)"
   ]
  },
  {
   "cell_type": "code",
   "execution_count": null,
   "id": "d4b9255f",
   "metadata": {},
   "outputs": [],
   "source": [
    "b=[]"
   ]
  },
  {
   "cell_type": "code",
   "execution_count": null,
   "id": "8a20d867",
   "metadata": {},
   "outputs": [],
   "source": [
    "i=0\n",
    "while i<510:\n",
    "    if Y[i]==0:\n",
    "        b.append(i)\n",
    "    i = i + 1"
   ]
  },
  {
   "cell_type": "code",
   "execution_count": null,
   "id": "703f1c8a",
   "metadata": {},
   "outputs": [],
   "source": [
    "b"
   ]
  },
  {
   "cell_type": "code",
   "execution_count": null,
   "id": "ab2c7143",
   "metadata": {},
   "outputs": [],
   "source": [
    "len(b)"
   ]
  },
  {
   "cell_type": "code",
   "execution_count": null,
   "id": "5624c07c",
   "metadata": {},
   "outputs": [],
   "source": [
    "b[0]"
   ]
  },
  {
   "cell_type": "code",
   "execution_count": null,
   "id": "faf877e4",
   "metadata": {},
   "outputs": [],
   "source": [
    "j = 0\n",
    "while j < 103:\n",
    "    k = 0 \n",
    "    while k < 14:\n",
    "        path=os.path.join(baseZero_dir,f'channel_{j}_{k}.jpg')\n",
    "        plt.imsave(path,X[b[j]][k])\n",
    "        k=k+1\n",
    "    j=j+1\n",
    "        \n",
    "        "
   ]
  },
  {
   "cell_type": "code",
   "execution_count": null,
   "id": "a8301d05",
   "metadata": {},
   "outputs": [],
   "source": [
    "j = 0\n",
    "while j < 407:\n",
    "    k = 0 \n",
    "    while k < 14:\n",
    "        path=os.path.join(baseOne_dir,f'chOne_{j}_{k}.jpg')\n",
    "        plt.imsave(path,X[a[j]][k])\n",
    "        k=k+1\n",
    "    j=j+1"
   ]
  },
  {
   "cell_type": "code",
   "execution_count": null,
   "id": "ea1b96a1",
   "metadata": {},
   "outputs": [],
   "source": [
    "j"
   ]
  },
  {
   "cell_type": "code",
   "execution_count": null,
   "id": "32fd2f23",
   "metadata": {},
   "outputs": [],
   "source": [
    "dataset_dir = 'D:\\EEG project\\RunModel'"
   ]
  },
  {
   "cell_type": "code",
   "execution_count": null,
   "id": "8b8e374f",
   "metadata": {},
   "outputs": [],
   "source": [
    "os.mkdir(dataset_dir)"
   ]
  },
  {
   "cell_type": "code",
   "execution_count": null,
   "id": "7ba0834b",
   "metadata": {},
   "outputs": [],
   "source": [
    "train_dir = os.path.join(dataset_dir,'train')"
   ]
  },
  {
   "cell_type": "code",
   "execution_count": null,
   "id": "7c041a50",
   "metadata": {},
   "outputs": [],
   "source": [
    "os.mkdir(train_dir)"
   ]
  },
  {
   "cell_type": "code",
   "execution_count": null,
   "id": "38f6f256",
   "metadata": {},
   "outputs": [],
   "source": [
    "test_dir = os.path.join(dataset_dir,'test')"
   ]
  },
  {
   "cell_type": "code",
   "execution_count": null,
   "id": "53bffba2",
   "metadata": {},
   "outputs": [],
   "source": [
    "os.mkdir(test_dir)"
   ]
  },
  {
   "cell_type": "code",
   "execution_count": null,
   "id": "d41c29b6",
   "metadata": {},
   "outputs": [],
   "source": [
    "val_dir = os.path.join(dataset_dir,'validation')"
   ]
  },
  {
   "cell_type": "code",
   "execution_count": null,
   "id": "b3ccaa80",
   "metadata": {},
   "outputs": [],
   "source": [
    "os.mkdir(val_dir)"
   ]
  },
  {
   "cell_type": "code",
   "execution_count": null,
   "id": "79a83979",
   "metadata": {},
   "outputs": [],
   "source": [
    "train_one = os.path.join(train_dir,'one')"
   ]
  },
  {
   "cell_type": "code",
   "execution_count": null,
   "id": "d7201906",
   "metadata": {},
   "outputs": [],
   "source": [
    "os.mkdir(train_one)"
   ]
  },
  {
   "cell_type": "code",
   "execution_count": null,
   "id": "0a45b23e",
   "metadata": {},
   "outputs": [],
   "source": [
    "train_zero = os.path.join(train_dir,'zero')"
   ]
  },
  {
   "cell_type": "code",
   "execution_count": null,
   "id": "3848dca3",
   "metadata": {},
   "outputs": [],
   "source": [
    "os.mkdir(train_zero)"
   ]
  },
  {
   "cell_type": "code",
   "execution_count": null,
   "id": "31dc3f54",
   "metadata": {},
   "outputs": [],
   "source": [
    "test_one = os.path.join(test_dir,'one')\n",
    "# os.mkdir(test_one)\n",
    "test_zero = os.path.join(test_dir,'zero')\n",
    "# os.mkdir(test_zero)\n",
    "val_one = os.path.join(val_dir,'one')\n",
    "# os.mkdir(val_one)\n",
    "val_zero = os.path.join(val_dir,'zero')\n",
    "# os.mkdir(val_zero)"
   ]
  },
  {
   "cell_type": "code",
   "execution_count": null,
   "id": "d780a323",
   "metadata": {},
   "outputs": [],
   "source": [
    "orginal_src = 'D:\\EEG project\\dataset'"
   ]
  },
  {
   "cell_type": "code",
   "execution_count": null,
   "id": "4d08094d",
   "metadata": {},
   "outputs": [],
   "source": [
    "orginal_srcJPG = 'D:\\EEG project\\datasetJPG'"
   ]
  },
  {
   "cell_type": "code",
   "execution_count": null,
   "id": "0b641be4",
   "metadata": {},
   "outputs": [],
   "source": [
    "os.mkdir(orginal_srcJPG)"
   ]
  },
  {
   "cell_type": "code",
   "execution_count": null,
   "id": "8b826991",
   "metadata": {},
   "outputs": [],
   "source": [
    "from PIL import Image"
   ]
  },
  {
   "cell_type": "code",
   "execution_count": null,
   "id": "0a98f49f",
   "metadata": {},
   "outputs": [],
   "source": [
    "img = Image.open('D:\\EEG project\\zero0.png')\n",
    "img = img.resize((150,150))\n",
    "img.save('D:\\EEG project\\zero0.png')"
   ]
  },
  {
   "cell_type": "code",
   "execution_count": null,
   "id": "727d91e0",
   "metadata": {},
   "outputs": [],
   "source": [
    "fname = ['zero{}.jpg'.format(i) for i in range(1442)]\n",
    "for f in fname:\n",
    "    imgPath = os.path.join(orginal_srcJPG,f)\n",
    "    imgT = Image.open(imgPath)\n",
    "    imgT = imgT.resize((150,150))\n",
    "    imgT.save(imgPath)\n",
    "    \n",
    "    "
   ]
  },
  {
   "cell_type": "code",
   "execution_count": null,
   "id": "d26c0c6f",
   "metadata": {},
   "outputs": [],
   "source": [
    "fname = ['one{}.jpg'.format(i) for i in range(5698)]\n",
    "for f in fname:\n",
    "    imgPathOne = os.path.join(orginal_srcJPG,f)\n",
    "    imgTOne = Image.open(imgPathOne)\n",
    "    imgTOne = imgTOne.resize((150,150))\n",
    "    imgTOne.save(imgPathOne)"
   ]
  },
  {
   "cell_type": "code",
   "execution_count": null,
   "id": "df617cc5",
   "metadata": {},
   "outputs": [],
   "source": []
  },
  {
   "cell_type": "code",
   "execution_count": null,
   "id": "9669a1b8",
   "metadata": {},
   "outputs": [],
   "source": [
    "import shutil"
   ]
  },
  {
   "cell_type": "code",
   "execution_count": null,
   "id": "da557e0a",
   "metadata": {},
   "outputs": [],
   "source": [
    "path = os.chdir('D:\\EEG project\\ZeroJPG')\n",
    "i=0\n",
    "for file in os.listdir(path):\n",
    "    new_file_name = \"zero{}.jpg\".format(i)\n",
    "    os.rename(file,new_file_name)\n",
    "    i = i + 1"
   ]
  },
  {
   "cell_type": "code",
   "execution_count": null,
   "id": "1dc28a2a",
   "metadata": {},
   "outputs": [],
   "source": [
    "path1 = os.chdir('D:\\EEG project\\OneJPG')\n",
    "i=0\n",
    "for file in os.listdir(path1):\n",
    "    new_file_name1 = \"one{}.jpg\".format(i)\n",
    "    os.rename(file,new_file_name1)\n",
    "    i = i + 1"
   ]
  },
  {
   "cell_type": "code",
   "execution_count": null,
   "id": "e8941aac",
   "metadata": {},
   "outputs": [],
   "source": [
    "fname = ['zero{}.jpg'.format(i) for i in range(900)]\n",
    "for f in fname:\n",
    "    src = os.path.join(orginal_srcJPG,f)\n",
    "    dst = os.path.join(train_zero,f)\n",
    "    shutil.copyfile(src,dst)"
   ]
  },
  {
   "cell_type": "code",
   "execution_count": null,
   "id": "b8cbcdc0",
   "metadata": {},
   "outputs": [],
   "source": [
    "fname = ['zero{}.jpg'.format(i) for i in range(900,1143)]\n",
    "for f in fname:\n",
    "    src = os.path.join(orginal_srcJPG,f)\n",
    "    dst = os.path.join(test_zero,f)\n",
    "    shutil.copyfile(src,dst)"
   ]
  },
  {
   "cell_type": "code",
   "execution_count": null,
   "id": "e70c2133",
   "metadata": {},
   "outputs": [],
   "source": [
    "fname = ['zero{}.jpg'.format(i) for i in range(1143,1442)]\n",
    "for f in fname:\n",
    "    src = os.path.join(orginal_srcJPG,f)\n",
    "    dst = os.path.join(val_zero,f)\n",
    "    shutil.copyfile(src,dst)"
   ]
  },
  {
   "cell_type": "code",
   "execution_count": null,
   "id": "0f76364e",
   "metadata": {},
   "outputs": [],
   "source": [
    "fname = ['one{}.jpg'.format(i) for i in range(1442,1642)]\n",
    "for f in fname:\n",
    "    src = os.path.join(orginal_srcJPG,f)\n",
    "    dst = os.path.join(train_one,f)\n",
    "    shutil.copyfile(src,dst)"
   ]
  },
  {
   "cell_type": "code",
   "execution_count": null,
   "id": "34431b7d",
   "metadata": {},
   "outputs": [],
   "source": [
    "fname = ['one{}.jpg'.format(i) for i in range(900)]\n",
    "for f in fname:\n",
    "    src = os.path.join(orginal_srcJPG,f)\n",
    "    dst = os.path.join(train_one,f)\n",
    "    shutil.copyfile(src,dst)"
   ]
  },
  {
   "cell_type": "code",
   "execution_count": null,
   "id": "8ff31037",
   "metadata": {},
   "outputs": [],
   "source": [
    "fname = ['one{}.jpg'.format(i) for i in range(900,1143)]\n",
    "for f in fname:\n",
    "    src = os.path.join(orginal_srcJPG,f)\n",
    "    dst = os.path.join(test_one,f)\n",
    "    shutil.copyfile(src,dst)"
   ]
  },
  {
   "cell_type": "code",
   "execution_count": null,
   "id": "c0552ba6",
   "metadata": {},
   "outputs": [],
   "source": [
    "fname = ['one{}.jpg'.format(i) for i in range(1143,1442)]\n",
    "for f in fname:\n",
    "    src = os.path.join(orginal_srcJPG,f)\n",
    "    dst = os.path.join(val_one,f)\n",
    "    shutil.copyfile(src,dst)"
   ]
  },
  {
   "cell_type": "code",
   "execution_count": null,
   "id": "f6711f74",
   "metadata": {},
   "outputs": [],
   "source": [
    "from keras import layers\n",
    "from keras import models\n",
    "\n",
    "#Created sequential models using Keras\n",
    "model = models.Sequential()\n",
    "model.add(layers.Conv2D(32, (3, 3), activation='relu', input_shape=(150, 150, 3)))\n",
    "model.add(layers.MaxPooling2D((2, 2)))\n",
    "model.add(layers.Conv2D(64, (3, 3), activation='relu'))\n",
    "model.add(layers.MaxPooling2D((2, 2)))\n",
    "model.add(layers.Conv2D(128, (3, 3), activation='relu'))\n",
    "model.add(layers.MaxPooling2D((2, 2)))\n",
    "model.add(layers.Conv2D(128, (3, 3), activation='relu'))\n",
    "model.add(layers.MaxPooling2D((2, 2)))\n",
    "model.add(layers.Flatten())\n",
    "model.add(layers.Dense(512, activation='relu'))\n",
    "model.add(layers.Dense(1, activation='sigmoid'))\n",
    "model.summary()"
   ]
  },
  {
   "cell_type": "code",
   "execution_count": null,
   "id": "08a0b4e9",
   "metadata": {},
   "outputs": [],
   "source": [
    "from tensorflow.keras import optimizers\n",
    "model.compile(loss='binary_crossentropy', \n",
    "              optimizer=optimizers.RMSprop(lr=1e-4),\n",
    "              metrics=['acc'])"
   ]
  },
  {
   "cell_type": "code",
   "execution_count": null,
   "id": "38811415",
   "metadata": {},
   "outputs": [],
   "source": [
    "from keras.preprocessing.image import ImageDataGenerator\n",
    "\n",
    "train_datagen = ImageDataGenerator(rescale=1./255)\n",
    "test_datagen = ImageDataGenerator(rescale=1./255)\n",
    "\n",
    "train_generator = train_datagen.flow_from_directory(train_dir,\n",
    "                                                    target_size=(150, 150), \n",
    "                                                    batch_size=20,\n",
    "                                                    class_mode='binary')\n",
    "\n",
    "validation_generator = test_datagen.flow_from_directory(val_dir,\n",
    "                                                        target_size=(150, 150),\n",
    "                                                        batch_size=20,\n",
    "                                                        class_mode='binary')"
   ]
  },
  {
   "cell_type": "code",
   "execution_count": null,
   "id": "c8fad8b9",
   "metadata": {},
   "outputs": [],
   "source": [
    "history = model.fit_generator(train_generator,\n",
    "                              steps_per_epoch=100,\n",
    "                              epochs=20,\n",
    "                              validation_data=validation_generator,\n",
    "                              validation_steps=10)\n",
    "     \n"
   ]
  },
  {
   "cell_type": "code",
   "execution_count": null,
   "id": "1e101539",
   "metadata": {},
   "outputs": [],
   "source": [
    "model.evaluate_generator(test_generator)"
   ]
  },
  {
   "cell_type": "code",
   "execution_count": null,
   "id": "f6ca6579",
   "metadata": {},
   "outputs": [],
   "source": [
    "test_generator = test_datagen.flow_from_directory(train_dir,\n",
    "                                                        target_size=(150, 150),\n",
    "                                                        batch_size=20,\n",
    "                                                        class_mode='binary')"
   ]
  },
  {
   "cell_type": "code",
   "execution_count": null,
   "id": "19d31144",
   "metadata": {},
   "outputs": [],
   "source": [
    "x=plt.imread('D:/EEG project/RunModel/test/zero/zero900.jpg')\n",
    "x.shape\n"
   ]
  },
  {
   "cell_type": "code",
   "execution_count": null,
   "id": "319a8764",
   "metadata": {},
   "outputs": [],
   "source": [
    "score=model.predict(x)"
   ]
  },
  {
   "cell_type": "code",
   "execution_count": null,
   "id": "d9ec99b8",
   "metadata": {},
   "outputs": [],
   "source": [
    "scores=model.evaluate_generator(test_generator)\n",
    "print(\"%s%s: %.2f%%\" % (\"evaluate \",model.metrics_names[1], scores[1]*100))"
   ]
  },
  {
   "cell_type": "code",
   "execution_count": null,
   "id": "c19a7dad",
   "metadata": {},
   "outputs": [],
   "source": [
    "import matplotlib.pyplot as plt"
   ]
  },
  {
   "cell_type": "code",
   "execution_count": null,
   "id": "074d9041",
   "metadata": {},
   "outputs": [],
   "source": [
    "import keras\n"
   ]
  },
  {
   "cell_type": "code",
   "execution_count": null,
   "id": "324525e3",
   "metadata": {},
   "outputs": [],
   "source": [
    "import matplotlib.pyplot as plt\n",
    "image_file = \"D:/EEG project/zero0.png\"\n",
    "image = plt.imread(image_file)"
   ]
  },
  {
   "cell_type": "code",
   "execution_count": null,
   "id": "fb36f22f",
   "metadata": {},
   "outputs": [],
   "source": [
    "image"
   ]
  },
  {
   "cell_type": "code",
   "execution_count": null,
   "id": "ed8c5c65",
   "metadata": {},
   "outputs": [],
   "source": [
    "import keras"
   ]
  },
  {
   "cell_type": "code",
   "execution_count": null,
   "id": "6fcb892c",
   "metadata": {},
   "outputs": [],
   "source": [
    "img = keras.preprocessing.image.load_img(\n",
    "    \"D:/EEG project/RunModel/validation/zero/zero1376.jpg\", target_size=(150,150)\n",
    ")\n",
    "img_array = keras.preprocessing.image.img_to_array(img)\n",
    "img_array = tf.expand_dims(img_array, 0)  # Create batch axis\n",
    "\n",
    "predictions = model.predict(img_array)\n",
    "# score = float(predictions[0])\n",
    "# print(f\"This image is {100 * (1 - score):.2f}% cat and {100 * score:.2f}% dog.\")\n",
    "predictions"
   ]
  },
  {
   "cell_type": "code",
   "execution_count": null,
   "id": "e9b5b8a0",
   "metadata": {},
   "outputs": [],
   "source": [
    "from keras.preprocessing.image import ImageDataGenerator\n",
    "from keras.applications.imagenet_utils import preprocess_input\n",
    "import math\n",
    "batch_size = 20\n",
    "img_size = (150,150)\n",
    "\n",
    "root_dir = \"D:/EEG project/RISHAD/\"\n",
    "\n",
    "model1 = models.Sequential()\n",
    "\n",
    "\n",
    "img_gen = ImageDataGenerator(preprocessing_function=preprocess_input)\n",
    "\n",
    "\n",
    "datagen = img_gen.flow_from_directory(root_dir,\n",
    "                                        target_size=(img_size, img_size),\n",
    "                                        batch_size=batch_size,\n",
    "                                        class_mode=None,\n",
    "                                        shuffle=False)\n",
    "num_images = len(datagen.filenames)\n",
    "num_epochs = int(math.ceil(num_images / batch_size))\n",
    "\n",
    "feature_list = model1.predict_generator(np.random.rand(datagen, num_epochs,verbose = True))\n",
    "\n",
    "\n",
    "feature_list"
   ]
  },
  {
   "cell_type": "code",
   "execution_count": null,
   "id": "47991794",
   "metadata": {},
   "outputs": [],
   "source": [
    "from __future__ import division, print_function\n",
    "# coding=utf-8\n",
    "import sys\n",
    "import os\n",
    "import glob\n",
    "import re\n",
    "import numpy as np\n",
    "\n",
    "# Keras\n",
    "from keras.applications.imagenet_utils import preprocess_input, decode_predictions\n",
    "from keras.models import load_model\n",
    "from keras.preprocessing import image\n",
    "\n",
    "# Flask utils\n",
    "from flask import Flask, redirect, url_for, request, render_template\n",
    "from werkzeug.utils import secure_filename\n",
    "from gevent.pywsgi import WSGIServer\n",
    "\n"
   ]
  },
  {
   "cell_type": "code",
   "execution_count": null,
   "id": "e0bfbcca",
   "metadata": {},
   "outputs": [],
   "source": [
    "import gevent"
   ]
  },
  {
   "cell_type": "code",
   "execution_count": null,
   "id": "35f4a070",
   "metadata": {},
   "outputs": [],
   "source": [
    "model.save('D:\\EEG project\\RunModel')"
   ]
  },
  {
   "cell_type": "code",
   "execution_count": null,
   "id": "57de3743",
   "metadata": {},
   "outputs": [],
   "source": [
    "MODEL_PATH = 'D:\\EEG project\\RunModel'\n",
    "\n",
    "# Load your trained model\n",
    "model = load_model(MODEL_PATH)"
   ]
  },
  {
   "cell_type": "code",
   "execution_count": null,
   "id": "b18ef10d",
   "metadata": {},
   "outputs": [],
   "source": [
    "def model_predict(img_path, model):\n",
    "    img = keras.preprocessing.image.load_img(img_path, target_size=(150,150))\n",
    "    x = keras.preprocessing.image.img_to_array(img)\n",
    "    x = tf.expand_dims(img_array, 0) \n",
    "    x = preprocess_input(x, mode='caffe')\n",
    "    preds = model.predict(x)\n",
    "    return preds\n"
   ]
  },
  {
   "cell_type": "code",
   "execution_count": 9,
   "id": "766ff1b2",
   "metadata": {},
   "outputs": [],
   "source": [
    "import PIL"
   ]
  },
  {
   "cell_type": "code",
   "execution_count": 10,
   "id": "daf32998",
   "metadata": {},
   "outputs": [],
   "source": [
    "from tensorflow import keras"
   ]
  },
  {
   "cell_type": "code",
   "execution_count": 11,
   "id": "d1c8084c",
   "metadata": {},
   "outputs": [],
   "source": [
    "from tensorflow.keras import layers"
   ]
  },
  {
   "cell_type": "code",
   "execution_count": 56,
   "id": "bb05b88a",
   "metadata": {},
   "outputs": [
    {
     "ename": "ImportError",
     "evalue": "cannot import name 'convolutional_block' from 'tensorflow.python.keras.layers' (c:\\users\\user\\appdata\\local\\programs\\python\\python39\\lib\\site-packages\\tensorflow\\python\\keras\\layers\\__init__.py)",
     "output_type": "error",
     "traceback": [
      "\u001b[1;31m---------------------------------------------------------------------------\u001b[0m",
      "\u001b[1;31mImportError\u001b[0m                               Traceback (most recent call last)",
      "Cell \u001b[1;32mIn[56], line 1\u001b[0m\n\u001b[1;32m----> 1\u001b[0m \u001b[38;5;28;01mfrom\u001b[39;00m \u001b[38;5;21;01mtensorflow\u001b[39;00m\u001b[38;5;21;01m.\u001b[39;00m\u001b[38;5;21;01mpython\u001b[39;00m\u001b[38;5;21;01m.\u001b[39;00m\u001b[38;5;21;01mkeras\u001b[39;00m\u001b[38;5;21;01m.\u001b[39;00m\u001b[38;5;21;01mlayers\u001b[39;00m \u001b[38;5;28;01mimport\u001b[39;00m Dense, Flatten, Input,ZeroPadding2D,Conv2D,Activation,MaxPooling2D,convolutional_block\n",
      "\u001b[1;31mImportError\u001b[0m: cannot import name 'convolutional_block' from 'tensorflow.python.keras.layers' (c:\\users\\user\\appdata\\local\\programs\\python\\python39\\lib\\site-packages\\tensorflow\\python\\keras\\layers\\__init__.py)"
     ]
    }
   ],
   "source": [
    "from tensorflow.python.keras.layers import Dense, Flatten, Input,ZeroPadding2D,Conv2D,Activation,MaxPooling2D"
   ]
  },
  {
   "cell_type": "code",
   "execution_count": 13,
   "id": "99998d1a",
   "metadata": {},
   "outputs": [],
   "source": [
    "from tensorflow.keras.models import Sequential"
   ]
  },
  {
   "cell_type": "code",
   "execution_count": 47,
   "id": "364709af",
   "metadata": {},
   "outputs": [],
   "source": [
    "from tensorflow.keras.layers import BatchNormalization\n",
    "\n"
   ]
  },
  {
   "cell_type": "code",
   "execution_count": 14,
   "id": "7a07cbf1",
   "metadata": {},
   "outputs": [],
   "source": [
    "from tensorflow.keras.optimizers import Adam"
   ]
  },
  {
   "cell_type": "code",
   "execution_count": 15,
   "id": "c4142b50",
   "metadata": {},
   "outputs": [],
   "source": [
    "import pathlib"
   ]
  },
  {
   "cell_type": "code",
   "execution_count": 16,
   "id": "2406cba4",
   "metadata": {},
   "outputs": [],
   "source": [
    "dataset_dir = r\"D:\\EEG\""
   ]
  },
  {
   "cell_type": "code",
   "execution_count": 17,
   "id": "79830cea",
   "metadata": {},
   "outputs": [],
   "source": [
    "img_height = 180\n",
    "img_width = 180"
   ]
  },
  {
   "cell_type": "code",
   "execution_count": 18,
   "id": "dd663633",
   "metadata": {},
   "outputs": [
    {
     "name": "stdout",
     "output_type": "stream",
     "text": [
      "Found 7140 files belonging to 2 classes.\n",
      "Using 5712 files for training.\n"
     ]
    }
   ],
   "source": [
    "train_ds = tf.keras.preprocessing.image_dataset_from_directory(\n",
    "    dataset_dir,\n",
    "    validation_split=0.2,\n",
    "    subset = 'training',\n",
    "    seed = 2022,\n",
    "    label_mode ='categorical',\n",
    "    image_size = (img_height, img_width),\n",
    "    batch_size = 32\n",
    ")"
   ]
  },
  {
   "cell_type": "code",
   "execution_count": 19,
   "id": "cb31f25d",
   "metadata": {},
   "outputs": [
    {
     "name": "stdout",
     "output_type": "stream",
     "text": [
      "Found 7140 files belonging to 2 classes.\n",
      "Using 1428 files for validation.\n"
     ]
    }
   ],
   "source": [
    "val_ds = tf.keras.preprocessing.image_dataset_from_directory(\n",
    "    dataset_dir,\n",
    "    validation_split=0.2,\n",
    "    subset = 'validation',\n",
    "    seed = 2022,\n",
    "    label_mode ='categorical',\n",
    "    image_size = (img_height, img_width),\n",
    "    batch_size = 32\n",
    ")"
   ]
  },
  {
   "cell_type": "code",
   "execution_count": 20,
   "id": "422bafbe",
   "metadata": {},
   "outputs": [
    {
     "name": "stdout",
     "output_type": "stream",
     "text": [
      "['One', 'Zero']\n"
     ]
    }
   ],
   "source": [
    "class_names = train_ds.class_names\n",
    "print(class_names)"
   ]
  },
  {
   "cell_type": "code",
   "execution_count": 21,
   "id": "917039af",
   "metadata": {},
   "outputs": [
    {
     "name": "stdout",
     "output_type": "stream",
     "text": [
      "Downloading data from https://storage.googleapis.com/tensorflow/keras-applications/resnet/resnet50_weights_tf_dim_ordering_tf_kernels_notop.h5\n",
      "94765736/94765736 [==============================] - 55s 1us/step\n"
     ]
    }
   ],
   "source": [
    "resnet_model = Sequential()\n",
    "pretrained_model = tf.keras.applications.ResNet50(\n",
    "    include_top = False,\n",
    "    input_shape = (180,180,3),\n",
    "    pooling='max', classes=2,\n",
    "    weights='imagenet'\n",
    ")"
   ]
  },
  {
   "cell_type": "code",
   "execution_count": 24,
   "id": "ecd0e3a0",
   "metadata": {},
   "outputs": [],
   "source": [
    "for layer in pretrained_model.layers:\n",
    "    layer.trainable=False\n",
    "\n",
    "resnet_model.add(pretrained_model)\n",
    "resnet_model.add(Flatten())\n",
    "resnet_model.add(Dense(512,activation='relu'))\n",
    "resnet_model.add(Dense(2,activation='softmax'))"
   ]
  },
  {
   "cell_type": "code",
   "execution_count": 57,
   "id": "94618226",
   "metadata": {},
   "outputs": [],
   "source": [
    "def identity_block(X, f, filters, stage, block):\n",
    "    # defining name basis\n",
    "    eps = 1.1e-5\n",
    "    conv_name_base = 'res' + str(stage) + block + '_branch'\n",
    "    bn_name_base = 'bn' + str(stage) + block + '_branch'\n",
    "    scale_name_base = 'scale' + str(stage) + block + '_branch'\n",
    "    \n",
    "    # Retrieve Filters\n",
    "    F1, F2, F3 = filters\n",
    "    \n",
    "    # Save the input value. You'll need this later to add back to the main path. \n",
    "    X_shortcut = X\n",
    "    \n",
    "    # First component of main path\n",
    "    X = Conv2D(filters = F1, kernel_size = (1, 1), strides = (1,1), padding = 'valid', use_bias=False, name = conv_name_base + '2a', kernel_initializer = glorot_uniform(seed=0))(X)\n",
    "    X = BatchNormalization(epsilon = eps, axis = 3, name = bn_name_base + '2a')(X)\n",
    "    X = Scale(axis = 3, name = scale_name_base + '2a')(X)\n",
    "    X = Activation('relu')(X)\n",
    "    \n",
    "    # Second component of main path\n",
    "    X = Conv2D(filters = F2, kernel_size = (f, f), strides = (1,1), padding = 'same', use_bias=False, name = conv_name_base + '2b', kernel_initializer = glorot_uniform(seed=0))(X)\n",
    "    X = BatchNormalization(epsilon = eps, axis = 3, name = bn_name_base + '2b')(X)\n",
    "    X = Scale(axis = 3, name = scale_name_base + '2b')(X)\n",
    "    X = Activation('relu')(X)\n",
    "\n",
    "    # Third component of main path\n",
    "    X = Conv2D(filters = F3, kernel_size = (1, 1), strides = (1,1), padding = 'valid', use_bias=False, name = conv_name_base + '2c', kernel_initializer = glorot_uniform(seed=0))(X)\n",
    "    X = BatchNormalization(epsilon = eps, axis = 3, name = bn_name_base + '2c')(X)\n",
    "    X = Scale(axis = 3, name = scale_name_base + '2c')(X)\n",
    "\n",
    "    # Final step: Add shortcut value to main path, and pass it through a RELU activation\n",
    "    X = Add()([X,X_shortcut])\n",
    "    X = Activation('relu')(X)\n",
    "    \n",
    "    return X"
   ]
  },
  {
   "cell_type": "code",
   "execution_count": 58,
   "id": "2a5c2033",
   "metadata": {},
   "outputs": [],
   "source": [
    "def convolutional_block(X, f, filters, stage, block, s = 2):  \n",
    "    # defining name basis\n",
    "    eps = 1.1e-5\n",
    "    conv_name_base = 'res' + str(stage) + block + '_branch'\n",
    "    bn_name_base = 'bn' + str(stage) + block + '_branch'\n",
    "    scale_name_base = 'scale' + str(stage) + block + '_branch'\n",
    "    \n",
    "    # Retrieve Filters\n",
    "    F1, F2, F3 = filters\n",
    "    \n",
    "    # Save the input value\n",
    "    X_shortcut = X\n",
    "\n",
    "    ##### MAIN PATH #####\n",
    "    # First component of main path \n",
    "    X = Conv2D(F1, (1, 1), strides = (s,s), padding = 'valid', name = conv_name_base + '2a', use_bias=False, kernel_initializer = glorot_uniform(seed=0))(X)\n",
    "    X = BatchNormalization(epsilon = eps, axis = 3, name = bn_name_base + '2a')(X)\n",
    "    X = Scale(axis=3, name = scale_name_base + '2a')(X)\n",
    "    X = Activation('relu')(X)\n",
    "\n",
    "    # Second component of main path\n",
    "    X = Conv2D(F2, (f, f), strides = (1,1), padding = 'same', name = conv_name_base + '2b', use_bias=False, kernel_initializer = glorot_uniform(seed=0))(X)\n",
    "    X = BatchNormalization(epsilon = eps, axis = 3, name = bn_name_base + '2b')(X)\n",
    "    X = Scale(axis=3, name = scale_name_base + '2b')(X)\n",
    "    X = Activation('relu')(X)\n",
    "\n",
    "    # Third component of main path\n",
    "    X = Conv2D(F3, (1, 1), strides = (1,1), padding = 'valid', name = conv_name_base + '2c', use_bias=False, kernel_initializer = glorot_uniform(seed=0))(X)\n",
    "    X = BatchNormalization(epsilon = eps, axis = 3, name = bn_name_base + '2c')(X)\n",
    "    X = Scale(axis=3, name=scale_name_base + '2c')(X)\n",
    "\n",
    "    ##### SHORTCUT PATH ####\n",
    "    X_shortcut = Conv2D(F3, (1, 1), strides = (s,s), padding = 'valid', name = conv_name_base + '1', use_bias=False, kernel_initializer = glorot_uniform(seed=0))(X_shortcut)\n",
    "    X_shortcut = BatchNormalization(epsilon = eps, axis = 3, name = bn_name_base + '1')(X_shortcut)\n",
    "    X_shortcut = Scale(axis=3, name=scale_name_base + '1')(X_shortcut)\n",
    "\n",
    "    # Final step: Add shortcut value to main path, and pass it through a RELU activation\n",
    "    X = Add()([X,X_shortcut])\n",
    "    X = Activation('relu')(X)\n",
    "    \n",
    "    return X"
   ]
  },
  {
   "cell_type": "code",
   "execution_count": null,
   "id": "83d3a754",
   "metadata": {},
   "outputs": [],
   "source": []
  },
  {
   "cell_type": "code",
   "execution_count": null,
   "id": "7f5c65e3",
   "metadata": {},
   "outputs": [],
   "source": []
  },
  {
   "cell_type": "code",
   "execution_count": null,
   "id": "eb539c41",
   "metadata": {},
   "outputs": [],
   "source": []
  },
  {
   "cell_type": "code",
   "execution_count": 59,
   "id": "3669c2be",
   "metadata": {},
   "outputs": [],
   "source": [
    "def ResNet50(input_shape = (180, 180, 3), classes = 2):\n",
    "    X_input = Input(input_shape)\n",
    "    X = ZeroPadding2D((3, 3))(X_input)\n",
    "    X = Conv2D(64, (7, 7), strides = (2, 2), name = 'conv1', kernel_initializer = glorot_uniform(seed=0))(X)\n",
    "    X = BatchNormalization(axis = 3, name = 'bn_conv1')(X)\n",
    "    X = Activation('relu')(X)\n",
    "    X = MaxPooling2D((3, 3), strides=(2, 2))(X)\n",
    "    X = convolutional_block(X, f = 3, filters = [64, 64, 256], stage = 2, block='a', s = 1)\n",
    "    X = identity_block(X, 3, [64, 64, 256], stage=2, block='b')\n",
    "    X = identity_block(X, 3, [64, 64, 256], stage=2, block='c')\n",
    "    X = convolutional_block(X, f = 3, filters = [128, 128, 512], stage = 3, block='a', s = 2)\n",
    "    X = identity_block(X, 3, [128, 128, 512], stage=3, block='b')\n",
    "    X = identity_block(X, 3, [128, 128, 512], stage=3, block='c')\n",
    "    X = identity_block(X, 3, [128, 128, 512], stage=3, block='d')\n",
    "    X = convolutional_block(X, f = 3, filters = [256, 256, 1024], stage = 4, block='a', s = 2)\n",
    "    X = identity_block(X, 3, [256, 256, 1024], stage=4, block='b')\n",
    "    X = identity_block(X, 3, [256, 256, 1024], stage=4, block='c')\n",
    "    X = identity_block(X, 3, [256, 256, 1024], stage=4, block='d')\n",
    "    X = identity_block(X, 3, [256, 256, 1024], stage=4, block='e')\n",
    "    X = identity_block(X, 3, [256, 256, 1024], stage=4, block='f')\n",
    "    X = convolutional_block(X, f = 3, filters = [512, 512, 2048], stage = 5, block='a', s = 2)\n",
    "    X = identity_block(X, 3, [512, 512, 2048], stage=5, block='b')\n",
    "    X = identity_block(X, 3, [512, 512, 2048], stage=5, block='c')\n",
    "    X = MaxPooling2D(pool_size=(2, 2),name='avg_pool')(X)\n",
    "    X = Flatten()(X)\n",
    "    X = Dense(classes, activation='softmax', name='fc' + str(classes), kernel_initializer = glorot_uniform(seed=0))(X)\n",
    "    model = Model(inputs = X_input, outputs = X, name='ResNet50')\n",
    "    return model"
   ]
  },
  {
   "cell_type": "code",
   "execution_count": 60,
   "id": "75c82678",
   "metadata": {},
   "outputs": [
    {
     "name": "stdout",
     "output_type": "stream",
     "text": [
      "WARNING:tensorflow:\n",
      "The following Variables were used a Lambda layer's call (tf.compat.v1.nn.fused_batch_norm_3), but\n",
      "are not present in its tracked objects:\n",
      "  <tf.Variable 'bn_conv1/gamma:0' shape=(64,) dtype=float32>\n",
      "  <tf.Variable 'bn_conv1/beta:0' shape=(64,) dtype=float32>\n",
      "It is possible that this is intended behavior, but it is more likely\n",
      "an omission. This is a strong indication that this layer should be\n",
      "formulated as a subclassed Layer rather than a Lambda layer.\n"
     ]
    },
    {
     "ename": "NameError",
     "evalue": "name 'glorot_uniform' is not defined",
     "output_type": "error",
     "traceback": [
      "\u001b[1;31m---------------------------------------------------------------------------\u001b[0m",
      "\u001b[1;31mNameError\u001b[0m                                 Traceback (most recent call last)",
      "Cell \u001b[1;32mIn[60], line 1\u001b[0m\n\u001b[1;32m----> 1\u001b[0m model \u001b[38;5;241m=\u001b[39m \u001b[43mResNet50\u001b[49m\u001b[43m(\u001b[49m\u001b[43m)\u001b[49m\n",
      "Cell \u001b[1;32mIn[59], line 8\u001b[0m, in \u001b[0;36mResNet50\u001b[1;34m(input_shape, classes)\u001b[0m\n\u001b[0;32m      6\u001b[0m X \u001b[38;5;241m=\u001b[39m Activation(\u001b[38;5;124m'\u001b[39m\u001b[38;5;124mrelu\u001b[39m\u001b[38;5;124m'\u001b[39m)(X)\n\u001b[0;32m      7\u001b[0m X \u001b[38;5;241m=\u001b[39m MaxPooling2D((\u001b[38;5;241m3\u001b[39m, \u001b[38;5;241m3\u001b[39m), strides\u001b[38;5;241m=\u001b[39m(\u001b[38;5;241m2\u001b[39m, \u001b[38;5;241m2\u001b[39m))(X)\n\u001b[1;32m----> 8\u001b[0m X \u001b[38;5;241m=\u001b[39m \u001b[43mconvolutional_block\u001b[49m\u001b[43m(\u001b[49m\u001b[43mX\u001b[49m\u001b[43m,\u001b[49m\u001b[43m \u001b[49m\u001b[43mf\u001b[49m\u001b[43m \u001b[49m\u001b[38;5;241;43m=\u001b[39;49m\u001b[43m \u001b[49m\u001b[38;5;241;43m3\u001b[39;49m\u001b[43m,\u001b[49m\u001b[43m \u001b[49m\u001b[43mfilters\u001b[49m\u001b[43m \u001b[49m\u001b[38;5;241;43m=\u001b[39;49m\u001b[43m \u001b[49m\u001b[43m[\u001b[49m\u001b[38;5;241;43m64\u001b[39;49m\u001b[43m,\u001b[49m\u001b[43m \u001b[49m\u001b[38;5;241;43m64\u001b[39;49m\u001b[43m,\u001b[49m\u001b[43m \u001b[49m\u001b[38;5;241;43m256\u001b[39;49m\u001b[43m]\u001b[49m\u001b[43m,\u001b[49m\u001b[43m \u001b[49m\u001b[43mstage\u001b[49m\u001b[43m \u001b[49m\u001b[38;5;241;43m=\u001b[39;49m\u001b[43m \u001b[49m\u001b[38;5;241;43m2\u001b[39;49m\u001b[43m,\u001b[49m\u001b[43m \u001b[49m\u001b[43mblock\u001b[49m\u001b[38;5;241;43m=\u001b[39;49m\u001b[38;5;124;43m'\u001b[39;49m\u001b[38;5;124;43ma\u001b[39;49m\u001b[38;5;124;43m'\u001b[39;49m\u001b[43m,\u001b[49m\u001b[43m \u001b[49m\u001b[43ms\u001b[49m\u001b[43m \u001b[49m\u001b[38;5;241;43m=\u001b[39;49m\u001b[43m \u001b[49m\u001b[38;5;241;43m1\u001b[39;49m\u001b[43m)\u001b[49m\n\u001b[0;32m      9\u001b[0m X \u001b[38;5;241m=\u001b[39m identity_block(X, \u001b[38;5;241m3\u001b[39m, [\u001b[38;5;241m64\u001b[39m, \u001b[38;5;241m64\u001b[39m, \u001b[38;5;241m256\u001b[39m], stage\u001b[38;5;241m=\u001b[39m\u001b[38;5;241m2\u001b[39m, block\u001b[38;5;241m=\u001b[39m\u001b[38;5;124m'\u001b[39m\u001b[38;5;124mb\u001b[39m\u001b[38;5;124m'\u001b[39m)\n\u001b[0;32m     10\u001b[0m X \u001b[38;5;241m=\u001b[39m identity_block(X, \u001b[38;5;241m3\u001b[39m, [\u001b[38;5;241m64\u001b[39m, \u001b[38;5;241m64\u001b[39m, \u001b[38;5;241m256\u001b[39m], stage\u001b[38;5;241m=\u001b[39m\u001b[38;5;241m2\u001b[39m, block\u001b[38;5;241m=\u001b[39m\u001b[38;5;124m'\u001b[39m\u001b[38;5;124mc\u001b[39m\u001b[38;5;124m'\u001b[39m)\n",
      "Cell \u001b[1;32mIn[58], line 16\u001b[0m, in \u001b[0;36mconvolutional_block\u001b[1;34m(X, f, filters, stage, block, s)\u001b[0m\n\u001b[0;32m     12\u001b[0m X_shortcut \u001b[38;5;241m=\u001b[39m X\n\u001b[0;32m     14\u001b[0m \u001b[38;5;66;03m##### MAIN PATH #####\u001b[39;00m\n\u001b[0;32m     15\u001b[0m \u001b[38;5;66;03m# First component of main path \u001b[39;00m\n\u001b[1;32m---> 16\u001b[0m X \u001b[38;5;241m=\u001b[39m Conv2D(F1, (\u001b[38;5;241m1\u001b[39m, \u001b[38;5;241m1\u001b[39m), strides \u001b[38;5;241m=\u001b[39m (s,s), padding \u001b[38;5;241m=\u001b[39m \u001b[38;5;124m'\u001b[39m\u001b[38;5;124mvalid\u001b[39m\u001b[38;5;124m'\u001b[39m, name \u001b[38;5;241m=\u001b[39m conv_name_base \u001b[38;5;241m+\u001b[39m \u001b[38;5;124m'\u001b[39m\u001b[38;5;124m2a\u001b[39m\u001b[38;5;124m'\u001b[39m, use_bias\u001b[38;5;241m=\u001b[39m\u001b[38;5;28;01mFalse\u001b[39;00m, kernel_initializer \u001b[38;5;241m=\u001b[39m \u001b[43mglorot_uniform\u001b[49m(seed\u001b[38;5;241m=\u001b[39m\u001b[38;5;241m0\u001b[39m))(X)\n\u001b[0;32m     17\u001b[0m X \u001b[38;5;241m=\u001b[39m BatchNormalization(epsilon \u001b[38;5;241m=\u001b[39m eps, axis \u001b[38;5;241m=\u001b[39m \u001b[38;5;241m3\u001b[39m, name \u001b[38;5;241m=\u001b[39m bn_name_base \u001b[38;5;241m+\u001b[39m \u001b[38;5;124m'\u001b[39m\u001b[38;5;124m2a\u001b[39m\u001b[38;5;124m'\u001b[39m)(X)\n\u001b[0;32m     18\u001b[0m X \u001b[38;5;241m=\u001b[39m Scale(axis\u001b[38;5;241m=\u001b[39m\u001b[38;5;241m3\u001b[39m, name \u001b[38;5;241m=\u001b[39m scale_name_base \u001b[38;5;241m+\u001b[39m \u001b[38;5;124m'\u001b[39m\u001b[38;5;124m2a\u001b[39m\u001b[38;5;124m'\u001b[39m)(X)\n",
      "\u001b[1;31mNameError\u001b[0m: name 'glorot_uniform' is not defined"
     ]
    }
   ],
   "source": [
    "model = ResNet50()"
   ]
  },
  {
   "cell_type": "code",
   "execution_count": 25,
   "id": "e9cd46e9",
   "metadata": {},
   "outputs": [
    {
     "name": "stdout",
     "output_type": "stream",
     "text": [
      "Model: \"sequential\"\n",
      "_________________________________________________________________\n",
      " Layer (type)                Output Shape              Param #   \n",
      "=================================================================\n",
      " resnet50 (Functional)       (None, 2048)              23587712  \n",
      "                                                                 \n",
      " module_wrapper (ModuleWrapp  (None, 2048)             0         \n",
      " er)                                                             \n",
      "                                                                 \n",
      " module_wrapper_1 (ModuleWra  (None, 512)              1049088   \n",
      " pper)                                                           \n",
      "                                                                 \n",
      " module_wrapper_2 (ModuleWra  (None, 2)                1026      \n",
      " pper)                                                           \n",
      "                                                                 \n",
      "=================================================================\n",
      "Total params: 24,637,826\n",
      "Trainable params: 1,050,114\n",
      "Non-trainable params: 23,587,712\n",
      "_________________________________________________________________\n"
     ]
    }
   ],
   "source": [
    "resnet_model.summary()"
   ]
  },
  {
   "cell_type": "code",
   "execution_count": 26,
   "id": "eab91652",
   "metadata": {},
   "outputs": [
    {
     "name": "stderr",
     "output_type": "stream",
     "text": [
      "C:\\python\\lib\\site-packages\\keras\\optimizer_v2\\adam.py:105: UserWarning: The `lr` argument is deprecated, use `learning_rate` instead.\n",
      "  super(Adam, self).__init__(name, **kwargs)\n"
     ]
    }
   ],
   "source": [
    "resnet_model.compile(optimizer=Adam(lr=0.001),loss='binary_crossentropy',metrics=['accuracy'])"
   ]
  },
  {
   "cell_type": "code",
   "execution_count": null,
   "id": "b130973d",
   "metadata": {},
   "outputs": [
    {
     "name": "stdout",
     "output_type": "stream",
     "text": [
      "Epoch 1/20\n",
      "179/179 [==============================] - 353s 2s/step - loss: 0.9566 - accuracy: 0.7726 - val_loss: 0.4845 - val_accuracy: 0.8123\n",
      "Epoch 2/20\n",
      "179/179 [==============================] - 340s 2s/step - loss: 0.4714 - accuracy: 0.8127 - val_loss: 0.5004 - val_accuracy: 0.8102\n",
      "Epoch 3/20\n",
      "179/179 [==============================] - 339s 2s/step - loss: 0.4465 - accuracy: 0.8148 - val_loss: 0.4260 - val_accuracy: 0.8270\n",
      "Epoch 4/20\n",
      "179/179 [==============================] - 339s 2s/step - loss: 0.3896 - accuracy: 0.8321 - val_loss: 0.3981 - val_accuracy: 0.8340\n",
      "Epoch 5/20\n",
      "179/179 [==============================] - 337s 2s/step - loss: 0.3815 - accuracy: 0.8351 - val_loss: 0.3810 - val_accuracy: 0.8347\n",
      "Epoch 6/20\n",
      "179/179 [==============================] - 332s 2s/step - loss: 0.3656 - accuracy: 0.8489 - val_loss: 0.3829 - val_accuracy: 0.8382\n",
      "Epoch 7/20\n",
      "179/179 [==============================] - 333s 2s/step - loss: 0.3565 - accuracy: 0.8442 - val_loss: 0.3923 - val_accuracy: 0.8368\n",
      "Epoch 8/20\n",
      "179/179 [==============================] - 338s 2s/step - loss: 0.3408 - accuracy: 0.8517 - val_loss: 0.3855 - val_accuracy: 0.8375\n",
      "Epoch 9/20\n",
      "179/179 [==============================] - 340s 2s/step - loss: 0.3140 - accuracy: 0.8608 - val_loss: 0.3848 - val_accuracy: 0.8375\n",
      "Epoch 10/20\n",
      "179/179 [==============================] - 340s 2s/step - loss: 0.3189 - accuracy: 0.8615 - val_loss: 0.4010 - val_accuracy: 0.8375\n",
      "Epoch 11/20\n",
      "179/179 [==============================] - 342s 2s/step - loss: 0.3158 - accuracy: 0.8633 - val_loss: 0.3858 - val_accuracy: 0.8354\n",
      "Epoch 12/20\n",
      "179/179 [==============================] - 365s 2s/step - loss: 0.2946 - accuracy: 0.8734 - val_loss: 0.3936 - val_accuracy: 0.8319\n",
      "Epoch 13/20\n",
      "179/179 [==============================] - 405s 2s/step - loss: 0.2817 - accuracy: 0.8759 - val_loss: 0.4620 - val_accuracy: 0.7710\n",
      "Epoch 14/20\n",
      "179/179 [==============================] - 448s 3s/step - loss: 0.2755 - accuracy: 0.8818 - val_loss: 0.4044 - val_accuracy: 0.8361\n",
      "Epoch 15/20\n",
      " 79/179 [============>.................] - ETA: 3:07 - loss: 0.2520 - accuracy: 0.8928"
     ]
    }
   ],
   "source": [
    "epochs = 20\n",
    "history = resnet_model.fit(\n",
    "    train_ds,\n",
    "    validation_data = val_ds,\n",
    "    epochs = epochs\n",
    ")"
   ]
  },
  {
   "cell_type": "code",
   "execution_count": 27,
   "id": "a925fe01",
   "metadata": {},
   "outputs": [],
   "source": [
    "  import cv2"
   ]
  },
  {
   "cell_type": "code",
   "execution_count": 28,
   "id": "e5a39756",
   "metadata": {},
   "outputs": [],
   "source": [
    "dir_ONE = 'D:\\EEG project\\datasetJPG\\ONE'\n",
    "dir_ZERO = 'D:\\EEG project\\datasetJPG\\ZERO'"
   ]
  },
  {
   "cell_type": "code",
   "execution_count": 29,
   "id": "d35affb8",
   "metadata": {},
   "outputs": [
    {
     "data": {
      "text/plain": [
       "'ZERO'"
      ]
     },
     "execution_count": 29,
     "metadata": {},
     "output_type": "execute_result"
    }
   ],
   "source": [
    "imgpath = 'D:\\EEG project\\datasetJPG\\ZERO\\zero0.jpg'\n",
    "image = cv2.imread(imgpath)\n",
    "image_resize = cv2.resize(image,(img_height,img_width))\n",
    "image = np.expand_dims(image_resize,axis=0)\n",
    "image.shape\n",
    "pred = resnet_model.predict(image)\n",
    "output = class_names[np.argmax(pred)]\n",
    "output"
   ]
  },
  {
   "cell_type": "code",
   "execution_count": 30,
   "id": "ac2d1b04",
   "metadata": {},
   "outputs": [
    {
     "ename": "error",
     "evalue": "OpenCV(4.6.0) D:\\a\\opencv-python\\opencv-python\\opencv\\modules\\imgproc\\src\\resize.cpp:4052: error: (-215:Assertion failed) !ssize.empty() in function 'cv::resize'\n",
     "output_type": "error",
     "traceback": [
      "\u001b[1;31m---------------------------------------------------------------------------\u001b[0m",
      "\u001b[1;31merror\u001b[0m                                     Traceback (most recent call last)",
      "Cell \u001b[1;32mIn [30], line 4\u001b[0m\n\u001b[0;32m      2\u001b[0m imgpath \u001b[38;5;241m=\u001b[39m \u001b[38;5;124m'\u001b[39m\u001b[38;5;124mD:\u001b[39m\u001b[38;5;124m\\\u001b[39m\u001b[38;5;124mEEG project\u001b[39m\u001b[38;5;124m\\\u001b[39m\u001b[38;5;124mdatasetJPG\u001b[39m\u001b[38;5;124m\\\u001b[39m\u001b[38;5;124mZERO\u001b[39m\u001b[38;5;124m\\\u001b[39m\u001b[38;5;124mzero\u001b[39m\u001b[38;5;132;01m{i}\u001b[39;00m\u001b[38;5;124m.jpg\u001b[39m\u001b[38;5;124m'\u001b[39m\n\u001b[0;32m      3\u001b[0m image \u001b[38;5;241m=\u001b[39m cv2\u001b[38;5;241m.\u001b[39mimread(imgpath)\n\u001b[1;32m----> 4\u001b[0m image_resize \u001b[38;5;241m=\u001b[39m \u001b[43mcv2\u001b[49m\u001b[38;5;241;43m.\u001b[39;49m\u001b[43mresize\u001b[49m\u001b[43m(\u001b[49m\u001b[43mimage\u001b[49m\u001b[43m,\u001b[49m\u001b[43m(\u001b[49m\u001b[43mimg_height\u001b[49m\u001b[43m,\u001b[49m\u001b[43mimg_width\u001b[49m\u001b[43m)\u001b[49m\u001b[43m)\u001b[49m\n\u001b[0;32m      5\u001b[0m image \u001b[38;5;241m=\u001b[39m np\u001b[38;5;241m.\u001b[39mexpand_dims(image_resize,axis\u001b[38;5;241m=\u001b[39m\u001b[38;5;241m0\u001b[39m)\n\u001b[0;32m      6\u001b[0m image\u001b[38;5;241m.\u001b[39mshape\n",
      "\u001b[1;31merror\u001b[0m: OpenCV(4.6.0) D:\\a\\opencv-python\\opencv-python\\opencv\\modules\\imgproc\\src\\resize.cpp:4052: error: (-215:Assertion failed) !ssize.empty() in function 'cv::resize'\n"
     ]
    }
   ],
   "source": [
    "for i in range(100):\n",
    "    imgpath = 'D:\\EEG project\\datasetJPG\\ZERO\\zero{i}.jpg'\n",
    "    image = cv2.imread(imgpath)\n",
    "    image_resize = cv2.resize(image,(img_height,img_width))\n",
    "    image = np.expand_dims(image_resize,axis=0)\n",
    "    image.shape\n",
    "    pred = resnet_model.predict(image)\n",
    "    output = class_names[np.argmax(pred)]\n",
    "    print(output)\n",
    "    "
   ]
  },
  {
   "cell_type": "code",
   "execution_count": 127,
   "id": "6eb04870",
   "metadata": {},
   "outputs": [],
   "source": [
    "result=[]"
   ]
  },
  {
   "cell_type": "code",
   "execution_count": 39,
   "id": "dc7c28bd",
   "metadata": {},
   "outputs": [],
   "source": [
    "orginal_srcJPG = 'D:\\EEG project\\datasetJPG\\ONE'\n"
   ]
  },
  {
   "cell_type": "code",
   "execution_count": 42,
   "id": "f4976b05",
   "metadata": {},
   "outputs": [
    {
     "name": "stdout",
     "output_type": "stream",
     "text": [
      "(1, 180, 180, 3)\n",
      "(1, 180, 180, 3)\n",
      "(1, 180, 180, 3)\n",
      "(1, 180, 180, 3)\n",
      "(1, 180, 180, 3)\n",
      "(1, 180, 180, 3)\n",
      "(1, 180, 180, 3)\n",
      "(1, 180, 180, 3)\n",
      "(1, 180, 180, 3)\n",
      "(1, 180, 180, 3)\n",
      "(1, 180, 180, 3)\n",
      "(1, 180, 180, 3)\n",
      "(1, 180, 180, 3)\n",
      "(1, 180, 180, 3)\n",
      "(1, 180, 180, 3)\n",
      "(1, 180, 180, 3)\n",
      "(1, 180, 180, 3)\n",
      "(1, 180, 180, 3)\n",
      "(1, 180, 180, 3)\n",
      "(1, 180, 180, 3)\n",
      "(1, 180, 180, 3)\n",
      "(1, 180, 180, 3)\n",
      "(1, 180, 180, 3)\n",
      "(1, 180, 180, 3)\n",
      "(1, 180, 180, 3)\n",
      "(1, 180, 180, 3)\n",
      "(1, 180, 180, 3)\n",
      "(1, 180, 180, 3)\n",
      "(1, 180, 180, 3)\n",
      "(1, 180, 180, 3)\n",
      "(1, 180, 180, 3)\n",
      "(1, 180, 180, 3)\n",
      "(1, 180, 180, 3)\n",
      "(1, 180, 180, 3)\n",
      "(1, 180, 180, 3)\n",
      "(1, 180, 180, 3)\n",
      "(1, 180, 180, 3)\n",
      "(1, 180, 180, 3)\n",
      "(1, 180, 180, 3)\n",
      "(1, 180, 180, 3)\n",
      "(1, 180, 180, 3)\n",
      "(1, 180, 180, 3)\n",
      "(1, 180, 180, 3)\n",
      "(1, 180, 180, 3)\n",
      "(1, 180, 180, 3)\n",
      "(1, 180, 180, 3)\n",
      "(1, 180, 180, 3)\n",
      "(1, 180, 180, 3)\n",
      "(1, 180, 180, 3)\n",
      "(1, 180, 180, 3)\n",
      "(1, 180, 180, 3)\n",
      "(1, 180, 180, 3)\n",
      "(1, 180, 180, 3)\n",
      "(1, 180, 180, 3)\n",
      "(1, 180, 180, 3)\n",
      "(1, 180, 180, 3)\n",
      "(1, 180, 180, 3)\n",
      "(1, 180, 180, 3)\n",
      "(1, 180, 180, 3)\n",
      "(1, 180, 180, 3)\n",
      "(1, 180, 180, 3)\n",
      "(1, 180, 180, 3)\n",
      "(1, 180, 180, 3)\n",
      "(1, 180, 180, 3)\n",
      "(1, 180, 180, 3)\n",
      "(1, 180, 180, 3)\n",
      "(1, 180, 180, 3)\n",
      "(1, 180, 180, 3)\n",
      "(1, 180, 180, 3)\n",
      "(1, 180, 180, 3)\n",
      "(1, 180, 180, 3)\n",
      "(1, 180, 180, 3)\n",
      "(1, 180, 180, 3)\n",
      "(1, 180, 180, 3)\n",
      "(1, 180, 180, 3)\n",
      "(1, 180, 180, 3)\n",
      "(1, 180, 180, 3)\n",
      "(1, 180, 180, 3)\n",
      "(1, 180, 180, 3)\n",
      "(1, 180, 180, 3)\n",
      "(1, 180, 180, 3)\n",
      "(1, 180, 180, 3)\n",
      "(1, 180, 180, 3)\n",
      "(1, 180, 180, 3)\n",
      "(1, 180, 180, 3)\n",
      "(1, 180, 180, 3)\n",
      "(1, 180, 180, 3)\n",
      "(1, 180, 180, 3)\n",
      "(1, 180, 180, 3)\n",
      "(1, 180, 180, 3)\n",
      "(1, 180, 180, 3)\n",
      "(1, 180, 180, 3)\n",
      "(1, 180, 180, 3)\n",
      "(1, 180, 180, 3)\n",
      "(1, 180, 180, 3)\n",
      "(1, 180, 180, 3)\n",
      "(1, 180, 180, 3)\n",
      "(1, 180, 180, 3)\n",
      "(1, 180, 180, 3)\n",
      "(1, 180, 180, 3)\n"
     ]
    }
   ],
   "source": [
    "fname = ['one{}.jpg'.format(i) for i in range(100,200)]\n",
    "for f in fname:\n",
    "    imgpath = os.path.join(orginal_srcJPG,f)\n",
    "    image = cv2.imread(imgpath)\n",
    "    image_resize = cv2.resize(image,(img_height,img_width))\n",
    "    image = np.expand_dims(image_resize,axis=0)\n",
    "    print(image.shape)\n",
    "#     pred = resnet_model.predict(image)\n",
    "#     output = class_names[np.argmax(pred)]\n",
    "#     print(output)"
   ]
  },
  {
   "cell_type": "code",
   "execution_count": 129,
   "id": "83a1eb44",
   "metadata": {},
   "outputs": [
    {
     "ename": "IndexError",
     "evalue": "string index out of range",
     "output_type": "error",
     "traceback": [
      "\u001b[1;31m---------------------------------------------------------------------------\u001b[0m",
      "\u001b[1;31mIndexError\u001b[0m                                Traceback (most recent call last)",
      "Cell \u001b[1;32mIn [129], line 3\u001b[0m\n\u001b[0;32m      1\u001b[0m z\u001b[38;5;241m=\u001b[39m\u001b[38;5;241m0\u001b[39m\n\u001b[0;32m      2\u001b[0m \u001b[38;5;28;01mfor\u001b[39;00m k \u001b[38;5;129;01min\u001b[39;00m \u001b[38;5;28mrange\u001b[39m(\u001b[38;5;241m100\u001b[39m):\n\u001b[1;32m----> 3\u001b[0m     \u001b[38;5;28;01mif\u001b[39;00m \u001b[43mresult\u001b[49m\u001b[43m[\u001b[49m\u001b[43mk\u001b[49m\u001b[43m]\u001b[49m\u001b[38;5;241m==\u001b[39m\u001b[38;5;124m'\u001b[39m\u001b[38;5;124mZERO\u001b[39m\u001b[38;5;124m'\u001b[39m:\n\u001b[0;32m      4\u001b[0m         z\u001b[38;5;241m=\u001b[39mz\u001b[38;5;241m+\u001b[39m\u001b[38;5;241m1\u001b[39m\n",
      "\u001b[1;31mIndexError\u001b[0m: string index out of range"
     ]
    }
   ],
   "source": [
    "z=0\n",
    "for k in range(100):\n",
    "    if result[k]=='ZERO':\n",
    "        z=z+1"
   ]
  },
  {
   "cell_type": "code",
   "execution_count": null,
   "id": "f717b9bf",
   "metadata": {},
   "outputs": [],
   "source": [
    "# tf.keras.applications.EfficientNetB0(\n",
    "#     include_top=True,\n",
    "#     weights=\"imagenet\",\n",
    "#     input_tensor=None,\n",
    "#     input_shape=None,\n",
    "#     pooling=None,\n",
    "#     classes=1000,\n",
    "#     classifier_activation=\"softmax\",\n",
    "#     **kwargs\n",
    "# )\n"
   ]
  },
  {
   "cell_type": "code",
   "execution_count": null,
   "id": "478ef7b9",
   "metadata": {},
   "outputs": [],
   "source": [
    "resnet_model = Sequential()\n",
    "pretrained_model = tf.keras.applications.ResNet50(\n",
    "    include_top = False,\n",
    "    input_shape = (150,150,3),\n",
    "    pooling='max', classes=2,\n",
    "    weights='imagenet'\n",
    ")"
   ]
  },
  {
   "cell_type": "code",
   "execution_count": null,
   "id": "90838259",
   "metadata": {},
   "outputs": [],
   "source": [
    "resnet_model = Sequential()\n",
    "pretrained_model = tf.keras.applications.EfficientNetV2L(\n",
    "    include_top=True,\n",
    "    weights=\"imagenet\",\n",
    "    input_tensor=None,\n",
    "    input_shape=None,\n",
    "    pooling=None,\n",
    "    classes=1000,\n",
    "    classifier_activation=\"softmax\",\n",
    "    include_preprocessing=True,\n",
    ")\n"
   ]
  },
  {
   "cell_type": "markdown",
   "id": "c2830127",
   "metadata": {},
   "source": [
    "## EfficienNets B0"
   ]
  },
  {
   "cell_type": "code",
   "execution_count": 2,
   "id": "da5b6d49",
   "metadata": {},
   "outputs": [
    {
     "name": "stdout",
     "output_type": "stream",
     "text": [
      "['One', 'Zero']\n",
      "Types of classes labels found:  2\n",
      "  Labels                         image\n",
      "0    One     dataset_path/One/one1.jpg\n",
      "1    One    dataset_path/One/one10.jpg\n",
      "2    One   dataset_path/One/one100.jpg\n",
      "3    One  dataset_path/One/one1000.jpg\n",
      "4    One  dataset_path/One/one1001.jpg\n",
      "     Labels                          image\n",
      "2781   Zero  dataset_path/Zero/zero995.jpg\n",
      "2782   Zero  dataset_path/Zero/zero996.jpg\n",
      "2783   Zero  dataset_path/Zero/zero997.jpg\n",
      "2784   Zero  dataset_path/Zero/zero998.jpg\n",
      "2785   Zero  dataset_path/Zero/zero999.jpg\n"
     ]
    }
   ],
   "source": [
    "import numpy as np\n",
    "import tensorflow as tf\n",
    "\n",
    "import numpy as np \n",
    "import pandas as pd \n",
    "import matplotlib.pyplot as plt\n",
    "import os\n",
    "\n",
    "dataset_path = os.listdir( r\"D:\\EEG project\\RISHAD\")\n",
    "\n",
    "print (dataset_path)  #what kinds of classes are in this dataset\n",
    "\n",
    "print(\"Types of classes labels found: \", len(dataset_path))\n",
    "\n",
    "class_labels = []\n",
    "\n",
    "for item in dataset_path:\n",
    " # Get all the file names\n",
    " all_classes = os.listdir('D:\\EEG project\\RISHAD' + '/' +item)\n",
    " #print(all_classes)\n",
    "\n",
    " # Add them to the list\n",
    " for room in all_classes:\n",
    "    class_labels.append((item, str('dataset_path' + '/' +item) + '/' + room))\n",
    "    #print(class_labels[:5])\n",
    "    \n",
    "    \n",
    "# Build a dataframe        \n",
    "df = pd.DataFrame(data=class_labels, columns=['Labels', 'image'])\n",
    "print(df.head())\n",
    "print(df.tail())"
   ]
  },
  {
   "cell_type": "code",
   "execution_count": 3,
   "id": "5ab6e0ab",
   "metadata": {},
   "outputs": [
    {
     "name": "stdout",
     "output_type": "stream",
     "text": [
      "Total number of images in the dataset:  2786\n",
      "Zero    1442\n",
      "One     1344\n",
      "Name: Labels, dtype: int64\n"
     ]
    }
   ],
   "source": [
    "print(\"Total number of images in the dataset: \", len(df))\n",
    "\n",
    "label_count = df['Labels'].value_counts()\n",
    "print(label_count)"
   ]
  },
  {
   "cell_type": "code",
   "execution_count": 4,
   "id": "c4b00240",
   "metadata": {},
   "outputs": [],
   "source": [
    "import cv2\n",
    "path = 'D:/EEG project/RISHAD/'\n",
    "dataset_path = os.listdir(r'D:\\EEG project\\RISHAD')\n",
    "\n",
    "im_size = 224\n",
    "\n",
    "images = []\n",
    "labels = []\n",
    "\n",
    "for i in dataset_path:\n",
    "    data_path = path + str(i)  \n",
    "    filenames = [i for i in os.listdir(data_path) ]\n",
    "   \n",
    "    for f in filenames:\n",
    "        img = cv2.imread(data_path + '/' + f)\n",
    "        img = cv2.resize(img, (im_size, im_size))\n",
    "        images.append(img)\n",
    "        labels.append(i)"
   ]
  },
  {
   "cell_type": "code",
   "execution_count": 5,
   "id": "51807467",
   "metadata": {},
   "outputs": [
    {
     "data": {
      "text/plain": [
       "(2786, 224, 224, 3)"
      ]
     },
     "execution_count": 5,
     "metadata": {},
     "output_type": "execute_result"
    }
   ],
   "source": [
    "images = np.array(images)\n",
    "\n",
    "images = images.astype('int') / 255.0\n",
    "images.shape"
   ]
  },
  {
   "cell_type": "code",
   "execution_count": 6,
   "id": "eea86cae",
   "metadata": {},
   "outputs": [
    {
     "name": "stdout",
     "output_type": "stream",
     "text": [
      "['One' 'One' 'One' ... 'Zero' 'Zero' 'Zero']\n",
      "[0 0 0 ... 1 1 1]\n"
     ]
    }
   ],
   "source": [
    "\n",
    "\n",
    "from sklearn.preprocessing import LabelEncoder , OneHotEncoder\n",
    "y=df['Labels'].values\n",
    "print(y)\n",
    "\n",
    "y_labelencoder = LabelEncoder ()\n",
    "y = y_labelencoder.fit_transform (y)\n",
    "print (y)\n",
    "\n"
   ]
  },
  {
   "cell_type": "code",
   "execution_count": 7,
   "id": "020a434d",
   "metadata": {},
   "outputs": [
    {
     "name": "stdout",
     "output_type": "stream",
     "text": [
      "[[1. 0.]\n",
      " [1. 0.]\n",
      " [1. 0.]\n",
      " [1. 0.]\n",
      " [1. 0.]]\n",
      "[[1. 0.]\n",
      " [1. 0.]\n",
      " [1. 0.]\n",
      " ...\n",
      " [0. 1.]\n",
      " [0. 1.]\n",
      " [0. 1.]]\n"
     ]
    }
   ],
   "source": [
    "y=y.reshape(-1,1)\n",
    "\n",
    "from sklearn.compose import ColumnTransformer\n",
    "ct = ColumnTransformer([('my_ohe', OneHotEncoder(), [0])], remainder='passthrough')\n",
    "Y = ct.fit_transform(y) #.toarray()\n",
    "print(Y[:5])\n",
    "print(Y[35:])"
   ]
  },
  {
   "cell_type": "code",
   "execution_count": 8,
   "id": "f115e2ff",
   "metadata": {},
   "outputs": [
    {
     "name": "stdout",
     "output_type": "stream",
     "text": [
      "(2646, 224, 224, 3)\n",
      "(2646, 2)\n",
      "(140, 224, 224, 3)\n",
      "(140, 2)\n"
     ]
    }
   ],
   "source": [
    "\n",
    "\n",
    "from sklearn.utils import shuffle\n",
    "from sklearn.model_selection import train_test_split\n",
    "\n",
    "\n",
    "images, Y = shuffle(images, Y, random_state=1)\n",
    "\n",
    "\n",
    "train_x, test_x, train_y, test_y = train_test_split(images, Y, test_size=0.05, random_state=415)\n",
    "\n",
    "#inpect the shape of the training and testing.\n",
    "print(train_x.shape)\n",
    "print(train_y.shape)\n",
    "print(test_x.shape)\n",
    "print(test_y.shape)\n",
    "\n"
   ]
  },
  {
   "cell_type": "code",
   "execution_count": 9,
   "id": "f90209ca",
   "metadata": {},
   "outputs": [],
   "source": [
    "\n",
    "\n",
    "import cv2\n",
    "import numpy as np\n",
    "from matplotlib.pyplot import imread\n",
    "from matplotlib.pyplot import imshow\n",
    "from tensorflow.keras.preprocessing import image\n",
    "from tensorflow.keras.applications.imagenet_utils import decode_predictions\n",
    "from tensorflow.keras.applications.imagenet_utils import preprocess_input\n",
    "from tensorflow.keras import layers\n",
    "from tensorflow.keras.applications import EfficientNetB0\n",
    "import numpy as np\n",
    "import tensorflow as tf\n",
    "\n",
    "import numpy as np \n",
    "import pandas as pd \n",
    "import matplotlib.pyplot as plt\n",
    "import os\n",
    "\n",
    "\n",
    "NUM_CLASSES = 2\n",
    "IMG_SIZE = 224\n",
    "\n"
   ]
  },
  {
   "cell_type": "code",
   "execution_count": 10,
   "id": "94532556",
   "metadata": {},
   "outputs": [],
   "source": [
    "def build_model(num_classes):\n",
    "    inputs = layers.Input(shape=(IMG_SIZE, IMG_SIZE, 3))\n",
    "    #x = img_augmentation(inputs)\n",
    "    x = inputs\n",
    "    model = EfficientNetB0(include_top=False, input_tensor=x, weights=\"imagenet\")\n",
    "\n",
    "    # Freeze the pretrained weights\n",
    "    model.trainable = False\n",
    "\n",
    "    # Rebuild top\n",
    "    x = layers.GlobalAveragePooling2D(name=\"avg_pool\")(model.output)\n",
    "    x = layers.BatchNormalization()(x)\n",
    "\n",
    "    top_dropout_rate = 0.2\n",
    "    x = layers.Dropout(top_dropout_rate, name=\"top_dropout\")(x)\n",
    "    outputs = layers.Dense(NUM_CLASSES, activation=\"softmax\", name=\"pred\")(x)\n",
    "\n",
    "    # Compile\n",
    "    model = tf.keras.Model(inputs, outputs, name=\"EfficientNet\")\n",
    "    optimizer = tf.keras.optimizers.Adam(learning_rate=1e-2)\n",
    "    model.compile(\n",
    "        optimizer=optimizer, loss=\"binary_crossentropy\", metrics=[\"accuracy\"]\n",
    "    )\n",
    "    return model"
   ]
  },
  {
   "cell_type": "code",
   "execution_count": 11,
   "id": "582540c2",
   "metadata": {},
   "outputs": [],
   "source": [
    "model = build_model(num_classes=NUM_CLASSES)"
   ]
  },
  {
   "cell_type": "code",
   "execution_count": 12,
   "id": "cb9c28a9",
   "metadata": {},
   "outputs": [],
   "source": [
    "\n",
    "\n",
    "import matplotlib.pyplot as plt\n",
    "\n",
    "\n",
    "def plot_hist(hist):\n",
    "    plt.plot(hist.history[\"accuracy\"])\n",
    "    #plt.plot(hist.history[\"val_accuracy\"])\n",
    "    plt.title(\"model accuracy\")\n",
    "    plt.ylabel(\"accuracy\")\n",
    "    plt.xlabel(\"epoch\")\n",
    "    plt.legend([\"train\", \"validation\"], loc=\"upper left\")\n",
    "    plt.show()\n",
    "\n",
    "\n",
    "#plot_hist(hist)\n",
    "\n"
   ]
  },
  {
   "cell_type": "code",
   "execution_count": 13,
   "id": "2fc4dfd8",
   "metadata": {},
   "outputs": [
    {
     "name": "stdout",
     "output_type": "stream",
     "text": [
      "Epoch 1/20\n",
      "83/83 - 117s - loss: 0.9202 - accuracy: 0.5094 - 117s/epoch - 1s/step\n",
      "Epoch 2/20\n",
      "83/83 - 82s - loss: 0.8593 - accuracy: 0.5049 - 82s/epoch - 986ms/step\n",
      "Epoch 3/20\n",
      "83/83 - 79s - loss: 0.8294 - accuracy: 0.4958 - 79s/epoch - 952ms/step\n",
      "Epoch 4/20\n",
      "83/83 - 81s - loss: 0.7643 - accuracy: 0.5147 - 81s/epoch - 971ms/step\n",
      "Epoch 5/20\n",
      "83/83 - 79s - loss: 0.7814 - accuracy: 0.4977 - 79s/epoch - 953ms/step\n",
      "Epoch 6/20\n",
      "83/83 - 80s - loss: 0.7733 - accuracy: 0.5045 - 80s/epoch - 966ms/step\n",
      "Epoch 7/20\n",
      "83/83 - 81s - loss: 0.7607 - accuracy: 0.4970 - 81s/epoch - 973ms/step\n",
      "Epoch 8/20\n",
      "83/83 - 82s - loss: 0.7765 - accuracy: 0.5015 - 82s/epoch - 989ms/step\n",
      "Epoch 9/20\n",
      "83/83 - 80s - loss: 0.7377 - accuracy: 0.5060 - 80s/epoch - 966ms/step\n",
      "Epoch 10/20\n",
      "83/83 - 83s - loss: 0.7326 - accuracy: 0.5011 - 83s/epoch - 997ms/step\n",
      "Epoch 11/20\n",
      "83/83 - 86s - loss: 0.7378 - accuracy: 0.5231 - 86s/epoch - 1s/step\n",
      "Epoch 12/20\n",
      "83/83 - 83s - loss: 0.7374 - accuracy: 0.4887 - 83s/epoch - 995ms/step\n",
      "Epoch 13/20\n",
      "83/83 - 95s - loss: 0.7363 - accuracy: 0.4977 - 95s/epoch - 1s/step\n",
      "Epoch 14/20\n",
      "83/83 - 85s - loss: 0.7290 - accuracy: 0.5094 - 85s/epoch - 1s/step\n",
      "Epoch 15/20\n",
      "83/83 - 87s - loss: 0.7281 - accuracy: 0.4974 - 87s/epoch - 1s/step\n",
      "Epoch 16/20\n",
      "83/83 - 86s - loss: 0.7173 - accuracy: 0.4917 - 86s/epoch - 1s/step\n",
      "Epoch 17/20\n",
      "83/83 - 84s - loss: 0.7363 - accuracy: 0.5045 - 84s/epoch - 1s/step\n",
      "Epoch 18/20\n",
      "83/83 - 80s - loss: 0.7156 - accuracy: 0.5030 - 80s/epoch - 968ms/step\n",
      "Epoch 19/20\n",
      "83/83 - 81s - loss: 0.7069 - accuracy: 0.5094 - 81s/epoch - 981ms/step\n",
      "Epoch 20/20\n",
      "83/83 - 80s - loss: 0.7060 - accuracy: 0.5042 - 80s/epoch - 970ms/step\n"
     ]
    },
    {
     "data": {
      "image/png": "[encoded data removed]",
      "text/plain": [
       "<Figure size 640x480 with 1 Axes>"
      ]
     },
     "metadata": {},
     "output_type": "display_data"
    }
   ],
   "source": [
    "epochs = 20 \n",
    "hist = model.fit(train_x, train_y, epochs=epochs, verbose=2)\n",
    "plot_hist(hist)"
   ]
  },
  {
   "cell_type": "markdown",
   "id": "57c900f8",
   "metadata": {},
   "source": [
    "\n",
    "## EfficientNetB7 Pretrained Model"
   ]
  },
  {
   "cell_type": "code",
   "execution_count": 1,
   "id": "1625b364",
   "metadata": {},
   "outputs": [],
   "source": [
    "dataset_dir = r\"D:\\EEG project\\datasetJPG\""
   ]
  },
  {
   "cell_type": "code",
   "execution_count": 2,
   "id": "225037e5",
   "metadata": {},
   "outputs": [],
   "source": [
    "img_height = 600\n",
    "img_width = 600"
   ]
  },
  {
   "cell_type": "code",
   "execution_count": 5,
   "id": "9f5f5d5b",
   "metadata": {},
   "outputs": [
    {
     "name": "stdout",
     "output_type": "stream",
     "text": [
      "Found 7140 files belonging to 2 classes.\n",
      "Using 5712 files for training.\n"
     ]
    }
   ],
   "source": [
    "train_ds = tf.keras.preprocessing.image_dataset_from_directory(\n",
    "    dataset_dir,\n",
    "    validation_split=0.2,\n",
    "    subset = 'training',\n",
    "    seed = 2022,\n",
    "    label_mode ='categorical',\n",
    "    image_size = (img_height, img_width),\n",
    "    batch_size = 32\n",
    ")"
   ]
  },
  {
   "cell_type": "code",
   "execution_count": 6,
   "id": "2f350f34",
   "metadata": {},
   "outputs": [
    {
     "name": "stdout",
     "output_type": "stream",
     "text": [
      "Found 7140 files belonging to 2 classes.\n",
      "Using 1428 files for validation.\n"
     ]
    }
   ],
   "source": [
    "val_ds = tf.keras.preprocessing.image_dataset_from_directory(\n",
    "    dataset_dir,\n",
    "    validation_split=0.2,\n",
    "    subset = 'validation',\n",
    "    seed = 2022,\n",
    "    label_mode ='categorical',\n",
    "    image_size = (img_height, img_width),\n",
    "    batch_size = 32\n",
    ")"
   ]
  },
  {
   "cell_type": "code",
   "execution_count": 7,
   "id": "675b0b80",
   "metadata": {},
   "outputs": [
    {
     "name": "stdout",
     "output_type": "stream",
     "text": [
      "['ONE', 'ZERO']\n"
     ]
    }
   ],
   "source": [
    "class_names = train_ds.class_names\n",
    "print(class_names)"
   ]
  },
  {
   "cell_type": "code",
   "execution_count": 16,
   "id": "d93e2824",
   "metadata": {},
   "outputs": [],
   "source": [
    "resnet_model = Sequential()\n",
    "pretrained_model = tf.keras.applications.EfficientNetB7(\n",
    "    include_top=False,\n",
    "    weights=\"imagenet\",\n",
    "    \n",
    "    input_shape=(600,600,3),\n",
    "    pooling='max',\n",
    "    classes=2,\n",
    "    classifier_activation=\"softmax\",\n",
    "    \n",
    ")\n"
   ]
  },
  {
   "cell_type": "code",
   "execution_count": 17,
   "id": "5370dd1a",
   "metadata": {},
   "outputs": [],
   "source": [
    "for layer in pretrained_model.layers:\n",
    "    layer.trainable=False\n",
    "\n",
    "resnet_model.add(pretrained_model)\n",
    "resnet_model.add(Flatten())\n",
    "resnet_model.add(Dense(512,activation='relu'))\n",
    "resnet_model.add(Dense(2,activation='softmax'))"
   ]
  },
  {
   "cell_type": "code",
   "execution_count": 18,
   "id": "9684ba17",
   "metadata": {},
   "outputs": [
    {
     "name": "stdout",
     "output_type": "stream",
     "text": [
      "Model: \"sequential\"\n",
      "_________________________________________________________________\n",
      " Layer (type)                Output Shape              Param #   \n",
      "=================================================================\n",
      " efficientnetb7 (Functional)  (None, 2560)             64097687  \n",
      "                                                                 \n",
      " module_wrapper (ModuleWrapp  (None, 2560)             0         \n",
      " er)                                                             \n",
      "                                                                 \n",
      " module_wrapper_1 (ModuleWra  (None, 512)              1311232   \n",
      " pper)                                                           \n",
      "                                                                 \n",
      " module_wrapper_2 (ModuleWra  (None, 2)                1026      \n",
      " pper)                                                           \n",
      "                                                                 \n",
      "=================================================================\n",
      "Total params: 65,409,945\n",
      "Trainable params: 1,312,258\n",
      "Non-trainable params: 64,097,687\n",
      "_________________________________________________________________\n"
     ]
    },
    {
     "name": "stderr",
     "output_type": "stream",
     "text": [
      "C:\\python\\lib\\site-packages\\keras\\optimizer_v2\\adam.py:105: UserWarning: The `lr` argument is deprecated, use `learning_rate` instead.\n",
      "  super(Adam, self).__init__(name, **kwargs)\n"
     ]
    }
   ],
   "source": [
    "resnet_model.summary()\n",
    "resnet_model.compile(optimizer=Adam(lr=0.001),loss='binary_crossentropy',metrics=['accuracy'])"
   ]
  },
  {
   "cell_type": "code",
   "execution_count": null,
   "id": "d29b882e",
   "metadata": {},
   "outputs": [
    {
     "name": "stdout",
     "output_type": "stream",
     "text": [
      "Epoch 1/20\n",
      "  7/179 [>.............................] - ETA: 3:08:58 - loss: 17.3298 - accuracy: 0.7545"
     ]
    }
   ],
   "source": [
    "epochs = 20\n",
    "history = resnet_model.fit(\n",
    "    train_ds,\n",
    "    validation_data = val_ds,\n",
    "    epochs = epochs\n",
    ")"
   ]
  },
  {
   "cell_type": "code",
   "execution_count": null,
   "id": "21d608a0",
   "metadata": {},
   "outputs": [],
   "source": [
    "a"
   ]
  },
  {
   "cell_type": "code",
   "execution_count": null,
   "id": "56f4c6f4",
   "metadata": {},
   "outputs": [],
   "source": []
  },
  {
   "cell_type": "code",
   "execution_count": null,
   "id": "f1cee88b",
   "metadata": {},
   "outputs": [],
   "source": []
  },
  {
   "cell_type": "code",
   "execution_count": null,
   "id": "bcf557f6",
   "metadata": {},
   "outputs": [],
   "source": []
  },
  {
   "cell_type": "code",
   "execution_count": null,
   "id": "d9a9b140",
   "metadata": {},
   "outputs": [],
   "source": []
  },
  {
   "cell_type": "code",
   "execution_count": null,
   "id": "cd4c738b",
   "metadata": {},
   "outputs": [],
   "source": []
  },
  {
   "cell_type": "code",
   "execution_count": null,
   "id": "02954c5b",
   "metadata": {},
   "outputs": [],
   "source": []
  },
  {
   "cell_type": "code",
   "execution_count": null,
   "id": "0f83c539",
   "metadata": {},
   "outputs": [],
   "source": []
  },
  {
   "cell_type": "code",
   "execution_count": null,
   "id": "007d871e",
   "metadata": {},
   "outputs": [],
   "source": []
  },
  {
   "cell_type": "code",
   "execution_count": null,
   "id": "b81a16b4",
   "metadata": {},
   "outputs": [],
   "source": []
  },
  {
   "cell_type": "code",
   "execution_count": null,
   "id": "fb00d5ae",
   "metadata": {},
   "outputs": [],
   "source": []
  },
  {
   "cell_type": "code",
   "execution_count": null,
   "id": "a66b9278",
   "metadata": {},
   "outputs": [],
   "source": []
  },
  {
   "cell_type": "code",
   "execution_count": null,
   "id": "80838c64",
   "metadata": {},
   "outputs": [],
   "source": []
  },
  {
   "cell_type": "code",
   "execution_count": null,
   "id": "2586a504",
   "metadata": {},
   "outputs": [],
   "source": [
    "train_ds = tf.keras.preprocessing.image_dataset_from_directory(\n",
    "    dataset_dir,\n",
    "    validation_split=0.2,\n",
    "    subset = 'training',\n",
    "    seed = 2022,\n",
    "    label_mode ='categorical',\n",
    "    image_size = (img_height, img_width),\n",
    "    batch_size = 32\n",
    ")"
   ]
  },
  {
   "cell_type": "code",
   "execution_count": null,
   "id": "10d1c57a",
   "metadata": {},
   "outputs": [],
   "source": [
    "val_ds = tf.keras.preprocessing.image_dataset_from_directory(\n",
    "    dataset_dir,\n",
    "    validation_split=0.2,\n",
    "    subset = 'validation',\n",
    "    seed = 2022,\n",
    "    label_mode ='categorical',\n",
    "    image_size = (img_height, img_width),\n",
    "    batch_size = 32\n",
    ")"
   ]
  },
  {
   "cell_type": "code",
   "execution_count": null,
   "id": "96d10960",
   "metadata": {},
   "outputs": [],
   "source": [
    "class_names = train_ds.class_names\n",
    "print(class_names)"
   ]
  },
  {
   "cell_type": "code",
   "execution_count": null,
   "id": "cef8fc18",
   "metadata": {},
   "outputs": [],
   "source": [
    "resnet_model = Sequential()"
   ]
  },
  {
   "cell_type": "code",
   "execution_count": null,
   "id": "3e8d08ab",
   "metadata": {},
   "outputs": [],
   "source": [
    "resnet_model.compile(optimizer=Adam(lr=0.001),loss='binary_crossentropy',metrics=['accuracy'])"
   ]
  },
  {
   "cell_type": "code",
   "execution_count": null,
   "id": "8f8f7d7f",
   "metadata": {},
   "outputs": [],
   "source": []
  },
  {
   "cell_type": "code",
   "execution_count": null,
   "id": "6a0d0ec8",
   "metadata": {},
   "outputs": [],
   "source": []
  },
  {
   "cell_type": "code",
   "execution_count": null,
   "id": "75a6b5eb",
   "metadata": {},
   "outputs": [],
   "source": []
  },
  {
   "cell_type": "code",
   "execution_count": null,
   "id": "6a108d71",
   "metadata": {},
   "outputs": [],
   "source": []
  },
  {
   "cell_type": "code",
   "execution_count": null,
   "id": "1c1a6a8e",
   "metadata": {},
   "outputs": [],
   "source": []
  },
  {
   "cell_type": "code",
   "execution_count": null,
   "id": "a427eae4",
   "metadata": {},
   "outputs": [],
   "source": []
  },
  {
   "cell_type": "code",
   "execution_count": null,
   "id": "69591015",
   "metadata": {},
   "outputs": [],
   "source": []
  }
 ],
 "metadata": {
  "kernelspec": {
   "display_name": "Python 3 (ipykernel)",
   "language": "python",
   "name": "python3"
  },
  "language_info": {
   "codemirror_mode": {
    "name": "ipython",
    "version": 3
   },
   "file_extension": ".py",
   "mimetype": "text/x-python",
   "name": "python",
   "nbconvert_exporter": "python",
   "pygments_lexer": "ipython3",
   "version": "3.9.0"
  }
 },
 "nbformat": 4,
 "nbformat_minor": 5
}

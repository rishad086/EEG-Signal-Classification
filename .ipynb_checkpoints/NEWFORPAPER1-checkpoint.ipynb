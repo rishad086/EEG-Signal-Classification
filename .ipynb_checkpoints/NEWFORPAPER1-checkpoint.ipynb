{
 "cells": [
  {
   "cell_type": "code",
   "execution_count": 1,
   "id": "b769a200",
   "metadata": {},
   "outputs": [],
   "source": [
    "import matplotlib.pyplot as plotter_lib\n",
    "\n",
    "import numpy as np\n",
    "\n",
    "import PIL as image_lib\n",
    "\n",
    "import tensorflow as tflow\n",
    "\n",
    "from tensorflow.keras.layers import Flatten\n",
    "\n",
    "from keras.layers.core import Dense\n",
    "\n",
    "from tensorflow.keras.models import Sequential\n",
    "\n",
    "from tensorflow.keras.optimizers import Adam\n",
    "import pathlib"
   ]
  },
  {
   "cell_type": "code",
   "execution_count": 2,
   "id": "0a35f55a",
   "metadata": {},
   "outputs": [],
   "source": [
    "data_directory = pathlib.Path('F:\\\\EEG\\\\Zero')"
   ]
  },
  {
   "cell_type": "code",
   "execution_count": 3,
   "id": "099cd01c",
   "metadata": {},
   "outputs": [],
   "source": [
    "data_directory1 = pathlib.Path(data_directory)"
   ]
  },
  {
   "cell_type": "code",
   "execution_count": 4,
   "id": "107f72ba",
   "metadata": {},
   "outputs": [
    {
     "name": "stdout",
     "output_type": "stream",
     "text": [
      "Found 5150 files belonging to 2 classes.\n",
      "Using 4120 files for training.\n"
     ]
    }
   ],
   "source": [
    "img_height,img_width=180,180\n",
    "\n",
    "batch_size=32\n",
    "\n",
    "train_ds = tflow.keras.preprocessing.image_dataset_from_directory(\n",
    "\n",
    "  data_directory1,\n",
    "\n",
    "  validation_split=0.2,\n",
    "\n",
    "  subset=\"training\",\n",
    "\n",
    "  seed=123,\n",
    "\n",
    "label_mode='categorical',\n",
    "\n",
    "  image_size=(img_height, img_width),\n",
    "\n",
    "  batch_size=batch_size)"
   ]
  },
  {
   "cell_type": "code",
   "execution_count": 5,
   "id": "2a6b5886",
   "metadata": {},
   "outputs": [
    {
     "name": "stdout",
     "output_type": "stream",
     "text": [
      "Found 5150 files belonging to 2 classes.\n",
      "Using 1030 files for validation.\n"
     ]
    }
   ],
   "source": [
    "validation_ds = tflow.keras.preprocessing.image_dataset_from_directory(\n",
    "\n",
    "  data_directory1,\n",
    "\n",
    "  validation_split=0.2,\n",
    "\n",
    "  subset=\"validation\",\n",
    "\n",
    "  seed=123,\n",
    "\n",
    "label_mode='categorical',\n",
    "\n",
    "  image_size=(img_height, img_width),\n",
    "\n",
    "  batch_size=batch_size)"
   ]
  },
  {
   "cell_type": "code",
   "execution_count": 6,
   "id": "93d6c5d6",
   "metadata": {},
   "outputs": [],
   "source": [
    "# import matplotlib.pyplot as plotter_lib\n",
    "\n",
    "# plotter_lib.figure(figsize=(10, 10))\n",
    "\n",
    "# epochs=10\n",
    "\n",
    "# for images, labels in train_ds.take(1):\n",
    "\n",
    "#   for var in range(6):\n",
    "\n",
    "#     ax = plt.subplot(3, 3, var + 1)\n",
    "\n",
    "#     plotter_lib.imshow(images[var].numpy().astype(\"uint8\"))\n",
    "\n",
    "#     plotter_lib.axis(\"off\")*"
   ]
  },
  {
   "cell_type": "code",
   "execution_count": 7,
   "id": "d8882b36",
   "metadata": {},
   "outputs": [],
   "source": [
    "demo_resnet_model = Sequential()\n",
    "\n",
    "pretrained_model_for_demo= tflow.keras.applications.ResNet50(include_top=False,\n",
    "\n",
    "                   input_shape=(180,180,3),\n",
    "\n",
    "                   pooling='avg',classes=2,\n",
    "\n",
    "                   weights='imagenet')\n",
    "\n",
    "for each_layer in pretrained_model_for_demo.layers:\n",
    "\n",
    "        each_layer.trainable=False\n",
    "\n",
    "demo_resnet_model.add(pretrained_model_for_demo)"
   ]
  },
  {
   "cell_type": "code",
   "execution_count": 8,
   "id": "ad765995",
   "metadata": {},
   "outputs": [],
   "source": [
    "demo_resnet_model.add(Flatten())\n",
    "\n",
    "demo_resnet_model.add(Dense(512, activation='relu'))\n",
    "demo_resnet_model.add(Dense(128, activation='relu'))\n",
    "demo_resnet_model.add(Dense(2, activation='sigmoid'))"
   ]
  },
  {
   "cell_type": "code",
   "execution_count": 9,
   "id": "88e665b8",
   "metadata": {},
   "outputs": [
    {
     "data": {
      "text/plain": [
       "<Figure size 1000x1000 with 0 Axes>"
      ]
     },
     "metadata": {},
     "output_type": "display_data"
    }
   ],
   "source": [
    "import matplotlib.pyplot as plotter_lib\n",
    "\n",
    "plotter_lib.figure(figsize=(10, 10))\n",
    "\n",
    "epochs=10"
   ]
  },
  {
   "cell_type": "code",
   "execution_count": 10,
   "id": "08c9c5d5",
   "metadata": {},
   "outputs": [],
   "source": [
    "demo_resnet_model = Sequential()\n",
    "\n",
    "pretrained_model_for_demo= tflow.keras.applications.ResNet50(include_top=False,\n",
    "\n",
    "                   input_shape=(180,180,3),\n",
    "\n",
    "                   pooling='avg',classes=2,\n",
    "\n",
    "                   weights='imagenet')\n",
    "\n",
    "for each_layer in pretrained_model_for_demo.layers:\n",
    "\n",
    "        each_layer.trainable=False\n",
    "\n",
    "demo_resnet_model.add(pretrained_model_for_demo)"
   ]
  },
  {
   "cell_type": "code",
   "execution_count": 11,
   "id": "1d9f989a",
   "metadata": {},
   "outputs": [],
   "source": [
    "demo_resnet_model.add(Flatten())\n",
    "\n",
    "demo_resnet_model.add(Dense(512, activation='relu'))\n",
    "demo_resnet_model.add(Dense(128, activation='relu'))\n",
    "\n",
    "demo_resnet_model.add(Dense(2, activation='sigmoid'))"
   ]
  },
  {
   "cell_type": "code",
   "execution_count": 12,
   "id": "949c0a8c",
   "metadata": {},
   "outputs": [
    {
     "name": "stderr",
     "output_type": "stream",
     "text": [
      "WARNING:absl:`lr` is deprecated, please use `learning_rate` instead, or use the legacy optimizer, e.g.,tf.keras.optimizers.legacy.Adam.\n"
     ]
    },
    {
     "name": "stdout",
     "output_type": "stream",
     "text": [
      "Epoch 1/10\n",
      "129/129 [==============================] - 267s 2s/step - loss: 0.3307 - accuracy: 0.8794 - val_loss: 0.2941 - val_accuracy: 0.8757\n",
      "Epoch 2/10\n",
      "129/129 [==============================] - 252s 2s/step - loss: 0.2799 - accuracy: 0.8862 - val_loss: 0.2737 - val_accuracy: 0.8883\n",
      "Epoch 3/10\n",
      "129/129 [==============================] - 253s 2s/step - loss: 0.2556 - accuracy: 0.8951 - val_loss: 0.3118 - val_accuracy: 0.8777\n",
      "Epoch 4/10\n",
      "129/129 [==============================] - 250s 2s/step - loss: 0.2454 - accuracy: 0.9017 - val_loss: 0.3707 - val_accuracy: 0.8748\n",
      "Epoch 5/10\n",
      "129/129 [==============================] - 237s 2s/step - loss: 0.2324 - accuracy: 0.9034 - val_loss: 0.2795 - val_accuracy: 0.8874\n",
      "Epoch 6/10\n",
      "129/129 [==============================] - 234s 2s/step - loss: 0.2222 - accuracy: 0.9078 - val_loss: 0.2830 - val_accuracy: 0.8932\n",
      "Epoch 7/10\n",
      "129/129 [==============================] - 231s 2s/step - loss: 0.2147 - accuracy: 0.9131 - val_loss: 0.2543 - val_accuracy: 0.8961\n",
      "Epoch 8/10\n",
      "129/129 [==============================] - 231s 2s/step - loss: 0.2097 - accuracy: 0.9158 - val_loss: 0.2579 - val_accuracy: 0.8961\n",
      "Epoch 9/10\n",
      "129/129 [==============================] - 236s 2s/step - loss: 0.1918 - accuracy: 0.9257 - val_loss: 0.2553 - val_accuracy: 0.8942\n",
      "Epoch 10/10\n",
      "129/129 [==============================] - 231s 2s/step - loss: 0.1869 - accuracy: 0.9252 - val_loss: 0.2432 - val_accuracy: 0.9087\n"
     ]
    }
   ],
   "source": [
    "demo_resnet_model.compile(optimizer=Adam(lr=0.001),loss='binary_crossentropy',metrics=['accuracy'])\n",
    "\n",
    "history = demo_resnet_model.fit(train_ds, validation_data=validation_ds, epochs=epochs)"
   ]
  },
  {
   "cell_type": "code",
   "execution_count": 33,
   "id": "5fad0be7",
   "metadata": {},
   "outputs": [
    {
     "data": {
      "text/plain": [
       "<matplotlib.legend.Legend at 0x2016ef09850>"
      ]
     },
     "execution_count": 33,
     "metadata": {},
     "output_type": "execute_result"
    },
    {
     "data": {
      "image/png": "[encoded data removed]",
      "text/plain": [
       "<Figure size 500x500 with 1 Axes>"
      ]
     },
     "metadata": {},
     "output_type": "display_data"
    }
   ],
   "source": [
    "plotter_lib.figure(figsize=(5, 5))\n",
    "\n",
    "epochs_range= range(epochs)\n",
    "\n",
    "plotter_lib.plot( epochs_range, history.history['accuracy'], label=\"Training Accuracy\")\n",
    "\n",
    "plotter_lib.plot(epochs_range, history.history['val_accuracy'], label=\"Validation Accuracy\")\n",
    "\n",
    "plotter_lib.axis(ymin=0.4,ymax=1)\n",
    "\n",
    "plotter_lib.grid()\n",
    "\n",
    "plotter_lib.title('Model Accuracy')\n",
    "\n",
    "plotter_lib.ylabel('Accuracy')\n",
    "\n",
    "plotter_lib.xlabel('Epochs')\n",
    "\n",
    "plotter_lib.legend(['train', 'validation'])"
   ]
  },
  {
   "cell_type": "code",
   "execution_count": 14,
   "id": "4da1e9b0",
   "metadata": {},
   "outputs": [
    {
     "data": {
      "text/plain": [
       "<Figure size 640x480 with 0 Axes>"
      ]
     },
     "metadata": {},
     "output_type": "display_data"
    }
   ],
   "source": [
    "plotter_lib.show()\n",
    "\n",
    "plotter_lib.savefig('output-plot.png') "
   ]
  },
  {
   "cell_type": "code",
   "execution_count": 15,
   "id": "a48fd634",
   "metadata": {},
   "outputs": [
    {
     "name": "stdout",
     "output_type": "stream",
     "text": [
      "33/33 [==============================] - 47s 1s/step\n",
      "Accuracy: 0.8135922330097087\n",
      "Classification Report:\n",
      "               precision    recall  f1-score   support\n",
      "\n",
      "           0       0.87      0.92      0.90       899\n",
      "           1       0.13      0.08      0.10       131\n",
      "\n",
      "    accuracy                           0.81      1030\n",
      "   macro avg       0.50      0.50      0.50      1030\n",
      "weighted avg       0.78      0.81      0.80      1030\n",
      "\n"
     ]
    }
   ],
   "source": [
    "from sklearn.metrics import classification_report, accuracy_score\n",
    "\n",
    "# predict on test data\n",
    "y_pred = demo_resnet_model.predict(validation_ds)\n",
    "\n",
    "# convert predicted probabilities to class labels\n",
    "y_pred = np.argmax(y_pred, axis=1)\n",
    "\n",
    "# get true class labels\n",
    "y_true = np.concatenate([y for x, y in validation_ds], axis=0)\n",
    "y_true = np.argmax(y_true, axis=1)\n",
    "\n",
    "# calculate accuracy\n",
    "acc = accuracy_score(y_true, y_pred)\n",
    "print(\"Accuracy:\", acc)\n",
    "\n",
    "# calculate precision, recall, f1-score\n",
    "report = classification_report(y_true, y_pred)\n",
    "print(\"Classification Report:\\n\", report)\n"
   ]
  },
  {
   "cell_type": "markdown",
   "id": "fc1d9ef0",
   "metadata": {},
   "source": [
    "### VGG-16\n"
   ]
  },
  {
   "cell_type": "code",
   "execution_count": 16,
   "id": "85dd1cee",
   "metadata": {},
   "outputs": [],
   "source": [
    "demo_vgg_16_model = Sequential()\n",
    "\n",
    "pretrained_model_for_vgg_16_demo= tflow.keras.applications.VGG16(include_top=False,\n",
    "\n",
    "                   input_shape=(180,180,3),\n",
    "\n",
    "                   pooling='avg',classes=2,\n",
    "\n",
    "                   weights='imagenet')\n",
    "\n",
    "for each_layer in pretrained_model_for_vgg_16_demo.layers:\n",
    "\n",
    "        each_layer.trainable=False\n",
    "\n",
    "demo_vgg_16_model.add(pretrained_model_for_demo)"
   ]
  },
  {
   "cell_type": "code",
   "execution_count": 17,
   "id": "5925321d",
   "metadata": {},
   "outputs": [],
   "source": [
    "demo_vgg_16_model.add(Flatten())\n",
    "\n",
    "demo_vgg_16_model.add(Dense(512, activation='relu'))\n",
    "demo_vgg_16_model.add(Dense(128, activation='relu'))\n",
    "demo_vgg_16_model.add(Dense(2, activation='sigmoid'))"
   ]
  },
  {
   "cell_type": "code",
   "execution_count": 18,
   "id": "ac496915",
   "metadata": {},
   "outputs": [
    {
     "data": {
      "text/plain": [
       "<Figure size 1000x1000 with 0 Axes>"
      ]
     },
     "metadata": {},
     "output_type": "display_data"
    }
   ],
   "source": [
    "import matplotlib.pyplot as plotter_lib\n",
    "\n",
    "plotter_lib.figure(figsize=(10, 10))\n",
    "\n",
    "epochs=10"
   ]
  },
  {
   "cell_type": "code",
   "execution_count": 19,
   "id": "479354dd",
   "metadata": {},
   "outputs": [],
   "source": [
    "demo_vgg_16_model = Sequential()\n",
    "\n",
    "pretrained_model_for_vgg_16_demo= tflow.keras.applications.VGG16(include_top=False,\n",
    "\n",
    "                   input_shape=(180,180,3),\n",
    "\n",
    "                   pooling='avg',classes=2,\n",
    "\n",
    "                   weights='imagenet')\n",
    "\n",
    "for each_layer in pretrained_model_for_vgg_16_demo.layers:\n",
    "\n",
    "        each_layer.trainable=False\n",
    "\n",
    "demo_vgg_16_model.add(pretrained_model_for_vgg_16_demo)"
   ]
  },
  {
   "cell_type": "code",
   "execution_count": 20,
   "id": "16d31428",
   "metadata": {},
   "outputs": [],
   "source": [
    "demo_vgg_16_model.add(Flatten())\n",
    "\n",
    "demo_vgg_16_model.add(Dense(512, activation='relu'))\n",
    "demo_vgg_16_model.add(Dense(128, activation='relu'))\n",
    "\n",
    "demo_vgg_16_model.add(Dense(2, activation='sigmoid'))"
   ]
  },
  {
   "cell_type": "code",
   "execution_count": 21,
   "id": "9b376c78",
   "metadata": {},
   "outputs": [
    {
     "name": "stderr",
     "output_type": "stream",
     "text": [
      "WARNING:absl:`lr` is deprecated, please use `learning_rate` instead, or use the legacy optimizer, e.g.,tf.keras.optimizers.legacy.Adam.\n"
     ]
    },
    {
     "name": "stdout",
     "output_type": "stream",
     "text": [
      "Epoch 1/10\n",
      "129/129 [==============================] - 426s 3s/step - loss: 0.3141 - accuracy: 0.8794 - val_loss: 0.2971 - val_accuracy: 0.8825\n",
      "Epoch 2/10\n",
      "129/129 [==============================] - 429s 3s/step - loss: 0.2568 - accuracy: 0.9005 - val_loss: 0.2820 - val_accuracy: 0.8874\n",
      "Epoch 3/10\n",
      "129/129 [==============================] - 438s 3s/step - loss: 0.2346 - accuracy: 0.9155 - val_loss: 0.2660 - val_accuracy: 0.8903\n",
      "Epoch 4/10\n",
      "129/129 [==============================] - 424s 3s/step - loss: 0.2214 - accuracy: 0.9107 - val_loss: 0.2757 - val_accuracy: 0.8874\n",
      "Epoch 5/10\n",
      "129/129 [==============================] - 422s 3s/step - loss: 0.2011 - accuracy: 0.9180 - val_loss: 0.2746 - val_accuracy: 0.8757\n",
      "Epoch 6/10\n",
      "129/129 [==============================] - 420s 3s/step - loss: 0.1879 - accuracy: 0.9265 - val_loss: 0.2934 - val_accuracy: 0.8922\n",
      "Epoch 7/10\n",
      "129/129 [==============================] - 421s 3s/step - loss: 0.1690 - accuracy: 0.9367 - val_loss: 0.2906 - val_accuracy: 0.8942\n",
      "Epoch 8/10\n",
      "129/129 [==============================] - 424s 3s/step - loss: 0.1508 - accuracy: 0.9427 - val_loss: 0.3244 - val_accuracy: 0.8573\n",
      "Epoch 9/10\n",
      "129/129 [==============================] - 426s 3s/step - loss: 0.1397 - accuracy: 0.9476 - val_loss: 0.3501 - val_accuracy: 0.8922\n",
      "Epoch 10/10\n",
      "129/129 [==============================] - 428s 3s/step - loss: 0.1365 - accuracy: 0.9473 - val_loss: 0.3348 - val_accuracy: 0.8893\n"
     ]
    }
   ],
   "source": [
    "demo_vgg_16_model.compile(optimizer=Adam(lr=0.001),loss='binary_crossentropy',metrics=['accuracy'])\n",
    "\n",
    "history = demo_vgg_16_model.fit(train_ds, validation_data=validation_ds, epochs=epochs)"
   ]
  },
  {
   "cell_type": "code",
   "execution_count": 34,
   "id": "90af4539",
   "metadata": {},
   "outputs": [
    {
     "data": {
      "text/plain": [
       "<matplotlib.legend.Legend at 0x20111676df0>"
      ]
     },
     "execution_count": 34,
     "metadata": {},
     "output_type": "execute_result"
    },
    {
     "data": {
      "image/png": "[encoded data removed]",
      "text/plain": [
       "<Figure size 500x500 with 1 Axes>"
      ]
     },
     "metadata": {},
     "output_type": "display_data"
    }
   ],
   "source": [
    "plotter_lib.figure(figsize=(5, 5))\n",
    "\n",
    "epochs_range= range(epochs)\n",
    "\n",
    "plotter_lib.plot( epochs_range, history.history['accuracy'], label=\"Training Accuracy\")\n",
    "\n",
    "plotter_lib.plot(epochs_range, history.history['val_accuracy'], label=\"Validation Accuracy\")\n",
    "\n",
    "plotter_lib.axis(ymin=0.4,ymax=1)\n",
    "\n",
    "plotter_lib.grid()\n",
    "\n",
    "plotter_lib.title('Model Accuracy')\n",
    "\n",
    "plotter_lib.ylabel('Accuracy')\n",
    "\n",
    "plotter_lib.xlabel('Epochs')\n",
    "\n",
    "plotter_lib.legend(['train', 'validation'])"
   ]
  },
  {
   "cell_type": "code",
   "execution_count": 23,
   "id": "6a2db01c",
   "metadata": {},
   "outputs": [
    {
     "data": {
      "text/plain": [
       "<Figure size 640x480 with 0 Axes>"
      ]
     },
     "metadata": {},
     "output_type": "display_data"
    }
   ],
   "source": [
    "plotter_lib.show()\n",
    "\n",
    "plotter_lib.savefig('output-plot.png') "
   ]
  },
  {
   "cell_type": "code",
   "execution_count": 24,
   "id": "7319a346",
   "metadata": {},
   "outputs": [
    {
     "name": "stdout",
     "output_type": "stream",
     "text": [
      "33/33 [==============================] - 85s 3s/step\n",
      "Accuracy: 0.8019417475728156\n",
      "Classification Report:\n",
      "               precision    recall  f1-score   support\n",
      "\n",
      "           0       0.87      0.90      0.89       899\n",
      "           1       0.13      0.10      0.11       131\n",
      "\n",
      "    accuracy                           0.80      1030\n",
      "   macro avg       0.50      0.50      0.50      1030\n",
      "weighted avg       0.78      0.80      0.79      1030\n",
      "\n"
     ]
    }
   ],
   "source": [
    "from sklearn.metrics import classification_report, accuracy_score\n",
    "\n",
    "# predict on test data\n",
    "y_pred = demo_vgg_16_model.predict(validation_ds)\n",
    "\n",
    "# convert predicted probabilities to class labels\n",
    "y_pred = np.argmax(y_pred, axis=1)\n",
    "\n",
    "# get true class labels\n",
    "y_true = np.concatenate([y for x, y in validation_ds], axis=0)\n",
    "y_true = np.argmax(y_true, axis=1)\n",
    "\n",
    "# calculate accuracy\n",
    "acc = accuracy_score(y_true, y_pred)\n",
    "print(\"Accuracy:\", acc)\n",
    "\n",
    "# calculate precision, recall, f1-score\n",
    "report = classification_report(y_true, y_pred)\n",
    "print(\"Classification Report:\\n\", report)"
   ]
  },
  {
   "cell_type": "markdown",
   "id": "109f988a",
   "metadata": {},
   "source": [
    "### VGG 19\\"
   ]
  },
  {
   "cell_type": "code",
   "execution_count": 25,
   "id": "f28d5558",
   "metadata": {},
   "outputs": [],
   "source": [
    "demo_vgg_19_model = Sequential()\n",
    "\n",
    "pretrained_model_for_vgg_19_demo= tflow.keras.applications.VGG19(include_top=False,\n",
    "\n",
    "                   input_shape=(180,180,3),\n",
    "\n",
    "                   pooling='avg',classes=2,\n",
    "\n",
    "                   weights='imagenet')\n",
    "\n",
    "for each_layer in pretrained_model_for_vgg_19_demo.layers:\n",
    "\n",
    "        each_layer.trainable=False\n",
    "\n",
    "demo_vgg_19_model.add(pretrained_model_for_vgg_19_demo)"
   ]
  },
  {
   "cell_type": "code",
   "execution_count": 26,
   "id": "989107c6",
   "metadata": {},
   "outputs": [],
   "source": [
    "demo_vgg_19_model.add(Flatten())\n",
    "\n",
    "demo_vgg_19_model.add(Dense(512, activation='relu'))\n",
    "demo_vgg_19_model.add(Dense(128, activation='relu'))\n",
    "\n",
    "demo_vgg_19_model.add(Dense(2, activation='sigmoid'))"
   ]
  },
  {
   "cell_type": "code",
   "execution_count": 27,
   "id": "befd1b62",
   "metadata": {},
   "outputs": [
    {
     "name": "stderr",
     "output_type": "stream",
     "text": [
      "WARNING:absl:`lr` is deprecated, please use `learning_rate` instead, or use the legacy optimizer, e.g.,tf.keras.optimizers.legacy.Adam.\n"
     ]
    },
    {
     "name": "stdout",
     "output_type": "stream",
     "text": [
      "Epoch 1/10\n",
      "129/129 [==============================] - 540s 4s/step - loss: 0.3557 - accuracy: 0.8779 - val_loss: 0.3131 - val_accuracy: 0.8796\n",
      "Epoch 2/10\n",
      "129/129 [==============================] - 528s 4s/step - loss: 0.2674 - accuracy: 0.8944 - val_loss: 0.3090 - val_accuracy: 0.8854\n",
      "Epoch 3/10\n",
      "129/129 [==============================] - 527s 4s/step - loss: 0.2481 - accuracy: 0.9012 - val_loss: 0.2760 - val_accuracy: 0.8942\n",
      "Epoch 4/10\n",
      "129/129 [==============================] - 531s 4s/step - loss: 0.2263 - accuracy: 0.9117 - val_loss: 0.2846 - val_accuracy: 0.8971\n",
      "Epoch 5/10\n",
      "129/129 [==============================] - 524s 4s/step - loss: 0.2179 - accuracy: 0.9129 - val_loss: 0.2821 - val_accuracy: 0.8864\n",
      "Epoch 6/10\n",
      "129/129 [==============================] - 519s 4s/step - loss: 0.1968 - accuracy: 0.9250 - val_loss: 0.2662 - val_accuracy: 0.8981\n",
      "Epoch 7/10\n",
      "129/129 [==============================] - 3147s 25s/step - loss: 0.1748 - accuracy: 0.9316 - val_loss: 0.3348 - val_accuracy: 0.8951\n",
      "Epoch 8/10\n",
      "129/129 [==============================] - 518s 4s/step - loss: 0.1695 - accuracy: 0.9316 - val_loss: 0.2841 - val_accuracy: 0.9039\n",
      "Epoch 9/10\n",
      "129/129 [==============================] - 531s 4s/step - loss: 0.1564 - accuracy: 0.9383 - val_loss: 0.2850 - val_accuracy: 0.9000\n",
      "Epoch 10/10\n",
      "129/129 [==============================] - 524s 4s/step - loss: 0.1386 - accuracy: 0.9432 - val_loss: 0.3198 - val_accuracy: 0.9010\n"
     ]
    }
   ],
   "source": [
    "demo_vgg_19_model.compile(optimizer=Adam(lr=0.001),loss='binary_crossentropy',metrics=['accuracy'])\n",
    "\n",
    "history = demo_vgg_19_model.fit(train_ds, validation_data=validation_ds, epochs=epochs)"
   ]
  },
  {
   "cell_type": "code",
   "execution_count": 35,
   "id": "25a63471",
   "metadata": {},
   "outputs": [
    {
     "data": {
      "text/plain": [
       "<matplotlib.legend.Legend at 0x2010150cac0>"
      ]
     },
     "execution_count": 35,
     "metadata": {},
     "output_type": "execute_result"
    },
    {
     "data": {
      "image/png": "[encoded data removed]",
      "text/plain": [
       "<Figure size 500x500 with 1 Axes>"
      ]
     },
     "metadata": {},
     "output_type": "display_data"
    }
   ],
   "source": [
    "plotter_lib.figure(figsize=(5, 5))\n",
    "\n",
    "epochs_range= range(epochs)\n",
    "\n",
    "plotter_lib.plot( epochs_range, history.history['accuracy'], label=\"Training Accuracy\")\n",
    "\n",
    "plotter_lib.plot(epochs_range, history.history['val_accuracy'], label=\"Validation Accuracy\")\n",
    "\n",
    "plotter_lib.axis(ymin=0.4,ymax=1)\n",
    "\n",
    "plotter_lib.grid()\n",
    "\n",
    "plotter_lib.title('Model Accuracy')\n",
    "\n",
    "plotter_lib.ylabel('Accuracy')\n",
    "\n",
    "plotter_lib.xlabel('Epochs')\n",
    "\n",
    "plotter_lib.legend(['train', 'validation'])"
   ]
  },
  {
   "cell_type": "code",
   "execution_count": 29,
   "id": "0d4c4a82",
   "metadata": {},
   "outputs": [
    {
     "data": {
      "text/plain": [
       "<Figure size 640x480 with 0 Axes>"
      ]
     },
     "metadata": {},
     "output_type": "display_data"
    }
   ],
   "source": [
    "plotter_lib.show()\n",
    "\n",
    "plotter_lib.savefig('output-plot.png') "
   ]
  },
  {
   "cell_type": "code",
   "execution_count": 30,
   "id": "f21a0aea",
   "metadata": {},
   "outputs": [
    {
     "name": "stdout",
     "output_type": "stream",
     "text": [
      "33/33 [==============================] - 105s 3s/step\n",
      "Accuracy: 0.8116504854368932\n",
      "Classification Report:\n",
      "               precision    recall  f1-score   support\n",
      "\n",
      "           0       0.87      0.92      0.90       899\n",
      "           1       0.11      0.07      0.08       131\n",
      "\n",
      "    accuracy                           0.81      1030\n",
      "   macro avg       0.49      0.49      0.49      1030\n",
      "weighted avg       0.77      0.81      0.79      1030\n",
      "\n"
     ]
    }
   ],
   "source": [
    "from sklearn.metrics import classification_report, accuracy_score\n",
    "\n",
    "# predict on test data\n",
    "y_pred = demo_vgg_19_model.predict(validation_ds)\n",
    "\n",
    "# convert predicted probabilities to class labels\n",
    "y_pred = np.argmax(y_pred, axis=1)\n",
    "\n",
    "# get true class labels\n",
    "y_true = np.concatenate([y for x, y in validation_ds], axis=0)\n",
    "y_true = np.argmax(y_true, axis=1)\n",
    "\n",
    "# calculate accuracy\n",
    "acc = accuracy_score(y_true, y_pred)\n",
    "print(\"Accuracy:\", acc)\n",
    "\n",
    "# calculate precision, recall, f1-score\n",
    "report = classification_report(y_true, y_pred)\n",
    "print(\"Classification Report:\\n\", report)"
   ]
  },
  {
   "cell_type": "code",
   "execution_count": 32,
   "id": "a66ccea7",
   "metadata": {},
   "outputs": [
    {
     "data": {
      "text/plain": [
       "<Figure size 1000x1000 with 0 Axes>"
      ]
     },
     "metadata": {},
     "output_type": "display_data"
    }
   ],
   "source": [
    "### Resnet-101 batch_size=32\n",
    "\n",
    "\n",
    "\n",
    "demo_resnet_model_resnet_101 = Sequential()\n",
    "\n",
    "pretrained_model_for_demo= tflow.keras.applications.ResNet101(include_top=False,\n",
    "\n",
    "                   input_shape=(180,180,3),\n",
    "\n",
    "                   pooling='avg',classes=2,\n",
    "\n",
    "                   weights='imagenet')\n",
    "\n",
    "for each_layer in pretrained_model_for_demo.layers:\n",
    "\n",
    "        each_layer.trainable=False\n",
    "\n",
    "demo_resnet_model_resnet_101.add(pretrained_model_for_demo)\n",
    "\n",
    "\n",
    "\n",
    "demo_resnet_model_resnet_101.add(Flatten())\n",
    "\n",
    "demo_resnet_model_resnet_101.add(Dense(512, activation='relu'))\n",
    "demo_resnet_model_resnet_101.add(Dense(128, activation='relu'))\n",
    "demo_resnet_model_resnet_101.add(Dense(2, activation='sigmoid'))\n",
    "\n",
    "\n",
    "import matplotlib.pyplot as plotter_lib\n",
    "\n",
    "plotter_lib.figure(figsize=(10, 10))\n",
    "\n",
    "epochs=10"
   ]
  },
  {
   "cell_type": "code",
   "execution_count": 36,
   "id": "5e5e8d10",
   "metadata": {},
   "outputs": [
    {
     "name": "stderr",
     "output_type": "stream",
     "text": [
      "WARNING:absl:`lr` is deprecated, please use `learning_rate` instead, or use the legacy optimizer, e.g.,tf.keras.optimizers.legacy.Adam.\n"
     ]
    },
    {
     "name": "stdout",
     "output_type": "stream",
     "text": [
      "Epoch 1/10\n",
      "129/129 [==============================] - 412s 3s/step - loss: 0.3145 - accuracy: 0.8813 - val_loss: 0.2975 - val_accuracy: 0.8816\n",
      "Epoch 2/10\n",
      "129/129 [==============================] - 395s 3s/step - loss: 0.2774 - accuracy: 0.8910 - val_loss: 0.2943 - val_accuracy: 0.8825\n",
      "Epoch 3/10\n",
      "129/129 [==============================] - 391s 3s/step - loss: 0.2538 - accuracy: 0.8956 - val_loss: 0.2833 - val_accuracy: 0.8796\n",
      "Epoch 4/10\n",
      "129/129 [==============================] - 394s 3s/step - loss: 0.2481 - accuracy: 0.9010 - val_loss: 0.2664 - val_accuracy: 0.8922\n",
      "Epoch 5/10\n",
      "129/129 [==============================] - 389s 3s/step - loss: 0.2391 - accuracy: 0.9066 - val_loss: 0.2690 - val_accuracy: 0.8883\n",
      "Epoch 6/10\n",
      "129/129 [==============================] - 389s 3s/step - loss: 0.2224 - accuracy: 0.9124 - val_loss: 0.2837 - val_accuracy: 0.8903\n",
      "Epoch 7/10\n",
      "129/129 [==============================] - 389s 3s/step - loss: 0.2152 - accuracy: 0.9170 - val_loss: 0.2635 - val_accuracy: 0.8942\n",
      "Epoch 8/10\n",
      "129/129 [==============================] - 567s 4s/step - loss: 0.2060 - accuracy: 0.9189 - val_loss: 0.2644 - val_accuracy: 0.8971\n",
      "Epoch 9/10\n",
      "129/129 [==============================] - 391s 3s/step - loss: 0.1957 - accuracy: 0.9189 - val_loss: 0.2569 - val_accuracy: 0.8922\n",
      "Epoch 10/10\n",
      "129/129 [==============================] - 413s 3s/step - loss: 0.1818 - accuracy: 0.9279 - val_loss: 0.2574 - val_accuracy: 0.9000\n"
     ]
    }
   ],
   "source": [
    "demo_resnet_model_resnet_101.compile(optimizer=Adam(lr=0.001),loss='binary_crossentropy',metrics=['accuracy'])\n",
    "\n",
    "history = demo_resnet_model_resnet_101.fit(train_ds, validation_data=validation_ds, epochs=epochs)"
   ]
  },
  {
   "cell_type": "code",
   "execution_count": 37,
   "id": "4066f7ae",
   "metadata": {},
   "outputs": [
    {
     "data": {
      "text/plain": [
       "<matplotlib.legend.Legend at 0x20111a2ba30>"
      ]
     },
     "execution_count": 37,
     "metadata": {},
     "output_type": "execute_result"
    },
    {
     "data": {
      "image/png": "[encoded data removed]",
      "text/plain": [
       "<Figure size 800x800 with 1 Axes>"
      ]
     },
     "metadata": {},
     "output_type": "display_data"
    }
   ],
   "source": [
    "plotter_lib.figure(figsize=(8, 8))\n",
    "\n",
    "epochs_range= range(epochs)\n",
    "\n",
    "plotter_lib.plot( epochs_range, history.history['accuracy'], label=\"Training Accuracy\")\n",
    "\n",
    "plotter_lib.plot(epochs_range, history.history['val_accuracy'], label=\"Validation Accuracy\")\n",
    "\n",
    "plotter_lib.axis(ymin=0.4,ymax=1)\n",
    "\n",
    "plotter_lib.grid()\n",
    "\n",
    "plotter_lib.title('Model Accuracy')\n",
    "\n",
    "plotter_lib.ylabel('Accuracy')\n",
    "\n",
    "plotter_lib.xlabel('Epochs')\n",
    "\n",
    "plotter_lib.legend(['train', 'validation'])"
   ]
  },
  {
   "cell_type": "code",
   "execution_count": 38,
   "id": "18ce50e2",
   "metadata": {},
   "outputs": [
    {
     "data": {
      "text/plain": [
       "<Figure size 640x480 with 0 Axes>"
      ]
     },
     "metadata": {},
     "output_type": "display_data"
    }
   ],
   "source": [
    "plotter_lib.show()\n",
    "\n",
    "plotter_lib.savefig('output-plot.png') "
   ]
  },
  {
   "cell_type": "code",
   "execution_count": 39,
   "id": "c9595770",
   "metadata": {},
   "outputs": [
    {
     "name": "stdout",
     "output_type": "stream",
     "text": [
      "33/33 [==============================] - 81s 2s/step\n",
      "Accuracy: 0.8106796116504854\n",
      "Classification Report:\n",
      "               precision    recall  f1-score   support\n",
      "\n",
      "           0       0.87      0.92      0.89       899\n",
      "           1       0.07      0.04      0.05       131\n",
      "\n",
      "    accuracy                           0.81      1030\n",
      "   macro avg       0.47      0.48      0.47      1030\n",
      "weighted avg       0.77      0.81      0.79      1030\n",
      "\n"
     ]
    }
   ],
   "source": [
    "from sklearn.metrics import classification_report, accuracy_score\n",
    "\n",
    "# predict on test data\n",
    "y_pred = demo_resnet_model_resnet_101.predict(validation_ds)\n",
    "\n",
    "# convert predicted probabilities to class labels\n",
    "y_pred = np.argmax(y_pred, axis=1)\n",
    "\n",
    "# get true class labels\n",
    "y_true = np.concatenate([y for x, y in validation_ds], axis=0)\n",
    "y_true = np.argmax(y_true, axis=1)\n",
    "\n",
    "# calculate accuracy\n",
    "acc = accuracy_score(y_true, y_pred)\n",
    "print(\"Accuracy:\", acc)\n",
    "\n",
    "# calculate precision, recall, f1-score\n",
    "report = classification_report(y_true, y_pred)\n",
    "print(\"Classification Report:\\n\", report)"
   ]
  },
  {
   "cell_type": "code",
   "execution_count": null,
   "id": "b480e55a",
   "metadata": {},
   "outputs": [],
   "source": []
  },
  {
   "cell_type": "code",
   "execution_count": null,
   "id": "ff709f37",
   "metadata": {},
   "outputs": [],
   "source": []
  },
  {
   "cell_type": "code",
   "execution_count": null,
   "id": "bcb5c9aa",
   "metadata": {},
   "outputs": [],
   "source": []
  },
  {
   "cell_type": "code",
   "execution_count": null,
   "id": "beb45c6c",
   "metadata": {},
   "outputs": [],
   "source": []
  },
  {
   "cell_type": "code",
   "execution_count": 40,
   "id": "b307453c",
   "metadata": {},
   "outputs": [],
   "source": [
    "### Resnet-101 batch_size=16"
   ]
  },
  {
   "cell_type": "code",
   "execution_count": 41,
   "id": "51bb3f22",
   "metadata": {},
   "outputs": [
    {
     "name": "stdout",
     "output_type": "stream",
     "text": [
      "Found 5150 files belonging to 2 classes.\n",
      "Using 4120 files for training.\n"
     ]
    }
   ],
   "source": [
    "img_height,img_width=180,180\n",
    "\n",
    "batch_size=16\n",
    "\n",
    "train_ds = tflow.keras.preprocessing.image_dataset_from_directory(\n",
    "\n",
    "  data_directory1,\n",
    "\n",
    "  validation_split=0.2,\n",
    "\n",
    "  subset=\"training\",\n",
    "\n",
    "  seed=123,\n",
    "\n",
    "label_mode='categorical',\n",
    "\n",
    "  image_size=(img_height, img_width),\n",
    "\n",
    "  batch_size=batch_size)"
   ]
  },
  {
   "cell_type": "code",
   "execution_count": 42,
   "id": "3e9e1d92",
   "metadata": {},
   "outputs": [
    {
     "name": "stdout",
     "output_type": "stream",
     "text": [
      "Found 5150 files belonging to 2 classes.\n",
      "Using 1030 files for validation.\n"
     ]
    }
   ],
   "source": [
    "validation_ds = tflow.keras.preprocessing.image_dataset_from_directory(\n",
    "\n",
    "  data_directory1,\n",
    "\n",
    "  validation_split=0.2,\n",
    "\n",
    "  subset=\"validation\",\n",
    "\n",
    "  seed=123,\n",
    "\n",
    "label_mode='categorical',\n",
    "\n",
    "  image_size=(img_height, img_width),\n",
    "\n",
    "  batch_size=batch_size)"
   ]
  },
  {
   "cell_type": "code",
   "execution_count": 43,
   "id": "d47548ad",
   "metadata": {},
   "outputs": [
    {
     "data": {
      "text/plain": [
       "<Figure size 1000x1000 with 0 Axes>"
      ]
     },
     "metadata": {},
     "output_type": "display_data"
    }
   ],
   "source": [
    "demo_resnet_model_resnet_101 = Sequential()\n",
    "\n",
    "pretrained_model_for_demo= tflow.keras.applications.ResNet101(include_top=False,\n",
    "\n",
    "                   input_shape=(180,180,3),\n",
    "\n",
    "                   pooling='avg',classes=2,\n",
    "\n",
    "                   weights='imagenet')\n",
    "\n",
    "for each_layer in pretrained_model_for_demo.layers:\n",
    "\n",
    "        each_layer.trainable=False\n",
    "\n",
    "demo_resnet_model_resnet_101.add(pretrained_model_for_demo)\n",
    "\n",
    "\n",
    "\n",
    "demo_resnet_model_resnet_101.add(Flatten())\n",
    "\n",
    "demo_resnet_model_resnet_101.add(Dense(512, activation='relu'))\n",
    "demo_resnet_model_resnet_101.add(Dense(128, activation='relu'))\n",
    "demo_resnet_model_resnet_101.add(Dense(2, activation='sigmoid'))\n",
    "\n",
    "\n",
    "import matplotlib.pyplot as plotter_lib\n",
    "\n",
    "plotter_lib.figure(figsize=(10, 10))\n",
    "\n",
    "epochs=10"
   ]
  },
  {
   "cell_type": "code",
   "execution_count": 44,
   "id": "bfe46067",
   "metadata": {},
   "outputs": [
    {
     "name": "stderr",
     "output_type": "stream",
     "text": [
      "WARNING:absl:`lr` is deprecated, please use `learning_rate` instead, or use the legacy optimizer, e.g.,tf.keras.optimizers.legacy.Adam.\n"
     ]
    },
    {
     "name": "stdout",
     "output_type": "stream",
     "text": [
      "Epoch 1/10\n",
      "258/258 [==============================] - 414s 2s/step - loss: 0.3124 - accuracy: 0.8803 - val_loss: 0.2987 - val_accuracy: 0.8806\n",
      "Epoch 2/10\n",
      "258/258 [==============================] - 423s 2s/step - loss: 0.2803 - accuracy: 0.8903 - val_loss: 0.3285 - val_accuracy: 0.8806\n",
      "Epoch 3/10\n",
      "258/258 [==============================] - 408s 2s/step - loss: 0.2556 - accuracy: 0.9007 - val_loss: 0.2769 - val_accuracy: 0.8864\n",
      "Epoch 4/10\n",
      "258/258 [==============================] - 403s 2s/step - loss: 0.2520 - accuracy: 0.8968 - val_loss: 0.3056 - val_accuracy: 0.8845\n",
      "Epoch 5/10\n",
      "258/258 [==============================] - 404s 2s/step - loss: 0.2341 - accuracy: 0.9083 - val_loss: 0.3616 - val_accuracy: 0.8786\n",
      "Epoch 6/10\n",
      "258/258 [==============================] - 402s 2s/step - loss: 0.2209 - accuracy: 0.9117 - val_loss: 0.3001 - val_accuracy: 0.8825\n",
      "Epoch 7/10\n",
      "258/258 [==============================] - 400s 2s/step - loss: 0.2202 - accuracy: 0.9100 - val_loss: 0.2719 - val_accuracy: 0.8971\n",
      "Epoch 8/10\n",
      "258/258 [==============================] - 400s 2s/step - loss: 0.2045 - accuracy: 0.9163 - val_loss: 0.2582 - val_accuracy: 0.8961\n",
      "Epoch 9/10\n",
      "258/258 [==============================] - 9400s 37s/step - loss: 0.2018 - accuracy: 0.9172 - val_loss: 0.2846 - val_accuracy: 0.8922\n",
      "Epoch 10/10\n",
      "258/258 [==============================] - 403s 2s/step - loss: 0.1961 - accuracy: 0.9235 - val_loss: 0.2557 - val_accuracy: 0.8990\n"
     ]
    }
   ],
   "source": [
    "demo_resnet_model_resnet_101.compile(optimizer=Adam(lr=0.001),loss='binary_crossentropy',metrics=['accuracy'])\n",
    "\n",
    "history = demo_resnet_model_resnet_101.fit(train_ds, validation_data=validation_ds, epochs=epochs)"
   ]
  },
  {
   "cell_type": "code",
   "execution_count": 46,
   "id": "51b01cdc",
   "metadata": {},
   "outputs": [
    {
     "data": {
      "text/plain": [
       "<matplotlib.legend.Legend at 0x201108368b0>"
      ]
     },
     "execution_count": 46,
     "metadata": {},
     "output_type": "execute_result"
    },
    {
     "data": {
      "image/png": "[encoded data removed]",
      "text/plain": [
       "<Figure size 800x800 with 1 Axes>"
      ]
     },
     "metadata": {},
     "output_type": "display_data"
    }
   ],
   "source": [
    "plotter_lib.figure(figsize=(8, 8))\n",
    "\n",
    "epochs_range= range(epochs)\n",
    "\n",
    "plotter_lib.plot( epochs_range, history.history['accuracy'], label=\"Training Accuracy\")\n",
    "\n",
    "plotter_lib.plot(epochs_range, history.history['val_accuracy'], label=\"Validation Accuracy\")\n",
    "\n",
    "plotter_lib.axis(ymin=0.4,ymax=1)\n",
    "\n",
    "plotter_lib.grid()\n",
    "\n",
    "plotter_lib.title('Model Accuracy')\n",
    "\n",
    "plotter_lib.ylabel('Accuracy')\n",
    "\n",
    "plotter_lib.xlabel('Epochs')\n",
    "\n",
    "plotter_lib.legend(['train', 'validation'])"
   ]
  },
  {
   "cell_type": "code",
   "execution_count": 47,
   "id": "e830ed52",
   "metadata": {},
   "outputs": [
    {
     "data": {
      "text/plain": [
       "<Figure size 640x480 with 0 Axes>"
      ]
     },
     "metadata": {},
     "output_type": "display_data"
    }
   ],
   "source": [
    "plotter_lib.show()\n",
    "\n",
    "plotter_lib.savefig('output-plot.png') "
   ]
  },
  {
   "cell_type": "code",
   "execution_count": 48,
   "id": "7560978c",
   "metadata": {},
   "outputs": [
    {
     "name": "stdout",
     "output_type": "stream",
     "text": [
      "65/65 [==============================] - 97s 1s/step\n",
      "Accuracy: 0.8252427184466019\n",
      "Classification Report:\n",
      "               precision    recall  f1-score   support\n",
      "\n",
      "           0       0.87      0.94      0.90       899\n",
      "           1       0.11      0.05      0.07       131\n",
      "\n",
      "    accuracy                           0.83      1030\n",
      "   macro avg       0.49      0.50      0.49      1030\n",
      "weighted avg       0.78      0.83      0.80      1030\n",
      "\n"
     ]
    }
   ],
   "source": [
    "from sklearn.metrics import classification_report, accuracy_score\n",
    "\n",
    "# predict on test data\n",
    "y_pred = demo_resnet_model_resnet_101.predict(validation_ds)\n",
    "\n",
    "# convert predicted probabilities to class labels\n",
    "y_pred = np.argmax(y_pred, axis=1)\n",
    "\n",
    "# get true class labels\n",
    "y_true = np.concatenate([y for x, y in validation_ds], axis=0)\n",
    "y_true = np.argmax(y_true, axis=1)\n",
    "\n",
    "# calculate accuracy\n",
    "acc = accuracy_score(y_true, y_pred)\n",
    "print(\"Accuracy:\", acc)\n",
    "\n",
    "# calculate precision, recall, f1-score\n",
    "report = classification_report(y_true, y_pred)\n",
    "print(\"Classification Report:\\n\", report)"
   ]
  },
  {
   "cell_type": "code",
   "execution_count": null,
   "id": "90a7505e",
   "metadata": {},
   "outputs": [],
   "source": []
  },
  {
   "cell_type": "code",
   "execution_count": null,
   "id": "126bb059",
   "metadata": {},
   "outputs": [],
   "source": []
  },
  {
   "cell_type": "code",
   "execution_count": null,
   "id": "2f389c20",
   "metadata": {},
   "outputs": [],
   "source": []
  },
  {
   "cell_type": "code",
   "execution_count": null,
   "id": "c25d9221",
   "metadata": {},
   "outputs": [],
   "source": []
  },
  {
   "cell_type": "code",
   "execution_count": null,
   "id": "64834424",
   "metadata": {},
   "outputs": [],
   "source": [
    "### Resnet-101 batch_size=8"
   ]
  },
  {
   "cell_type": "code",
   "execution_count": null,
   "id": "98ec0b42",
   "metadata": {},
   "outputs": [],
   "source": [
    "img_height,img_width=180,180\n",
    "\n",
    "batch_size=8\n",
    "\n",
    "train_ds = tflow.keras.preprocessing.image_dataset_from_directory(\n",
    "\n",
    "  data_directory1,\n",
    "\n",
    "  validation_split=0.2,\n",
    "\n",
    "  subset=\"training\",\n",
    "\n",
    "  seed=123,\n",
    "\n",
    "label_mode='categorical',\n",
    "\n",
    "  image_size=(img_height, img_width),\n",
    "\n",
    "  batch_size=batch_size)"
   ]
  },
  {
   "cell_type": "code",
   "execution_count": null,
   "id": "2bb662ba",
   "metadata": {},
   "outputs": [],
   "source": [
    "validation_ds = tflow.keras.preprocessing.image_dataset_from_directory(\n",
    "\n",
    "  data_directory1,\n",
    "\n",
    "  validation_split=0.2,\n",
    "\n",
    "  subset=\"validation\",\n",
    "\n",
    "  seed=123,\n",
    "\n",
    "label_mode='categorical',\n",
    "\n",
    "  image_size=(img_height, img_width),\n",
    "\n",
    "  batch_size=batch_size)"
   ]
  },
  {
   "cell_type": "code",
   "execution_count": null,
   "id": "168496e2",
   "metadata": {},
   "outputs": [],
   "source": [
    "demo_resnet_model_resnet_101 = Sequential()\n",
    "\n",
    "pretrained_model_for_demo= tflow.keras.applications.ResNet101(include_top=False,\n",
    "\n",
    "                   input_shape=(180,180,3),\n",
    "\n",
    "                   pooling='avg',classes=2,\n",
    "\n",
    "                   weights='imagenet')\n",
    "\n",
    "for each_layer in pretrained_model_for_demo.layers:\n",
    "\n",
    "        each_layer.trainable=False\n",
    "\n",
    "demo_resnet_model_resnet_101.add(pretrained_model_for_demo)\n",
    "\n",
    "\n",
    "\n",
    "demo_resnet_model_resnet_101.add(Flatten())\n",
    "\n",
    "demo_resnet_model_resnet_101.add(Dense(512, activation='relu'))\n",
    "demo_resnet_model_resnet_101.add(Dense(128, activation='relu'))\n",
    "demo_resnet_model_resnet_101.add(Dense(2, activation='sigmoid'))\n",
    "\n",
    "\n",
    "import matplotlib.pyplot as plotter_lib\n",
    "\n",
    "plotter_lib.figure(figsize=(10, 10))\n",
    "\n",
    "epochs=10"
   ]
  },
  {
   "cell_type": "code",
   "execution_count": null,
   "id": "88f0b940",
   "metadata": {},
   "outputs": [],
   "source": [
    "demo_resnet_model_resnet_101.compile(optimizer=Adam(lr=0.001),loss='binary_crossentropy',metrics=['accuracy'])\n",
    "\n",
    "history = demo_resnet_model_resnet_101.fit(train_ds, validation_data=validation_ds, epochs=epochs)"
   ]
  },
  {
   "cell_type": "code",
   "execution_count": null,
   "id": "034a40c8",
   "metadata": {},
   "outputs": [],
   "source": [
    "lotter_lib.figure(figsize=(8, 8))\n",
    "\n",
    "epochs_range= range(epochs)\n",
    "\n",
    "plotter_lib.plot( epochs_range, history.history['accuracy'], label=\"Training Accuracy\")\n",
    "\n",
    "plotter_lib.plot(epochs_range, history.history['val_accuracy'], label=\"Validation Accuracy\")\n",
    "\n",
    "plotter_lib.axis(ymin=0.4,ymax=1)\n",
    "\n",
    "plotter_lib.grid()\n",
    "\n",
    "plotter_lib.title('Model Accuracy')\n",
    "\n",
    "plotter_lib.ylabel('Accuracy')\n",
    "\n",
    "plotter_lib.xlabel('Epochs')\n",
    "\n",
    "plotter_lib.legend(['train', 'validation'])"
   ]
  },
  {
   "cell_type": "code",
   "execution_count": null,
   "id": "291e2cea",
   "metadata": {},
   "outputs": [],
   "source": [
    "plotter_lib.show()\n",
    "\n",
    "plotter_lib.savefig('output-plot.png') "
   ]
  },
  {
   "cell_type": "code",
   "execution_count": null,
   "id": "a8b8c08f",
   "metadata": {},
   "outputs": [],
   "source": [
    "from sklearn.metrics import classification_report, accuracy_score\n",
    "\n",
    "# predict on test data\n",
    "y_pred = demo_resnet_model_resnet_101.predict(validation_ds)\n",
    "\n",
    "# convert predicted probabilities to class labels\n",
    "y_pred = np.argmax(y_pred, axis=1)\n",
    "\n",
    "# get true class labels\n",
    "y_true = np.concatenate([y for x, y in validation_ds], axis=0)\n",
    "y_true = np.argmax(y_true, axis=1)\n",
    "\n",
    "# calculate accuracy\n",
    "acc = accuracy_score(y_true, y_pred)\n",
    "print(\"Accuracy:\", acc)\n",
    "\n",
    "# calculate precision, recall, f1-score\n",
    "report = classification_report(y_true, y_pred)\n",
    "print(\"Classification Report:\\n\", report)"
   ]
  },
  {
   "cell_type": "code",
   "execution_count": null,
   "id": "24e604cf",
   "metadata": {},
   "outputs": [],
   "source": []
  },
  {
   "cell_type": "code",
   "execution_count": null,
   "id": "a28f07a6",
   "metadata": {},
   "outputs": [],
   "source": []
  },
  {
   "cell_type": "code",
   "execution_count": null,
   "id": "7ff1cb60",
   "metadata": {},
   "outputs": [],
   "source": []
  },
  {
   "cell_type": "code",
   "execution_count": null,
   "id": "748cf4ff",
   "metadata": {},
   "outputs": [],
   "source": []
  },
  {
   "cell_type": "code",
   "execution_count": null,
   "id": "77f4c5f9",
   "metadata": {},
   "outputs": [],
   "source": []
  },
  {
   "cell_type": "code",
   "execution_count": null,
   "id": "ec780536",
   "metadata": {},
   "outputs": [],
   "source": [
    "### Resnet-101 batch_size=64"
   ]
  },
  {
   "cell_type": "code",
   "execution_count": null,
   "id": "840907b3",
   "metadata": {},
   "outputs": [],
   "source": [
    "img_height,img_width=180,180\n",
    "\n",
    "batch_size=64\n",
    "\n",
    "train_ds = tflow.keras.preprocessing.image_dataset_from_directory(\n",
    "\n",
    "  data_directory1,\n",
    "\n",
    "  validation_split=0.2,\n",
    "\n",
    "  subset=\"training\",\n",
    "\n",
    "  seed=123,\n",
    "\n",
    "label_mode='categorical',\n",
    "\n",
    "  image_size=(img_height, img_width),\n",
    "\n",
    "  batch_size=batch_size)"
   ]
  },
  {
   "cell_type": "code",
   "execution_count": null,
   "id": "46418c0b",
   "metadata": {},
   "outputs": [],
   "source": [
    "validation_ds = tflow.keras.preprocessing.image_dataset_from_directory(\n",
    "\n",
    "  data_directory1,\n",
    "\n",
    "  validation_split=0.2,\n",
    "\n",
    "  subset=\"validation\",\n",
    "\n",
    "  seed=123,\n",
    "\n",
    "label_mode='categorical',\n",
    "\n",
    "  image_size=(img_height, img_width),\n",
    "\n",
    "  batch_size=batch_size)"
   ]
  },
  {
   "cell_type": "code",
   "execution_count": null,
   "id": "fbbb6ae0",
   "metadata": {},
   "outputs": [],
   "source": [
    "demo_resnet_model_resnet_101 = Sequential()\n",
    "\n",
    "pretrained_model_for_demo= tflow.keras.applications.ResNet101(include_top=False,\n",
    "\n",
    "                   input_shape=(180,180,3),\n",
    "\n",
    "                   pooling='avg',classes=2,\n",
    "\n",
    "                   weights='imagenet')\n",
    "\n",
    "for each_layer in pretrained_model_for_demo.layers:\n",
    "\n",
    "        each_layer.trainable=False\n",
    "\n",
    "demo_resnet_model_resnet_101.add(pretrained_model_for_demo)\n",
    "\n",
    "\n",
    "\n",
    "demo_resnet_model_resnet_101.add(Flatten())\n",
    "\n",
    "demo_resnet_model_resnet_101.add(Dense(512, activation='relu'))\n",
    "demo_resnet_model_resnet_101.add(Dense(128, activation='relu'))\n",
    "demo_resnet_model_resnet_101.add(Dense(2, activation='sigmoid'))\n",
    "\n",
    "\n",
    "import matplotlib.pyplot as plotter_lib\n",
    "\n",
    "plotter_lib.figure(figsize=(10, 10))\n",
    "\n",
    "epochs=10"
   ]
  },
  {
   "cell_type": "code",
   "execution_count": null,
   "id": "bfc36a59",
   "metadata": {},
   "outputs": [],
   "source": [
    "demo_resnet_model_resnet_101.compile(optimizer=Adam(lr=0.001),loss='binary_crossentropy',metrics=['accuracy'])\n",
    "\n",
    "history = demo_resnet_model_resnet_101.fit(train_ds, validation_data=validation_ds, epochs=epochs)"
   ]
  },
  {
   "cell_type": "code",
   "execution_count": null,
   "id": "4ebc14da",
   "metadata": {},
   "outputs": [],
   "source": [
    "lotter_lib.figure(figsize=(8, 8))\n",
    "\n",
    "epochs_range= range(epochs)\n",
    "\n",
    "plotter_lib.plot( epochs_range, history.history['accuracy'], label=\"Training Accuracy\")\n",
    "\n",
    "plotter_lib.plot(epochs_range, history.history['val_accuracy'], label=\"Validation Accuracy\")\n",
    "\n",
    "plotter_lib.axis(ymin=0.4,ymax=1)\n",
    "\n",
    "plotter_lib.grid()\n",
    "\n",
    "plotter_lib.title('Model Accuracy')\n",
    "\n",
    "plotter_lib.ylabel('Accuracy')\n",
    "\n",
    "plotter_lib.xlabel('Epochs')\n",
    "\n",
    "plotter_lib.legend(['train', 'validation'])"
   ]
  },
  {
   "cell_type": "code",
   "execution_count": null,
   "id": "c9db237e",
   "metadata": {},
   "outputs": [],
   "source": [
    "plotter_lib.show()\n",
    "\n",
    "plotter_lib.savefig('output-plot.png') "
   ]
  },
  {
   "cell_type": "code",
   "execution_count": null,
   "id": "25ba5ae7",
   "metadata": {},
   "outputs": [],
   "source": [
    "from sklearn.metrics import classification_report, accuracy_score\n",
    "\n",
    "# predict on test data\n",
    "y_pred = demo_resnet_model_resnet_101.predict(validation_ds)\n",
    "\n",
    "# convert predicted probabilities to class labels\n",
    "y_pred = np.argmax(y_pred, axis=1)\n",
    "\n",
    "# get true class labels\n",
    "y_true = np.concatenate([y for x, y in validation_ds], axis=0)\n",
    "y_true = np.argmax(y_true, axis=1)\n",
    "\n",
    "# calculate accuracy\n",
    "acc = accuracy_score(y_true, y_pred)\n",
    "print(\"Accuracy:\", acc)\n",
    "\n",
    "# calculate precision, recall, f1-score\n",
    "report = classification_report(y_true, y_pred)\n",
    "print(\"Classification Report:\\n\", report)"
   ]
  },
  {
   "cell_type": "code",
   "execution_count": null,
   "id": "a6978b46",
   "metadata": {},
   "outputs": [],
   "source": []
  },
  {
   "cell_type": "code",
   "execution_count": null,
   "id": "ba0b000c",
   "metadata": {},
   "outputs": [],
   "source": []
  },
  {
   "cell_type": "code",
   "execution_count": 50,
   "id": "5685438a",
   "metadata": {},
   "outputs": [],
   "source": [
    "### Resnet-50 batch_size=8\n",
    "\n",
    "\n",
    "\n",
    "\n",
    "\n",
    "\n",
    "img_height,img_width=180,180\n",
    "\n",
    "batch_size=8\n",
    "\n",
    "train_ds = tflow.keras.preprocessing.image_dataset_from_directory(\n",
    "\n",
    "  data_directory1,\n",
    "\n",
    "  validation_split=0.2,\n",
    "\n",
    "  subset=\"training\",\n",
    "\n",
    "  seed=123,\n",
    "\n",
    "label_mode='categorical',\n",
    "\n",
    "  image_size=(img_height, img_width),\n",
    "\n",
    "  batch_size=batch_size)\n",
    "\n",
    "\n",
    "\n",
    "\n",
    "validation_ds = tflow.keras.preprocessing.image_dataset_from_directory(\n",
    "\n",
    "  data_directory1,\n",
    "\n",
    "  validation_split=0.2,\n",
    "\n",
    "  subset=\"validation\",\n",
    "\n",
    "  seed=123,\n",
    "\n",
    "label_mode='categorical',\n",
    "\n",
    "  image_size=(img_height, img_width),\n",
    "\n",
    "  batch_size=batch_size)\n",
    "\n",
    "\n",
    "\n",
    "import matplotlib.pyplot as plotter_lib\n",
    "\n",
    "plotter_lib.figure(figsize=(10, 10))\n",
    "\n",
    "epochs=10\n",
    "\n",
    "\n",
    "demo_resnet_model = Sequential()\n",
    "\n",
    "pretrained_model_for_demo= tflow.keras.applications.ResNet50(include_top=False,\n",
    "\n",
    "                   input_shape=(180,180,3),\n",
    "\n",
    "                   pooling='avg',classes=2,\n",
    "\n",
    "                   weights='imagenet')\n",
    "\n",
    "for each_layer in pretrained_model_for_demo.layers:\n",
    "\n",
    "        each_layer.trainable=False\n",
    "\n",
    "demo_resnet_model.add(pretrained_model_for_demo)\n",
    "\n",
    "\n",
    "\n",
    "mo_resnet_model.add(Flatten())\n",
    "\n",
    "demo_resnet_model.add(Dense(512, activation='relu'))\n",
    "demo_resnet_model.add(Dense(128, activation='relu'))\n",
    "\n",
    "demo_resnet_model.add(Dense(2, activation='sigmoid'))\n",
    "\n",
    "\n",
    "\n",
    "demo_resnet_model.compile(optimizer=Adam(lr=0.001),loss='binary_crossentropy',metrics=['accuracy'])\n",
    "\n",
    "history = demo_resnet_model.fit(train_ds, validation_data=validation_ds, epochs=epochs)\n",
    "\n",
    "\n",
    "\n",
    "\n",
    "\n",
    "\n",
    "\n",
    "\n",
    "\n",
    "\n",
    "\n"
   ]
  },
  {
   "cell_type": "code",
   "execution_count": null,
   "id": "35cb5992",
   "metadata": {},
   "outputs": [],
   "source": [
    "plotter_lib.figure(figsize=(5, 5))\n",
    "\n",
    "epochs_range= range(epochs)\n",
    "\n",
    "plotter_lib.plot( epochs_range, history.history['accuracy'], label=\"Training Accuracy\")\n",
    "\n",
    "plotter_lib.plot(epochs_range, history.history['val_accuracy'], label=\"Validation Accuracy\")\n",
    "\n",
    "plotter_lib.axis(ymin=0.4,ymax=1)\n",
    "\n",
    "plotter_lib.grid()\n",
    "\n",
    "plotter_lib.title('Model Accuracy')\n",
    "\n",
    "plotter_lib.ylabel('Accuracy')\n",
    "\n",
    "plotter_lib.xlabel('Epochs')\n",
    "\n",
    "plotter_lib.legend(['train', 'validation'])"
   ]
  },
  {
   "cell_type": "code",
   "execution_count": null,
   "id": "0233163a",
   "metadata": {},
   "outputs": [],
   "source": [
    "\n",
    "plotter_lib.show()\n",
    "\n",
    "plotter_lib.savefig('output-plot.png') "
   ]
  },
  {
   "cell_type": "code",
   "execution_count": null,
   "id": "89c49f89",
   "metadata": {},
   "outputs": [],
   "source": [
    "from sklearn.metrics import classification_report, accuracy_score\n",
    "\n",
    "# predict on test data\n",
    "y_pred = demo_resnet_model.predict(validation_ds)\n",
    "\n",
    "# convert predicted probabilities to class labels\n",
    "y_pred = np.argmax(y_pred, axis=1)\n",
    "\n",
    "# get true class labels\n",
    "y_true = np.concatenate([y for x, y in validation_ds], axis=0)\n",
    "y_true = np.argmax(y_true, axis=1)\n",
    "\n",
    "# calculate accuracy\n",
    "acc = accuracy_score(y_true, y_pred)\n",
    "print(\"Accuracy:\", acc)\n",
    "\n",
    "# calculate precision, recall, f1-score\n",
    "report = classification_report(y_true, y_pred)\n",
    "print(\"Classification Report:\\n\", report)"
   ]
  },
  {
   "cell_type": "code",
   "execution_count": null,
   "id": "f4c260be",
   "metadata": {},
   "outputs": [],
   "source": [
    "### Resnet-50 batch_size=16\n",
    "\n",
    "\n",
    "\n",
    "\n",
    "\n",
    "\n",
    "\n",
    "\n",
    "\n",
    "\n",
    "\n",
    "img_height,img_width=180,180\n",
    "\n",
    "batch_size=16\n",
    "\n",
    "train_ds = tflow.keras.preprocessing.image_dataset_from_directory(\n",
    "\n",
    "  data_directory1,\n",
    "\n",
    "  validation_split=0.2,\n",
    "\n",
    "  subset=\"training\",\n",
    "\n",
    "  seed=123,\n",
    "\n",
    "label_mode='categorical',\n",
    "\n",
    "  image_size=(img_height, img_width),\n",
    "\n",
    "  batch_size=batch_size)\n",
    "\n",
    "\n",
    "\n",
    "\n",
    "validation_ds = tflow.keras.preprocessing.image_dataset_from_directory(\n",
    "\n",
    "  data_directory1,\n",
    "\n",
    "  validation_split=0.2,\n",
    "\n",
    "  subset=\"validation\",\n",
    "\n",
    "  seed=123,\n",
    "\n",
    "label_mode='categorical',\n",
    "\n",
    "  image_size=(img_height, img_width),\n",
    "\n",
    "  batch_size=batch_size)\n",
    "\n",
    "\n",
    "\n",
    "import matplotlib.pyplot as plotter_lib\n",
    "\n",
    "plotter_lib.figure(figsize=(10, 10))\n",
    "\n",
    "epochs=10\n",
    "\n",
    "\n",
    "demo_resnet_model = Sequential()\n",
    "\n",
    "pretrained_model_for_demo= tflow.keras.applications.ResNet50(include_top=False,\n",
    "\n",
    "                   input_shape=(180,180,3),\n",
    "\n",
    "                   pooling='avg',classes=2,\n",
    "\n",
    "                   weights='imagenet')\n",
    "\n",
    "for each_layer in pretrained_model_for_demo.layers:\n",
    "\n",
    "        each_layer.trainable=False\n",
    "\n",
    "demo_resnet_model.add(pretrained_model_for_demo)\n",
    "\n",
    "\n",
    "\n",
    "mo_resnet_model.add(Flatten())\n",
    "\n",
    "demo_resnet_model.add(Dense(512, activation='relu'))\n",
    "demo_resnet_model.add(Dense(128, activation='relu'))\n",
    "\n",
    "demo_resnet_model.add(Dense(2, activation='sigmoid'))\n",
    "\n",
    "\n",
    "\n",
    "demo_resnet_model.compile(optimizer=Adam(lr=0.001),loss='binary_crossentropy',metrics=['accuracy'])\n",
    "\n",
    "history = demo_resnet_model.fit(train_ds, validation_data=validation_ds, epochs=epochs)\n",
    "\n",
    "\n",
    "\n",
    "\n",
    "\n",
    "\n",
    "\n",
    "\n",
    "\n",
    "\n",
    "\n"
   ]
  },
  {
   "cell_type": "code",
   "execution_count": null,
   "id": "93c8b888",
   "metadata": {},
   "outputs": [],
   "source": []
  },
  {
   "cell_type": "code",
   "execution_count": null,
   "id": "5164fffd",
   "metadata": {},
   "outputs": [],
   "source": [
    "### Resnet-50 batch_size=64"
   ]
  },
  {
   "cell_type": "code",
   "execution_count": null,
   "id": "51f60e8a",
   "metadata": {},
   "outputs": [],
   "source": []
  },
  {
   "cell_type": "code",
   "execution_count": null,
   "id": "1d67ee9e",
   "metadata": {},
   "outputs": [],
   "source": []
  },
  {
   "cell_type": "code",
   "execution_count": null,
   "id": "aa91e344",
   "metadata": {},
   "outputs": [],
   "source": []
  },
  {
   "cell_type": "code",
   "execution_count": null,
   "id": "e79d730e",
   "metadata": {},
   "outputs": [],
   "source": []
  },
  {
   "cell_type": "code",
   "execution_count": null,
   "id": "76acf6ad",
   "metadata": {},
   "outputs": [],
   "source": []
  },
  {
   "cell_type": "code",
   "execution_count": null,
   "id": "3f4c4ff4",
   "metadata": {},
   "outputs": [],
   "source": []
  },
  {
   "cell_type": "code",
   "execution_count": null,
   "id": "42fa274d",
   "metadata": {},
   "outputs": [],
   "source": []
  },
  {
   "cell_type": "code",
   "execution_count": null,
   "id": "da5d320d",
   "metadata": {},
   "outputs": [],
   "source": []
  },
  {
   "cell_type": "code",
   "execution_count": null,
   "id": "30907f0f",
   "metadata": {},
   "outputs": [],
   "source": []
  },
  {
   "cell_type": "code",
   "execution_count": null,
   "id": "aea6e1af",
   "metadata": {},
   "outputs": [],
   "source": []
  },
  {
   "cell_type": "code",
   "execution_count": null,
   "id": "6e7e6202",
   "metadata": {},
   "outputs": [],
   "source": []
  },
  {
   "cell_type": "code",
   "execution_count": null,
   "id": "d9d7ddb7",
   "metadata": {},
   "outputs": [],
   "source": []
  },
  {
   "cell_type": "code",
   "execution_count": null,
   "id": "803f37c8",
   "metadata": {},
   "outputs": [],
   "source": []
  },
  {
   "cell_type": "code",
   "execution_count": null,
   "id": "31280f90",
   "metadata": {},
   "outputs": [],
   "source": []
  },
  {
   "cell_type": "code",
   "execution_count": null,
   "id": "ad2a7f13",
   "metadata": {},
   "outputs": [],
   "source": []
  },
  {
   "cell_type": "code",
   "execution_count": null,
   "id": "e4e1039d",
   "metadata": {},
   "outputs": [],
   "source": []
  },
  {
   "cell_type": "code",
   "execution_count": null,
   "id": "dd59c887",
   "metadata": {},
   "outputs": [],
   "source": []
  },
  {
   "cell_type": "code",
   "execution_count": null,
   "id": "151faed7",
   "metadata": {},
   "outputs": [],
   "source": []
  },
  {
   "cell_type": "code",
   "execution_count": null,
   "id": "eb0de3b7",
   "metadata": {},
   "outputs": [],
   "source": []
  },
  {
   "cell_type": "code",
   "execution_count": null,
   "id": "ed1e90b6",
   "metadata": {},
   "outputs": [],
   "source": []
  },
  {
   "cell_type": "code",
   "execution_count": null,
   "id": "f6a97b23",
   "metadata": {},
   "outputs": [],
   "source": []
  },
  {
   "cell_type": "code",
   "execution_count": null,
   "id": "47387c85",
   "metadata": {},
   "outputs": [],
   "source": []
  },
  {
   "cell_type": "code",
   "execution_count": null,
   "id": "c17a7217",
   "metadata": {},
   "outputs": [],
   "source": []
  },
  {
   "cell_type": "code",
   "execution_count": null,
   "id": "3bd7bb9e",
   "metadata": {},
   "outputs": [],
   "source": []
  },
  {
   "cell_type": "code",
   "execution_count": null,
   "id": "b98bd352",
   "metadata": {},
   "outputs": [],
   "source": []
  },
  {
   "cell_type": "code",
   "execution_count": null,
   "id": "1e03d36d",
   "metadata": {},
   "outputs": [],
   "source": []
  },
  {
   "cell_type": "code",
   "execution_count": null,
   "id": "cd77cabd",
   "metadata": {},
   "outputs": [],
   "source": []
  },
  {
   "cell_type": "code",
   "execution_count": null,
   "id": "78b8a026",
   "metadata": {},
   "outputs": [],
   "source": []
  },
  {
   "cell_type": "code",
   "execution_count": null,
   "id": "0e8e3af5",
   "metadata": {},
   "outputs": [],
   "source": []
  },
  {
   "cell_type": "code",
   "execution_count": null,
   "id": "d255693d",
   "metadata": {},
   "outputs": [],
   "source": []
  },
  {
   "cell_type": "code",
   "execution_count": null,
   "id": "e5eb7dbb",
   "metadata": {},
   "outputs": [],
   "source": []
  },
  {
   "cell_type": "code",
   "execution_count": null,
   "id": "cc375f0c",
   "metadata": {},
   "outputs": [],
   "source": []
  },
  {
   "cell_type": "code",
   "execution_count": null,
   "id": "92bc9a8f",
   "metadata": {},
   "outputs": [],
   "source": []
  },
  {
   "cell_type": "code",
   "execution_count": null,
   "id": "45ccbcc0",
   "metadata": {},
   "outputs": [],
   "source": []
  },
  {
   "cell_type": "code",
   "execution_count": null,
   "id": "427421e4",
   "metadata": {},
   "outputs": [],
   "source": []
  },
  {
   "cell_type": "code",
   "execution_count": null,
   "id": "a49de91a",
   "metadata": {},
   "outputs": [],
   "source": []
  },
  {
   "cell_type": "code",
   "execution_count": null,
   "id": "0779737e",
   "metadata": {},
   "outputs": [],
   "source": []
  },
  {
   "cell_type": "code",
   "execution_count": null,
   "id": "769c9c5c",
   "metadata": {},
   "outputs": [],
   "source": []
  },
  {
   "cell_type": "code",
   "execution_count": null,
   "id": "85e2eea4",
   "metadata": {},
   "outputs": [],
   "source": []
  },
  {
   "cell_type": "code",
   "execution_count": null,
   "id": "1a25b04a",
   "metadata": {},
   "outputs": [],
   "source": []
  },
  {
   "cell_type": "code",
   "execution_count": null,
   "id": "aaef5c2f",
   "metadata": {},
   "outputs": [],
   "source": []
  },
  {
   "cell_type": "code",
   "execution_count": null,
   "id": "679791ab",
   "metadata": {},
   "outputs": [],
   "source": []
  },
  {
   "cell_type": "code",
   "execution_count": null,
   "id": "6aef5428",
   "metadata": {},
   "outputs": [],
   "source": []
  },
  {
   "cell_type": "code",
   "execution_count": null,
   "id": "2cc36e14",
   "metadata": {},
   "outputs": [],
   "source": []
  },
  {
   "cell_type": "code",
   "execution_count": null,
   "id": "9386f956",
   "metadata": {},
   "outputs": [],
   "source": []
  },
  {
   "cell_type": "code",
   "execution_count": null,
   "id": "4fd4a0f8",
   "metadata": {},
   "outputs": [],
   "source": []
  },
  {
   "cell_type": "code",
   "execution_count": null,
   "id": "c6f07cb3",
   "metadata": {},
   "outputs": [],
   "source": []
  },
  {
   "cell_type": "code",
   "execution_count": null,
   "id": "7bc5fb3d",
   "metadata": {},
   "outputs": [],
   "source": []
  },
  {
   "cell_type": "code",
   "execution_count": null,
   "id": "7dea9e6d",
   "metadata": {},
   "outputs": [],
   "source": []
  },
  {
   "cell_type": "code",
   "execution_count": null,
   "id": "07ea1870",
   "metadata": {},
   "outputs": [],
   "source": []
  },
  {
   "cell_type": "code",
   "execution_count": null,
   "id": "62fac73a",
   "metadata": {},
   "outputs": [],
   "source": []
  },
  {
   "cell_type": "code",
   "execution_count": null,
   "id": "c7e90834",
   "metadata": {},
   "outputs": [],
   "source": []
  },
  {
   "cell_type": "code",
   "execution_count": null,
   "id": "b22ed15e",
   "metadata": {},
   "outputs": [],
   "source": []
  },
  {
   "cell_type": "code",
   "execution_count": null,
   "id": "730f2887",
   "metadata": {},
   "outputs": [],
   "source": []
  },
  {
   "cell_type": "code",
   "execution_count": null,
   "id": "31fe6373",
   "metadata": {},
   "outputs": [],
   "source": []
  },
  {
   "cell_type": "code",
   "execution_count": null,
   "id": "d6e56d91",
   "metadata": {},
   "outputs": [],
   "source": []
  },
  {
   "cell_type": "code",
   "execution_count": null,
   "id": "7aa456eb",
   "metadata": {},
   "outputs": [],
   "source": []
  },
  {
   "cell_type": "code",
   "execution_count": null,
   "id": "d36f2179",
   "metadata": {},
   "outputs": [],
   "source": []
  },
  {
   "cell_type": "code",
   "execution_count": null,
   "id": "e713b665",
   "metadata": {},
   "outputs": [],
   "source": []
  },
  {
   "cell_type": "code",
   "execution_count": null,
   "id": "c83b067a",
   "metadata": {},
   "outputs": [],
   "source": []
  },
  {
   "cell_type": "code",
   "execution_count": null,
   "id": "f40b5e5c",
   "metadata": {},
   "outputs": [],
   "source": []
  },
  {
   "cell_type": "code",
   "execution_count": null,
   "id": "52fa7aef",
   "metadata": {},
   "outputs": [],
   "source": []
  },
  {
   "cell_type": "code",
   "execution_count": null,
   "id": "41debd9e",
   "metadata": {},
   "outputs": [],
   "source": []
  },
  {
   "cell_type": "code",
   "execution_count": null,
   "id": "b6880d61",
   "metadata": {},
   "outputs": [],
   "source": []
  },
  {
   "cell_type": "code",
   "execution_count": null,
   "id": "d61b8309",
   "metadata": {},
   "outputs": [],
   "source": []
  },
  {
   "cell_type": "code",
   "execution_count": null,
   "id": "e5f34e24",
   "metadata": {},
   "outputs": [],
   "source": []
  },
  {
   "cell_type": "code",
   "execution_count": null,
   "id": "39e5f575",
   "metadata": {},
   "outputs": [],
   "source": []
  },
  {
   "cell_type": "code",
   "execution_count": null,
   "id": "14c3dd8d",
   "metadata": {},
   "outputs": [],
   "source": []
  },
  {
   "cell_type": "code",
   "execution_count": null,
   "id": "0e011069",
   "metadata": {},
   "outputs": [],
   "source": []
  },
  {
   "cell_type": "code",
   "execution_count": null,
   "id": "9af8907f",
   "metadata": {},
   "outputs": [],
   "source": []
  },
  {
   "cell_type": "code",
   "execution_count": null,
   "id": "dc6e3978",
   "metadata": {},
   "outputs": [],
   "source": []
  },
  {
   "cell_type": "code",
   "execution_count": null,
   "id": "a5a35003",
   "metadata": {},
   "outputs": [],
   "source": []
  },
  {
   "cell_type": "code",
   "execution_count": null,
   "id": "c678ebc6",
   "metadata": {},
   "outputs": [],
   "source": []
  }
 ],
 "metadata": {
  "kernelspec": {
   "display_name": "Python 3 (ipykernel)",
   "language": "python",
   "name": "python3"
  },
  "language_info": {
   "codemirror_mode": {
    "name": "ipython",
    "version": 3
   },
   "file_extension": ".py",
   "mimetype": "text/x-python",
   "name": "python",
   "nbconvert_exporter": "python",
   "pygments_lexer": "ipython3",
   "version": "3.9.0"
  }
 },
 "nbformat": 4,
 "nbformat_minor": 5
}

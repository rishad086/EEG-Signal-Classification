{
 "cells": [
  {
   "cell_type": "code",
   "execution_count": 2,
   "id": "db264813",
   "metadata": {},
   "outputs": [],
   "source": [
    "import pandas as pd\n",
    "import numpy as np\n",
    "from glob import glob\n",
    "import scipy.io\n",
    "\n",
    "\n",
    "\n",
    "import os\n",
    "import re\n",
    "import numpy as np\n",
    "\n",
    "from sklearn.utils import class_weight\n",
    "\n",
    "from sklearn.metrics import classification_report,f1_score,accuracy_score,roc_curve,auc,roc_auc_score\n",
    "import matplotlib.pyplot as plt\n",
    "import pandas as pd\n",
    "import numpy as np\n",
    "from glob import glob\n",
    "from PIL import Image\n",
    "\n",
    "\n",
    "import random\n",
    "from sklearn.model_selection import train_test_split\n",
    "from tensorflow.keras import datasets, layers, models\n",
    "import tensorflow as tf"
   ]
  },
  {
   "cell_type": "code",
   "execution_count": 3,
   "id": "b3d33ffa",
   "metadata": {},
   "outputs": [
    {
     "ename": "FileNotFoundError",
     "evalue": "[Errno 2] No such file or directory: 'D:/EEG project/amr.csv'",
     "output_type": "error",
     "traceback": [
      "\u001b[1;31m---------------------------------------------------------------------------\u001b[0m",
      "\u001b[1;31mFileNotFoundError\u001b[0m                         Traceback (most recent call last)",
      "Cell \u001b[1;32mIn[3], line 1\u001b[0m\n\u001b[1;32m----> 1\u001b[0m df\u001b[38;5;241m=\u001b[39m \u001b[43mpd\u001b[49m\u001b[38;5;241;43m.\u001b[39;49m\u001b[43mread_csv\u001b[49m\u001b[43m(\u001b[49m\u001b[38;5;124;43m'\u001b[39;49m\u001b[38;5;124;43mD:/EEG project/amr.csv\u001b[39;49m\u001b[38;5;124;43m'\u001b[39;49m\u001b[43m)\u001b[49m\n\u001b[0;32m      2\u001b[0m df\u001b[38;5;241m.\u001b[39mhead(\u001b[38;5;241m50\u001b[39m)\n",
      "File \u001b[1;32mc:\\users\\user\\appdata\\local\\programs\\python\\python39\\lib\\site-packages\\pandas\\util\\_decorators.py:211\u001b[0m, in \u001b[0;36mdeprecate_kwarg.<locals>._deprecate_kwarg.<locals>.wrapper\u001b[1;34m(*args, **kwargs)\u001b[0m\n\u001b[0;32m    209\u001b[0m     \u001b[38;5;28;01melse\u001b[39;00m:\n\u001b[0;32m    210\u001b[0m         kwargs[new_arg_name] \u001b[38;5;241m=\u001b[39m new_arg_value\n\u001b[1;32m--> 211\u001b[0m \u001b[38;5;28;01mreturn\u001b[39;00m func(\u001b[38;5;241m*\u001b[39margs, \u001b[38;5;241m*\u001b[39m\u001b[38;5;241m*\u001b[39mkwargs)\n",
      "File \u001b[1;32mc:\\users\\user\\appdata\\local\\programs\\python\\python39\\lib\\site-packages\\pandas\\util\\_decorators.py:331\u001b[0m, in \u001b[0;36mdeprecate_nonkeyword_arguments.<locals>.decorate.<locals>.wrapper\u001b[1;34m(*args, **kwargs)\u001b[0m\n\u001b[0;32m    325\u001b[0m \u001b[38;5;28;01mif\u001b[39;00m \u001b[38;5;28mlen\u001b[39m(args) \u001b[38;5;241m>\u001b[39m num_allow_args:\n\u001b[0;32m    326\u001b[0m     warnings\u001b[38;5;241m.\u001b[39mwarn(\n\u001b[0;32m    327\u001b[0m         msg\u001b[38;5;241m.\u001b[39mformat(arguments\u001b[38;5;241m=\u001b[39m_format_argument_list(allow_args)),\n\u001b[0;32m    328\u001b[0m         \u001b[38;5;167;01mFutureWarning\u001b[39;00m,\n\u001b[0;32m    329\u001b[0m         stacklevel\u001b[38;5;241m=\u001b[39mfind_stack_level(),\n\u001b[0;32m    330\u001b[0m     )\n\u001b[1;32m--> 331\u001b[0m \u001b[38;5;28;01mreturn\u001b[39;00m func(\u001b[38;5;241m*\u001b[39margs, \u001b[38;5;241m*\u001b[39m\u001b[38;5;241m*\u001b[39mkwargs)\n",
      "File \u001b[1;32mc:\\users\\user\\appdata\\local\\programs\\python\\python39\\lib\\site-packages\\pandas\\io\\parsers\\readers.py:950\u001b[0m, in \u001b[0;36mread_csv\u001b[1;34m(filepath_or_buffer, sep, delimiter, header, names, index_col, usecols, squeeze, prefix, mangle_dupe_cols, dtype, engine, converters, true_values, false_values, skipinitialspace, skiprows, skipfooter, nrows, na_values, keep_default_na, na_filter, verbose, skip_blank_lines, parse_dates, infer_datetime_format, keep_date_col, date_parser, dayfirst, cache_dates, iterator, chunksize, compression, thousands, decimal, lineterminator, quotechar, quoting, doublequote, escapechar, comment, encoding, encoding_errors, dialect, error_bad_lines, warn_bad_lines, on_bad_lines, delim_whitespace, low_memory, memory_map, float_precision, storage_options)\u001b[0m\n\u001b[0;32m    935\u001b[0m kwds_defaults \u001b[38;5;241m=\u001b[39m _refine_defaults_read(\n\u001b[0;32m    936\u001b[0m     dialect,\n\u001b[0;32m    937\u001b[0m     delimiter,\n\u001b[1;32m   (...)\u001b[0m\n\u001b[0;32m    946\u001b[0m     defaults\u001b[38;5;241m=\u001b[39m{\u001b[38;5;124m\"\u001b[39m\u001b[38;5;124mdelimiter\u001b[39m\u001b[38;5;124m\"\u001b[39m: \u001b[38;5;124m\"\u001b[39m\u001b[38;5;124m,\u001b[39m\u001b[38;5;124m\"\u001b[39m},\n\u001b[0;32m    947\u001b[0m )\n\u001b[0;32m    948\u001b[0m kwds\u001b[38;5;241m.\u001b[39mupdate(kwds_defaults)\n\u001b[1;32m--> 950\u001b[0m \u001b[38;5;28;01mreturn\u001b[39;00m \u001b[43m_read\u001b[49m\u001b[43m(\u001b[49m\u001b[43mfilepath_or_buffer\u001b[49m\u001b[43m,\u001b[49m\u001b[43m \u001b[49m\u001b[43mkwds\u001b[49m\u001b[43m)\u001b[49m\n",
      "File \u001b[1;32mc:\\users\\user\\appdata\\local\\programs\\python\\python39\\lib\\site-packages\\pandas\\io\\parsers\\readers.py:605\u001b[0m, in \u001b[0;36m_read\u001b[1;34m(filepath_or_buffer, kwds)\u001b[0m\n\u001b[0;32m    602\u001b[0m _validate_names(kwds\u001b[38;5;241m.\u001b[39mget(\u001b[38;5;124m\"\u001b[39m\u001b[38;5;124mnames\u001b[39m\u001b[38;5;124m\"\u001b[39m, \u001b[38;5;28;01mNone\u001b[39;00m))\n\u001b[0;32m    604\u001b[0m \u001b[38;5;66;03m# Create the parser.\u001b[39;00m\n\u001b[1;32m--> 605\u001b[0m parser \u001b[38;5;241m=\u001b[39m TextFileReader(filepath_or_buffer, \u001b[38;5;241m*\u001b[39m\u001b[38;5;241m*\u001b[39mkwds)\n\u001b[0;32m    607\u001b[0m \u001b[38;5;28;01mif\u001b[39;00m chunksize \u001b[38;5;129;01mor\u001b[39;00m iterator:\n\u001b[0;32m    608\u001b[0m     \u001b[38;5;28;01mreturn\u001b[39;00m parser\n",
      "File \u001b[1;32mc:\\users\\user\\appdata\\local\\programs\\python\\python39\\lib\\site-packages\\pandas\\io\\parsers\\readers.py:1442\u001b[0m, in \u001b[0;36mTextFileReader.__init__\u001b[1;34m(self, f, engine, **kwds)\u001b[0m\n\u001b[0;32m   1439\u001b[0m     \u001b[38;5;28mself\u001b[39m\u001b[38;5;241m.\u001b[39moptions[\u001b[38;5;124m\"\u001b[39m\u001b[38;5;124mhas_index_names\u001b[39m\u001b[38;5;124m\"\u001b[39m] \u001b[38;5;241m=\u001b[39m kwds[\u001b[38;5;124m\"\u001b[39m\u001b[38;5;124mhas_index_names\u001b[39m\u001b[38;5;124m\"\u001b[39m]\n\u001b[0;32m   1441\u001b[0m \u001b[38;5;28mself\u001b[39m\u001b[38;5;241m.\u001b[39mhandles: IOHandles \u001b[38;5;241m|\u001b[39m \u001b[38;5;28;01mNone\u001b[39;00m \u001b[38;5;241m=\u001b[39m \u001b[38;5;28;01mNone\u001b[39;00m\n\u001b[1;32m-> 1442\u001b[0m \u001b[38;5;28mself\u001b[39m\u001b[38;5;241m.\u001b[39m_engine \u001b[38;5;241m=\u001b[39m \u001b[38;5;28;43mself\u001b[39;49m\u001b[38;5;241;43m.\u001b[39;49m\u001b[43m_make_engine\u001b[49m\u001b[43m(\u001b[49m\u001b[43mf\u001b[49m\u001b[43m,\u001b[49m\u001b[43m \u001b[49m\u001b[38;5;28;43mself\u001b[39;49m\u001b[38;5;241;43m.\u001b[39;49m\u001b[43mengine\u001b[49m\u001b[43m)\u001b[49m\n",
      "File \u001b[1;32mc:\\users\\user\\appdata\\local\\programs\\python\\python39\\lib\\site-packages\\pandas\\io\\parsers\\readers.py:1735\u001b[0m, in \u001b[0;36mTextFileReader._make_engine\u001b[1;34m(self, f, engine)\u001b[0m\n\u001b[0;32m   1733\u001b[0m     \u001b[38;5;28;01mif\u001b[39;00m \u001b[38;5;124m\"\u001b[39m\u001b[38;5;124mb\u001b[39m\u001b[38;5;124m\"\u001b[39m \u001b[38;5;129;01mnot\u001b[39;00m \u001b[38;5;129;01min\u001b[39;00m mode:\n\u001b[0;32m   1734\u001b[0m         mode \u001b[38;5;241m+\u001b[39m\u001b[38;5;241m=\u001b[39m \u001b[38;5;124m\"\u001b[39m\u001b[38;5;124mb\u001b[39m\u001b[38;5;124m\"\u001b[39m\n\u001b[1;32m-> 1735\u001b[0m \u001b[38;5;28mself\u001b[39m\u001b[38;5;241m.\u001b[39mhandles \u001b[38;5;241m=\u001b[39m \u001b[43mget_handle\u001b[49m\u001b[43m(\u001b[49m\n\u001b[0;32m   1736\u001b[0m \u001b[43m    \u001b[49m\u001b[43mf\u001b[49m\u001b[43m,\u001b[49m\n\u001b[0;32m   1737\u001b[0m \u001b[43m    \u001b[49m\u001b[43mmode\u001b[49m\u001b[43m,\u001b[49m\n\u001b[0;32m   1738\u001b[0m \u001b[43m    \u001b[49m\u001b[43mencoding\u001b[49m\u001b[38;5;241;43m=\u001b[39;49m\u001b[38;5;28;43mself\u001b[39;49m\u001b[38;5;241;43m.\u001b[39;49m\u001b[43moptions\u001b[49m\u001b[38;5;241;43m.\u001b[39;49m\u001b[43mget\u001b[49m\u001b[43m(\u001b[49m\u001b[38;5;124;43m\"\u001b[39;49m\u001b[38;5;124;43mencoding\u001b[39;49m\u001b[38;5;124;43m\"\u001b[39;49m\u001b[43m,\u001b[49m\u001b[43m \u001b[49m\u001b[38;5;28;43;01mNone\u001b[39;49;00m\u001b[43m)\u001b[49m\u001b[43m,\u001b[49m\n\u001b[0;32m   1739\u001b[0m \u001b[43m    \u001b[49m\u001b[43mcompression\u001b[49m\u001b[38;5;241;43m=\u001b[39;49m\u001b[38;5;28;43mself\u001b[39;49m\u001b[38;5;241;43m.\u001b[39;49m\u001b[43moptions\u001b[49m\u001b[38;5;241;43m.\u001b[39;49m\u001b[43mget\u001b[49m\u001b[43m(\u001b[49m\u001b[38;5;124;43m\"\u001b[39;49m\u001b[38;5;124;43mcompression\u001b[39;49m\u001b[38;5;124;43m\"\u001b[39;49m\u001b[43m,\u001b[49m\u001b[43m \u001b[49m\u001b[38;5;28;43;01mNone\u001b[39;49;00m\u001b[43m)\u001b[49m\u001b[43m,\u001b[49m\n\u001b[0;32m   1740\u001b[0m \u001b[43m    \u001b[49m\u001b[43mmemory_map\u001b[49m\u001b[38;5;241;43m=\u001b[39;49m\u001b[38;5;28;43mself\u001b[39;49m\u001b[38;5;241;43m.\u001b[39;49m\u001b[43moptions\u001b[49m\u001b[38;5;241;43m.\u001b[39;49m\u001b[43mget\u001b[49m\u001b[43m(\u001b[49m\u001b[38;5;124;43m\"\u001b[39;49m\u001b[38;5;124;43mmemory_map\u001b[39;49m\u001b[38;5;124;43m\"\u001b[39;49m\u001b[43m,\u001b[49m\u001b[43m \u001b[49m\u001b[38;5;28;43;01mFalse\u001b[39;49;00m\u001b[43m)\u001b[49m\u001b[43m,\u001b[49m\n\u001b[0;32m   1741\u001b[0m \u001b[43m    \u001b[49m\u001b[43mis_text\u001b[49m\u001b[38;5;241;43m=\u001b[39;49m\u001b[43mis_text\u001b[49m\u001b[43m,\u001b[49m\n\u001b[0;32m   1742\u001b[0m \u001b[43m    \u001b[49m\u001b[43merrors\u001b[49m\u001b[38;5;241;43m=\u001b[39;49m\u001b[38;5;28;43mself\u001b[39;49m\u001b[38;5;241;43m.\u001b[39;49m\u001b[43moptions\u001b[49m\u001b[38;5;241;43m.\u001b[39;49m\u001b[43mget\u001b[49m\u001b[43m(\u001b[49m\u001b[38;5;124;43m\"\u001b[39;49m\u001b[38;5;124;43mencoding_errors\u001b[39;49m\u001b[38;5;124;43m\"\u001b[39;49m\u001b[43m,\u001b[49m\u001b[43m \u001b[49m\u001b[38;5;124;43m\"\u001b[39;49m\u001b[38;5;124;43mstrict\u001b[39;49m\u001b[38;5;124;43m\"\u001b[39;49m\u001b[43m)\u001b[49m\u001b[43m,\u001b[49m\n\u001b[0;32m   1743\u001b[0m \u001b[43m    \u001b[49m\u001b[43mstorage_options\u001b[49m\u001b[38;5;241;43m=\u001b[39;49m\u001b[38;5;28;43mself\u001b[39;49m\u001b[38;5;241;43m.\u001b[39;49m\u001b[43moptions\u001b[49m\u001b[38;5;241;43m.\u001b[39;49m\u001b[43mget\u001b[49m\u001b[43m(\u001b[49m\u001b[38;5;124;43m\"\u001b[39;49m\u001b[38;5;124;43mstorage_options\u001b[39;49m\u001b[38;5;124;43m\"\u001b[39;49m\u001b[43m,\u001b[49m\u001b[43m \u001b[49m\u001b[38;5;28;43;01mNone\u001b[39;49;00m\u001b[43m)\u001b[49m\u001b[43m,\u001b[49m\n\u001b[0;32m   1744\u001b[0m \u001b[43m\u001b[49m\u001b[43m)\u001b[49m\n\u001b[0;32m   1745\u001b[0m \u001b[38;5;28;01massert\u001b[39;00m \u001b[38;5;28mself\u001b[39m\u001b[38;5;241m.\u001b[39mhandles \u001b[38;5;129;01mis\u001b[39;00m \u001b[38;5;129;01mnot\u001b[39;00m \u001b[38;5;28;01mNone\u001b[39;00m\n\u001b[0;32m   1746\u001b[0m f \u001b[38;5;241m=\u001b[39m \u001b[38;5;28mself\u001b[39m\u001b[38;5;241m.\u001b[39mhandles\u001b[38;5;241m.\u001b[39mhandle\n",
      "File \u001b[1;32mc:\\users\\user\\appdata\\local\\programs\\python\\python39\\lib\\site-packages\\pandas\\io\\common.py:856\u001b[0m, in \u001b[0;36mget_handle\u001b[1;34m(path_or_buf, mode, encoding, compression, memory_map, is_text, errors, storage_options)\u001b[0m\n\u001b[0;32m    851\u001b[0m \u001b[38;5;28;01melif\u001b[39;00m \u001b[38;5;28misinstance\u001b[39m(handle, \u001b[38;5;28mstr\u001b[39m):\n\u001b[0;32m    852\u001b[0m     \u001b[38;5;66;03m# Check whether the filename is to be opened in binary mode.\u001b[39;00m\n\u001b[0;32m    853\u001b[0m     \u001b[38;5;66;03m# Binary mode does not support 'encoding' and 'newline'.\u001b[39;00m\n\u001b[0;32m    854\u001b[0m     \u001b[38;5;28;01mif\u001b[39;00m ioargs\u001b[38;5;241m.\u001b[39mencoding \u001b[38;5;129;01mand\u001b[39;00m \u001b[38;5;124m\"\u001b[39m\u001b[38;5;124mb\u001b[39m\u001b[38;5;124m\"\u001b[39m \u001b[38;5;129;01mnot\u001b[39;00m \u001b[38;5;129;01min\u001b[39;00m ioargs\u001b[38;5;241m.\u001b[39mmode:\n\u001b[0;32m    855\u001b[0m         \u001b[38;5;66;03m# Encoding\u001b[39;00m\n\u001b[1;32m--> 856\u001b[0m         handle \u001b[38;5;241m=\u001b[39m \u001b[38;5;28;43mopen\u001b[39;49m\u001b[43m(\u001b[49m\n\u001b[0;32m    857\u001b[0m \u001b[43m            \u001b[49m\u001b[43mhandle\u001b[49m\u001b[43m,\u001b[49m\n\u001b[0;32m    858\u001b[0m \u001b[43m            \u001b[49m\u001b[43mioargs\u001b[49m\u001b[38;5;241;43m.\u001b[39;49m\u001b[43mmode\u001b[49m\u001b[43m,\u001b[49m\n\u001b[0;32m    859\u001b[0m \u001b[43m            \u001b[49m\u001b[43mencoding\u001b[49m\u001b[38;5;241;43m=\u001b[39;49m\u001b[43mioargs\u001b[49m\u001b[38;5;241;43m.\u001b[39;49m\u001b[43mencoding\u001b[49m\u001b[43m,\u001b[49m\n\u001b[0;32m    860\u001b[0m \u001b[43m            \u001b[49m\u001b[43merrors\u001b[49m\u001b[38;5;241;43m=\u001b[39;49m\u001b[43merrors\u001b[49m\u001b[43m,\u001b[49m\n\u001b[0;32m    861\u001b[0m \u001b[43m            \u001b[49m\u001b[43mnewline\u001b[49m\u001b[38;5;241;43m=\u001b[39;49m\u001b[38;5;124;43m\"\u001b[39;49m\u001b[38;5;124;43m\"\u001b[39;49m\u001b[43m,\u001b[49m\n\u001b[0;32m    862\u001b[0m \u001b[43m        \u001b[49m\u001b[43m)\u001b[49m\n\u001b[0;32m    863\u001b[0m     \u001b[38;5;28;01melse\u001b[39;00m:\n\u001b[0;32m    864\u001b[0m         \u001b[38;5;66;03m# Binary mode\u001b[39;00m\n\u001b[0;32m    865\u001b[0m         handle \u001b[38;5;241m=\u001b[39m \u001b[38;5;28mopen\u001b[39m(handle, ioargs\u001b[38;5;241m.\u001b[39mmode)\n",
      "\u001b[1;31mFileNotFoundError\u001b[0m: [Errno 2] No such file or directory: 'D:/EEG project/amr.csv'"
     ]
    }
   ],
   "source": [
    "df= pd.read_csv('D:/EEG project/amr.csv')\n",
    "df.head(50)"
   ]
  },
  {
   "cell_type": "code",
   "execution_count": null,
   "id": "6052aebb",
   "metadata": {},
   "outputs": [],
   "source": [
    "X = df['path']\n",
    "Y = df['label']\n"
   ]
  },
  {
   "cell_type": "code",
   "execution_count": null,
   "id": "81e7c7df",
   "metadata": {},
   "outputs": [],
   "source": [
    "for i in range (510):\n",
    "    X[i] = np.load(X[i])"
   ]
  },
  {
   "cell_type": "code",
   "execution_count": null,
   "id": "acf0d276",
   "metadata": {},
   "outputs": [],
   "source": [
    "X[0].shape"
   ]
  },
  {
   "cell_type": "code",
   "execution_count": null,
   "id": "858ca1c4",
   "metadata": {},
   "outputs": [],
   "source": [
    "X[0][0]"
   ]
  },
  {
   "cell_type": "code",
   "execution_count": null,
   "id": "3ec8fdef",
   "metadata": {},
   "outputs": [],
   "source": [
    "X[0][0].shape"
   ]
  },
  {
   "cell_type": "code",
   "execution_count": null,
   "id": "3de7962b",
   "metadata": {},
   "outputs": [],
   "source": [
    "plt.imshow(X[0][0])"
   ]
  },
  {
   "cell_type": "code",
   "execution_count": null,
   "id": "3b9098a9",
   "metadata": {},
   "outputs": [],
   "source": [
    "plt.plot(X[0][0])"
   ]
  },
  {
   "cell_type": "code",
   "execution_count": null,
   "id": "cf520e48",
   "metadata": {},
   "outputs": [],
   "source": [
    "plt.imsave('t.png',X[0][0])"
   ]
  },
  {
   "cell_type": "code",
   "execution_count": null,
   "id": "d0f5fb75",
   "metadata": {},
   "outputs": [],
   "source": [
    "img = plt.imread('t.png')"
   ]
  },
  {
   "cell_type": "code",
   "execution_count": null,
   "id": "f0454294",
   "metadata": {},
   "outputs": [],
   "source": [
    "img"
   ]
  },
  {
   "cell_type": "code",
   "execution_count": null,
   "id": "7eeecf24",
   "metadata": {},
   "outputs": [],
   "source": [
    "img.shape"
   ]
  },
  {
   "cell_type": "code",
   "execution_count": null,
   "id": "2b846d46",
   "metadata": {},
   "outputs": [],
   "source": [
    "plt.imsave('t1.jpg',X[0][0])\n"
   ]
  },
  {
   "cell_type": "code",
   "execution_count": null,
   "id": "fab88d4d",
   "metadata": {},
   "outputs": [],
   "source": [
    "ijpg = plt.imread('t1.jpg')\n",
    "ijpg.shape"
   ]
  },
  {
   "cell_type": "code",
   "execution_count": null,
   "id": "969323c0",
   "metadata": {},
   "outputs": [],
   "source": [
    "0.46899614/0.27450982"
   ]
  },
  {
   "cell_type": "code",
   "execution_count": null,
   "id": "06951a40",
   "metadata": {},
   "outputs": [],
   "source": [
    " 0.6572903/0.3607843"
   ]
  },
  {
   "cell_type": "code",
   "execution_count": null,
   "id": "07d5c7ca",
   "metadata": {},
   "outputs": [],
   "source": [
    "a=[]\n",
    "b=[]"
   ]
  },
  {
   "cell_type": "code",
   "execution_count": null,
   "id": "294d10f2",
   "metadata": {},
   "outputs": [],
   "source": [
    "i=0\n",
    "while i<510:\n",
    "    if Y[i]==1:\n",
    "        a.append(i)\n",
    "    i = i + 1\n",
    "i=0\n",
    "while i<510:\n",
    "    if Y[i]==0:\n",
    "        b.append(i)\n",
    "    i = i + 1"
   ]
  },
  {
   "cell_type": "code",
   "execution_count": 3,
   "id": "87f4c975",
   "metadata": {},
   "outputs": [
    {
     "ename": "NameError",
     "evalue": "name 'imshow' is not defined",
     "output_type": "error",
     "traceback": [
      "\u001b[1;31m---------------------------------------------------------------------------\u001b[0m",
      "\u001b[1;31mNameError\u001b[0m                                 Traceback (most recent call last)",
      "Cell \u001b[1;32mIn[3], line 1\u001b[0m\n\u001b[1;32m----> 1\u001b[0m \u001b[43mimshow\u001b[49m(X[\u001b[38;5;241m0\u001b[39m][\u001b[38;5;241m12\u001b[39m])\n",
      "\u001b[1;31mNameError\u001b[0m: name 'imshow' is not defined"
     ]
    }
   ],
   "source": [
    "imshow(X[0][12])"
   ]
  },
  {
   "cell_type": "code",
   "execution_count": null,
   "id": "bd4a66ca",
   "metadata": {},
   "outputs": [],
   "source": [
    "imshow(X[0][13])"
   ]
  },
  {
   "cell_type": "code",
   "execution_count": null,
   "id": "97dceb4f",
   "metadata": {},
   "outputs": [],
   "source": [
    "import os\n",
    "from PIL import Image"
   ]
  },
  {
   "cell_type": "code",
   "execution_count": null,
   "id": "d5cd0cb2",
   "metadata": {},
   "outputs": [],
   "source": [
    "base_dir = 'D:\\EEG project\\Zero'\n",
    "# os.mkdir(base_dir)"
   ]
  },
  {
   "cell_type": "code",
   "execution_count": null,
   "id": "0c4e87b3",
   "metadata": {},
   "outputs": [],
   "source": [
    "base1_dir = 'D:\\EEG project\\One'\n",
    "# os.mkdir(base1_dir)"
   ]
  },
  {
   "cell_type": "code",
   "execution_count": null,
   "id": "78e3ac6c",
   "metadata": {},
   "outputs": [],
   "source": [
    "baseOne_dir = 'D:\\EEG project\\OneJPG'\n",
    "# os.mkdir(baseOne_dir)\n",
    "baseZero_dir = 'D:\\EEG project\\ZeroJPG'\n",
    "# os.mkdir(baseZero_dir)"
   ]
  },
  {
   "cell_type": "code",
   "execution_count": null,
   "id": "acec05ee",
   "metadata": {},
   "outputs": [],
   "source": [
    "for x in range(14):\n",
    "    path=os.path.join(base_dir,f'AF_{5}{x}.png')\n",
    "    plt.imsave(path,X[0][x])"
   ]
  },
  {
   "cell_type": "code",
   "execution_count": null,
   "id": "62db2f9c",
   "metadata": {},
   "outputs": [],
   "source": [
    "df_scale"
   ]
  },
  {
   "cell_type": "code",
   "execution_count": null,
   "id": "352ef74d",
   "metadata": {},
   "outputs": [],
   "source": [
    "import opencv\n"
   ]
  },
  {
   "cell_type": "code",
   "execution_count": null,
   "id": "b1bda5f2",
   "metadata": {},
   "outputs": [],
   "source": []
  },
  {
   "cell_type": "code",
   "execution_count": null,
   "id": "8162b6ab",
   "metadata": {},
   "outputs": [],
   "source": [
    "X[0].shape\n"
   ]
  },
  {
   "cell_type": "code",
   "execution_count": null,
   "id": "c04311d1",
   "metadata": {},
   "outputs": [],
   "source": [
    "imshow(X[0][2])  "
   ]
  },
  {
   "cell_type": "code",
   "execution_count": null,
   "id": "d7614029",
   "metadata": {},
   "outputs": [],
   "source": [
    "len(a)"
   ]
  },
  {
   "cell_type": "code",
   "execution_count": null,
   "id": "d4b9255f",
   "metadata": {},
   "outputs": [],
   "source": [
    "b=[]"
   ]
  },
  {
   "cell_type": "code",
   "execution_count": null,
   "id": "8a20d867",
   "metadata": {},
   "outputs": [],
   "source": [
    "i=0\n",
    "while i<510:\n",
    "    if Y[i]==0:\n",
    "        b.append(i)\n",
    "    i = i + 1"
   ]
  },
  {
   "cell_type": "code",
   "execution_count": null,
   "id": "703f1c8a",
   "metadata": {},
   "outputs": [],
   "source": [
    "b"
   ]
  },
  {
   "cell_type": "code",
   "execution_count": null,
   "id": "ab2c7143",
   "metadata": {},
   "outputs": [],
   "source": [
    "len(b)"
   ]
  },
  {
   "cell_type": "code",
   "execution_count": null,
   "id": "5624c07c",
   "metadata": {},
   "outputs": [],
   "source": [
    "b[0]"
   ]
  },
  {
   "cell_type": "code",
   "execution_count": null,
   "id": "faf877e4",
   "metadata": {},
   "outputs": [],
   "source": [
    "j = 0\n",
    "while j < 103:\n",
    "    k = 0 \n",
    "    while k < 14:\n",
    "        path=os.path.join(baseZero_dir,f'channel_{j}_{k}.jpg')\n",
    "        plt.imsave(path,X[b[j]][k])\n",
    "        k=k+1\n",
    "    j=j+1\n",
    "        \n",
    "        "
   ]
  },
  {
   "cell_type": "code",
   "execution_count": null,
   "id": "a8301d05",
   "metadata": {},
   "outputs": [],
   "source": [
    "j = 0\n",
    "while j < 407:\n",
    "    k = 0 \n",
    "    while k < 14:\n",
    "        path=os.path.join(baseOne_dir,f'chOne_{j}_{k}.jpg')\n",
    "        plt.imsave(path,X[a[j]][k])\n",
    "        k=k+1\n",
    "    j=j+1"
   ]
  },
  {
   "cell_type": "code",
   "execution_count": null,
   "id": "ea1b96a1",
   "metadata": {},
   "outputs": [],
   "source": [
    "j"
   ]
  },
  {
   "cell_type": "code",
   "execution_count": null,
   "id": "32fd2f23",
   "metadata": {},
   "outputs": [],
   "source": [
    "dataset_dir = 'D:\\EEG project\\RunModel'"
   ]
  },
  {
   "cell_type": "code",
   "execution_count": null,
   "id": "8b8e374f",
   "metadata": {},
   "outputs": [],
   "source": [
    "os.mkdir(dataset_dir)"
   ]
  },
  {
   "cell_type": "code",
   "execution_count": null,
   "id": "7ba0834b",
   "metadata": {},
   "outputs": [],
   "source": [
    "train_dir = os.path.join(dataset_dir,'train')"
   ]
  },
  {
   "cell_type": "code",
   "execution_count": null,
   "id": "7c041a50",
   "metadata": {},
   "outputs": [],
   "source": [
    "os.mkdir(train_dir)"
   ]
  },
  {
   "cell_type": "code",
   "execution_count": null,
   "id": "38f6f256",
   "metadata": {},
   "outputs": [],
   "source": [
    "test_dir = os.path.join(dataset_dir,'test')"
   ]
  },
  {
   "cell_type": "code",
   "execution_count": null,
   "id": "53bffba2",
   "metadata": {},
   "outputs": [],
   "source": [
    "os.mkdir(test_dir)"
   ]
  },
  {
   "cell_type": "code",
   "execution_count": null,
   "id": "d41c29b6",
   "metadata": {},
   "outputs": [],
   "source": [
    "val_dir = os.path.join(dataset_dir,'validation')"
   ]
  },
  {
   "cell_type": "code",
   "execution_count": null,
   "id": "b3ccaa80",
   "metadata": {},
   "outputs": [],
   "source": [
    "os.mkdir(val_dir)"
   ]
  },
  {
   "cell_type": "code",
   "execution_count": null,
   "id": "79a83979",
   "metadata": {},
   "outputs": [],
   "source": [
    "train_one = os.path.join(train_dir,'one')"
   ]
  },
  {
   "cell_type": "code",
   "execution_count": null,
   "id": "d7201906",
   "metadata": {},
   "outputs": [],
   "source": [
    "os.mkdir(train_one)"
   ]
  },
  {
   "cell_type": "code",
   "execution_count": null,
   "id": "0a45b23e",
   "metadata": {},
   "outputs": [],
   "source": [
    "train_zero = os.path.join(train_dir,'zero')"
   ]
  },
  {
   "cell_type": "code",
   "execution_count": null,
   "id": "3848dca3",
   "metadata": {},
   "outputs": [],
   "source": [
    "os.mkdir(train_zero)"
   ]
  },
  {
   "cell_type": "code",
   "execution_count": null,
   "id": "31dc3f54",
   "metadata": {},
   "outputs": [],
   "source": [
    "test_one = os.path.join(test_dir,'one')\n",
    "# os.mkdir(test_one)\n",
    "test_zero = os.path.join(test_dir,'zero')\n",
    "# os.mkdir(test_zero)\n",
    "val_one = os.path.join(val_dir,'one')\n",
    "# os.mkdir(val_one)\n",
    "val_zero = os.path.join(val_dir,'zero')\n",
    "# os.mkdir(val_zero)"
   ]
  },
  {
   "cell_type": "code",
   "execution_count": null,
   "id": "d780a323",
   "metadata": {},
   "outputs": [],
   "source": [
    "orginal_src = 'D:\\EEG project\\dataset'"
   ]
  },
  {
   "cell_type": "code",
   "execution_count": null,
   "id": "4d08094d",
   "metadata": {},
   "outputs": [],
   "source": [
    "orginal_srcJPG = 'D:\\EEG project\\datasetJPG'"
   ]
  },
  {
   "cell_type": "code",
   "execution_count": null,
   "id": "0b641be4",
   "metadata": {},
   "outputs": [],
   "source": [
    "os.mkdir(orginal_srcJPG)"
   ]
  },
  {
   "cell_type": "code",
   "execution_count": null,
   "id": "8b826991",
   "metadata": {},
   "outputs": [],
   "source": [
    "from PIL import Image"
   ]
  },
  {
   "cell_type": "code",
   "execution_count": null,
   "id": "0a98f49f",
   "metadata": {},
   "outputs": [],
   "source": [
    "img = Image.open('D:\\EEG project\\zero0.png')\n",
    "img = img.resize((150,150))\n",
    "img.save('D:\\EEG project\\zero0.png')"
   ]
  },
  {
   "cell_type": "code",
   "execution_count": null,
   "id": "727d91e0",
   "metadata": {},
   "outputs": [],
   "source": [
    "fname = ['zero{}.jpg'.format(i) for i in range(1442)]\n",
    "for f in fname:\n",
    "    imgPath = os.path.join(orginal_srcJPG,f)\n",
    "    imgT = Image.open(imgPath)\n",
    "    imgT = imgT.resize((150,150))\n",
    "    imgT.save(imgPath)\n",
    "    \n",
    "    "
   ]
  },
  {
   "cell_type": "code",
   "execution_count": null,
   "id": "d26c0c6f",
   "metadata": {},
   "outputs": [],
   "source": [
    "fname = ['one{}.jpg'.format(i) for i in range(5698)]\n",
    "for f in fname:\n",
    "    imgPathOne = os.path.join(orginal_srcJPG,f)\n",
    "    imgTOne = Image.open(imgPathOne)\n",
    "    imgTOne = imgTOne.resize((150,150))\n",
    "    imgTOne.save(imgPathOne)"
   ]
  },
  {
   "cell_type": "code",
   "execution_count": null,
   "id": "df617cc5",
   "metadata": {},
   "outputs": [],
   "source": []
  },
  {
   "cell_type": "code",
   "execution_count": null,
   "id": "9669a1b8",
   "metadata": {},
   "outputs": [],
   "source": [
    "import shutil"
   ]
  },
  {
   "cell_type": "code",
   "execution_count": null,
   "id": "da557e0a",
   "metadata": {},
   "outputs": [],
   "source": [
    "path = os.chdir('D:\\EEG project\\ZeroJPG')\n",
    "i=0\n",
    "for file in os.listdir(path):\n",
    "    new_file_name = \"zero{}.jpg\".format(i)\n",
    "    os.rename(file,new_file_name)\n",
    "    i = i + 1"
   ]
  },
  {
   "cell_type": "code",
   "execution_count": null,
   "id": "1dc28a2a",
   "metadata": {},
   "outputs": [],
   "source": [
    "path1 = os.chdir('D:\\EEG project\\OneJPG')\n",
    "i=0\n",
    "for file in os.listdir(path1):\n",
    "    new_file_name1 = \"one{}.jpg\".format(i)\n",
    "    os.rename(file,new_file_name1)\n",
    "    i = i + 1"
   ]
  },
  {
   "cell_type": "code",
   "execution_count": null,
   "id": "e8941aac",
   "metadata": {},
   "outputs": [],
   "source": [
    "fname = ['zero{}.jpg'.format(i) for i in range(900)]\n",
    "for f in fname:\n",
    "    src = os.path.join(orginal_srcJPG,f)\n",
    "    dst = os.path.join(train_zero,f)\n",
    "    shutil.copyfile(src,dst)"
   ]
  },
  {
   "cell_type": "code",
   "execution_count": null,
   "id": "b8cbcdc0",
   "metadata": {},
   "outputs": [],
   "source": [
    "fname = ['zero{}.jpg'.format(i) for i in range(900,1143)]\n",
    "for f in fname:\n",
    "    src = os.path.join(orginal_srcJPG,f)\n",
    "    dst = os.path.join(test_zero,f)\n",
    "    shutil.copyfile(src,dst)"
   ]
  },
  {
   "cell_type": "code",
   "execution_count": null,
   "id": "e70c2133",
   "metadata": {},
   "outputs": [],
   "source": [
    "fname = ['zero{}.jpg'.format(i) for i in range(1143,1442)]\n",
    "for f in fname:\n",
    "    src = os.path.join(orginal_srcJPG,f)\n",
    "    dst = os.path.join(val_zero,f)\n",
    "    shutil.copyfile(src,dst)"
   ]
  },
  {
   "cell_type": "code",
   "execution_count": null,
   "id": "0f76364e",
   "metadata": {},
   "outputs": [],
   "source": [
    "fname = ['one{}.jpg'.format(i) for i in range(1442,1642)]\n",
    "for f in fname:\n",
    "    src = os.path.join(orginal_srcJPG,f)\n",
    "    dst = os.path.join(train_one,f)\n",
    "    shutil.copyfile(src,dst)"
   ]
  },
  {
   "cell_type": "code",
   "execution_count": null,
   "id": "34431b7d",
   "metadata": {},
   "outputs": [],
   "source": [
    "fname = ['one{}.jpg'.format(i) for i in range(900)]\n",
    "for f in fname:\n",
    "    src = os.path.join(orginal_srcJPG,f)\n",
    "    dst = os.path.join(train_one,f)\n",
    "    shutil.copyfile(src,dst)"
   ]
  },
  {
   "cell_type": "code",
   "execution_count": null,
   "id": "8ff31037",
   "metadata": {},
   "outputs": [],
   "source": [
    "fname = ['one{}.jpg'.format(i) for i in range(900,1143)]\n",
    "for f in fname:\n",
    "    src = os.path.join(orginal_srcJPG,f)\n",
    "    dst = os.path.join(test_one,f)\n",
    "    shutil.copyfile(src,dst)"
   ]
  },
  {
   "cell_type": "code",
   "execution_count": null,
   "id": "c0552ba6",
   "metadata": {},
   "outputs": [],
   "source": [
    "fname = ['one{}.jpg'.format(i) for i in range(1143,1442)]\n",
    "for f in fname:\n",
    "    src = os.path.join(orginal_srcJPG,f)\n",
    "    dst = os.path.join(val_one,f)\n",
    "    shutil.copyfile(src,dst)"
   ]
  },
  {
   "cell_type": "code",
   "execution_count": null,
   "id": "f6711f74",
   "metadata": {},
   "outputs": [],
   "source": [
    "from keras import layers\n",
    "from keras import models\n",
    "\n",
    "#Created sequential models using Keras\n",
    "model = models.Sequential()\n",
    "model.add(layers.Conv2D(32, (3, 3), activation='relu', input_shape=(150, 150, 3)))\n",
    "model.add(layers.MaxPooling2D((2, 2)))\n",
    "model.add(layers.Conv2D(64, (3, 3), activation='relu'))\n",
    "model.add(layers.MaxPooling2D((2, 2)))\n",
    "model.add(layers.Conv2D(128, (3, 3), activation='relu'))\n",
    "model.add(layers.MaxPooling2D((2, 2)))\n",
    "model.add(layers.Conv2D(128, (3, 3), activation='relu'))\n",
    "model.add(layers.MaxPooling2D((2, 2)))\n",
    "model.add(layers.Flatten())\n",
    "model.add(layers.Dense(512, activation='relu'))\n",
    "model.add(layers.Dense(1, activation='sigmoid'))\n",
    "model.summary()"
   ]
  },
  {
   "cell_type": "code",
   "execution_count": null,
   "id": "08a0b4e9",
   "metadata": {},
   "outputs": [],
   "source": [
    "from tensorflow.keras import optimizers\n",
    "model.compile(loss='binary_crossentropy', \n",
    "              optimizer=optimizers.RMSprop(lr=1e-4),\n",
    "              metrics=['acc'])"
   ]
  },
  {
   "cell_type": "code",
   "execution_count": null,
   "id": "38811415",
   "metadata": {},
   "outputs": [],
   "source": [
    "from keras.preprocessing.image import ImageDataGenerator\n",
    "\n",
    "train_datagen = ImageDataGenerator(rescale=1./255)\n",
    "test_datagen = ImageDataGenerator(rescale=1./255)\n",
    "\n",
    "train_generator = train_datagen.flow_from_directory(train_dir,\n",
    "                                                    target_size=(150, 150), \n",
    "                                                    batch_size=20,\n",
    "                                                    class_mode='binary')\n",
    "\n",
    "validation_generator = test_datagen.flow_from_directory(val_dir,\n",
    "                                                        target_size=(150, 150),\n",
    "                                                        batch_size=20,\n",
    "                                                        class_mode='binary')"
   ]
  },
  {
   "cell_type": "code",
   "execution_count": null,
   "id": "c8fad8b9",
   "metadata": {},
   "outputs": [],
   "source": [
    "history = model.fit_generator(train_generator,\n",
    "                              steps_per_epoch=100,\n",
    "                              epochs=20,\n",
    "                              validation_data=validation_generator,\n",
    "                              validation_steps=10)\n",
    "     \n"
   ]
  },
  {
   "cell_type": "code",
   "execution_count": null,
   "id": "1e101539",
   "metadata": {},
   "outputs": [],
   "source": [
    "model.evaluate_generator(test_generator)"
   ]
  },
  {
   "cell_type": "code",
   "execution_count": null,
   "id": "f6ca6579",
   "metadata": {},
   "outputs": [],
   "source": [
    "test_generator = test_datagen.flow_from_directory(train_dir,\n",
    "                                                        target_size=(150, 150),\n",
    "                                                        batch_size=20,\n",
    "                                                        class_mode='binary')"
   ]
  },
  {
   "cell_type": "code",
   "execution_count": null,
   "id": "19d31144",
   "metadata": {},
   "outputs": [],
   "source": [
    "x=plt.imread('D:/EEG project/RunModel/test/zero/zero900.jpg')\n",
    "x.shape\n"
   ]
  },
  {
   "cell_type": "code",
   "execution_count": null,
   "id": "319a8764",
   "metadata": {},
   "outputs": [],
   "source": [
    "score=model.predict(x)"
   ]
  },
  {
   "cell_type": "code",
   "execution_count": null,
   "id": "d9ec99b8",
   "metadata": {},
   "outputs": [],
   "source": [
    "scores=model.evaluate_generator(test_generator)\n",
    "print(\"%s%s: %.2f%%\" % (\"evaluate \",model.metrics_names[1], scores[1]*100))"
   ]
  },
  {
   "cell_type": "code",
   "execution_count": null,
   "id": "c19a7dad",
   "metadata": {},
   "outputs": [],
   "source": [
    "import matplotlib.pyplot as plt"
   ]
  },
  {
   "cell_type": "code",
   "execution_count": null,
   "id": "074d9041",
   "metadata": {},
   "outputs": [],
   "source": [
    "import keras\n"
   ]
  },
  {
   "cell_type": "code",
   "execution_count": null,
   "id": "324525e3",
   "metadata": {},
   "outputs": [],
   "source": [
    "import matplotlib.pyplot as plt\n",
    "image_file = \"D:/EEG project/zero0.png\"\n",
    "image = plt.imread(image_file)"
   ]
  },
  {
   "cell_type": "code",
   "execution_count": null,
   "id": "fb36f22f",
   "metadata": {},
   "outputs": [],
   "source": [
    "image"
   ]
  },
  {
   "cell_type": "code",
   "execution_count": null,
   "id": "ed8c5c65",
   "metadata": {},
   "outputs": [],
   "source": [
    "import keras"
   ]
  },
  {
   "cell_type": "code",
   "execution_count": null,
   "id": "6fcb892c",
   "metadata": {},
   "outputs": [],
   "source": [
    "img = keras.preprocessing.image.load_img(\n",
    "    \"D:/EEG project/RunModel/validation/zero/zero1376.jpg\", target_size=(150,150)\n",
    ")\n",
    "img_array = keras.preprocessing.image.img_to_array(img)\n",
    "img_array = tf.expand_dims(img_array, 0)  # Create batch axis\n",
    "\n",
    "predictions = model.predict(img_array)\n",
    "# score = float(predictions[0])\n",
    "# print(f\"This image is {100 * (1 - score):.2f}% cat and {100 * score:.2f}% dog.\")\n",
    "predictions"
   ]
  },
  {
   "cell_type": "code",
   "execution_count": null,
   "id": "e9b5b8a0",
   "metadata": {},
   "outputs": [],
   "source": [
    "from keras.preprocessing.image import ImageDataGenerator\n",
    "from keras.applications.imagenet_utils import preprocess_input\n",
    "import math\n",
    "batch_size = 20\n",
    "img_size = (150,150)\n",
    "\n",
    "root_dir = \"D:/EEG project/RISHAD/\"\n",
    "\n",
    "model1 = models.Sequential()\n",
    "\n",
    "\n",
    "img_gen = ImageDataGenerator(preprocessing_function=preprocess_input)\n",
    "\n",
    "\n",
    "datagen = img_gen.flow_from_directory(root_dir,\n",
    "                                        target_size=(img_size, img_size),\n",
    "                                        batch_size=batch_size,\n",
    "                                        class_mode=None,\n",
    "                                        shuffle=False)\n",
    "num_images = len(datagen.filenames)\n",
    "num_epochs = int(math.ceil(num_images / batch_size))\n",
    "\n",
    "feature_list = model1.predict_generator(np.random.rand(datagen, num_epochs,verbose = True))\n",
    "\n",
    "\n",
    "feature_list"
   ]
  },
  {
   "cell_type": "code",
   "execution_count": null,
   "id": "47991794",
   "metadata": {},
   "outputs": [],
   "source": [
    "from __future__ import division, print_function\n",
    "# coding=utf-8\n",
    "import sys\n",
    "import os\n",
    "import glob\n",
    "import re\n",
    "import numpy as np\n",
    "\n",
    "# Keras\n",
    "from keras.applications.imagenet_utils import preprocess_input, decode_predictions\n",
    "from keras.models import load_model\n",
    "from keras.preprocessing import image\n",
    "\n",
    "# Flask utils\n",
    "from flask import Flask, redirect, url_for, request, render_template\n",
    "from werkzeug.utils import secure_filename\n",
    "from gevent.pywsgi import WSGIServer\n",
    "\n"
   ]
  },
  {
   "cell_type": "code",
   "execution_count": null,
   "id": "e0bfbcca",
   "metadata": {},
   "outputs": [],
   "source": [
    "import gevent"
   ]
  },
  {
   "cell_type": "code",
   "execution_count": null,
   "id": "35f4a070",
   "metadata": {},
   "outputs": [],
   "source": [
    "model.save('D:\\EEG project\\RunModel')"
   ]
  },
  {
   "cell_type": "code",
   "execution_count": null,
   "id": "57de3743",
   "metadata": {},
   "outputs": [],
   "source": [
    "MODEL_PATH = 'D:\\EEG project\\RunModel'\n",
    "\n",
    "# Load your trained model\n",
    "model = load_model(MODEL_PATH)"
   ]
  },
  {
   "cell_type": "code",
   "execution_count": null,
   "id": "b18ef10d",
   "metadata": {},
   "outputs": [],
   "source": [
    "def model_predict(img_path, model):\n",
    "    img = keras.preprocessing.image.load_img(img_path, target_size=(150,150))\n",
    "    x = keras.preprocessing.image.img_to_array(img)\n",
    "    x = tf.expand_dims(img_array, 0) \n",
    "    x = preprocess_input(x, mode='caffe')\n",
    "    preds = model.predict(x)\n",
    "    return preds\n"
   ]
  },
  {
   "cell_type": "code",
   "execution_count": 9,
   "id": "766ff1b2",
   "metadata": {},
   "outputs": [],
   "source": [
    "import PIL"
   ]
  },
  {
   "cell_type": "code",
   "execution_count": 10,
   "id": "daf32998",
   "metadata": {},
   "outputs": [],
   "source": [
    "from tensorflow import keras"
   ]
  },
  {
   "cell_type": "code",
   "execution_count": 11,
   "id": "d1c8084c",
   "metadata": {},
   "outputs": [],
   "source": [
    "from tensorflow.keras import layers"
   ]
  },
  {
   "cell_type": "code",
   "execution_count": 67,
   "id": "bb05b88a",
   "metadata": {},
   "outputs": [],
   "source": [
    "from tensorflow.python.keras.layers import Dense, Flatten, Input,ZeroPadding2D,Conv2D,Activation,MaxPooling2D"
   ]
  },
  {
   "cell_type": "code",
   "execution_count": 68,
   "id": "99998d1a",
   "metadata": {},
   "outputs": [],
   "source": [
    "from tensorflow.keras.models import Sequential"
   ]
  },
  {
   "cell_type": "code",
   "execution_count": 70,
   "id": "1fa054f1",
   "metadata": {},
   "outputs": [],
   "source": [
    "from tensorflow.keras.layers import BatchNormalization\n",
    "from keras.initializers import glorot_uniform\n",
    "from keras.layers import Layer"
   ]
  },
  {
   "cell_type": "code",
   "execution_count": 74,
   "id": "4dcef4b2",
   "metadata": {},
   "outputs": [],
   "source": [
    "try:\n",
    "    from keras import initializations\n",
    "except ImportError:\n",
    "    from keras import initializers as initializations\n"
   ]
  },
  {
   "cell_type": "code",
   "execution_count": 11,
   "id": "0e888a87",
   "metadata": {},
   "outputs": [],
   "source": [
    "import numpy as np\n",
    "import h5py\n",
    "import sys\n",
    "\n",
    "import cloudpickle\n",
    "from keras import layers, callbacks\n",
    "from keras.optimizers import SGD\n",
    "from keras.layers import Input, Add, Dense, Activation, ZeroPadding2D, BatchNormalization, Flatten, Conv2D, AveragePooling2D, MaxPooling2D, GlobalMaxPooling2D\n",
    "from keras.models import Model, load_model\n",
    "from keras.preprocessing import image\n",
    "from keras.utils import layer_utils\n",
    "from keras.utils.data_utils import get_file\n",
    "from keras.applications.imagenet_utils import preprocess_input\n",
    "from IPython.display import SVG\n",
    "from keras.utils.vis_utils import model_to_dot\n",
    "from keras.initializers import glorot_uniform\n",
    "from keras.layers import Layer\n",
    "from tensorflow.keras.layers import InputSpec\n",
    "from keras.initializers import glorot_uniform\n",
    "from keras import backend as K\n",
    "try:\n",
    "    from keras import initializations\n",
    "except ImportError:\n",
    "    from keras import initializers as initializations\n",
    "\n",
    "import scipy.misc\n",
    "\n",
    "#Clear Memory\n",
    "import gc"
   ]
  },
  {
   "cell_type": "code",
   "execution_count": 9,
   "id": "7a07cbf1",
   "metadata": {},
   "outputs": [],
   "source": [
    "from tensorflow.keras.optimizers import Adam"
   ]
  },
  {
   "cell_type": "code",
   "execution_count": 10,
   "id": "c4142b50",
   "metadata": {},
   "outputs": [],
   "source": [
    "import pathlib"
   ]
  },
  {
   "cell_type": "code",
   "execution_count": 11,
   "id": "2406cba4",
   "metadata": {},
   "outputs": [],
   "source": [
    "dataset_dir = r\"D:\\EEG\""
   ]
  },
  {
   "cell_type": "code",
   "execution_count": 12,
   "id": "79830cea",
   "metadata": {},
   "outputs": [],
   "source": [
    "img_height = 180\n",
    "img_width = 180"
   ]
  },
  {
   "cell_type": "code",
   "execution_count": 13,
   "id": "dd663633",
   "metadata": {},
   "outputs": [
    {
     "name": "stdout",
     "output_type": "stream",
     "text": [
      "Found 7140 files belonging to 2 classes.\n",
      "Using 5712 files for training.\n"
     ]
    }
   ],
   "source": [
    "train_ds = tf.keras.preprocessing.image_dataset_from_directory(\n",
    "    dataset_dir,\n",
    "    validation_split=0.2,\n",
    "    subset = 'training',\n",
    "    seed = 2022,\n",
    "    label_mode ='categorical',\n",
    "    image_size = (img_height, img_width),\n",
    "    batch_size = 32\n",
    ")"
   ]
  },
  {
   "cell_type": "code",
   "execution_count": 14,
   "id": "cb31f25d",
   "metadata": {},
   "outputs": [
    {
     "name": "stdout",
     "output_type": "stream",
     "text": [
      "Found 7140 files belonging to 2 classes.\n",
      "Using 1428 files for validation.\n"
     ]
    }
   ],
   "source": [
    "val_ds = tf.keras.preprocessing.image_dataset_from_directory(\n",
    "    dataset_dir,\n",
    "    validation_split=0.2,\n",
    "    subset = 'validation',\n",
    "    seed = 2022,\n",
    "    label_mode ='categorical',\n",
    "    image_size = (img_height, img_width),\n",
    "    batch_size = 32\n",
    ")"
   ]
  },
  {
   "cell_type": "code",
   "execution_count": 20,
   "id": "422bafbe",
   "metadata": {},
   "outputs": [
    {
     "name": "stdout",
     "output_type": "stream",
     "text": [
      "['One', 'Zero']\n"
     ]
    }
   ],
   "source": [
    "class_names = train_ds.class_names\n",
    "print(class_names)"
   ]
  },
  {
   "cell_type": "code",
   "execution_count": 21,
   "id": "917039af",
   "metadata": {},
   "outputs": [
    {
     "name": "stdout",
     "output_type": "stream",
     "text": [
      "Downloading data from https://storage.googleapis.com/tensorflow/keras-applications/resnet/resnet50_weights_tf_dim_ordering_tf_kernels_notop.h5\n",
      "94765736/94765736 [==============================] - 55s 1us/step\n"
     ]
    }
   ],
   "source": [
    "resnet_model = Sequential()\n",
    "pretrained_model = tf.keras.applications.ResNet50(\n",
    "    include_top = False,\n",
    "    input_shape = (180,180,3),\n",
    "    pooling='max', classes=2,\n",
    "    weights='imagenet'\n",
    ")"
   ]
  },
  {
   "cell_type": "code",
   "execution_count": 24,
   "id": "ecd0e3a0",
   "metadata": {},
   "outputs": [],
   "source": [
    "for layer in pretrained_model.layers:\n",
    "    layer.trainable=False\n",
    "\n",
    "resnet_model.add(pretrained_model)\n",
    "resnet_model.add(Flatten())\n",
    "resnet_model.add(Dense(512,activation='relu'))\n",
    "resnet_model.add(Dense(2,activation='softmax'))"
   ]
  },
  {
   "cell_type": "code",
   "execution_count": 57,
   "id": "74206762",
   "metadata": {},
   "outputs": [],
   "source": [
    "def identity_block(X, f, filters, stage, block):\n",
    "    # defining name basis\n",
    "    eps = 1.1e-5\n",
    "    conv_name_base = 'res' + str(stage) + block + '_branch'\n",
    "    bn_name_base = 'bn' + str(stage) + block + '_branch'\n",
    "    scale_name_base = 'scale' + str(stage) + block + '_branch'\n",
    "    \n",
    "    # Retrieve Filters\n",
    "    F1, F2, F3 = filters\n",
    "    \n",
    "    # Save the input value. You'll need this later to add back to the main path. \n",
    "    X_shortcut = X\n",
    "    \n",
    "    # First component of main path\n",
    "    X = Conv2D(filters = F1, kernel_size = (1, 1), strides = (1,1), padding = 'valid', use_bias=False, name = conv_name_base + '2a', kernel_initializer = glorot_uniform(seed=0))(X)\n",
    "    X = BatchNormalization(epsilon = eps, axis = 3, name = bn_name_base + '2a')(X)\n",
    "    X = Scale(axis = 3, name = scale_name_base + '2a')(X)\n",
    "    X = Activation('relu')(X)\n",
    "    \n",
    "    # Second component of main path\n",
    "    X = Conv2D(filters = F2, kernel_size = (f, f), strides = (1,1), padding = 'same', use_bias=False, name = conv_name_base + '2b', kernel_initializer = glorot_uniform(seed=0))(X)\n",
    "    X = BatchNormalization(epsilon = eps, axis = 3, name = bn_name_base + '2b')(X)\n",
    "    X = Scale(axis = 3, name = scale_name_base + '2b')(X)\n",
    "    X = Activation('relu')(X)\n",
    "\n",
    "    # Third component of main path\n",
    "    X = Conv2D(filters = F3, kernel_size = (1, 1), strides = (1,1), padding = 'valid', use_bias=False, name = conv_name_base + '2c', kernel_initializer = glorot_uniform(seed=0))(X)\n",
    "    X = BatchNormalization(epsilon = eps, axis = 3, name = bn_name_base + '2c')(X)\n",
    "    X = Scale(axis = 3, name = scale_name_base + '2c')(X)\n",
    "\n",
    "    # Final step: Add shortcut value to main path, and pass it through a RELU activation\n",
    "    X = Add()([X,X_shortcut])\n",
    "    X = Activation('relu')(X)\n",
    "    \n",
    "    return X"
   ]
  },
  {
   "cell_type": "code",
   "execution_count": 58,
   "id": "851e3c23",
   "metadata": {},
   "outputs": [],
   "source": [
    "def convolutional_block(X, f, filters, stage, block, s = 2):  \n",
    "    # defining name basis\n",
    "    eps = 1.1e-5\n",
    "    conv_name_base = 'res' + str(stage) + block + '_branch'\n",
    "    bn_name_base = 'bn' + str(stage) + block + '_branch'\n",
    "    scale_name_base = 'scale' + str(stage) + block + '_branch'\n",
    "    \n",
    "    # Retrieve Filters\n",
    "    F1, F2, F3 = filters\n",
    "    \n",
    "    # Save the input value\n",
    "    X_shortcut = X\n",
    "\n",
    "    ##### MAIN PATH #####\n",
    "    # First component of main path \n",
    "    X = Conv2D(F1, (1, 1), strides = (s,s), padding = 'valid', name = conv_name_base + '2a', use_bias=False, kernel_initializer = glorot_uniform(seed=0))(X)\n",
    "    X = BatchNormalization(epsilon = eps, axis = 3, name = bn_name_base + '2a')(X)\n",
    "    X = Scale(axis=3, name = scale_name_base + '2a')(X)\n",
    "    X = Activation('relu')(X)\n",
    "\n",
    "    # Second component of main path\n",
    "    X = Conv2D(F2, (f, f), strides = (1,1), padding = 'same', name = conv_name_base + '2b', use_bias=False, kernel_initializer = glorot_uniform(seed=0))(X)\n",
    "    X = BatchNormalization(epsilon = eps, axis = 3, name = bn_name_base + '2b')(X)\n",
    "    X = Scale(axis=3, name = scale_name_base + '2b')(X)\n",
    "    X = Activation('relu')(X)\n",
    "\n",
    "    # Third component of main path\n",
    "    X = Conv2D(F3, (1, 1), strides = (1,1), padding = 'valid', name = conv_name_base + '2c', use_bias=False, kernel_initializer = glorot_uniform(seed=0))(X)\n",
    "    X = BatchNormalization(epsilon = eps, axis = 3, name = bn_name_base + '2c')(X)\n",
    "    X = Scale(axis=3, name=scale_name_base + '2c')(X)\n",
    "\n",
    "    ##### SHORTCUT PATH ####\n",
    "    X_shortcut = Conv2D(F3, (1, 1), strides = (s,s), padding = 'valid', name = conv_name_base + '1', use_bias=False, kernel_initializer = glorot_uniform(seed=0))(X_shortcut)\n",
    "    X_shortcut = BatchNormalization(epsilon = eps, axis = 3, name = bn_name_base + '1')(X_shortcut)\n",
    "    X_shortcut = Scale(axis=3, name=scale_name_base + '1')(X_shortcut)\n",
    "\n",
    "    # Final step: Add shortcut value to main path, and pass it through a RELU activation\n",
    "    X = Add()([X,X_shortcut])\n",
    "    X = Activation('relu')(X)\n",
    "    \n",
    "    return X"
   ]
  },
  {
   "cell_type": "code",
   "execution_count": 84,
   "id": "e2df8d9b",
   "metadata": {},
   "outputs": [],
   "source": [
    "class Scale(Layer):\n",
    "    def __init__(self, weights=None, axis=-1, momentum = 0.9, beta_init='zero', gamma_init='one', **kwargs):\n",
    "        self.momentum = momentum\n",
    "        self.axis = axis\n",
    "        self.beta_init = initializations.get(beta_init)\n",
    "        self.gamma_init = initializations.get(gamma_init)\n",
    "        self.initial_weights = weights\n",
    "        super(Scale, self).__init__(**kwargs)\n",
    "\n",
    "    def build(self, input_shape):\n",
    "        self.input_spec = [InputSpec(shape=input_shape)]\n",
    "        shape = (int(input_shape[self.axis]),)\n",
    "\n",
    "        # Compatibility with TensorFlow >= 1.0.0\n",
    "        self.gamma = K.variable(self.gamma_init(shape), name='{}_gamma'.format(self.name))\n",
    "        self.beta = K.variable(self.beta_init(shape), name='{}_beta'.format(self.name))\n",
    "        #self.gamma = self.gamma_init(shape, name='{}_gamma'.format(self.name))\n",
    "        #self.beta = self.beta_init(shape, name='{}_beta'.format(self.name))\n",
    "        self.trainableWeights = [self.gamma, self.beta]\n",
    "\n",
    "        if self.initial_weights is not None:\n",
    "            self.set_weights(self.initial_weights)\n",
    "            del self.initial_weights\n",
    "\n",
    "    def call(self, x, mask=None):\n",
    "        input_shape = self.input_spec[0].shape\n",
    "        broadcast_shape = [1] * len(input_shape)\n",
    "        broadcast_shape[self.axis] = input_shape[self.axis]\n",
    "\n",
    "        out = K.reshape(self.gamma, broadcast_shape) * x + K.reshape(self.beta, broadcast_shape)\n",
    "        return out\n",
    "\n",
    "    def get_config(self):\n",
    "        config = {\"momentum\": self.momentum, \"axis\": self.axis}\n",
    "        base_config = super(Scale, self).get_config()\n",
    "        return dict(list(base_config.items()) + list(config.items()))"
   ]
  },
  {
   "cell_type": "code",
   "execution_count": null,
   "id": "8ce450d0",
   "metadata": {},
   "outputs": [],
   "source": []
  },
  {
   "cell_type": "code",
   "execution_count": null,
   "id": "06cbdc83",
   "metadata": {},
   "outputs": [],
   "source": []
  },
  {
   "cell_type": "code",
   "execution_count": 85,
   "id": "3669c2be",
   "metadata": {},
   "outputs": [],
   "source": [
    "def ResNet50(input_shape = (180, 180, 3), classes = 2):\n",
    "    X_input = Input(input_shape)\n",
    "    X = ZeroPadding2D((3, 3))(X_input)\n",
    "    X = Conv2D(64, (7, 7), strides = (2, 2), name = 'conv1', kernel_initializer = glorot_uniform(seed=0))(X)\n",
    "    X = BatchNormalization(axis = 3, name = 'bn_conv1')(X)\n",
    "    X = Activation('relu')(X)\n",
    "    X = MaxPooling2D((3, 3), strides=(2, 2))(X)\n",
    "    X = convolutional_block(X, f = 3, filters = [64, 64, 256], stage = 2, block='a', s = 1)\n",
    "    X = identity_block(X, 3, [64, 64, 256], stage=2, block='b')\n",
    "    X = identity_block(X, 3, [64, 64, 256], stage=2, block='c')\n",
    "    X = convolutional_block(X, f = 3, filters = [128, 128, 512], stage = 3, block='a', s = 2)\n",
    "    X = identity_block(X, 3, [128, 128, 512], stage=3, block='b')\n",
    "    X = identity_block(X, 3, [128, 128, 512], stage=3, block='c')\n",
    "    X = identity_block(X, 3, [128, 128, 512], stage=3, block='d')\n",
    "    X = convolutional_block(X, f = 3, filters = [256, 256, 1024], stage = 4, block='a', s = 2)\n",
    "    X = identity_block(X, 3, [256, 256, 1024], stage=4, block='b')\n",
    "    X = identity_block(X, 3, [256, 256, 1024], stage=4, block='c')\n",
    "    X = identity_block(X, 3, [256, 256, 1024], stage=4, block='d')\n",
    "    X = identity_block(X, 3, [256, 256, 1024], stage=4, block='e')\n",
    "    X = identity_block(X, 3, [256, 256, 1024], stage=4, block='f')\n",
    "    X = convolutional_block(X, f = 3, filters = [512, 512, 2048], stage = 5, block='a', s = 2)\n",
    "    X = identity_block(X, 3, [512, 512, 2048], stage=5, block='b')\n",
    "    X = identity_block(X, 3, [512, 512, 2048], stage=5, block='c')\n",
    "    X = MaxPooling2D(pool_size=(2, 2),name='avg_pool')(X)\n",
    "    X = Flatten()(X)\n",
    "    X = Dense(classes, activation='softmax', name='fc' + str(classes), kernel_initializer = glorot_uniform(seed=0))(X)\n",
    "    model = Model(inputs = X_input, outputs = X, name='ResNet50')\n",
    "    return model"
   ]
  },
  {
   "cell_type": "code",
   "execution_count": null,
   "id": "258148bc",
   "metadata": {},
   "outputs": [],
   "source": []
  },
  {
   "cell_type": "code",
   "execution_count": 86,
   "id": "75c82678",
   "metadata": {},
   "outputs": [],
   "source": [
    "model = ResNet50()"
   ]
  },
  {
   "cell_type": "code",
   "execution_count": 87,
   "id": "e9cd46e9",
   "metadata": {},
   "outputs": [
    {
     "name": "stdout",
     "output_type": "stream",
     "text": [
      "Model: \"ResNet50\"\n",
      "__________________________________________________________________________________________________\n",
      " Layer (type)                   Output Shape         Param #     Connected to                     \n",
      "==================================================================================================\n",
      " input_3 (InputLayer)           [(None, 180, 180, 3  0           []                               \n",
      "                                )]                                                                \n",
      "                                                                                                  \n",
      " zero_padding2d_1 (ZeroPadding2  (None, 186, 186, 3)  0          ['input_3[0][0]']                \n",
      " D)                                                                                               \n",
      "                                                                                                  \n",
      " conv1 (Conv2D)                 (None, 90, 90, 64)   9472        ['zero_padding2d_1[0][0]']       \n",
      "                                                                                                  \n",
      " bn_conv1 (BatchNormalization)  (None, 90, 90, 64)   256         ['conv1[0][0]']                  \n",
      "                                                                                                  \n",
      " activation_1 (Activation)      (None, 90, 90, 64)   0           ['bn_conv1[0][0]']               \n",
      "                                                                                                  \n",
      " max_pooling2d_1 (MaxPooling2D)  (None, 44, 44, 64)  0           ['activation_1[0][0]']           \n",
      "                                                                                                  \n",
      " res2a_branch2a (Conv2D)        (None, 44, 44, 64)   4096        ['max_pooling2d_1[0][0]']        \n",
      "                                                                                                  \n",
      " bn2a_branch2a (BatchNormalizat  (None, 44, 44, 64)  256         ['res2a_branch2a[0][0]']         \n",
      " ion)                                                                                             \n",
      "                                                                                                  \n",
      " scale2a_branch2a (Scale)       (None, 44, 44, 64)   128         ['bn2a_branch2a[0][0]']          \n",
      "                                                                                                  \n",
      " activation_2 (Activation)      (None, 44, 44, 64)   0           ['scale2a_branch2a[0][0]']       \n",
      "                                                                                                  \n",
      " res2a_branch2b (Conv2D)        (None, 44, 44, 64)   36864       ['activation_2[0][0]']           \n",
      "                                                                                                  \n",
      " bn2a_branch2b (BatchNormalizat  (None, 44, 44, 64)  256         ['res2a_branch2b[0][0]']         \n",
      " ion)                                                                                             \n",
      "                                                                                                  \n",
      " scale2a_branch2b (Scale)       (None, 44, 44, 64)   128         ['bn2a_branch2b[0][0]']          \n",
      "                                                                                                  \n",
      " activation_3 (Activation)      (None, 44, 44, 64)   0           ['scale2a_branch2b[0][0]']       \n",
      "                                                                                                  \n",
      " res2a_branch2c (Conv2D)        (None, 44, 44, 256)  16384       ['activation_3[0][0]']           \n",
      "                                                                                                  \n",
      " res2a_branch1 (Conv2D)         (None, 44, 44, 256)  16384       ['max_pooling2d_1[0][0]']        \n",
      "                                                                                                  \n",
      " bn2a_branch2c (BatchNormalizat  (None, 44, 44, 256)  1024       ['res2a_branch2c[0][0]']         \n",
      " ion)                                                                                             \n",
      "                                                                                                  \n",
      " bn2a_branch1 (BatchNormalizati  (None, 44, 44, 256)  1024       ['res2a_branch1[0][0]']          \n",
      " on)                                                                                              \n",
      "                                                                                                  \n",
      " scale2a_branch2c (Scale)       (None, 44, 44, 256)  512         ['bn2a_branch2c[0][0]']          \n",
      "                                                                                                  \n",
      " scale2a_branch1 (Scale)        (None, 44, 44, 256)  512         ['bn2a_branch1[0][0]']           \n",
      "                                                                                                  \n",
      " add (Add)                      (None, 44, 44, 256)  0           ['scale2a_branch2c[0][0]',       \n",
      "                                                                  'scale2a_branch1[0][0]']        \n",
      "                                                                                                  \n",
      " activation_4 (Activation)      (None, 44, 44, 256)  0           ['add[0][0]']                    \n",
      "                                                                                                  \n",
      " res2b_branch2a (Conv2D)        (None, 44, 44, 64)   16384       ['activation_4[0][0]']           \n",
      "                                                                                                  \n",
      " bn2b_branch2a (BatchNormalizat  (None, 44, 44, 64)  256         ['res2b_branch2a[0][0]']         \n",
      " ion)                                                                                             \n",
      "                                                                                                  \n",
      " scale2b_branch2a (Scale)       (None, 44, 44, 64)   128         ['bn2b_branch2a[0][0]']          \n",
      "                                                                                                  \n",
      " activation_5 (Activation)      (None, 44, 44, 64)   0           ['scale2b_branch2a[0][0]']       \n",
      "                                                                                                  \n",
      " res2b_branch2b (Conv2D)        (None, 44, 44, 64)   36864       ['activation_5[0][0]']           \n",
      "                                                                                                  \n",
      " bn2b_branch2b (BatchNormalizat  (None, 44, 44, 64)  256         ['res2b_branch2b[0][0]']         \n",
      " ion)                                                                                             \n",
      "                                                                                                  \n",
      " scale2b_branch2b (Scale)       (None, 44, 44, 64)   128         ['bn2b_branch2b[0][0]']          \n",
      "                                                                                                  \n",
      " activation_6 (Activation)      (None, 44, 44, 64)   0           ['scale2b_branch2b[0][0]']       \n",
      "                                                                                                  \n",
      " res2b_branch2c (Conv2D)        (None, 44, 44, 256)  16384       ['activation_6[0][0]']           \n",
      "                                                                                                  \n",
      " bn2b_branch2c (BatchNormalizat  (None, 44, 44, 256)  1024       ['res2b_branch2c[0][0]']         \n",
      " ion)                                                                                             \n",
      "                                                                                                  \n",
      " scale2b_branch2c (Scale)       (None, 44, 44, 256)  512         ['bn2b_branch2c[0][0]']          \n",
      "                                                                                                  \n",
      " add_1 (Add)                    (None, 44, 44, 256)  0           ['scale2b_branch2c[0][0]',       \n",
      "                                                                  'activation_4[0][0]']           \n",
      "                                                                                                  \n",
      " activation_7 (Activation)      (None, 44, 44, 256)  0           ['add_1[0][0]']                  \n"
     ]
    },
    {
     "name": "stdout",
     "output_type": "stream",
     "text": [
      "                                                                                                  \n",
      " res2c_branch2a (Conv2D)        (None, 44, 44, 64)   16384       ['activation_7[0][0]']           \n",
      "                                                                                                  \n",
      " bn2c_branch2a (BatchNormalizat  (None, 44, 44, 64)  256         ['res2c_branch2a[0][0]']         \n",
      " ion)                                                                                             \n",
      "                                                                                                  \n",
      " scale2c_branch2a (Scale)       (None, 44, 44, 64)   128         ['bn2c_branch2a[0][0]']          \n",
      "                                                                                                  \n",
      " activation_8 (Activation)      (None, 44, 44, 64)   0           ['scale2c_branch2a[0][0]']       \n",
      "                                                                                                  \n",
      " res2c_branch2b (Conv2D)        (None, 44, 44, 64)   36864       ['activation_8[0][0]']           \n",
      "                                                                                                  \n",
      " bn2c_branch2b (BatchNormalizat  (None, 44, 44, 64)  256         ['res2c_branch2b[0][0]']         \n",
      " ion)                                                                                             \n",
      "                                                                                                  \n",
      " scale2c_branch2b (Scale)       (None, 44, 44, 64)   128         ['bn2c_branch2b[0][0]']          \n",
      "                                                                                                  \n",
      " activation_9 (Activation)      (None, 44, 44, 64)   0           ['scale2c_branch2b[0][0]']       \n",
      "                                                                                                  \n",
      " res2c_branch2c (Conv2D)        (None, 44, 44, 256)  16384       ['activation_9[0][0]']           \n",
      "                                                                                                  \n",
      " bn2c_branch2c (BatchNormalizat  (None, 44, 44, 256)  1024       ['res2c_branch2c[0][0]']         \n",
      " ion)                                                                                             \n",
      "                                                                                                  \n",
      " scale2c_branch2c (Scale)       (None, 44, 44, 256)  512         ['bn2c_branch2c[0][0]']          \n",
      "                                                                                                  \n",
      " add_2 (Add)                    (None, 44, 44, 256)  0           ['scale2c_branch2c[0][0]',       \n",
      "                                                                  'activation_7[0][0]']           \n",
      "                                                                                                  \n",
      " activation_10 (Activation)     (None, 44, 44, 256)  0           ['add_2[0][0]']                  \n",
      "                                                                                                  \n",
      " res3a_branch2a (Conv2D)        (None, 22, 22, 128)  32768       ['activation_10[0][0]']          \n",
      "                                                                                                  \n",
      " bn3a_branch2a (BatchNormalizat  (None, 22, 22, 128)  512        ['res3a_branch2a[0][0]']         \n",
      " ion)                                                                                             \n",
      "                                                                                                  \n",
      " scale3a_branch2a (Scale)       (None, 22, 22, 128)  256         ['bn3a_branch2a[0][0]']          \n",
      "                                                                                                  \n",
      " activation_11 (Activation)     (None, 22, 22, 128)  0           ['scale3a_branch2a[0][0]']       \n",
      "                                                                                                  \n",
      " res3a_branch2b (Conv2D)        (None, 22, 22, 128)  147456      ['activation_11[0][0]']          \n",
      "                                                                                                  \n",
      " bn3a_branch2b (BatchNormalizat  (None, 22, 22, 128)  512        ['res3a_branch2b[0][0]']         \n",
      " ion)                                                                                             \n",
      "                                                                                                  \n",
      " scale3a_branch2b (Scale)       (None, 22, 22, 128)  256         ['bn3a_branch2b[0][0]']          \n",
      "                                                                                                  \n",
      " activation_12 (Activation)     (None, 22, 22, 128)  0           ['scale3a_branch2b[0][0]']       \n",
      "                                                                                                  \n",
      " res3a_branch2c (Conv2D)        (None, 22, 22, 512)  65536       ['activation_12[0][0]']          \n",
      "                                                                                                  \n",
      " res3a_branch1 (Conv2D)         (None, 22, 22, 512)  131072      ['activation_10[0][0]']          \n",
      "                                                                                                  \n",
      " bn3a_branch2c (BatchNormalizat  (None, 22, 22, 512)  2048       ['res3a_branch2c[0][0]']         \n",
      " ion)                                                                                             \n",
      "                                                                                                  \n",
      " bn3a_branch1 (BatchNormalizati  (None, 22, 22, 512)  2048       ['res3a_branch1[0][0]']          \n",
      " on)                                                                                              \n",
      "                                                                                                  \n",
      " scale3a_branch2c (Scale)       (None, 22, 22, 512)  1024        ['bn3a_branch2c[0][0]']          \n",
      "                                                                                                  \n",
      " scale3a_branch1 (Scale)        (None, 22, 22, 512)  1024        ['bn3a_branch1[0][0]']           \n",
      "                                                                                                  \n",
      " add_3 (Add)                    (None, 22, 22, 512)  0           ['scale3a_branch2c[0][0]',       \n",
      "                                                                  'scale3a_branch1[0][0]']        \n",
      "                                                                                                  \n",
      " activation_13 (Activation)     (None, 22, 22, 512)  0           ['add_3[0][0]']                  \n",
      "                                                                                                  \n",
      " res3b_branch2a (Conv2D)        (None, 22, 22, 128)  65536       ['activation_13[0][0]']          \n",
      "                                                                                                  \n",
      " bn3b_branch2a (BatchNormalizat  (None, 22, 22, 128)  512        ['res3b_branch2a[0][0]']         \n",
      " ion)                                                                                             \n",
      "                                                                                                  \n",
      " scale3b_branch2a (Scale)       (None, 22, 22, 128)  256         ['bn3b_branch2a[0][0]']          \n",
      "                                                                                                  \n",
      " activation_14 (Activation)     (None, 22, 22, 128)  0           ['scale3b_branch2a[0][0]']       \n",
      "                                                                                                  \n",
      " res3b_branch2b (Conv2D)        (None, 22, 22, 128)  147456      ['activation_14[0][0]']          \n",
      "                                                                                                  \n",
      " bn3b_branch2b (BatchNormalizat  (None, 22, 22, 128)  512        ['res3b_branch2b[0][0]']         \n",
      " ion)                                                                                             \n",
      "                                                                                                  \n",
      " scale3b_branch2b (Scale)       (None, 22, 22, 128)  256         ['bn3b_branch2b[0][0]']          \n"
     ]
    },
    {
     "name": "stdout",
     "output_type": "stream",
     "text": [
      "                                                                                                  \n",
      " activation_15 (Activation)     (None, 22, 22, 128)  0           ['scale3b_branch2b[0][0]']       \n",
      "                                                                                                  \n",
      " res3b_branch2c (Conv2D)        (None, 22, 22, 512)  65536       ['activation_15[0][0]']          \n",
      "                                                                                                  \n",
      " bn3b_branch2c (BatchNormalizat  (None, 22, 22, 512)  2048       ['res3b_branch2c[0][0]']         \n",
      " ion)                                                                                             \n",
      "                                                                                                  \n",
      " scale3b_branch2c (Scale)       (None, 22, 22, 512)  1024        ['bn3b_branch2c[0][0]']          \n",
      "                                                                                                  \n",
      " add_4 (Add)                    (None, 22, 22, 512)  0           ['scale3b_branch2c[0][0]',       \n",
      "                                                                  'activation_13[0][0]']          \n",
      "                                                                                                  \n",
      " activation_16 (Activation)     (None, 22, 22, 512)  0           ['add_4[0][0]']                  \n",
      "                                                                                                  \n",
      " res3c_branch2a (Conv2D)        (None, 22, 22, 128)  65536       ['activation_16[0][0]']          \n",
      "                                                                                                  \n",
      " bn3c_branch2a (BatchNormalizat  (None, 22, 22, 128)  512        ['res3c_branch2a[0][0]']         \n",
      " ion)                                                                                             \n",
      "                                                                                                  \n",
      " scale3c_branch2a (Scale)       (None, 22, 22, 128)  256         ['bn3c_branch2a[0][0]']          \n",
      "                                                                                                  \n",
      " activation_17 (Activation)     (None, 22, 22, 128)  0           ['scale3c_branch2a[0][0]']       \n",
      "                                                                                                  \n",
      " res3c_branch2b (Conv2D)        (None, 22, 22, 128)  147456      ['activation_17[0][0]']          \n",
      "                                                                                                  \n",
      " bn3c_branch2b (BatchNormalizat  (None, 22, 22, 128)  512        ['res3c_branch2b[0][0]']         \n",
      " ion)                                                                                             \n",
      "                                                                                                  \n",
      " scale3c_branch2b (Scale)       (None, 22, 22, 128)  256         ['bn3c_branch2b[0][0]']          \n",
      "                                                                                                  \n",
      " activation_18 (Activation)     (None, 22, 22, 128)  0           ['scale3c_branch2b[0][0]']       \n",
      "                                                                                                  \n",
      " res3c_branch2c (Conv2D)        (None, 22, 22, 512)  65536       ['activation_18[0][0]']          \n",
      "                                                                                                  \n",
      " bn3c_branch2c (BatchNormalizat  (None, 22, 22, 512)  2048       ['res3c_branch2c[0][0]']         \n",
      " ion)                                                                                             \n",
      "                                                                                                  \n",
      " scale3c_branch2c (Scale)       (None, 22, 22, 512)  1024        ['bn3c_branch2c[0][0]']          \n",
      "                                                                                                  \n",
      " add_5 (Add)                    (None, 22, 22, 512)  0           ['scale3c_branch2c[0][0]',       \n",
      "                                                                  'activation_16[0][0]']          \n",
      "                                                                                                  \n",
      " activation_19 (Activation)     (None, 22, 22, 512)  0           ['add_5[0][0]']                  \n",
      "                                                                                                  \n",
      " res3d_branch2a (Conv2D)        (None, 22, 22, 128)  65536       ['activation_19[0][0]']          \n",
      "                                                                                                  \n",
      " bn3d_branch2a (BatchNormalizat  (None, 22, 22, 128)  512        ['res3d_branch2a[0][0]']         \n",
      " ion)                                                                                             \n",
      "                                                                                                  \n",
      " scale3d_branch2a (Scale)       (None, 22, 22, 128)  256         ['bn3d_branch2a[0][0]']          \n",
      "                                                                                                  \n",
      " activation_20 (Activation)     (None, 22, 22, 128)  0           ['scale3d_branch2a[0][0]']       \n",
      "                                                                                                  \n",
      " res3d_branch2b (Conv2D)        (None, 22, 22, 128)  147456      ['activation_20[0][0]']          \n",
      "                                                                                                  \n",
      " bn3d_branch2b (BatchNormalizat  (None, 22, 22, 128)  512        ['res3d_branch2b[0][0]']         \n",
      " ion)                                                                                             \n",
      "                                                                                                  \n",
      " scale3d_branch2b (Scale)       (None, 22, 22, 128)  256         ['bn3d_branch2b[0][0]']          \n",
      "                                                                                                  \n",
      " activation_21 (Activation)     (None, 22, 22, 128)  0           ['scale3d_branch2b[0][0]']       \n",
      "                                                                                                  \n",
      " res3d_branch2c (Conv2D)        (None, 22, 22, 512)  65536       ['activation_21[0][0]']          \n",
      "                                                                                                  \n",
      " bn3d_branch2c (BatchNormalizat  (None, 22, 22, 512)  2048       ['res3d_branch2c[0][0]']         \n",
      " ion)                                                                                             \n",
      "                                                                                                  \n",
      " scale3d_branch2c (Scale)       (None, 22, 22, 512)  1024        ['bn3d_branch2c[0][0]']          \n",
      "                                                                                                  \n",
      " add_6 (Add)                    (None, 22, 22, 512)  0           ['scale3d_branch2c[0][0]',       \n",
      "                                                                  'activation_19[0][0]']          \n",
      "                                                                                                  \n",
      " activation_22 (Activation)     (None, 22, 22, 512)  0           ['add_6[0][0]']                  \n",
      "                                                                                                  \n",
      " res4a_branch2a (Conv2D)        (None, 11, 11, 256)  131072      ['activation_22[0][0]']          \n",
      "                                                                                                  \n",
      " bn4a_branch2a (BatchNormalizat  (None, 11, 11, 256)  1024       ['res4a_branch2a[0][0]']         \n",
      " ion)                                                                                             \n",
      "                                                                                                  \n",
      " scale4a_branch2a (Scale)       (None, 11, 11, 256)  512         ['bn4a_branch2a[0][0]']          \n",
      "                                                                                                  \n",
      " activation_23 (Activation)     (None, 11, 11, 256)  0           ['scale4a_branch2a[0][0]']       \n"
     ]
    },
    {
     "name": "stdout",
     "output_type": "stream",
     "text": [
      "                                                                                                  \n",
      " res4a_branch2b (Conv2D)        (None, 11, 11, 256)  589824      ['activation_23[0][0]']          \n",
      "                                                                                                  \n",
      " bn4a_branch2b (BatchNormalizat  (None, 11, 11, 256)  1024       ['res4a_branch2b[0][0]']         \n",
      " ion)                                                                                             \n",
      "                                                                                                  \n",
      " scale4a_branch2b (Scale)       (None, 11, 11, 256)  512         ['bn4a_branch2b[0][0]']          \n",
      "                                                                                                  \n",
      " activation_24 (Activation)     (None, 11, 11, 256)  0           ['scale4a_branch2b[0][0]']       \n",
      "                                                                                                  \n",
      " res4a_branch2c (Conv2D)        (None, 11, 11, 1024  262144      ['activation_24[0][0]']          \n",
      "                                )                                                                 \n",
      "                                                                                                  \n",
      " res4a_branch1 (Conv2D)         (None, 11, 11, 1024  524288      ['activation_22[0][0]']          \n",
      "                                )                                                                 \n",
      "                                                                                                  \n",
      " bn4a_branch2c (BatchNormalizat  (None, 11, 11, 1024  4096       ['res4a_branch2c[0][0]']         \n",
      " ion)                           )                                                                 \n",
      "                                                                                                  \n",
      " bn4a_branch1 (BatchNormalizati  (None, 11, 11, 1024  4096       ['res4a_branch1[0][0]']          \n",
      " on)                            )                                                                 \n",
      "                                                                                                  \n",
      " scale4a_branch2c (Scale)       (None, 11, 11, 1024  2048        ['bn4a_branch2c[0][0]']          \n",
      "                                )                                                                 \n",
      "                                                                                                  \n",
      " scale4a_branch1 (Scale)        (None, 11, 11, 1024  2048        ['bn4a_branch1[0][0]']           \n",
      "                                )                                                                 \n",
      "                                                                                                  \n",
      " add_7 (Add)                    (None, 11, 11, 1024  0           ['scale4a_branch2c[0][0]',       \n",
      "                                )                                 'scale4a_branch1[0][0]']        \n",
      "                                                                                                  \n",
      " activation_25 (Activation)     (None, 11, 11, 1024  0           ['add_7[0][0]']                  \n",
      "                                )                                                                 \n",
      "                                                                                                  \n",
      " res4b_branch2a (Conv2D)        (None, 11, 11, 256)  262144      ['activation_25[0][0]']          \n",
      "                                                                                                  \n",
      " bn4b_branch2a (BatchNormalizat  (None, 11, 11, 256)  1024       ['res4b_branch2a[0][0]']         \n",
      " ion)                                                                                             \n",
      "                                                                                                  \n",
      " scale4b_branch2a (Scale)       (None, 11, 11, 256)  512         ['bn4b_branch2a[0][0]']          \n",
      "                                                                                                  \n",
      " activation_26 (Activation)     (None, 11, 11, 256)  0           ['scale4b_branch2a[0][0]']       \n",
      "                                                                                                  \n",
      " res4b_branch2b (Conv2D)        (None, 11, 11, 256)  589824      ['activation_26[0][0]']          \n",
      "                                                                                                  \n",
      " bn4b_branch2b (BatchNormalizat  (None, 11, 11, 256)  1024       ['res4b_branch2b[0][0]']         \n",
      " ion)                                                                                             \n",
      "                                                                                                  \n",
      " scale4b_branch2b (Scale)       (None, 11, 11, 256)  512         ['bn4b_branch2b[0][0]']          \n",
      "                                                                                                  \n",
      " activation_27 (Activation)     (None, 11, 11, 256)  0           ['scale4b_branch2b[0][0]']       \n",
      "                                                                                                  \n",
      " res4b_branch2c (Conv2D)        (None, 11, 11, 1024  262144      ['activation_27[0][0]']          \n",
      "                                )                                                                 \n",
      "                                                                                                  \n",
      " bn4b_branch2c (BatchNormalizat  (None, 11, 11, 1024  4096       ['res4b_branch2c[0][0]']         \n",
      " ion)                           )                                                                 \n",
      "                                                                                                  \n",
      " scale4b_branch2c (Scale)       (None, 11, 11, 1024  2048        ['bn4b_branch2c[0][0]']          \n",
      "                                )                                                                 \n",
      "                                                                                                  \n",
      " add_8 (Add)                    (None, 11, 11, 1024  0           ['scale4b_branch2c[0][0]',       \n",
      "                                )                                 'activation_25[0][0]']          \n",
      "                                                                                                  \n",
      " activation_28 (Activation)     (None, 11, 11, 1024  0           ['add_8[0][0]']                  \n",
      "                                )                                                                 \n",
      "                                                                                                  \n",
      " res4c_branch2a (Conv2D)        (None, 11, 11, 256)  262144      ['activation_28[0][0]']          \n",
      "                                                                                                  \n",
      " bn4c_branch2a (BatchNormalizat  (None, 11, 11, 256)  1024       ['res4c_branch2a[0][0]']         \n",
      " ion)                                                                                             \n",
      "                                                                                                  \n",
      " scale4c_branch2a (Scale)       (None, 11, 11, 256)  512         ['bn4c_branch2a[0][0]']          \n",
      "                                                                                                  \n",
      " activation_29 (Activation)     (None, 11, 11, 256)  0           ['scale4c_branch2a[0][0]']       \n",
      "                                                                                                  \n",
      " res4c_branch2b (Conv2D)        (None, 11, 11, 256)  589824      ['activation_29[0][0]']          \n",
      "                                                                                                  \n",
      " bn4c_branch2b (BatchNormalizat  (None, 11, 11, 256)  1024       ['res4c_branch2b[0][0]']         \n",
      " ion)                                                                                             \n",
      "                                                                                                  \n",
      " scale4c_branch2b (Scale)       (None, 11, 11, 256)  512         ['bn4c_branch2b[0][0]']          \n",
      "                                                                                                  \n"
     ]
    },
    {
     "name": "stdout",
     "output_type": "stream",
     "text": [
      " activation_30 (Activation)     (None, 11, 11, 256)  0           ['scale4c_branch2b[0][0]']       \n",
      "                                                                                                  \n",
      " res4c_branch2c (Conv2D)        (None, 11, 11, 1024  262144      ['activation_30[0][0]']          \n",
      "                                )                                                                 \n",
      "                                                                                                  \n",
      " bn4c_branch2c (BatchNormalizat  (None, 11, 11, 1024  4096       ['res4c_branch2c[0][0]']         \n",
      " ion)                           )                                                                 \n",
      "                                                                                                  \n",
      " scale4c_branch2c (Scale)       (None, 11, 11, 1024  2048        ['bn4c_branch2c[0][0]']          \n",
      "                                )                                                                 \n",
      "                                                                                                  \n",
      " add_9 (Add)                    (None, 11, 11, 1024  0           ['scale4c_branch2c[0][0]',       \n",
      "                                )                                 'activation_28[0][0]']          \n",
      "                                                                                                  \n",
      " activation_31 (Activation)     (None, 11, 11, 1024  0           ['add_9[0][0]']                  \n",
      "                                )                                                                 \n",
      "                                                                                                  \n",
      " res4d_branch2a (Conv2D)        (None, 11, 11, 256)  262144      ['activation_31[0][0]']          \n",
      "                                                                                                  \n",
      " bn4d_branch2a (BatchNormalizat  (None, 11, 11, 256)  1024       ['res4d_branch2a[0][0]']         \n",
      " ion)                                                                                             \n",
      "                                                                                                  \n",
      " scale4d_branch2a (Scale)       (None, 11, 11, 256)  512         ['bn4d_branch2a[0][0]']          \n",
      "                                                                                                  \n",
      " activation_32 (Activation)     (None, 11, 11, 256)  0           ['scale4d_branch2a[0][0]']       \n",
      "                                                                                                  \n",
      " res4d_branch2b (Conv2D)        (None, 11, 11, 256)  589824      ['activation_32[0][0]']          \n",
      "                                                                                                  \n",
      " bn4d_branch2b (BatchNormalizat  (None, 11, 11, 256)  1024       ['res4d_branch2b[0][0]']         \n",
      " ion)                                                                                             \n",
      "                                                                                                  \n",
      " scale4d_branch2b (Scale)       (None, 11, 11, 256)  512         ['bn4d_branch2b[0][0]']          \n",
      "                                                                                                  \n",
      " activation_33 (Activation)     (None, 11, 11, 256)  0           ['scale4d_branch2b[0][0]']       \n",
      "                                                                                                  \n",
      " res4d_branch2c (Conv2D)        (None, 11, 11, 1024  262144      ['activation_33[0][0]']          \n",
      "                                )                                                                 \n",
      "                                                                                                  \n",
      " bn4d_branch2c (BatchNormalizat  (None, 11, 11, 1024  4096       ['res4d_branch2c[0][0]']         \n",
      " ion)                           )                                                                 \n",
      "                                                                                                  \n",
      " scale4d_branch2c (Scale)       (None, 11, 11, 1024  2048        ['bn4d_branch2c[0][0]']          \n",
      "                                )                                                                 \n",
      "                                                                                                  \n",
      " add_10 (Add)                   (None, 11, 11, 1024  0           ['scale4d_branch2c[0][0]',       \n",
      "                                )                                 'activation_31[0][0]']          \n",
      "                                                                                                  \n",
      " activation_34 (Activation)     (None, 11, 11, 1024  0           ['add_10[0][0]']                 \n",
      "                                )                                                                 \n",
      "                                                                                                  \n",
      " res4e_branch2a (Conv2D)        (None, 11, 11, 256)  262144      ['activation_34[0][0]']          \n",
      "                                                                                                  \n",
      " bn4e_branch2a (BatchNormalizat  (None, 11, 11, 256)  1024       ['res4e_branch2a[0][0]']         \n",
      " ion)                                                                                             \n",
      "                                                                                                  \n",
      " scale4e_branch2a (Scale)       (None, 11, 11, 256)  512         ['bn4e_branch2a[0][0]']          \n",
      "                                                                                                  \n",
      " activation_35 (Activation)     (None, 11, 11, 256)  0           ['scale4e_branch2a[0][0]']       \n",
      "                                                                                                  \n",
      " res4e_branch2b (Conv2D)        (None, 11, 11, 256)  589824      ['activation_35[0][0]']          \n",
      "                                                                                                  \n",
      " bn4e_branch2b (BatchNormalizat  (None, 11, 11, 256)  1024       ['res4e_branch2b[0][0]']         \n",
      " ion)                                                                                             \n",
      "                                                                                                  \n",
      " scale4e_branch2b (Scale)       (None, 11, 11, 256)  512         ['bn4e_branch2b[0][0]']          \n",
      "                                                                                                  \n",
      " activation_36 (Activation)     (None, 11, 11, 256)  0           ['scale4e_branch2b[0][0]']       \n",
      "                                                                                                  \n",
      " res4e_branch2c (Conv2D)        (None, 11, 11, 1024  262144      ['activation_36[0][0]']          \n",
      "                                )                                                                 \n",
      "                                                                                                  \n",
      " bn4e_branch2c (BatchNormalizat  (None, 11, 11, 1024  4096       ['res4e_branch2c[0][0]']         \n",
      " ion)                           )                                                                 \n",
      "                                                                                                  \n",
      " scale4e_branch2c (Scale)       (None, 11, 11, 1024  2048        ['bn4e_branch2c[0][0]']          \n",
      "                                )                                                                 \n",
      "                                                                                                  \n",
      " add_11 (Add)                   (None, 11, 11, 1024  0           ['scale4e_branch2c[0][0]',       \n",
      "                                )                                 'activation_34[0][0]']          \n",
      "                                                                                                  \n",
      " activation_37 (Activation)     (None, 11, 11, 1024  0           ['add_11[0][0]']                 \n",
      "                                )                                                                 \n",
      "                                                                                                  \n"
     ]
    },
    {
     "name": "stdout",
     "output_type": "stream",
     "text": [
      " res4f_branch2a (Conv2D)        (None, 11, 11, 256)  262144      ['activation_37[0][0]']          \n",
      "                                                                                                  \n",
      " bn4f_branch2a (BatchNormalizat  (None, 11, 11, 256)  1024       ['res4f_branch2a[0][0]']         \n",
      " ion)                                                                                             \n",
      "                                                                                                  \n",
      " scale4f_branch2a (Scale)       (None, 11, 11, 256)  512         ['bn4f_branch2a[0][0]']          \n",
      "                                                                                                  \n",
      " activation_38 (Activation)     (None, 11, 11, 256)  0           ['scale4f_branch2a[0][0]']       \n",
      "                                                                                                  \n",
      " res4f_branch2b (Conv2D)        (None, 11, 11, 256)  589824      ['activation_38[0][0]']          \n",
      "                                                                                                  \n",
      " bn4f_branch2b (BatchNormalizat  (None, 11, 11, 256)  1024       ['res4f_branch2b[0][0]']         \n",
      " ion)                                                                                             \n",
      "                                                                                                  \n",
      " scale4f_branch2b (Scale)       (None, 11, 11, 256)  512         ['bn4f_branch2b[0][0]']          \n",
      "                                                                                                  \n",
      " activation_39 (Activation)     (None, 11, 11, 256)  0           ['scale4f_branch2b[0][0]']       \n",
      "                                                                                                  \n",
      " res4f_branch2c (Conv2D)        (None, 11, 11, 1024  262144      ['activation_39[0][0]']          \n",
      "                                )                                                                 \n",
      "                                                                                                  \n",
      " bn4f_branch2c (BatchNormalizat  (None, 11, 11, 1024  4096       ['res4f_branch2c[0][0]']         \n",
      " ion)                           )                                                                 \n",
      "                                                                                                  \n",
      " scale4f_branch2c (Scale)       (None, 11, 11, 1024  2048        ['bn4f_branch2c[0][0]']          \n",
      "                                )                                                                 \n",
      "                                                                                                  \n",
      " add_12 (Add)                   (None, 11, 11, 1024  0           ['scale4f_branch2c[0][0]',       \n",
      "                                )                                 'activation_37[0][0]']          \n",
      "                                                                                                  \n",
      " activation_40 (Activation)     (None, 11, 11, 1024  0           ['add_12[0][0]']                 \n",
      "                                )                                                                 \n",
      "                                                                                                  \n",
      " res5a_branch2a (Conv2D)        (None, 6, 6, 512)    524288      ['activation_40[0][0]']          \n",
      "                                                                                                  \n",
      " bn5a_branch2a (BatchNormalizat  (None, 6, 6, 512)   2048        ['res5a_branch2a[0][0]']         \n",
      " ion)                                                                                             \n",
      "                                                                                                  \n",
      " scale5a_branch2a (Scale)       (None, 6, 6, 512)    1024        ['bn5a_branch2a[0][0]']          \n",
      "                                                                                                  \n",
      " activation_41 (Activation)     (None, 6, 6, 512)    0           ['scale5a_branch2a[0][0]']       \n",
      "                                                                                                  \n",
      " res5a_branch2b (Conv2D)        (None, 6, 6, 512)    2359296     ['activation_41[0][0]']          \n",
      "                                                                                                  \n",
      " bn5a_branch2b (BatchNormalizat  (None, 6, 6, 512)   2048        ['res5a_branch2b[0][0]']         \n",
      " ion)                                                                                             \n",
      "                                                                                                  \n",
      " scale5a_branch2b (Scale)       (None, 6, 6, 512)    1024        ['bn5a_branch2b[0][0]']          \n",
      "                                                                                                  \n",
      " activation_42 (Activation)     (None, 6, 6, 512)    0           ['scale5a_branch2b[0][0]']       \n",
      "                                                                                                  \n",
      " res5a_branch2c (Conv2D)        (None, 6, 6, 2048)   1048576     ['activation_42[0][0]']          \n",
      "                                                                                                  \n",
      " res5a_branch1 (Conv2D)         (None, 6, 6, 2048)   2097152     ['activation_40[0][0]']          \n",
      "                                                                                                  \n",
      " bn5a_branch2c (BatchNormalizat  (None, 6, 6, 2048)  8192        ['res5a_branch2c[0][0]']         \n",
      " ion)                                                                                             \n",
      "                                                                                                  \n",
      " bn5a_branch1 (BatchNormalizati  (None, 6, 6, 2048)  8192        ['res5a_branch1[0][0]']          \n",
      " on)                                                                                              \n",
      "                                                                                                  \n",
      " scale5a_branch2c (Scale)       (None, 6, 6, 2048)   4096        ['bn5a_branch2c[0][0]']          \n",
      "                                                                                                  \n",
      " scale5a_branch1 (Scale)        (None, 6, 6, 2048)   4096        ['bn5a_branch1[0][0]']           \n",
      "                                                                                                  \n",
      " add_13 (Add)                   (None, 6, 6, 2048)   0           ['scale5a_branch2c[0][0]',       \n",
      "                                                                  'scale5a_branch1[0][0]']        \n",
      "                                                                                                  \n",
      " activation_43 (Activation)     (None, 6, 6, 2048)   0           ['add_13[0][0]']                 \n",
      "                                                                                                  \n",
      " res5b_branch2a (Conv2D)        (None, 6, 6, 512)    1048576     ['activation_43[0][0]']          \n",
      "                                                                                                  \n",
      " bn5b_branch2a (BatchNormalizat  (None, 6, 6, 512)   2048        ['res5b_branch2a[0][0]']         \n",
      " ion)                                                                                             \n",
      "                                                                                                  \n",
      " scale5b_branch2a (Scale)       (None, 6, 6, 512)    1024        ['bn5b_branch2a[0][0]']          \n",
      "                                                                                                  \n",
      " activation_44 (Activation)     (None, 6, 6, 512)    0           ['scale5b_branch2a[0][0]']       \n",
      "                                                                                                  \n",
      " res5b_branch2b (Conv2D)        (None, 6, 6, 512)    2359296     ['activation_44[0][0]']          \n",
      "                                                                                                  \n",
      " bn5b_branch2b (BatchNormalizat  (None, 6, 6, 512)   2048        ['res5b_branch2b[0][0]']         \n",
      " ion)                                                                                             \n"
     ]
    },
    {
     "name": "stdout",
     "output_type": "stream",
     "text": [
      "                                                                                                  \n",
      " scale5b_branch2b (Scale)       (None, 6, 6, 512)    1024        ['bn5b_branch2b[0][0]']          \n",
      "                                                                                                  \n",
      " activation_45 (Activation)     (None, 6, 6, 512)    0           ['scale5b_branch2b[0][0]']       \n",
      "                                                                                                  \n",
      " res5b_branch2c (Conv2D)        (None, 6, 6, 2048)   1048576     ['activation_45[0][0]']          \n",
      "                                                                                                  \n",
      " bn5b_branch2c (BatchNormalizat  (None, 6, 6, 2048)  8192        ['res5b_branch2c[0][0]']         \n",
      " ion)                                                                                             \n",
      "                                                                                                  \n",
      " scale5b_branch2c (Scale)       (None, 6, 6, 2048)   4096        ['bn5b_branch2c[0][0]']          \n",
      "                                                                                                  \n",
      " add_14 (Add)                   (None, 6, 6, 2048)   0           ['scale5b_branch2c[0][0]',       \n",
      "                                                                  'activation_43[0][0]']          \n",
      "                                                                                                  \n",
      " activation_46 (Activation)     (None, 6, 6, 2048)   0           ['add_14[0][0]']                 \n",
      "                                                                                                  \n",
      " res5c_branch2a (Conv2D)        (None, 6, 6, 512)    1048576     ['activation_46[0][0]']          \n",
      "                                                                                                  \n",
      " bn5c_branch2a (BatchNormalizat  (None, 6, 6, 512)   2048        ['res5c_branch2a[0][0]']         \n",
      " ion)                                                                                             \n",
      "                                                                                                  \n",
      " scale5c_branch2a (Scale)       (None, 6, 6, 512)    1024        ['bn5c_branch2a[0][0]']          \n",
      "                                                                                                  \n",
      " activation_47 (Activation)     (None, 6, 6, 512)    0           ['scale5c_branch2a[0][0]']       \n",
      "                                                                                                  \n",
      " res5c_branch2b (Conv2D)        (None, 6, 6, 512)    2359296     ['activation_47[0][0]']          \n",
      "                                                                                                  \n",
      " bn5c_branch2b (BatchNormalizat  (None, 6, 6, 512)   2048        ['res5c_branch2b[0][0]']         \n",
      " ion)                                                                                             \n",
      "                                                                                                  \n",
      " scale5c_branch2b (Scale)       (None, 6, 6, 512)    1024        ['bn5c_branch2b[0][0]']          \n",
      "                                                                                                  \n",
      " activation_48 (Activation)     (None, 6, 6, 512)    0           ['scale5c_branch2b[0][0]']       \n",
      "                                                                                                  \n",
      " res5c_branch2c (Conv2D)        (None, 6, 6, 2048)   1048576     ['activation_48[0][0]']          \n",
      "                                                                                                  \n",
      " bn5c_branch2c (BatchNormalizat  (None, 6, 6, 2048)  8192        ['res5c_branch2c[0][0]']         \n",
      " ion)                                                                                             \n",
      "                                                                                                  \n",
      " scale5c_branch2c (Scale)       (None, 6, 6, 2048)   4096        ['bn5c_branch2c[0][0]']          \n",
      "                                                                                                  \n",
      " add_15 (Add)                   (None, 6, 6, 2048)   0           ['scale5c_branch2c[0][0]',       \n",
      "                                                                  'activation_46[0][0]']          \n",
      "                                                                                                  \n",
      " activation_49 (Activation)     (None, 6, 6, 2048)   0           ['add_15[0][0]']                 \n",
      "                                                                                                  \n",
      " avg_pool (MaxPooling2D)        (None, 3, 3, 2048)   0           ['activation_49[0][0]']          \n",
      "                                                                                                  \n",
      " flatten (Flatten)              (None, 18432)        0           ['avg_pool[0][0]']               \n",
      "                                                                                                  \n",
      " fc2 (Dense)                    (None, 2)            36866       ['flatten[0][0]']                \n",
      "                                                                                                  \n",
      "==================================================================================================\n",
      "Total params: 23,651,074\n",
      "Trainable params: 23,597,954\n",
      "Non-trainable params: 53,120\n",
      "__________________________________________________________________________________________________\n"
     ]
    }
   ],
   "source": [
    "model.summary()"
   ]
  },
  {
   "cell_type": "code",
   "execution_count": 88,
   "id": "eab91652",
   "metadata": {},
   "outputs": [
    {
     "name": "stderr",
     "output_type": "stream",
     "text": [
      "WARNING:absl:`lr` is deprecated, please use `learning_rate` instead, or use the legacy optimizer, e.g.,tf.keras.optimizers.legacy.Adam.\n"
     ]
    }
   ],
   "source": [
    "model.compile(optimizer=Adam(lr=0.001),loss='binary_crossentropy',metrics=['accuracy'])"
   ]
  },
  {
   "cell_type": "code",
   "execution_count": 89,
   "id": "b130973d",
   "metadata": {},
   "outputs": [
    {
     "name": "stdout",
     "output_type": "stream",
     "text": [
      "Epoch 1/20\n",
      "179/179 [==============================] - 1744s 9s/step - loss: 1.5146 - accuracy: 0.7754 - val_loss: 130.8592 - val_accuracy: 0.8074\n",
      "Epoch 2/20\n",
      "179/179 [==============================] - 1635s 9s/step - loss: 1.0720 - accuracy: 0.7691 - val_loss: 12.0110 - val_accuracy: 0.5560\n",
      "Epoch 3/20\n",
      "179/179 [==============================] - 1621s 9s/step - loss: 0.7875 - accuracy: 0.7724 - val_loss: 5.4520 - val_accuracy: 0.8067\n",
      "Epoch 4/20\n",
      "179/179 [==============================] - 1907s 11s/step - loss: 0.5394 - accuracy: 0.7822 - val_loss: 0.4676 - val_accuracy: 0.8116\n",
      "Epoch 5/20\n",
      "179/179 [==============================] - 1793s 10s/step - loss: 0.5476 - accuracy: 0.7936 - val_loss: 3.1860 - val_accuracy: 0.8074\n",
      "Epoch 6/20\n",
      "179/179 [==============================] - 1798s 10s/step - loss: 0.5139 - accuracy: 0.8211 - val_loss: 0.5626 - val_accuracy: 0.8256\n",
      "Epoch 7/20\n",
      "179/179 [==============================] - 1661s 9s/step - loss: 0.4896 - accuracy: 0.8216 - val_loss: 1.2327 - val_accuracy: 0.8186\n",
      "Epoch 8/20\n",
      "179/179 [==============================] - 2012s 11s/step - loss: 0.4417 - accuracy: 0.8311 - val_loss: 0.4191 - val_accuracy: 0.8361\n",
      "Epoch 9/20\n",
      "179/179 [==============================] - 2042s 11s/step - loss: 0.4705 - accuracy: 0.8206 - val_loss: 1.2573 - val_accuracy: 0.6232\n",
      "Epoch 10/20\n",
      "179/179 [==============================] - 2264s 13s/step - loss: 0.4352 - accuracy: 0.8307 - val_loss: 0.6280 - val_accuracy: 0.7416\n",
      "Epoch 11/20\n",
      "179/179 [==============================] - 2415s 13s/step - loss: 0.4010 - accuracy: 0.8426 - val_loss: 0.3898 - val_accuracy: 0.8333\n",
      "Epoch 12/20\n",
      "179/179 [==============================] - 2338s 13s/step - loss: 0.3764 - accuracy: 0.8498 - val_loss: 0.3736 - val_accuracy: 0.8445\n",
      "Epoch 13/20\n",
      "179/179 [==============================] - 2287s 13s/step - loss: 0.3694 - accuracy: 0.8521 - val_loss: 0.4090 - val_accuracy: 0.8298\n",
      "Epoch 14/20\n",
      "179/179 [==============================] - 1973s 11s/step - loss: 0.3492 - accuracy: 0.8592 - val_loss: 0.3601 - val_accuracy: 0.8515\n",
      "Epoch 15/20\n",
      "179/179 [==============================] - 1645s 9s/step - loss: 0.3747 - accuracy: 0.8564 - val_loss: 0.3830 - val_accuracy: 0.8452\n",
      "Epoch 16/20\n",
      "179/179 [==============================] - 1737s 10s/step - loss: 0.3251 - accuracy: 0.8666 - val_loss: 0.3884 - val_accuracy: 0.8361\n",
      "Epoch 17/20\n",
      "179/179 [==============================] - 1915s 11s/step - loss: 0.2931 - accuracy: 0.8827 - val_loss: 0.4816 - val_accuracy: 0.8368\n",
      "Epoch 18/20\n",
      "179/179 [==============================] - 1899s 11s/step - loss: 0.3045 - accuracy: 0.8769 - val_loss: 0.3909 - val_accuracy: 0.8410\n",
      "Epoch 19/20\n",
      "179/179 [==============================] - 1857s 10s/step - loss: 0.2827 - accuracy: 0.8862 - val_loss: 0.4508 - val_accuracy: 0.8368\n",
      "Epoch 20/20\n",
      "179/179 [==============================] - 1784s 10s/step - loss: 0.2548 - accuracy: 0.8976 - val_loss: 0.4906 - val_accuracy: 0.7983\n"
     ]
    }
   ],
   "source": [
    "epochs = 20\n",
    "history = model.fit(\n",
    "    train_ds,\n",
    "    validation_data = val_ds,\n",
    "    epochs = epochs\n",
    ")"
   ]
  },
  {
   "cell_type": "code",
   "execution_count": 90,
   "id": "df4aef84",
   "metadata": {},
   "outputs": [],
   "source": [
    "model.save('restnet50_tttt.h5')"
   ]
  },
  {
   "cell_type": "code",
   "execution_count": 27,
   "id": "a925fe01",
   "metadata": {},
   "outputs": [],
   "source": [
    "  import cv2"
   ]
  },
  {
   "cell_type": "code",
   "execution_count": 28,
   "id": "e5a39756",
   "metadata": {},
   "outputs": [],
   "source": [
    "dir_ONE = 'D:\\EEG project\\datasetJPG\\ONE'\n",
    "dir_ZERO = 'D:\\EEG project\\datasetJPG\\ZERO'"
   ]
  },
  {
   "cell_type": "code",
   "execution_count": 29,
   "id": "d35affb8",
   "metadata": {},
   "outputs": [
    {
     "data": {
      "text/plain": [
       "'ZERO'"
      ]
     },
     "execution_count": 29,
     "metadata": {},
     "output_type": "execute_result"
    }
   ],
   "source": [
    "imgpath = 'D:\\EEG project\\datasetJPG\\ZERO\\zero0.jpg'\n",
    "image = cv2.imread(imgpath)\n",
    "image_resize = cv2.resize(image,(img_height,img_width))\n",
    "image = np.expand_dims(image_resize,axis=0)\n",
    "image.shape\n",
    "pred = resnet_model.predict(image)\n",
    "output = class_names[np.argmax(pred)]\n",
    "output"
   ]
  },
  {
   "cell_type": "code",
   "execution_count": 30,
   "id": "ac2d1b04",
   "metadata": {},
   "outputs": [
    {
     "ename": "error",
     "evalue": "OpenCV(4.6.0) D:\\a\\opencv-python\\opencv-python\\opencv\\modules\\imgproc\\src\\resize.cpp:4052: error: (-215:Assertion failed) !ssize.empty() in function 'cv::resize'\n",
     "output_type": "error",
     "traceback": [
      "\u001b[1;31m---------------------------------------------------------------------------\u001b[0m",
      "\u001b[1;31merror\u001b[0m                                     Traceback (most recent call last)",
      "Cell \u001b[1;32mIn [30], line 4\u001b[0m\n\u001b[0;32m      2\u001b[0m imgpath \u001b[38;5;241m=\u001b[39m \u001b[38;5;124m'\u001b[39m\u001b[38;5;124mD:\u001b[39m\u001b[38;5;124m\\\u001b[39m\u001b[38;5;124mEEG project\u001b[39m\u001b[38;5;124m\\\u001b[39m\u001b[38;5;124mdatasetJPG\u001b[39m\u001b[38;5;124m\\\u001b[39m\u001b[38;5;124mZERO\u001b[39m\u001b[38;5;124m\\\u001b[39m\u001b[38;5;124mzero\u001b[39m\u001b[38;5;132;01m{i}\u001b[39;00m\u001b[38;5;124m.jpg\u001b[39m\u001b[38;5;124m'\u001b[39m\n\u001b[0;32m      3\u001b[0m image \u001b[38;5;241m=\u001b[39m cv2\u001b[38;5;241m.\u001b[39mimread(imgpath)\n\u001b[1;32m----> 4\u001b[0m image_resize \u001b[38;5;241m=\u001b[39m \u001b[43mcv2\u001b[49m\u001b[38;5;241;43m.\u001b[39;49m\u001b[43mresize\u001b[49m\u001b[43m(\u001b[49m\u001b[43mimage\u001b[49m\u001b[43m,\u001b[49m\u001b[43m(\u001b[49m\u001b[43mimg_height\u001b[49m\u001b[43m,\u001b[49m\u001b[43mimg_width\u001b[49m\u001b[43m)\u001b[49m\u001b[43m)\u001b[49m\n\u001b[0;32m      5\u001b[0m image \u001b[38;5;241m=\u001b[39m np\u001b[38;5;241m.\u001b[39mexpand_dims(image_resize,axis\u001b[38;5;241m=\u001b[39m\u001b[38;5;241m0\u001b[39m)\n\u001b[0;32m      6\u001b[0m image\u001b[38;5;241m.\u001b[39mshape\n",
      "\u001b[1;31merror\u001b[0m: OpenCV(4.6.0) D:\\a\\opencv-python\\opencv-python\\opencv\\modules\\imgproc\\src\\resize.cpp:4052: error: (-215:Assertion failed) !ssize.empty() in function 'cv::resize'\n"
     ]
    }
   ],
   "source": [
    "for i in range(100):\n",
    "    imgpath = 'D:\\EEG project\\datasetJPG\\ZERO\\zero{i}.jpg'\n",
    "    image = cv2.imread(imgpath)\n",
    "    image_resize = cv2.resize(image,(img_height,img_width))\n",
    "    image = np.expand_dims(image_resize,axis=0)\n",
    "    image.shape\n",
    "    pred = resnet_model.predict(image)\n",
    "    output = class_names[np.argmax(pred)]\n",
    "    print(output)\n",
    "    "
   ]
  },
  {
   "cell_type": "code",
   "execution_count": 127,
   "id": "6eb04870",
   "metadata": {},
   "outputs": [],
   "source": [
    "result=[]"
   ]
  },
  {
   "cell_type": "code",
   "execution_count": 39,
   "id": "dc7c28bd",
   "metadata": {},
   "outputs": [],
   "source": [
    "orginal_srcJPG = 'D:\\EEG project\\datasetJPG\\ONE'\n"
   ]
  },
  {
   "cell_type": "code",
   "execution_count": 42,
   "id": "f4976b05",
   "metadata": {},
   "outputs": [
    {
     "name": "stdout",
     "output_type": "stream",
     "text": [
      "(1, 180, 180, 3)\n",
      "(1, 180, 180, 3)\n",
      "(1, 180, 180, 3)\n",
      "(1, 180, 180, 3)\n",
      "(1, 180, 180, 3)\n",
      "(1, 180, 180, 3)\n",
      "(1, 180, 180, 3)\n",
      "(1, 180, 180, 3)\n",
      "(1, 180, 180, 3)\n",
      "(1, 180, 180, 3)\n",
      "(1, 180, 180, 3)\n",
      "(1, 180, 180, 3)\n",
      "(1, 180, 180, 3)\n",
      "(1, 180, 180, 3)\n",
      "(1, 180, 180, 3)\n",
      "(1, 180, 180, 3)\n",
      "(1, 180, 180, 3)\n",
      "(1, 180, 180, 3)\n",
      "(1, 180, 180, 3)\n",
      "(1, 180, 180, 3)\n",
      "(1, 180, 180, 3)\n",
      "(1, 180, 180, 3)\n",
      "(1, 180, 180, 3)\n",
      "(1, 180, 180, 3)\n",
      "(1, 180, 180, 3)\n",
      "(1, 180, 180, 3)\n",
      "(1, 180, 180, 3)\n",
      "(1, 180, 180, 3)\n",
      "(1, 180, 180, 3)\n",
      "(1, 180, 180, 3)\n",
      "(1, 180, 180, 3)\n",
      "(1, 180, 180, 3)\n",
      "(1, 180, 180, 3)\n",
      "(1, 180, 180, 3)\n",
      "(1, 180, 180, 3)\n",
      "(1, 180, 180, 3)\n",
      "(1, 180, 180, 3)\n",
      "(1, 180, 180, 3)\n",
      "(1, 180, 180, 3)\n",
      "(1, 180, 180, 3)\n",
      "(1, 180, 180, 3)\n",
      "(1, 180, 180, 3)\n",
      "(1, 180, 180, 3)\n",
      "(1, 180, 180, 3)\n",
      "(1, 180, 180, 3)\n",
      "(1, 180, 180, 3)\n",
      "(1, 180, 180, 3)\n",
      "(1, 180, 180, 3)\n",
      "(1, 180, 180, 3)\n",
      "(1, 180, 180, 3)\n",
      "(1, 180, 180, 3)\n",
      "(1, 180, 180, 3)\n",
      "(1, 180, 180, 3)\n",
      "(1, 180, 180, 3)\n",
      "(1, 180, 180, 3)\n",
      "(1, 180, 180, 3)\n",
      "(1, 180, 180, 3)\n",
      "(1, 180, 180, 3)\n",
      "(1, 180, 180, 3)\n",
      "(1, 180, 180, 3)\n",
      "(1, 180, 180, 3)\n",
      "(1, 180, 180, 3)\n",
      "(1, 180, 180, 3)\n",
      "(1, 180, 180, 3)\n",
      "(1, 180, 180, 3)\n",
      "(1, 180, 180, 3)\n",
      "(1, 180, 180, 3)\n",
      "(1, 180, 180, 3)\n",
      "(1, 180, 180, 3)\n",
      "(1, 180, 180, 3)\n",
      "(1, 180, 180, 3)\n",
      "(1, 180, 180, 3)\n",
      "(1, 180, 180, 3)\n",
      "(1, 180, 180, 3)\n",
      "(1, 180, 180, 3)\n",
      "(1, 180, 180, 3)\n",
      "(1, 180, 180, 3)\n",
      "(1, 180, 180, 3)\n",
      "(1, 180, 180, 3)\n",
      "(1, 180, 180, 3)\n",
      "(1, 180, 180, 3)\n",
      "(1, 180, 180, 3)\n",
      "(1, 180, 180, 3)\n",
      "(1, 180, 180, 3)\n",
      "(1, 180, 180, 3)\n",
      "(1, 180, 180, 3)\n",
      "(1, 180, 180, 3)\n",
      "(1, 180, 180, 3)\n",
      "(1, 180, 180, 3)\n",
      "(1, 180, 180, 3)\n",
      "(1, 180, 180, 3)\n",
      "(1, 180, 180, 3)\n",
      "(1, 180, 180, 3)\n",
      "(1, 180, 180, 3)\n",
      "(1, 180, 180, 3)\n",
      "(1, 180, 180, 3)\n",
      "(1, 180, 180, 3)\n",
      "(1, 180, 180, 3)\n",
      "(1, 180, 180, 3)\n",
      "(1, 180, 180, 3)\n"
     ]
    }
   ],
   "source": [
    "fname = ['one{}.jpg'.format(i) for i in range(100,200)]\n",
    "for f in fname:\n",
    "    imgpath = os.path.join(orginal_srcJPG,f)\n",
    "    image = cv2.imread(imgpath)\n",
    "    image_resize = cv2.resize(image,(img_height,img_width))\n",
    "    image = np.expand_dims(image_resize,axis=0)\n",
    "    print(image.shape)\n",
    "#     pred = resnet_model.predict(image)\n",
    "#     output = class_names[np.argmax(pred)]\n",
    "#     print(output)"
   ]
  },
  {
   "cell_type": "code",
   "execution_count": 129,
   "id": "83a1eb44",
   "metadata": {},
   "outputs": [
    {
     "ename": "IndexError",
     "evalue": "string index out of range",
     "output_type": "error",
     "traceback": [
      "\u001b[1;31m---------------------------------------------------------------------------\u001b[0m",
      "\u001b[1;31mIndexError\u001b[0m                                Traceback (most recent call last)",
      "Cell \u001b[1;32mIn [129], line 3\u001b[0m\n\u001b[0;32m      1\u001b[0m z\u001b[38;5;241m=\u001b[39m\u001b[38;5;241m0\u001b[39m\n\u001b[0;32m      2\u001b[0m \u001b[38;5;28;01mfor\u001b[39;00m k \u001b[38;5;129;01min\u001b[39;00m \u001b[38;5;28mrange\u001b[39m(\u001b[38;5;241m100\u001b[39m):\n\u001b[1;32m----> 3\u001b[0m     \u001b[38;5;28;01mif\u001b[39;00m \u001b[43mresult\u001b[49m\u001b[43m[\u001b[49m\u001b[43mk\u001b[49m\u001b[43m]\u001b[49m\u001b[38;5;241m==\u001b[39m\u001b[38;5;124m'\u001b[39m\u001b[38;5;124mZERO\u001b[39m\u001b[38;5;124m'\u001b[39m:\n\u001b[0;32m      4\u001b[0m         z\u001b[38;5;241m=\u001b[39mz\u001b[38;5;241m+\u001b[39m\u001b[38;5;241m1\u001b[39m\n",
      "\u001b[1;31mIndexError\u001b[0m: string index out of range"
     ]
    }
   ],
   "source": [
    "z=0\n",
    "for k in range(100):\n",
    "    if result[k]=='ZERO':\n",
    "        z=z+1"
   ]
  },
  {
   "cell_type": "code",
   "execution_count": null,
   "id": "f717b9bf",
   "metadata": {},
   "outputs": [],
   "source": [
    "# tf.keras.applications.EfficientNetB0(\n",
    "#     include_top=True,\n",
    "#     weights=\"imagenet\",\n",
    "#     input_tensor=None,\n",
    "#     input_shape=None,\n",
    "#     pooling=None,\n",
    "#     classes=1000,\n",
    "#     classifier_activation=\"softmax\",\n",
    "#     **kwargs\n",
    "# )\n"
   ]
  },
  {
   "cell_type": "code",
   "execution_count": null,
   "id": "478ef7b9",
   "metadata": {},
   "outputs": [],
   "source": [
    "resnet_model = Sequential()\n",
    "pretrained_model = tf.keras.applications.ResNet50(\n",
    "    include_top = False,\n",
    "    input_shape = (150,150,3),\n",
    "    pooling='max', classes=2,\n",
    "    weights='imagenet'\n",
    ")"
   ]
  },
  {
   "cell_type": "code",
   "execution_count": null,
   "id": "90838259",
   "metadata": {},
   "outputs": [],
   "source": [
    "resnet_model = Sequential()\n",
    "pretrained_model = tf.keras.applications.EfficientNetV2L(\n",
    "    include_top=True,\n",
    "    weights=\"imagenet\",\n",
    "    input_tensor=None,\n",
    "    input_shape=None,\n",
    "    pooling=None,\n",
    "    classes=1000,\n",
    "    classifier_activation=\"softmax\",\n",
    "    include_preprocessing=True,\n",
    ")\n"
   ]
  },
  {
   "cell_type": "markdown",
   "id": "c2830127",
   "metadata": {},
   "source": [
    "## EfficienNets B0"
   ]
  },
  {
   "cell_type": "code",
   "execution_count": 2,
   "id": "da5b6d49",
   "metadata": {},
   "outputs": [
    {
     "name": "stdout",
     "output_type": "stream",
     "text": [
      "['One', 'Zero']\n",
      "Types of classes labels found:  2\n",
      "  Labels                         image\n",
      "0    One     dataset_path/One/one1.jpg\n",
      "1    One    dataset_path/One/one10.jpg\n",
      "2    One   dataset_path/One/one100.jpg\n",
      "3    One  dataset_path/One/one1000.jpg\n",
      "4    One  dataset_path/One/one1001.jpg\n",
      "     Labels                          image\n",
      "2781   Zero  dataset_path/Zero/zero995.jpg\n",
      "2782   Zero  dataset_path/Zero/zero996.jpg\n",
      "2783   Zero  dataset_path/Zero/zero997.jpg\n",
      "2784   Zero  dataset_path/Zero/zero998.jpg\n",
      "2785   Zero  dataset_path/Zero/zero999.jpg\n"
     ]
    }
   ],
   "source": [
    "import numpy as np\n",
    "import tensorflow as tf\n",
    "\n",
    "import numpy as np \n",
    "import pandas as pd \n",
    "import matplotlib.pyplot as plt\n",
    "import os\n",
    "\n",
    "dataset_path = os.listdir( r\"D:\\EEG project\\RISHAD\")\n",
    "\n",
    "print (dataset_path)  #what kinds of classes are in this dataset\n",
    "\n",
    "print(\"Types of classes labels found: \", len(dataset_path))\n",
    "\n",
    "class_labels = []\n",
    "\n",
    "for item in dataset_path:\n",
    " # Get all the file names\n",
    " all_classes = os.listdir('D:\\EEG project\\RISHAD' + '/' +item)\n",
    " #print(all_classes)\n",
    "\n",
    " # Add them to the list\n",
    " for room in all_classes:\n",
    "    class_labels.append((item, str('dataset_path' + '/' +item) + '/' + room))\n",
    "    #print(class_labels[:5])\n",
    "    \n",
    "    \n",
    "# Build a dataframe        \n",
    "df = pd.DataFrame(data=class_labels, columns=['Labels', 'image'])\n",
    "print(df.head())\n",
    "print(df.tail())"
   ]
  },
  {
   "cell_type": "code",
   "execution_count": 3,
   "id": "5ab6e0ab",
   "metadata": {},
   "outputs": [
    {
     "name": "stdout",
     "output_type": "stream",
     "text": [
      "Total number of images in the dataset:  2786\n",
      "Zero    1442\n",
      "One     1344\n",
      "Name: Labels, dtype: int64\n"
     ]
    }
   ],
   "source": [
    "print(\"Total number of images in the dataset: \", len(df))\n",
    "\n",
    "label_count = df['Labels'].value_counts()\n",
    "print(label_count)"
   ]
  },
  {
   "cell_type": "code",
   "execution_count": 23,
   "id": "c4b00240",
   "metadata": {},
   "outputs": [
    {
     "ename": "ModuleNotFoundError",
     "evalue": "No module named 'cv2'",
     "output_type": "error",
     "traceback": [
      "\u001b[1;31m---------------------------------------------------------------------------\u001b[0m",
      "\u001b[1;31mModuleNotFoundError\u001b[0m                       Traceback (most recent call last)",
      "Cell \u001b[1;32mIn[23], line 1\u001b[0m\n\u001b[1;32m----> 1\u001b[0m \u001b[38;5;28;01mimport\u001b[39;00m \u001b[38;5;21;01mcv2\u001b[39;00m\n\u001b[0;32m      2\u001b[0m path \u001b[38;5;241m=\u001b[39m \u001b[38;5;124m'\u001b[39m\u001b[38;5;124mD:/EEG project/RISHAD/\u001b[39m\u001b[38;5;124m'\u001b[39m\n\u001b[0;32m      3\u001b[0m dataset_path \u001b[38;5;241m=\u001b[39m os\u001b[38;5;241m.\u001b[39mlistdir(\u001b[38;5;124mr\u001b[39m\u001b[38;5;124m'\u001b[39m\u001b[38;5;124mD:\u001b[39m\u001b[38;5;124m\\\u001b[39m\u001b[38;5;124mEEG project\u001b[39m\u001b[38;5;124m\\\u001b[39m\u001b[38;5;124mRISHAD\u001b[39m\u001b[38;5;124m'\u001b[39m)\n",
      "\u001b[1;31mModuleNotFoundError\u001b[0m: No module named 'cv2'"
     ]
    }
   ],
   "source": [
    "import cv2\n",
    "path = 'D:/EEG project/RISHAD/'\n",
    "dataset_path = os.listdir(r'D:\\EEG project\\RISHAD')\n",
    "\n",
    "im_size = 224\n",
    "\n",
    "images = []\n",
    "labels = []\n",
    "\n",
    "for i in dataset_path:\n",
    "    data_path = path + str(i)  \n",
    "    filenames = [i for i in os.listdir(data_path) ]\n",
    "   \n",
    "    for f in filenames:\n",
    "        img = cv2.imread(data_path + '/' + f)\n",
    "        img = cv2.resize(img, (im_size, im_size))\n",
    "        images.append(img)\n",
    "        labels.append(i)"
   ]
  },
  {
   "cell_type": "code",
   "execution_count": 5,
   "id": "51807467",
   "metadata": {},
   "outputs": [
    {
     "data": {
      "text/plain": [
       "(2786, 224, 224, 3)"
      ]
     },
     "execution_count": 5,
     "metadata": {},
     "output_type": "execute_result"
    }
   ],
   "source": [
    "images = np.array(images)\n",
    "\n",
    "images = images.astype('int') / 255.0\n",
    "images.shape"
   ]
  },
  {
   "cell_type": "code",
   "execution_count": 6,
   "id": "eea86cae",
   "metadata": {},
   "outputs": [
    {
     "name": "stdout",
     "output_type": "stream",
     "text": [
      "['One' 'One' 'One' ... 'Zero' 'Zero' 'Zero']\n",
      "[0 0 0 ... 1 1 1]\n"
     ]
    }
   ],
   "source": [
    "\n",
    "\n",
    "from sklearn.preprocessing import LabelEncoder , OneHotEncoder\n",
    "y=df['Labels'].values\n",
    "print(y)\n",
    "\n",
    "y_labelencoder = LabelEncoder ()\n",
    "y = y_labelencoder.fit_transform (y)\n",
    "print (y)\n",
    "\n"
   ]
  },
  {
   "cell_type": "code",
   "execution_count": 7,
   "id": "020a434d",
   "metadata": {},
   "outputs": [
    {
     "name": "stdout",
     "output_type": "stream",
     "text": [
      "[[1. 0.]\n",
      " [1. 0.]\n",
      " [1. 0.]\n",
      " [1. 0.]\n",
      " [1. 0.]]\n",
      "[[1. 0.]\n",
      " [1. 0.]\n",
      " [1. 0.]\n",
      " ...\n",
      " [0. 1.]\n",
      " [0. 1.]\n",
      " [0. 1.]]\n"
     ]
    }
   ],
   "source": [
    "y=y.reshape(-1,1)\n",
    "\n",
    "from sklearn.compose import ColumnTransformer\n",
    "ct = ColumnTransformer([('my_ohe', OneHotEncoder(), [0])], remainder='passthrough')\n",
    "Y = ct.fit_transform(y) #.toarray()\n",
    "print(Y[:5])\n",
    "print(Y[35:])"
   ]
  },
  {
   "cell_type": "code",
   "execution_count": 10,
   "id": "f115e2ff",
   "metadata": {},
   "outputs": [
    {
     "ename": "NameError",
     "evalue": "name 'images' is not defined",
     "output_type": "error",
     "traceback": [
      "\u001b[1;31m---------------------------------------------------------------------------\u001b[0m",
      "\u001b[1;31mNameError\u001b[0m                                 Traceback (most recent call last)",
      "Cell \u001b[1;32mIn[10], line 5\u001b[0m\n\u001b[0;32m      1\u001b[0m \u001b[38;5;28;01mfrom\u001b[39;00m \u001b[38;5;21;01msklearn\u001b[39;00m\u001b[38;5;21;01m.\u001b[39;00m\u001b[38;5;21;01mutils\u001b[39;00m \u001b[38;5;28;01mimport\u001b[39;00m shuffle\n\u001b[0;32m      2\u001b[0m \u001b[38;5;28;01mfrom\u001b[39;00m \u001b[38;5;21;01msklearn\u001b[39;00m\u001b[38;5;21;01m.\u001b[39;00m\u001b[38;5;21;01mmodel_selection\u001b[39;00m \u001b[38;5;28;01mimport\u001b[39;00m train_test_split\n\u001b[1;32m----> 5\u001b[0m images, Y \u001b[38;5;241m=\u001b[39m shuffle(\u001b[43mimages\u001b[49m, Y, random_state\u001b[38;5;241m=\u001b[39m\u001b[38;5;241m1\u001b[39m)\n\u001b[0;32m      8\u001b[0m train_x, test_x, train_y, test_y \u001b[38;5;241m=\u001b[39m train_test_split(images, Y, test_size\u001b[38;5;241m=\u001b[39m\u001b[38;5;241m0.05\u001b[39m, random_state\u001b[38;5;241m=\u001b[39m\u001b[38;5;241m415\u001b[39m)\n\u001b[0;32m     10\u001b[0m \u001b[38;5;66;03m#inpect the shape of the training and testing.\u001b[39;00m\n",
      "\u001b[1;31mNameError\u001b[0m: name 'images' is not defined"
     ]
    }
   ],
   "source": [
    "\n",
    "\n",
    "from sklearn.utils import shuffle\n",
    "from sklearn.model_selection import train_test_split\n",
    "\n",
    "\n",
    "images, Y = shuffle(images, Y, random_state=1)\n",
    "\n",
    "\n",
    "train_x, test_x, train_y, test_y = train_test_split(images, Y, test_size=0.05, random_state=415)\n",
    "\n",
    "#inpect the shape of the training and testing.\n",
    "print(train_x.shape)\n",
    "print(train_y.shape)\n",
    "print(test_x.shape)\n",
    "print(test_y.shape)\n",
    "\n"
   ]
  },
  {
   "cell_type": "code",
   "execution_count": 9,
   "id": "f90209ca",
   "metadata": {},
   "outputs": [],
   "source": [
    "\n",
    "\n",
    "import cv2\n",
    "import numpy as np\n",
    "from matplotlib.pyplot import imread\n",
    "from matplotlib.pyplot import imshow\n",
    "from tensorflow.keras.preprocessing import image\n",
    "from tensorflow.keras.applications.imagenet_utils import decode_predictions\n",
    "from tensorflow.keras.applications.imagenet_utils import preprocess_input\n",
    "from tensorflow.keras import layers\n",
    "from tensorflow.keras.applications import EfficientNetB0\n",
    "import numpy as np\n",
    "import tensorflow as tf\n",
    "\n",
    "import numpy as np \n",
    "import pandas as pd \n",
    "import matplotlib.pyplot as plt\n",
    "import os\n",
    "\n",
    "\n",
    "NUM_CLASSES = 2\n",
    "IMG_SIZE = 224\n",
    "\n"
   ]
  },
  {
   "cell_type": "code",
   "execution_count": 10,
   "id": "94532556",
   "metadata": {},
   "outputs": [],
   "source": [
    "def build_model(num_classes):\n",
    "    inputs = layers.Input(shape=(IMG_SIZE, IMG_SIZE, 3))\n",
    "    #x = img_augmentation(inputs)\n",
    "    x = inputs\n",
    "    model = EfficientNetB0(include_top=False, input_tensor=x, weights=\"imagenet\")\n",
    "\n",
    "    # Freeze the pretrained weights\n",
    "    model.trainable = False\n",
    "\n",
    "    # Rebuild top\n",
    "    x = layers.GlobalAveragePooling2D(name=\"avg_pool\")(model.output)\n",
    "    x = layers.BatchNormalization()(x)\n",
    "\n",
    "    top_dropout_rate = 0.2\n",
    "    x = layers.Dropout(top_dropout_rate, name=\"top_dropout\")(x)\n",
    "    outputs = layers.Dense(NUM_CLASSES, activation=\"softmax\", name=\"pred\")(x)\n",
    "\n",
    "    # Compile\n",
    "    model = tf.keras.Model(inputs, outputs, name=\"EfficientNet\")\n",
    "    optimizer = tf.keras.optimizers.Adam(learning_rate=1e-2)\n",
    "    model.compile(\n",
    "        optimizer=optimizer, loss=\"binary_crossentropy\", metrics=[\"accuracy\"]\n",
    "    )\n",
    "    return model"
   ]
  },
  {
   "cell_type": "code",
   "execution_count": 11,
   "id": "582540c2",
   "metadata": {},
   "outputs": [],
   "source": [
    "model = build_model(num_classes=NUM_CLASSES)"
   ]
  },
  {
   "cell_type": "code",
   "execution_count": 39,
   "id": "cb9c28a9",
   "metadata": {},
   "outputs": [],
   "source": [
    "\n",
    "\n",
    "import matplotlib.pyplot as plt\n",
    "\n",
    "\n",
    "def plot_hist(hist):\n",
    "    plt.plot(hist.history[\"accuracy\"])\n",
    "    #plt.plot(hist.history[\"val_accuracy\"])\n",
    "    plt.title(\"model accuracy\")\n",
    "    plt.ylabel(\"accuracy\")\n",
    "    plt.xlabel(\"epoch\")\n",
    "    plt.legend([\"train\", \"validation\"], loc=\"upper left\")\n",
    "    plt.show()\n",
    "\n",
    "\n",
    "#plot_hist(hist)\n",
    "\n"
   ]
  },
  {
   "cell_type": "code",
   "execution_count": 13,
   "id": "2fc4dfd8",
   "metadata": {},
   "outputs": [
    {
     "name": "stdout",
     "output_type": "stream",
     "text": [
      "Epoch 1/20\n",
      "83/83 - 117s - loss: 0.9202 - accuracy: 0.5094 - 117s/epoch - 1s/step\n",
      "Epoch 2/20\n",
      "83/83 - 82s - loss: 0.8593 - accuracy: 0.5049 - 82s/epoch - 986ms/step\n",
      "Epoch 3/20\n",
      "83/83 - 79s - loss: 0.8294 - accuracy: 0.4958 - 79s/epoch - 952ms/step\n",
      "Epoch 4/20\n",
      "83/83 - 81s - loss: 0.7643 - accuracy: 0.5147 - 81s/epoch - 971ms/step\n",
      "Epoch 5/20\n",
      "83/83 - 79s - loss: 0.7814 - accuracy: 0.4977 - 79s/epoch - 953ms/step\n",
      "Epoch 6/20\n",
      "83/83 - 80s - loss: 0.7733 - accuracy: 0.5045 - 80s/epoch - 966ms/step\n",
      "Epoch 7/20\n",
      "83/83 - 81s - loss: 0.7607 - accuracy: 0.4970 - 81s/epoch - 973ms/step\n",
      "Epoch 8/20\n",
      "83/83 - 82s - loss: 0.7765 - accuracy: 0.5015 - 82s/epoch - 989ms/step\n",
      "Epoch 9/20\n",
      "83/83 - 80s - loss: 0.7377 - accuracy: 0.5060 - 80s/epoch - 966ms/step\n",
      "Epoch 10/20\n",
      "83/83 - 83s - loss: 0.7326 - accuracy: 0.5011 - 83s/epoch - 997ms/step\n",
      "Epoch 11/20\n",
      "83/83 - 86s - loss: 0.7378 - accuracy: 0.5231 - 86s/epoch - 1s/step\n",
      "Epoch 12/20\n",
      "83/83 - 83s - loss: 0.7374 - accuracy: 0.4887 - 83s/epoch - 995ms/step\n",
      "Epoch 13/20\n",
      "83/83 - 95s - loss: 0.7363 - accuracy: 0.4977 - 95s/epoch - 1s/step\n",
      "Epoch 14/20\n",
      "83/83 - 85s - loss: 0.7290 - accuracy: 0.5094 - 85s/epoch - 1s/step\n",
      "Epoch 15/20\n",
      "83/83 - 87s - loss: 0.7281 - accuracy: 0.4974 - 87s/epoch - 1s/step\n",
      "Epoch 16/20\n",
      "83/83 - 86s - loss: 0.7173 - accuracy: 0.4917 - 86s/epoch - 1s/step\n",
      "Epoch 17/20\n",
      "83/83 - 84s - loss: 0.7363 - accuracy: 0.5045 - 84s/epoch - 1s/step\n",
      "Epoch 18/20\n",
      "83/83 - 80s - loss: 0.7156 - accuracy: 0.5030 - 80s/epoch - 968ms/step\n",
      "Epoch 19/20\n",
      "83/83 - 81s - loss: 0.7069 - accuracy: 0.5094 - 81s/epoch - 981ms/step\n",
      "Epoch 20/20\n",
      "83/83 - 80s - loss: 0.7060 - accuracy: 0.5042 - 80s/epoch - 970ms/step\n"
     ]
    },
    {
     "data": {
      "image/png": "[encoded data removed]",
      "text/plain": [
       "<Figure size 640x480 with 1 Axes>"
      ]
     },
     "metadata": {},
     "output_type": "display_data"
    }
   ],
   "source": [
    "epochs = 20 \n",
    "hist = model.fit(train_x, train_y, epochs=epochs, verbose=2)\n"
   ]
  },
  {
   "cell_type": "code",
   "execution_count": 40,
   "id": "570efb16",
   "metadata": {},
   "outputs": [
    {
     "ename": "NameError",
     "evalue": "name 'hist' is not defined",
     "output_type": "error",
     "traceback": [
      "\u001b[1;31m---------------------------------------------------------------------------\u001b[0m",
      "\u001b[1;31mNameError\u001b[0m                                 Traceback (most recent call last)",
      "Cell \u001b[1;32mIn[40], line 1\u001b[0m\n\u001b[1;32m----> 1\u001b[0m plot_hist(\u001b[43mhist\u001b[49m)\n",
      "\u001b[1;31mNameError\u001b[0m: name 'hist' is not defined"
     ]
    }
   ],
   "source": [
    "plot_hist(hist)"
   ]
  },
  {
   "cell_type": "markdown",
   "id": "57c900f8",
   "metadata": {},
   "source": [
    "\n",
    "## EfficientNetB7 Pretrained Model"
   ]
  },
  {
   "cell_type": "code",
   "execution_count": 25,
   "id": "1625b364",
   "metadata": {},
   "outputs": [],
   "source": [
    "dataset_dir = r\"D:\\EEG\""
   ]
  },
  {
   "cell_type": "code",
   "execution_count": 26,
   "id": "225037e5",
   "metadata": {},
   "outputs": [],
   "source": [
    "img_height = 600\n",
    "img_width = 600"
   ]
  },
  {
   "cell_type": "code",
   "execution_count": 8,
   "id": "9f5f5d5b",
   "metadata": {},
   "outputs": [
    {
     "ename": "NameError",
     "evalue": "name 'dataset_dir' is not defined",
     "output_type": "error",
     "traceback": [
      "\u001b[1;31m---------------------------------------------------------------------------\u001b[0m",
      "\u001b[1;31mNameError\u001b[0m                                 Traceback (most recent call last)",
      "Cell \u001b[1;32mIn[8], line 2\u001b[0m\n\u001b[0;32m      1\u001b[0m train_ds \u001b[38;5;241m=\u001b[39m tf\u001b[38;5;241m.\u001b[39mkeras\u001b[38;5;241m.\u001b[39mpreprocessing\u001b[38;5;241m.\u001b[39mimage_dataset_from_directory(\n\u001b[1;32m----> 2\u001b[0m     \u001b[43mdataset_dir\u001b[49m,\n\u001b[0;32m      3\u001b[0m     validation_split\u001b[38;5;241m=\u001b[39m\u001b[38;5;241m0.2\u001b[39m,\n\u001b[0;32m      4\u001b[0m     subset \u001b[38;5;241m=\u001b[39m \u001b[38;5;124m'\u001b[39m\u001b[38;5;124mtraining\u001b[39m\u001b[38;5;124m'\u001b[39m,\n\u001b[0;32m      5\u001b[0m     seed \u001b[38;5;241m=\u001b[39m \u001b[38;5;241m2022\u001b[39m,\n\u001b[0;32m      6\u001b[0m     label_mode \u001b[38;5;241m=\u001b[39m\u001b[38;5;124m'\u001b[39m\u001b[38;5;124mcategorical\u001b[39m\u001b[38;5;124m'\u001b[39m,\n\u001b[0;32m      7\u001b[0m     image_size \u001b[38;5;241m=\u001b[39m (img_height, img_width),\n\u001b[0;32m      8\u001b[0m     batch_size \u001b[38;5;241m=\u001b[39m \u001b[38;5;241m32\u001b[39m\n\u001b[0;32m      9\u001b[0m )\n",
      "\u001b[1;31mNameError\u001b[0m: name 'dataset_dir' is not defined"
     ]
    }
   ],
   "source": [
    "train_ds = tf.keras.preprocessing.image_dataset_from_directory(\n",
    "    dataset_dir,\n",
    "    validation_split=0.2,\n",
    "    subset = 'training',\n",
    "    seed = 2022,\n",
    "    label_mode ='categorical',\n",
    "    image_size = (img_height, img_width),\n",
    "    batch_size = 32\n",
    ")"
   ]
  },
  {
   "cell_type": "code",
   "execution_count": 28,
   "id": "2f350f34",
   "metadata": {},
   "outputs": [
    {
     "name": "stdout",
     "output_type": "stream",
     "text": [
      "Found 7140 files belonging to 2 classes.\n",
      "Using 1428 files for validation.\n"
     ]
    }
   ],
   "source": [
    "val_ds = tf.keras.preprocessing.image_dataset_from_directory(\n",
    "    dataset_dir,\n",
    "    validation_split=0.2,\n",
    "    subset = 'validation',\n",
    "    seed = 2022,\n",
    "    label_mode ='categorical',\n",
    "    image_size = (img_height, img_width),\n",
    "    batch_size = 32\n",
    ")"
   ]
  },
  {
   "cell_type": "code",
   "execution_count": 7,
   "id": "675b0b80",
   "metadata": {},
   "outputs": [
    {
     "name": "stdout",
     "output_type": "stream",
     "text": [
      "['ONE', 'ZERO']\n"
     ]
    }
   ],
   "source": [
    "class_names = train_ds.class_names\n",
    "print(class_names)"
   ]
  },
  {
   "cell_type": "code",
   "execution_count": 16,
   "id": "d93e2824",
   "metadata": {},
   "outputs": [],
   "source": [
    "resnet_model = Sequential()\n",
    "pretrained_model = tf.keras.applications.EfficientNetB7(\n",
    "    include_top=False,\n",
    "    weights=\"imagenet\",\n",
    "    \n",
    "    input_shape=(600,600,3),\n",
    "    pooling='max',\n",
    "    classes=2,\n",
    "    classifier_activation=\"softmax\",\n",
    "    \n",
    ")\n"
   ]
  },
  {
   "cell_type": "code",
   "execution_count": 17,
   "id": "5370dd1a",
   "metadata": {},
   "outputs": [],
   "source": [
    "for layer in pretrained_model.layers:\n",
    "    layer.trainable=False\n",
    "\n",
    "resnet_model.add(pretrained_model)\n",
    "resnet_model.add(Flatten())\n",
    "resnet_model.add(Dense(512,activation='relu'))\n",
    "resnet_model.add(Dense(2,activation='softmax'))"
   ]
  },
  {
   "cell_type": "code",
   "execution_count": 18,
   "id": "9684ba17",
   "metadata": {},
   "outputs": [
    {
     "name": "stdout",
     "output_type": "stream",
     "text": [
      "Model: \"sequential\"\n",
      "_________________________________________________________________\n",
      " Layer (type)                Output Shape              Param #   \n",
      "=================================================================\n",
      " efficientnetb7 (Functional)  (None, 2560)             64097687  \n",
      "                                                                 \n",
      " module_wrapper (ModuleWrapp  (None, 2560)             0         \n",
      " er)                                                             \n",
      "                                                                 \n",
      " module_wrapper_1 (ModuleWra  (None, 512)              1311232   \n",
      " pper)                                                           \n",
      "                                                                 \n",
      " module_wrapper_2 (ModuleWra  (None, 2)                1026      \n",
      " pper)                                                           \n",
      "                                                                 \n",
      "=================================================================\n",
      "Total params: 65,409,945\n",
      "Trainable params: 1,312,258\n",
      "Non-trainable params: 64,097,687\n",
      "_________________________________________________________________\n"
     ]
    },
    {
     "name": "stderr",
     "output_type": "stream",
     "text": [
      "C:\\python\\lib\\site-packages\\keras\\optimizer_v2\\adam.py:105: UserWarning: The `lr` argument is deprecated, use `learning_rate` instead.\n",
      "  super(Adam, self).__init__(name, **kwargs)\n"
     ]
    }
   ],
   "source": [
    "resnet_model.summary()\n",
    "resnet_model.compile(optimizer=Adam(lr=0.001),loss='binary_crossentropy',metrics=['accuracy'])"
   ]
  },
  {
   "cell_type": "code",
   "execution_count": null,
   "id": "d29b882e",
   "metadata": {},
   "outputs": [
    {
     "name": "stdout",
     "output_type": "stream",
     "text": [
      "Epoch 1/20\n",
      "  7/179 [>.............................] - ETA: 3:08:58 - loss: 17.3298 - accuracy: 0.7545"
     ]
    }
   ],
   "source": [
    "epochs = 20\n",
    "history = resnet_model.fit(\n",
    "    train_ds,\n",
    "    validation_data = val_ds,\n",
    "    epochs = epochs\n",
    ")"
   ]
  },
  {
   "cell_type": "code",
   "execution_count": null,
   "id": "21d608a0",
   "metadata": {},
   "outputs": [],
   "source": [
    "a"
   ]
  },
  {
   "cell_type": "code",
   "execution_count": null,
   "id": "56f4c6f4",
   "metadata": {},
   "outputs": [],
   "source": []
  },
  {
   "cell_type": "markdown",
   "id": "e1f2cd99",
   "metadata": {},
   "source": [
    "## VGG-16"
   ]
  },
  {
   "cell_type": "code",
   "execution_count": 2,
   "id": "bcf557f6",
   "metadata": {},
   "outputs": [],
   "source": [
    "import tensorflow\n",
    "from tensorflow import keras\n",
    "from keras import Sequential\n",
    "from keras.layers import Dense,Flatten\n",
    "from keras.applications.vgg16 import VGG16"
   ]
  },
  {
   "cell_type": "code",
   "execution_count": 3,
   "id": "d9a9b140",
   "metadata": {},
   "outputs": [],
   "source": [
    "conv_base = VGG16(\n",
    "    weights='imagenet',\n",
    "    include_top = False,\n",
    "    input_shape=(150,150,3)\n",
    ")"
   ]
  },
  {
   "cell_type": "code",
   "execution_count": 5,
   "id": "cd4c738b",
   "metadata": {},
   "outputs": [],
   "source": [
    "modelvgg16 = Sequential()\n",
    "\n",
    "modelvgg16.add(conv_base)\n",
    "modelvgg16.add(Flatten())\n",
    "modelvgg16.add(Dense(256,activation='relu'))\n",
    "modelvgg16.add(Dense(1,activation='sigmoid'))"
   ]
  },
  {
   "cell_type": "code",
   "execution_count": 6,
   "id": "02954c5b",
   "metadata": {},
   "outputs": [],
   "source": [
    "conv_base.trainable = False"
   ]
  },
  {
   "cell_type": "code",
   "execution_count": 15,
   "id": "0f83c539",
   "metadata": {},
   "outputs": [
    {
     "name": "stdout",
     "output_type": "stream",
     "text": [
      "Found 7140 files belonging to 2 classes.\n",
      "Using 5712 files for training.\n"
     ]
    }
   ],
   "source": [
    "train_ds = tf.keras.preprocessing.image_dataset_from_directory(\n",
    "    dataset_dir,\n",
    "    validation_split=0.2,\n",
    "    subset = 'training',\n",
    "    seed = 2022,\n",
    "    label_mode ='binary',\n",
    "    image_size = (150,150),\n",
    "    batch_size = 32\n",
    ")"
   ]
  },
  {
   "cell_type": "code",
   "execution_count": 16,
   "id": "007d871e",
   "metadata": {},
   "outputs": [
    {
     "name": "stdout",
     "output_type": "stream",
     "text": [
      "Found 7140 files belonging to 2 classes.\n",
      "Using 1428 files for validation.\n"
     ]
    }
   ],
   "source": [
    "val_ds = tf.keras.preprocessing.image_dataset_from_directory(\n",
    "    dataset_dir,\n",
    "    validation_split=0.2,\n",
    "    subset = 'validation',\n",
    "    seed = 2022,\n",
    "    label_mode ='binary',\n",
    "    image_size = (150,150),\n",
    "    batch_size = 32\n",
    ")"
   ]
  },
  {
   "cell_type": "code",
   "execution_count": 17,
   "id": "b81a16b4",
   "metadata": {},
   "outputs": [],
   "source": [
    "# Normalize\n",
    "def process(image,label):\n",
    "    image = tensorflow.cast(image/255. ,tensorflow.float32)\n",
    "    return image,label\n",
    "\n",
    "train_ds = train_ds.map(process)\n",
    "validation_ds = val_ds.map(process)"
   ]
  },
  {
   "cell_type": "code",
   "execution_count": 19,
   "id": "fb00d5ae",
   "metadata": {},
   "outputs": [],
   "source": [
    "modelvgg16.compile(optimizer='adam',loss='binary_crossentropy',metrics=['accuracy'])"
   ]
  },
  {
   "cell_type": "code",
   "execution_count": 20,
   "id": "a66b9278",
   "metadata": {},
   "outputs": [
    {
     "name": "stdout",
     "output_type": "stream",
     "text": [
      "Epoch 1/10\n",
      "179/179 [==============================] - 485s 3s/step - loss: 0.5033 - accuracy: 0.7903 - val_loss: 0.4474 - val_accuracy: 0.8165\n",
      "Epoch 2/10\n",
      "179/179 [==============================] - 467s 3s/step - loss: 0.4449 - accuracy: 0.8023 - val_loss: 0.4133 - val_accuracy: 0.8137\n",
      "Epoch 3/10\n",
      "179/179 [==============================] - 463s 3s/step - loss: 0.4255 - accuracy: 0.8171 - val_loss: 0.4082 - val_accuracy: 0.8137\n",
      "Epoch 4/10\n",
      "179/179 [==============================] - 466s 3s/step - loss: 0.4137 - accuracy: 0.8241 - val_loss: 0.3966 - val_accuracy: 0.8228\n",
      "Epoch 5/10\n",
      "179/179 [==============================] - 466s 3s/step - loss: 0.3981 - accuracy: 0.8298 - val_loss: 0.3976 - val_accuracy: 0.8256\n",
      "Epoch 6/10\n",
      "179/179 [==============================] - 514s 3s/step - loss: 0.3812 - accuracy: 0.8388 - val_loss: 0.3953 - val_accuracy: 0.8291\n",
      "Epoch 7/10\n",
      "179/179 [==============================] - 542s 3s/step - loss: 0.3800 - accuracy: 0.8421 - val_loss: 0.4001 - val_accuracy: 0.8179\n",
      "Epoch 8/10\n",
      "179/179 [==============================] - 564s 3s/step - loss: 0.3510 - accuracy: 0.8538 - val_loss: 0.3892 - val_accuracy: 0.8291\n",
      "Epoch 9/10\n",
      "179/179 [==============================] - 556s 3s/step - loss: 0.3483 - accuracy: 0.8578 - val_loss: 0.4012 - val_accuracy: 0.8326\n",
      "Epoch 10/10\n",
      "179/179 [==============================] - 542s 3s/step - loss: 0.3360 - accuracy: 0.8601 - val_loss: 0.3902 - val_accuracy: 0.8214\n"
     ]
    }
   ],
   "source": [
    "history = modelvgg16.fit(train_ds,epochs=10,validation_data=validation_ds)"
   ]
  },
  {
   "cell_type": "code",
   "execution_count": 22,
   "id": "543c8bfe",
   "metadata": {},
   "outputs": [],
   "source": [
    "modelvgg16.save('vgg16_tttt.h5')"
   ]
  },
  {
   "cell_type": "code",
   "execution_count": 34,
   "id": "2cf0ed12",
   "metadata": {
    "scrolled": true
   },
   "outputs": [
    {
     "data": {
      "image/png": "[encoded data removed]",
      "text/plain": [
       "<Figure size 640x480 with 1 Axes>"
      ]
     },
     "metadata": {},
     "output_type": "display_data"
    }
   ],
   "source": [
    "loss_train = history.history['loss']\n",
    "loss_val = history.history['val_loss']\n",
    "epochs = range(1,11)\n",
    "plt.plot(epochs, loss_train, 'g', label='Training loss')\n",
    "plt.plot(epochs, loss_val, 'b', label='validation loss')\n",
    "plt.title('Training and Validation loss of VGG-16')\n",
    "plt.xlabel('Epochs')\n",
    "plt.figsize=(1, 1)\n",
    "plt.ylabel('Loss')\n",
    "plt.legend()\n",
    "plt.show()"
   ]
  },
  {
   "cell_type": "code",
   "execution_count": null,
   "id": "d4c0341a",
   "metadata": {},
   "outputs": [],
   "source": []
  },
  {
   "cell_type": "code",
   "execution_count": null,
   "id": "e41b4ea5",
   "metadata": {},
   "outputs": [],
   "source": []
  },
  {
   "cell_type": "code",
   "execution_count": null,
   "id": "98397fec",
   "metadata": {},
   "outputs": [],
   "source": []
  },
  {
   "cell_type": "code",
   "execution_count": null,
   "id": "6e1414b6",
   "metadata": {},
   "outputs": [],
   "source": []
  },
  {
   "cell_type": "code",
   "execution_count": null,
   "id": "785cfcb1",
   "metadata": {},
   "outputs": [],
   "source": []
  },
  {
   "cell_type": "code",
   "execution_count": null,
   "id": "13917c21",
   "metadata": {},
   "outputs": [],
   "source": []
  },
  {
   "cell_type": "code",
   "execution_count": null,
   "id": "7f313bd3",
   "metadata": {},
   "outputs": [],
   "source": []
  },
  {
   "cell_type": "code",
   "execution_count": null,
   "id": "1340075a",
   "metadata": {},
   "outputs": [],
   "source": []
  },
  {
   "cell_type": "code",
   "execution_count": null,
   "id": "faf285d5",
   "metadata": {},
   "outputs": [],
   "source": []
  },
  {
   "cell_type": "code",
   "execution_count": null,
   "id": "80838c64",
   "metadata": {},
   "outputs": [],
   "source": []
  },
  {
   "cell_type": "code",
   "execution_count": null,
   "id": "2586a504",
   "metadata": {},
   "outputs": [],
   "source": [
    "train_ds = tf.keras.preprocessing.image_dataset_from_directory(\n",
    "    dataset_dir,\n",
    "    validation_split=0.2,\n",
    "    subset = 'training',\n",
    "    seed = 2022,\n",
    "    label_mode ='categorical',\n",
    "    image_size = (img_height, img_width),\n",
    "    batch_size = 32\n",
    ")"
   ]
  },
  {
   "cell_type": "code",
   "execution_count": null,
   "id": "10d1c57a",
   "metadata": {},
   "outputs": [],
   "source": [
    "val_ds = tf.keras.preprocessing.image_dataset_from_directory(\n",
    "    dataset_dir,\n",
    "    validation_split=0.2,\n",
    "    subset = 'validation',\n",
    "    seed = 2022,\n",
    "    label_mode ='categorical',\n",
    "    image_size = (img_height, img_width),\n",
    "    batch_size = 32\n",
    ")"
   ]
  },
  {
   "cell_type": "code",
   "execution_count": null,
   "id": "96d10960",
   "metadata": {},
   "outputs": [],
   "source": [
    "class_names = train_ds.class_names\n",
    "print(class_names)"
   ]
  },
  {
   "cell_type": "code",
   "execution_count": null,
   "id": "cef8fc18",
   "metadata": {},
   "outputs": [],
   "source": [
    "resnet_model = Sequential()"
   ]
  },
  {
   "cell_type": "code",
   "execution_count": null,
   "id": "3e8d08ab",
   "metadata": {},
   "outputs": [],
   "source": [
    "resnet_model.compile(optimizer=Adam(lr=0.001),loss='binary_crossentropy',metrics=['accuracy'])"
   ]
  },
  {
   "cell_type": "code",
   "execution_count": null,
   "id": "8f8f7d7f",
   "metadata": {},
   "outputs": [],
   "source": []
  },
  {
   "cell_type": "code",
   "execution_count": null,
   "id": "6a0d0ec8",
   "metadata": {},
   "outputs": [],
   "source": []
  },
  {
   "cell_type": "code",
   "execution_count": null,
   "id": "75a6b5eb",
   "metadata": {},
   "outputs": [],
   "source": []
  },
  {
   "cell_type": "code",
   "execution_count": null,
   "id": "6a108d71",
   "metadata": {},
   "outputs": [],
   "source": []
  },
  {
   "cell_type": "code",
   "execution_count": null,
   "id": "1c1a6a8e",
   "metadata": {},
   "outputs": [],
   "source": []
  },
  {
   "cell_type": "code",
   "execution_count": null,
   "id": "a427eae4",
   "metadata": {},
   "outputs": [],
   "source": []
  },
  {
   "cell_type": "code",
   "execution_count": null,
   "id": "69591015",
   "metadata": {},
   "outputs": [],
   "source": []
  }
 ],
 "metadata": {
  "kernelspec": {
   "display_name": "Python 3 (ipykernel)",
   "language": "python",
   "name": "python3"
  },
  "language_info": {
   "codemirror_mode": {
    "name": "ipython",
    "version": 3
   },
   "file_extension": ".py",
   "mimetype": "text/x-python",
   "name": "python",
   "nbconvert_exporter": "python",
   "pygments_lexer": "ipython3",
   "version": "3.9.0"
  }
 },
 "nbformat": 4,
 "nbformat_minor": 5
}

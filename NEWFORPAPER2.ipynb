{
 "cells": [
  {
   "cell_type": "code",
   "execution_count": 38,
   "id": "daa93125",
   "metadata": {},
   "outputs": [],
   "source": [
    "import matplotlib.pyplot as plotter_lib\n",
    "\n",
    "import numpy as np\n",
    "\n",
    "import PIL as image_lib\n",
    "\n",
    "import tensorflow as tflow\n",
    "\n",
    "from tensorflow.keras.layers import Flatten\n",
    "\n",
    "from keras.layers.core import Dense\n",
    "\n",
    "from tensorflow.keras.models import Sequential\n",
    "\n",
    "from tensorflow.keras.optimizers import Adam\n",
    "import pathlib"
   ]
  },
  {
   "cell_type": "code",
   "execution_count": 39,
   "id": "4f22d53c",
   "metadata": {},
   "outputs": [],
   "source": [
    "data_directory = pathlib.Path('F:\\\\STFT IMAGE')\n",
    "data_directory1 = pathlib.Path(data_directory)"
   ]
  },
  {
   "cell_type": "code",
   "execution_count": 40,
   "id": "4aa1ebf6",
   "metadata": {},
   "outputs": [
    {
     "name": "stdout",
     "output_type": "stream",
     "text": [
      "Found 7140 files belonging to 2 classes.\n",
      "Using 5712 files for training.\n"
     ]
    }
   ],
   "source": [
    "img_height,img_width=150,150\n",
    "\n",
    "batch_size=32\n",
    "\n",
    "train_ds = tflow.keras.preprocessing.image_dataset_from_directory(\n",
    "\n",
    "  data_directory1,\n",
    "\n",
    "  validation_split=0.2,\n",
    "\n",
    "  subset=\"training\",\n",
    "\n",
    "  seed=123,\n",
    "\n",
    "label_mode='categorical',\n",
    "\n",
    "  image_size=(img_height, img_width),\n",
    "\n",
    "  batch_size=batch_size)"
   ]
  },
  {
   "cell_type": "code",
   "execution_count": 41,
   "id": "c56fa3e1",
   "metadata": {},
   "outputs": [
    {
     "name": "stdout",
     "output_type": "stream",
     "text": [
      "Found 7140 files belonging to 2 classes.\n",
      "Using 1428 files for validation.\n"
     ]
    }
   ],
   "source": [
    "validation_ds = tflow.keras.preprocessing.image_dataset_from_directory(\n",
    "\n",
    "  data_directory1,\n",
    "\n",
    "  validation_split=0.2,\n",
    "\n",
    "  subset=\"validation\",\n",
    "\n",
    "  seed=123,\n",
    "\n",
    "label_mode='categorical',\n",
    "\n",
    "  image_size=(img_height, img_width),\n",
    "\n",
    "  batch_size=batch_size)"
   ]
  },
  {
   "cell_type": "code",
   "execution_count": 42,
   "id": "4fa751ef",
   "metadata": {},
   "outputs": [],
   "source": [
    "demo_resnet_model = Sequential()\n",
    "\n",
    "pretrained_model_for_demo= tflow.keras.applications.ResNet50(include_top=False,\n",
    "\n",
    "                   input_shape=(150,150,3),\n",
    "\n",
    "                   pooling='avg',classes=2,\n",
    "\n",
    "                   weights='imagenet')\n",
    "\n",
    "for each_layer in pretrained_model_for_demo.layers:\n",
    "\n",
    "        each_layer.trainable=False\n",
    "\n",
    "demo_resnet_model.add(pretrained_model_for_demo)"
   ]
  },
  {
   "cell_type": "code",
   "execution_count": 43,
   "id": "943924be",
   "metadata": {},
   "outputs": [],
   "source": [
    "demo_resnet_model.add(Flatten())\n",
    "\n",
    "demo_resnet_model.add(Dense(512, activation='relu'))\n",
    "demo_resnet_model.add(Dense(128, activation='relu'))\n",
    "demo_resnet_model.add(Dense(2, activation='sigmoid'))\n",
    "\n"
   ]
  },
  {
   "cell_type": "code",
   "execution_count": 44,
   "id": "696cdd03",
   "metadata": {},
   "outputs": [
    {
     "name": "stdout",
     "output_type": "stream",
     "text": [
      "Model: \"sequential_10\"\n",
      "_________________________________________________________________\n",
      " Layer (type)                Output Shape              Param #   \n",
      "=================================================================\n",
      " resnet50 (Functional)       (None, 2048)              23587712  \n",
      "                                                                 \n",
      " flatten_10 (Flatten)        (None, 2048)              0         \n",
      "                                                                 \n",
      " dense_30 (Dense)            (None, 512)               1049088   \n",
      "                                                                 \n",
      " dense_31 (Dense)            (None, 128)               65664     \n",
      "                                                                 \n",
      " dense_32 (Dense)            (None, 2)                 258       \n",
      "                                                                 \n",
      "=================================================================\n",
      "Total params: 24,702,722\n",
      "Trainable params: 1,115,010\n",
      "Non-trainable params: 23,587,712\n",
      "_________________________________________________________________\n"
     ]
    }
   ],
   "source": [
    "demo_resnet_model.summary()"
   ]
  },
  {
   "cell_type": "code",
   "execution_count": 11,
   "id": "0b5727d3",
   "metadata": {},
   "outputs": [
    {
     "data": {
      "text/plain": [
       "<Figure size 1000x1000 with 0 Axes>"
      ]
     },
     "metadata": {},
     "output_type": "display_data"
    }
   ],
   "source": [
    "import matplotlib.pyplot as plotter_lib\n",
    "\n",
    "plotter_lib.figure(figsize=(10, 10))\n",
    "\n",
    "epochs=10"
   ]
  },
  {
   "cell_type": "code",
   "execution_count": 12,
   "id": "85b69e42",
   "metadata": {},
   "outputs": [
    {
     "name": "stderr",
     "output_type": "stream",
     "text": [
      "WARNING:absl:`lr` is deprecated, please use `learning_rate` instead, or use the legacy optimizer, e.g.,tf.keras.optimizers.legacy.Adam.\n"
     ]
    },
    {
     "name": "stdout",
     "output_type": "stream",
     "text": [
      "Epoch 1/10\n",
      "179/179 [==============================] - 244s 1s/step - loss: 0.4701 - accuracy: 0.7978 - val_loss: 0.4112 - val_accuracy: 0.8088\n",
      "Epoch 2/10\n",
      "179/179 [==============================] - 247s 1s/step - loss: 0.4250 - accuracy: 0.8144 - val_loss: 0.4142 - val_accuracy: 0.8095\n",
      "Epoch 3/10\n",
      "179/179 [==============================] - 235s 1s/step - loss: 0.3950 - accuracy: 0.8291 - val_loss: 0.4068 - val_accuracy: 0.8277\n",
      "Epoch 4/10\n",
      "179/179 [==============================] - 252s 1s/step - loss: 0.3666 - accuracy: 0.8423 - val_loss: 0.3728 - val_accuracy: 0.8424\n",
      "Epoch 5/10\n",
      "179/179 [==============================] - 242s 1s/step - loss: 0.3436 - accuracy: 0.8529 - val_loss: 0.3852 - val_accuracy: 0.8445\n",
      "Epoch 6/10\n",
      "179/179 [==============================] - 242s 1s/step - loss: 0.3294 - accuracy: 0.8601 - val_loss: 0.3753 - val_accuracy: 0.8494\n",
      "Epoch 7/10\n",
      "179/179 [==============================] - 237s 1s/step - loss: 0.2959 - accuracy: 0.8778 - val_loss: 0.4268 - val_accuracy: 0.8200\n",
      "Epoch 8/10\n",
      "179/179 [==============================] - 224s 1s/step - loss: 0.2998 - accuracy: 0.8711 - val_loss: 0.3660 - val_accuracy: 0.8410\n",
      "Epoch 9/10\n",
      "179/179 [==============================] - 224s 1s/step - loss: 0.2781 - accuracy: 0.8859 - val_loss: 0.4111 - val_accuracy: 0.8361\n",
      "Epoch 10/10\n",
      "179/179 [==============================] - 248s 1s/step - loss: 0.2512 - accuracy: 0.8939 - val_loss: 0.4177 - val_accuracy: 0.8193\n"
     ]
    }
   ],
   "source": [
    "demo_resnet_model.compile(optimizer=Adam(lr=0.001),loss='binary_crossentropy',metrics=['accuracy'])\n",
    "\n",
    "history = demo_resnet_model.fit(train_ds, validation_data=validation_ds, epochs=epochs)"
   ]
  },
  {
   "cell_type": "code",
   "execution_count": 25,
   "id": "2f4ea231",
   "metadata": {},
   "outputs": [
    {
     "data": {
      "text/plain": [
       "<matplotlib.legend.Legend at 0x15a0243be50>"
      ]
     },
     "execution_count": 25,
     "metadata": {},
     "output_type": "execute_result"
    },
    {
     "data": {
      "image/png": "[encoded data removed]",
      "text/plain": [
       "<Figure size 500x500 with 1 Axes>"
      ]
     },
     "metadata": {},
     "output_type": "display_data"
    }
   ],
   "source": [
    "plotter_lib.figure(figsize=(5, 5))\n",
    "\n",
    "epochs_range= range(epochs)\n",
    "\n",
    "plotter_lib.plot( epochs_range, history.history['accuracy'], label=\"Training Accuracy\")\n",
    "\n",
    "plotter_lib.plot(epochs_range, history.history['val_accuracy'], label=\"Validation Accuracy\")\n",
    "\n",
    "plotter_lib.axis(ymin=0.4,ymax=1)\n",
    "\n",
    "plotter_lib.grid()\n",
    "\n",
    "plotter_lib.title('Model Accuracy')\n",
    "\n",
    "plotter_lib.ylabel('Accuracy')\n",
    "\n",
    "plotter_lib.xlabel('Epochs')\n",
    "\n",
    "plotter_lib.legend(['train', 'validation'])"
   ]
  },
  {
   "cell_type": "code",
   "execution_count": 14,
   "id": "d3ca4cb5",
   "metadata": {},
   "outputs": [
    {
     "data": {
      "text/plain": [
       "<Figure size 640x480 with 0 Axes>"
      ]
     },
     "metadata": {},
     "output_type": "display_data"
    }
   ],
   "source": [
    "plotter_lib.show()\n",
    "\n",
    "plotter_lib.savefig('output-plot.png') "
   ]
  },
  {
   "cell_type": "code",
   "execution_count": 15,
   "id": "c2401313",
   "metadata": {},
   "outputs": [
    {
     "name": "stdout",
     "output_type": "stream",
     "text": [
      "45/45 [==============================] - 49s 1s/step\n",
      "Accuracy: 0.6666666666666666\n",
      "Classification Report:\n",
      "               precision    recall  f1-score   support\n",
      "\n",
      "           0       0.80      0.78      0.79      1138\n",
      "           1       0.21      0.23      0.22       290\n",
      "\n",
      "    accuracy                           0.67      1428\n",
      "   macro avg       0.50      0.50      0.50      1428\n",
      "weighted avg       0.68      0.67      0.67      1428\n",
      "\n"
     ]
    }
   ],
   "source": [
    "from sklearn.metrics import classification_report, accuracy_score\n",
    "\n",
    "# predict on test data\n",
    "y_pred = demo_resnet_model.predict(validation_ds)\n",
    "\n",
    "# convert predicted probabilities to class labels\n",
    "y_pred = np.argmax(y_pred, axis=1)\n",
    "\n",
    "# get true class labels\n",
    "y_true = np.concatenate([y for x, y in validation_ds], axis=0)\n",
    "y_true = np.argmax(y_true, axis=1)\n",
    "\n",
    "# calculate accuracy\n",
    "acc = accuracy_score(y_true, y_pred)\n",
    "print(\"Accuracy:\", acc)\n",
    "\n",
    "# calculate precision, recall, f1-score\n",
    "report = classification_report(y_true, y_pred)\n",
    "print(\"Classification Report:\\n\", report)"
   ]
  },
  {
   "cell_type": "markdown",
   "id": "f8920989",
   "metadata": {},
   "source": [
    "### VGG-16"
   ]
  },
  {
   "cell_type": "code",
   "execution_count": 16,
   "id": "9e654419",
   "metadata": {},
   "outputs": [],
   "source": [
    "demo_vgg_16_model = Sequential()\n",
    "\n",
    "pretrained_model_for_vgg_16_demo= tflow.keras.applications.VGG16(include_top=False,\n",
    "\n",
    "                   input_shape=(150,150,3),\n",
    "\n",
    "                   pooling='avg',classes=2,\n",
    "\n",
    "                   weights='imagenet')\n",
    "\n",
    "for each_layer in pretrained_model_for_vgg_16_demo.layers:\n",
    "\n",
    "        each_layer.trainable=False\n",
    "\n",
    "demo_vgg_16_model.add(pretrained_model_for_demo)"
   ]
  },
  {
   "cell_type": "code",
   "execution_count": 17,
   "id": "68066342",
   "metadata": {},
   "outputs": [],
   "source": [
    "demo_vgg_16_model.add(Flatten())\n",
    "\n",
    "demo_vgg_16_model.add(Dense(512, activation='relu'))\n",
    "demo_vgg_16_model.add(Dense(128, activation='relu'))\n",
    "demo_vgg_16_model.add(Dense(2, activation='sigmoid'))"
   ]
  },
  {
   "cell_type": "code",
   "execution_count": 18,
   "id": "86ea4e8f",
   "metadata": {},
   "outputs": [],
   "source": [
    "epochs=10"
   ]
  },
  {
   "cell_type": "code",
   "execution_count": 22,
   "id": "dd74bd70",
   "metadata": {},
   "outputs": [],
   "source": [
    "demo_vgg_16_model = Sequential()\n",
    "\n",
    "pretrained_model_for_vgg_16_demo= tflow.keras.applications.VGG16(include_top=False,\n",
    "\n",
    "                   input_shape=(150,150,3),\n",
    "\n",
    "                   pooling='avg',classes=2,\n",
    "\n",
    "                   weights='imagenet')\n",
    "\n",
    "for each_layer in pretrained_model_for_vgg_16_demo.layers:\n",
    "\n",
    "        each_layer.trainable=False\n",
    "\n",
    "demo_vgg_16_model.add(pretrained_model_for_vgg_16_demo)"
   ]
  },
  {
   "cell_type": "code",
   "execution_count": 23,
   "id": "c5c01a0c",
   "metadata": {},
   "outputs": [],
   "source": [
    "demo_vgg_16_model.add(Flatten())\n",
    "\n",
    "demo_vgg_16_model.add(Dense(512, activation='relu'))\n",
    "demo_vgg_16_model.add(Dense(128, activation='relu'))\n",
    "\n",
    "demo_vgg_16_model.add(Dense(2, activation='sigmoid'))"
   ]
  },
  {
   "cell_type": "code",
   "execution_count": 24,
   "id": "5956eca7",
   "metadata": {},
   "outputs": [
    {
     "name": "stderr",
     "output_type": "stream",
     "text": [
      "WARNING:absl:`lr` is deprecated, please use `learning_rate` instead, or use the legacy optimizer, e.g.,tf.keras.optimizers.legacy.Adam.\n"
     ]
    },
    {
     "name": "stdout",
     "output_type": "stream",
     "text": [
      "Epoch 1/10\n",
      "179/179 [==============================] - 391s 2s/step - loss: 0.4913 - accuracy: 0.8008 - val_loss: 0.4087 - val_accuracy: 0.8116\n",
      "Epoch 2/10\n",
      "179/179 [==============================] - 402s 2s/step - loss: 0.4173 - accuracy: 0.8270 - val_loss: 0.4373 - val_accuracy: 0.8025\n",
      "Epoch 3/10\n",
      "179/179 [==============================] - 573s 3s/step - loss: 0.3866 - accuracy: 0.8426 - val_loss: 0.4137 - val_accuracy: 0.8214\n",
      "Epoch 4/10\n",
      "179/179 [==============================] - 469s 3s/step - loss: 0.3496 - accuracy: 0.8589 - val_loss: 0.4000 - val_accuracy: 0.8326\n",
      "Epoch 5/10\n",
      "179/179 [==============================] - 432s 2s/step - loss: 0.3256 - accuracy: 0.8627 - val_loss: 0.3872 - val_accuracy: 0.8319\n",
      "Epoch 6/10\n",
      "179/179 [==============================] - 454s 3s/step - loss: 0.2971 - accuracy: 0.8820 - val_loss: 0.4557 - val_accuracy: 0.8270\n",
      "Epoch 7/10\n",
      "179/179 [==============================] - 436s 2s/step - loss: 0.2787 - accuracy: 0.8908 - val_loss: 0.4551 - val_accuracy: 0.8312\n",
      "Epoch 8/10\n",
      "179/179 [==============================] - 442s 2s/step - loss: 0.2522 - accuracy: 0.9018 - val_loss: 0.4159 - val_accuracy: 0.8424\n",
      "Epoch 9/10\n",
      "179/179 [==============================] - 459s 3s/step - loss: 0.2374 - accuracy: 0.9065 - val_loss: 0.4340 - val_accuracy: 0.8284\n",
      "Epoch 10/10\n",
      "179/179 [==============================] - 428s 2s/step - loss: 0.2371 - accuracy: 0.9063 - val_loss: 0.4853 - val_accuracy: 0.8200\n"
     ]
    }
   ],
   "source": [
    "demo_vgg_16_model.compile(optimizer=Adam(lr=0.001),loss='binary_crossentropy',metrics=['accuracy'])\n",
    "\n",
    "history = demo_vgg_16_model.fit(train_ds, validation_data=validation_ds, epochs=epochs)"
   ]
  },
  {
   "cell_type": "code",
   "execution_count": 26,
   "id": "5f59fc8b",
   "metadata": {},
   "outputs": [
    {
     "data": {
      "text/plain": [
       "<matplotlib.legend.Legend at 0x15a06ea2eb0>"
      ]
     },
     "execution_count": 26,
     "metadata": {},
     "output_type": "execute_result"
    },
    {
     "data": {
      "image/png": "[encoded data removed]",
      "text/plain": [
       "<Figure size 500x500 with 1 Axes>"
      ]
     },
     "metadata": {},
     "output_type": "display_data"
    }
   ],
   "source": [
    "plotter_lib.figure(figsize=(5, 5))\n",
    "\n",
    "epochs_range= range(epochs)\n",
    "\n",
    "plotter_lib.plot( epochs_range, history.history['accuracy'], label=\"Training Accuracy\")\n",
    "\n",
    "plotter_lib.plot(epochs_range, history.history['val_accuracy'], label=\"Validation Accuracy\")\n",
    "\n",
    "plotter_lib.axis(ymin=0.4,ymax=1)\n",
    "\n",
    "plotter_lib.grid()\n",
    "\n",
    "plotter_lib.title('Model Accuracy')\n",
    "\n",
    "plotter_lib.ylabel('Accuracy')\n",
    "\n",
    "plotter_lib.xlabel('Epochs')\n",
    "\n",
    "plotter_lib.legend(['train', 'validation'])"
   ]
  },
  {
   "cell_type": "code",
   "execution_count": 27,
   "id": "ddedad16",
   "metadata": {},
   "outputs": [
    {
     "name": "stdout",
     "output_type": "stream",
     "text": [
      "45/45 [==============================] - 88s 2s/step\n",
      "Accuracy: 0.6491596638655462\n",
      "Classification Report:\n",
      "               precision    recall  f1-score   support\n",
      "\n",
      "           0       0.80      0.75      0.77      1138\n",
      "           1       0.21      0.27      0.24       290\n",
      "\n",
      "    accuracy                           0.65      1428\n",
      "   macro avg       0.51      0.51      0.50      1428\n",
      "weighted avg       0.68      0.65      0.66      1428\n",
      "\n"
     ]
    }
   ],
   "source": [
    "from sklearn.metrics import classification_report, accuracy_score\n",
    "\n",
    "# predict on test data\n",
    "y_pred = demo_vgg_16_model.predict(validation_ds)\n",
    "\n",
    "# convert predicted probabilities to class labels\n",
    "y_pred = np.argmax(y_pred, axis=1)\n",
    "\n",
    "# get true class labels\n",
    "y_true = np.concatenate([y for x, y in validation_ds], axis=0)\n",
    "y_true = np.argmax(y_true, axis=1)\n",
    "\n",
    "# calculate accuracy\n",
    "acc = accuracy_score(y_true, y_pred)\n",
    "print(\"Accuracy:\", acc)\n",
    "\n",
    "# calculate precision, recall, f1-score\n",
    "report = classification_report(y_true, y_pred)\n",
    "print(\"Classification Report:\\n\", report)"
   ]
  },
  {
   "cell_type": "code",
   "execution_count": 6,
   "id": "15900dda",
   "metadata": {},
   "outputs": [
    {
     "name": "stdout",
     "output_type": "stream",
     "text": [
      "Found 7140 files belonging to 2 classes.\n",
      "Using 5712 files for training.\n",
      "Found 7140 files belonging to 2 classes.\n",
      "Using 1428 files for validation.\n"
     ]
    },
    {
     "name": "stderr",
     "output_type": "stream",
     "text": [
      "WARNING:absl:`lr` is deprecated, please use `learning_rate` instead, or use the legacy optimizer, e.g.,tf.keras.optimizers.legacy.Adam.\n"
     ]
    },
    {
     "name": "stdout",
     "output_type": "stream",
     "text": [
      "Epoch 1/10\n",
      "714/714 [==============================] - 601s 838ms/step - loss: 0.4745 - accuracy: 0.7976 - val_loss: 0.4271 - val_accuracy: 0.8186\n",
      "Epoch 2/10\n",
      "714/714 [==============================] - 596s 833ms/step - loss: 0.4123 - accuracy: 0.8239 - val_loss: 0.4230 - val_accuracy: 0.8193\n",
      "Epoch 3/10\n",
      "714/714 [==============================] - 629s 881ms/step - loss: 0.3819 - accuracy: 0.8423 - val_loss: 0.4058 - val_accuracy: 0.8319\n",
      "Epoch 4/10\n",
      "714/714 [==============================] - 562s 786ms/step - loss: 0.3606 - accuracy: 0.8505 - val_loss: 0.3862 - val_accuracy: 0.8466\n",
      "Epoch 5/10\n",
      "714/714 [==============================] - 533s 747ms/step - loss: 0.3367 - accuracy: 0.8641 - val_loss: 0.3961 - val_accuracy: 0.8445\n",
      "Epoch 6/10\n",
      "714/714 [==============================] - 531s 744ms/step - loss: 0.3191 - accuracy: 0.8720 - val_loss: 0.4206 - val_accuracy: 0.8487\n",
      "Epoch 7/10\n",
      "714/714 [==============================] - 526s 737ms/step - loss: 0.2952 - accuracy: 0.8773 - val_loss: 0.4384 - val_accuracy: 0.8403\n",
      "Epoch 8/10\n",
      "714/714 [==============================] - 527s 739ms/step - loss: 0.2874 - accuracy: 0.8862 - val_loss: 0.4952 - val_accuracy: 0.8298\n",
      "Epoch 9/10\n",
      "714/714 [==============================] - 598s 838ms/step - loss: 0.2621 - accuracy: 0.8958 - val_loss: 0.4485 - val_accuracy: 0.8305\n",
      "Epoch 10/10\n",
      "714/714 [==============================] - 588s 823ms/step - loss: 0.2473 - accuracy: 0.9041 - val_loss: 0.4763 - val_accuracy: 0.8354\n"
     ]
    },
    {
     "data": {
      "text/plain": [
       "<Figure size 1000x1000 with 0 Axes>"
      ]
     },
     "metadata": {},
     "output_type": "display_data"
    }
   ],
   "source": [
    "### VGG-19 batch size = 8\n",
    "\n",
    "\n",
    "img_height,img_width=150,150\n",
    "\n",
    "batch_size=8\n",
    "\n",
    "train_ds = tflow.keras.preprocessing.image_dataset_from_directory(\n",
    "\n",
    "  data_directory1,\n",
    "\n",
    "  validation_split=0.2,\n",
    "\n",
    "  subset=\"training\",\n",
    "\n",
    "  seed=123,\n",
    "\n",
    "label_mode='categorical',\n",
    "\n",
    "  image_size=(img_height, img_width),\n",
    "\n",
    "  batch_size=batch_size)\n",
    "\n",
    "\n",
    "\n",
    "validation_ds = tflow.keras.preprocessing.image_dataset_from_directory(\n",
    "\n",
    "  data_directory1,\n",
    "\n",
    "  validation_split=0.2,\n",
    "\n",
    "  subset=\"validation\",\n",
    "\n",
    "  seed=123,\n",
    "\n",
    "label_mode='categorical',\n",
    "\n",
    "  image_size=(img_height, img_width),\n",
    "\n",
    "  batch_size=batch_size)\n",
    "\n",
    "import matplotlib.pyplot as plotter_lib\n",
    "\n",
    "plotter_lib.figure(figsize=(10, 10))\n",
    "\n",
    "epochs=10\n",
    "\n",
    "demo_vgg_19_model = Sequential()\n",
    "\n",
    "pretrained_model_for_vgg_19_demo= tflow.keras.applications.VGG19(include_top=False,\n",
    "\n",
    "                   input_shape=(150,150,3),\n",
    "\n",
    "                   pooling='avg',classes=2,\n",
    "\n",
    "                   weights='imagenet')\n",
    "\n",
    "\n",
    "\n",
    "for each_layer in pretrained_model_for_vgg_19_demo.layers:\n",
    "\n",
    "        each_layer.trainable=False\n",
    "\n",
    "demo_vgg_19_model.add(pretrained_model_for_vgg_19_demo)\n",
    "\n",
    "\n",
    "demo_vgg_19_model.add(Flatten())\n",
    "\n",
    "demo_vgg_19_model.add(Dense(512, activation='relu'))\n",
    "demo_vgg_19_model.add(Dense(128, activation='relu'))\n",
    "\n",
    "demo_vgg_19_model.add(Dense(2, activation='sigmoid'))\n",
    "\n",
    "\n",
    "demo_vgg_19_model.compile(optimizer=Adam(lr=0.001),loss='binary_crossentropy',metrics=['accuracy'])\n",
    "\n",
    "history = demo_vgg_19_model.fit(train_ds, validation_data=validation_ds, epochs=epochs)"
   ]
  },
  {
   "cell_type": "code",
   "execution_count": 7,
   "id": "d73683a1",
   "metadata": {},
   "outputs": [
    {
     "data": {
      "text/plain": [
       "<matplotlib.legend.Legend at 0x2674c323a90>"
      ]
     },
     "execution_count": 7,
     "metadata": {},
     "output_type": "execute_result"
    },
    {
     "data": {
      "image/png": "[encoded data removed]",
      "text/plain": [
       "<Figure size 500x500 with 1 Axes>"
      ]
     },
     "metadata": {},
     "output_type": "display_data"
    }
   ],
   "source": [
    "plotter_lib.figure(figsize=(5, 5))\n",
    "\n",
    "epochs_range= range(epochs)\n",
    "\n",
    "plotter_lib.plot( epochs_range, history.history['accuracy'], label=\"Training Accuracy\")\n",
    "\n",
    "plotter_lib.plot(epochs_range, history.history['val_accuracy'], label=\"Validation Accuracy\")\n",
    "\n",
    "plotter_lib.axis(ymin=0.4,ymax=1)\n",
    "\n",
    "plotter_lib.grid()\n",
    "\n",
    "plotter_lib.title('Model Accuracy')\n",
    "\n",
    "plotter_lib.ylabel('Accuracy')\n",
    "\n",
    "plotter_lib.xlabel('Epochs')\n",
    "\n",
    "plotter_lib.legend(['train', 'validation'])"
   ]
  },
  {
   "cell_type": "code",
   "execution_count": 8,
   "id": "e30e7426",
   "metadata": {},
   "outputs": [
    {
     "data": {
      "text/plain": [
       "<Figure size 640x480 with 0 Axes>"
      ]
     },
     "metadata": {},
     "output_type": "display_data"
    }
   ],
   "source": [
    "plotter_lib.show()\n",
    "\n",
    "plotter_lib.savefig('output-plot.png') "
   ]
  },
  {
   "cell_type": "code",
   "execution_count": 9,
   "id": "4ef01844",
   "metadata": {},
   "outputs": [
    {
     "name": "stdout",
     "output_type": "stream",
     "text": [
      "179/179 [==============================] - 118s 654ms/step\n",
      "Accuracy: 0.6813725490196079\n",
      "Classification Report:\n",
      "               precision    recall  f1-score   support\n",
      "\n",
      "           0       0.79      0.81      0.80      1138\n",
      "           1       0.18      0.17      0.17       290\n",
      "\n",
      "    accuracy                           0.68      1428\n",
      "   macro avg       0.49      0.49      0.49      1428\n",
      "weighted avg       0.67      0.68      0.67      1428\n",
      "\n"
     ]
    }
   ],
   "source": [
    "from sklearn.metrics import classification_report, accuracy_score\n",
    "\n",
    "# predict on test data\n",
    "y_pred = demo_vgg_19_model.predict(validation_ds)\n",
    "\n",
    "# convert predicted probabilities to class labels\n",
    "y_pred = np.argmax(y_pred, axis=1)\n",
    "\n",
    "# get true class labels\n",
    "y_true = np.concatenate([y for x, y in validation_ds], axis=0)\n",
    "y_true = np.argmax(y_true, axis=1)\n",
    "\n",
    "# calculate accuracy\n",
    "acc = accuracy_score(y_true, y_pred)\n",
    "print(\"Accuracy:\", acc)\n",
    "\n",
    "# calculate precision, recall, f1-score\n",
    "report = classification_report(y_true, y_pred)\n",
    "print(\"Classification Report:\\n\", report)"
   ]
  },
  {
   "cell_type": "code",
   "execution_count": 10,
   "id": "0aac7f07",
   "metadata": {},
   "outputs": [
    {
     "name": "stdout",
     "output_type": "stream",
     "text": [
      "Found 7140 files belonging to 2 classes.\n",
      "Using 5712 files for training.\n",
      "Found 7140 files belonging to 2 classes.\n",
      "Using 1428 files for validation.\n"
     ]
    },
    {
     "name": "stderr",
     "output_type": "stream",
     "text": [
      "WARNING:absl:`lr` is deprecated, please use `learning_rate` instead, or use the legacy optimizer, e.g.,tf.keras.optimizers.legacy.Adam.\n"
     ]
    },
    {
     "name": "stdout",
     "output_type": "stream",
     "text": [
      "Epoch 1/10\n",
      "357/357 [==============================] - 585s 2s/step - loss: 0.4725 - accuracy: 0.8044 - val_loss: 0.4669 - val_accuracy: 0.7822\n",
      "Epoch 2/10\n",
      "357/357 [==============================] - 644s 2s/step - loss: 0.4108 - accuracy: 0.8220 - val_loss: 0.3990 - val_accuracy: 0.8270\n",
      "Epoch 3/10\n",
      "357/357 [==============================] - 534s 1s/step - loss: 0.3832 - accuracy: 0.8372 - val_loss: 0.4044 - val_accuracy: 0.8361\n",
      "Epoch 4/10\n",
      "357/357 [==============================] - 522s 1s/step - loss: 0.3556 - accuracy: 0.8514 - val_loss: 0.4176 - val_accuracy: 0.8235\n",
      "Epoch 5/10\n",
      "357/357 [==============================] - 617s 2s/step - loss: 0.3343 - accuracy: 0.8629 - val_loss: 0.4071 - val_accuracy: 0.8284\n",
      "Epoch 6/10\n",
      "357/357 [==============================] - 655s 2s/step - loss: 0.3105 - accuracy: 0.8713 - val_loss: 0.3881 - val_accuracy: 0.8333\n",
      "Epoch 7/10\n",
      "357/357 [==============================] - 625s 2s/step - loss: 0.2944 - accuracy: 0.8790 - val_loss: 0.4016 - val_accuracy: 0.8501\n",
      "Epoch 8/10\n",
      "357/357 [==============================] - 517s 1s/step - loss: 0.2710 - accuracy: 0.8892 - val_loss: 0.4164 - val_accuracy: 0.8438\n",
      "Epoch 9/10\n",
      "357/357 [==============================] - 514s 1s/step - loss: 0.2588 - accuracy: 0.8964 - val_loss: 0.4351 - val_accuracy: 0.8347\n",
      "Epoch 10/10\n",
      "357/357 [==============================] - 506s 1s/step - loss: 0.2333 - accuracy: 0.9056 - val_loss: 0.5037 - val_accuracy: 0.8396\n"
     ]
    },
    {
     "data": {
      "text/plain": [
       "<Figure size 1000x1000 with 0 Axes>"
      ]
     },
     "metadata": {},
     "output_type": "display_data"
    }
   ],
   "source": [
    "### VGG-19 batch size = 16\n",
    "\n",
    "\n",
    "img_height,img_width=150,150\n",
    "\n",
    "batch_size=16\n",
    "\n",
    "train_ds = tflow.keras.preprocessing.image_dataset_from_directory(\n",
    "\n",
    "  data_directory1,\n",
    "\n",
    "  validation_split=0.2,\n",
    "\n",
    "  subset=\"training\",\n",
    "\n",
    "  seed=123,\n",
    "\n",
    "label_mode='categorical',\n",
    "\n",
    "  image_size=(img_height, img_width),\n",
    "\n",
    "  batch_size=batch_size)\n",
    "\n",
    "\n",
    "\n",
    "validation_ds = tflow.keras.preprocessing.image_dataset_from_directory(\n",
    "\n",
    "  data_directory1,\n",
    "\n",
    "  validation_split=0.2,\n",
    "\n",
    "  subset=\"validation\",\n",
    "\n",
    "  seed=123,\n",
    "\n",
    "label_mode='categorical',\n",
    "\n",
    "  image_size=(img_height, img_width),\n",
    "\n",
    "  batch_size=batch_size)\n",
    "\n",
    "import matplotlib.pyplot as plotter_lib\n",
    "\n",
    "plotter_lib.figure(figsize=(10, 10))\n",
    "\n",
    "epochs=10\n",
    "\n",
    "demo_vgg_19_model = Sequential()\n",
    "\n",
    "pretrained_model_for_vgg_19_demo= tflow.keras.applications.VGG19(include_top=False,\n",
    "\n",
    "                   input_shape=(150,150,3),\n",
    "\n",
    "                   pooling='avg',classes=2,\n",
    "\n",
    "                   weights='imagenet')\n",
    "\n",
    "\n",
    "\n",
    "for each_layer in pretrained_model_for_vgg_19_demo.layers:\n",
    "\n",
    "        each_layer.trainable=False\n",
    "\n",
    "demo_vgg_19_model.add(pretrained_model_for_vgg_19_demo)\n",
    "\n",
    "\n",
    "demo_vgg_19_model.add(Flatten())\n",
    "\n",
    "demo_vgg_19_model.add(Dense(512, activation='relu'))\n",
    "demo_vgg_19_model.add(Dense(128, activation='relu'))\n",
    "\n",
    "demo_vgg_19_model.add(Dense(2, activation='sigmoid'))\n",
    "\n",
    "\n",
    "demo_vgg_19_model.compile(optimizer=Adam(lr=0.001),loss='binary_crossentropy',metrics=['accuracy'])\n",
    "\n",
    "history = demo_vgg_19_model.fit(train_ds, validation_data=validation_ds, epochs=epochs)"
   ]
  },
  {
   "cell_type": "code",
   "execution_count": 11,
   "id": "446f9df3",
   "metadata": {},
   "outputs": [
    {
     "data": {
      "text/plain": [
       "<matplotlib.legend.Legend at 0x2674bc764f0>"
      ]
     },
     "execution_count": 11,
     "metadata": {},
     "output_type": "execute_result"
    },
    {
     "data": {
      "image/png": "[encoded data removed]",
      "text/plain": [
       "<Figure size 500x500 with 1 Axes>"
      ]
     },
     "metadata": {},
     "output_type": "display_data"
    }
   ],
   "source": [
    "plotter_lib.figure(figsize=(5, 5))\n",
    "\n",
    "epochs_range= range(epochs)\n",
    "\n",
    "plotter_lib.plot( epochs_range, history.history['accuracy'], label=\"Training Accuracy\")\n",
    "\n",
    "plotter_lib.plot(epochs_range, history.history['val_accuracy'], label=\"Validation Accuracy\")\n",
    "\n",
    "plotter_lib.axis(ymin=0.4,ymax=1)\n",
    "\n",
    "plotter_lib.grid()\n",
    "\n",
    "plotter_lib.title('Model Accuracy')\n",
    "\n",
    "plotter_lib.ylabel('Accuracy')\n",
    "\n",
    "plotter_lib.xlabel('Epochs')\n",
    "\n",
    "plotter_lib.legend(['train', 'validation'])"
   ]
  },
  {
   "cell_type": "code",
   "execution_count": 12,
   "id": "9fd8d42d",
   "metadata": {},
   "outputs": [
    {
     "data": {
      "text/plain": [
       "<Figure size 640x480 with 0 Axes>"
      ]
     },
     "metadata": {},
     "output_type": "display_data"
    }
   ],
   "source": [
    "plotter_lib.show()\n",
    "\n",
    "plotter_lib.savefig('output-plot.png') "
   ]
  },
  {
   "cell_type": "code",
   "execution_count": 13,
   "id": "a82eea64",
   "metadata": {},
   "outputs": [
    {
     "name": "stdout",
     "output_type": "stream",
     "text": [
      "90/90 [==============================] - 101s 1s/step\n",
      "Accuracy: 0.7289915966386554\n",
      "Classification Report:\n",
      "               precision    recall  f1-score   support\n",
      "\n",
      "           0       0.80      0.89      0.84      1138\n",
      "           1       0.19      0.10      0.13       290\n",
      "\n",
      "    accuracy                           0.73      1428\n",
      "   macro avg       0.49      0.50      0.49      1428\n",
      "weighted avg       0.67      0.73      0.70      1428\n",
      "\n"
     ]
    }
   ],
   "source": [
    "from sklearn.metrics import classification_report, accuracy_score\n",
    "\n",
    "# predict on test data\n",
    "y_pred = demo_vgg_19_model.predict(validation_ds)\n",
    "\n",
    "# convert predicted probabilities to class labels\n",
    "y_pred = np.argmax(y_pred, axis=1)\n",
    "\n",
    "# get true class labels\n",
    "y_true = np.concatenate([y for x, y in validation_ds], axis=0)\n",
    "y_true = np.argmax(y_true, axis=1)\n",
    "\n",
    "# calculate accuracy\n",
    "acc = accuracy_score(y_true, y_pred)\n",
    "print(\"Accuracy:\", acc)\n",
    "\n",
    "# calculate precision, recall, f1-score\n",
    "report = classification_report(y_true, y_pred)\n",
    "print(\"Classification Report:\\n\", report)"
   ]
  },
  {
   "cell_type": "code",
   "execution_count": null,
   "id": "e9b42c07",
   "metadata": {},
   "outputs": [],
   "source": []
  },
  {
   "cell_type": "code",
   "execution_count": null,
   "id": "4bb58627",
   "metadata": {},
   "outputs": [],
   "source": []
  },
  {
   "cell_type": "code",
   "execution_count": 14,
   "id": "d0620eb5",
   "metadata": {},
   "outputs": [
    {
     "name": "stdout",
     "output_type": "stream",
     "text": [
      "Found 7140 files belonging to 2 classes.\n",
      "Using 5712 files for training.\n",
      "Found 7140 files belonging to 2 classes.\n",
      "Using 1428 files for validation.\n"
     ]
    },
    {
     "name": "stderr",
     "output_type": "stream",
     "text": [
      "WARNING:absl:`lr` is deprecated, please use `learning_rate` instead, or use the legacy optimizer, e.g.,tf.keras.optimizers.legacy.Adam.\n"
     ]
    },
    {
     "name": "stdout",
     "output_type": "stream",
     "text": [
      "Epoch 1/10\n",
      "179/179 [==============================] - 498s 3s/step - loss: 0.4720 - accuracy: 0.8004 - val_loss: 0.4220 - val_accuracy: 0.7962\n",
      "Epoch 2/10\n",
      "179/179 [==============================] - 496s 3s/step - loss: 0.4136 - accuracy: 0.8186 - val_loss: 0.4048 - val_accuracy: 0.8214\n",
      "Epoch 3/10\n",
      "179/179 [==============================] - 498s 3s/step - loss: 0.3835 - accuracy: 0.8416 - val_loss: 0.3871 - val_accuracy: 0.8368\n",
      "Epoch 4/10\n",
      "179/179 [==============================] - 499s 3s/step - loss: 0.3548 - accuracy: 0.8531 - val_loss: 0.4174 - val_accuracy: 0.8347\n",
      "Epoch 5/10\n",
      "179/179 [==============================] - 496s 3s/step - loss: 0.3352 - accuracy: 0.8584 - val_loss: 0.4043 - val_accuracy: 0.8431\n",
      "Epoch 6/10\n",
      "179/179 [==============================] - 499s 3s/step - loss: 0.3066 - accuracy: 0.8731 - val_loss: 0.4000 - val_accuracy: 0.8487\n",
      "Epoch 7/10\n",
      "179/179 [==============================] - 497s 3s/step - loss: 0.2820 - accuracy: 0.8848 - val_loss: 0.4184 - val_accuracy: 0.8431\n",
      "Epoch 8/10\n",
      "179/179 [==============================] - 501s 3s/step - loss: 0.2653 - accuracy: 0.8960 - val_loss: 0.4217 - val_accuracy: 0.8459\n",
      "Epoch 9/10\n",
      "179/179 [==============================] - 504s 3s/step - loss: 0.2459 - accuracy: 0.9021 - val_loss: 0.4407 - val_accuracy: 0.8396\n",
      "Epoch 10/10\n",
      "179/179 [==============================] - 499s 3s/step - loss: 0.2308 - accuracy: 0.9044 - val_loss: 0.4267 - val_accuracy: 0.8389\n"
     ]
    },
    {
     "data": {
      "text/plain": [
       "<Figure size 1000x1000 with 0 Axes>"
      ]
     },
     "metadata": {},
     "output_type": "display_data"
    }
   ],
   "source": [
    "### VGG-19 batch size = 32\n",
    "\n",
    "\n",
    "img_height,img_width=150,150\n",
    "\n",
    "batch_size=32\n",
    "\n",
    "train_ds = tflow.keras.preprocessing.image_dataset_from_directory(\n",
    "\n",
    "  data_directory1,\n",
    "\n",
    "  validation_split=0.2,\n",
    "\n",
    "  subset=\"training\",\n",
    "\n",
    "  seed=123,\n",
    "\n",
    "label_mode='categorical',\n",
    "\n",
    "  image_size=(img_height, img_width),\n",
    "\n",
    "  batch_size=batch_size)\n",
    "\n",
    "\n",
    "\n",
    "validation_ds = tflow.keras.preprocessing.image_dataset_from_directory(\n",
    "\n",
    "  data_directory1,\n",
    "\n",
    "  validation_split=0.2,\n",
    "\n",
    "  subset=\"validation\",\n",
    "\n",
    "  seed=123,\n",
    "\n",
    "label_mode='categorical',\n",
    "\n",
    "  image_size=(img_height, img_width),\n",
    "\n",
    "  batch_size=batch_size)\n",
    "\n",
    "import matplotlib.pyplot as plotter_lib\n",
    "\n",
    "plotter_lib.figure(figsize=(10, 10))\n",
    "\n",
    "epochs=10\n",
    "\n",
    "demo_vgg_19_model = Sequential()\n",
    "\n",
    "pretrained_model_for_vgg_19_demo= tflow.keras.applications.VGG19(include_top=False,\n",
    "\n",
    "                   input_shape=(150,150,3),\n",
    "\n",
    "                   pooling='avg',classes=2,\n",
    "\n",
    "                   weights='imagenet')\n",
    "\n",
    "\n",
    "\n",
    "for each_layer in pretrained_model_for_vgg_19_demo.layers:\n",
    "\n",
    "        each_layer.trainable=False\n",
    "\n",
    "demo_vgg_19_model.add(pretrained_model_for_vgg_19_demo)\n",
    "\n",
    "\n",
    "demo_vgg_19_model.add(Flatten())\n",
    "\n",
    "demo_vgg_19_model.add(Dense(512, activation='relu'))\n",
    "demo_vgg_19_model.add(Dense(128, activation='relu'))\n",
    "\n",
    "demo_vgg_19_model.add(Dense(2, activation='sigmoid'))\n",
    "\n",
    "\n",
    "demo_vgg_19_model.compile(optimizer=Adam(lr=0.001),loss='binary_crossentropy',metrics=['accuracy'])\n",
    "\n",
    "history = demo_vgg_19_model.fit(train_ds, validation_data=validation_ds, epochs=epochs)"
   ]
  },
  {
   "cell_type": "code",
   "execution_count": 15,
   "id": "1f937ff0",
   "metadata": {},
   "outputs": [
    {
     "data": {
      "text/plain": [
       "<matplotlib.legend.Legend at 0x267012175b0>"
      ]
     },
     "execution_count": 15,
     "metadata": {},
     "output_type": "execute_result"
    },
    {
     "data": {
      "image/png": "[encoded data removed]",
      "text/plain": [
       "<Figure size 500x500 with 1 Axes>"
      ]
     },
     "metadata": {},
     "output_type": "display_data"
    }
   ],
   "source": [
    "plotter_lib.figure(figsize=(5, 5))\n",
    "\n",
    "epochs_range= range(epochs)\n",
    "\n",
    "plotter_lib.plot( epochs_range, history.history['accuracy'], label=\"Training Accuracy\")\n",
    "\n",
    "plotter_lib.plot(epochs_range, history.history['val_accuracy'], label=\"Validation Accuracy\")\n",
    "\n",
    "plotter_lib.axis(ymin=0.4,ymax=1)\n",
    "\n",
    "plotter_lib.grid()\n",
    "\n",
    "plotter_lib.title('Model Accuracy')\n",
    "\n",
    "plotter_lib.ylabel('Accuracy')\n",
    "\n",
    "plotter_lib.xlabel('Epochs')\n",
    "\n",
    "plotter_lib.legend(['train', 'validation'])"
   ]
  },
  {
   "cell_type": "code",
   "execution_count": 16,
   "id": "b681056d",
   "metadata": {},
   "outputs": [
    {
     "data": {
      "text/plain": [
       "<Figure size 640x480 with 0 Axes>"
      ]
     },
     "metadata": {},
     "output_type": "display_data"
    }
   ],
   "source": [
    "plotter_lib.show()\n",
    "\n",
    "plotter_lib.savefig('output-plot.png') "
   ]
  },
  {
   "cell_type": "code",
   "execution_count": 17,
   "id": "7980fc9d",
   "metadata": {},
   "outputs": [
    {
     "name": "stdout",
     "output_type": "stream",
     "text": [
      "45/45 [==============================] - 99s 2s/step\n",
      "Accuracy: 0.6834733893557423\n",
      "Classification Report:\n",
      "               precision    recall  f1-score   support\n",
      "\n",
      "           0       0.80      0.80      0.80      1138\n",
      "           1       0.21      0.21      0.21       290\n",
      "\n",
      "    accuracy                           0.68      1428\n",
      "   macro avg       0.51      0.51      0.51      1428\n",
      "weighted avg       0.68      0.68      0.68      1428\n",
      "\n"
     ]
    }
   ],
   "source": [
    "from sklearn.metrics import classification_report, accuracy_score\n",
    "\n",
    "# predict on test data\n",
    "y_pred = demo_vgg_19_model.predict(validation_ds)\n",
    "\n",
    "# convert predicted probabilities to class labels\n",
    "y_pred = np.argmax(y_pred, axis=1)\n",
    "\n",
    "# get true class labels\n",
    "y_true = np.concatenate([y for x, y in validation_ds], axis=0)\n",
    "y_true = np.argmax(y_true, axis=1)\n",
    "\n",
    "# calculate accuracy\n",
    "acc = accuracy_score(y_true, y_pred)\n",
    "print(\"Accuracy:\", acc)\n",
    "\n",
    "# calculate precision, recall, f1-score\n",
    "report = classification_report(y_true, y_pred)\n",
    "print(\"Classification Report:\\n\", report)"
   ]
  },
  {
   "cell_type": "code",
   "execution_count": null,
   "id": "15abc9a3",
   "metadata": {},
   "outputs": [],
   "source": []
  },
  {
   "cell_type": "code",
   "execution_count": 18,
   "id": "f312c352",
   "metadata": {},
   "outputs": [
    {
     "name": "stdout",
     "output_type": "stream",
     "text": [
      "Found 7140 files belonging to 2 classes.\n",
      "Using 5712 files for training.\n",
      "Found 7140 files belonging to 2 classes.\n",
      "Using 1428 files for validation.\n"
     ]
    },
    {
     "name": "stderr",
     "output_type": "stream",
     "text": [
      "WARNING:absl:`lr` is deprecated, please use `learning_rate` instead, or use the legacy optimizer, e.g.,tf.keras.optimizers.legacy.Adam.\n"
     ]
    },
    {
     "name": "stdout",
     "output_type": "stream",
     "text": [
      "Epoch 1/10\n",
      "90/90 [==============================] - 501s 6s/step - loss: 0.5043 - accuracy: 0.7953 - val_loss: 0.4145 - val_accuracy: 0.8116\n",
      "Epoch 2/10\n",
      "90/90 [==============================] - 499s 6s/step - loss: 0.4097 - accuracy: 0.8274 - val_loss: 0.4133 - val_accuracy: 0.8151\n",
      "Epoch 3/10\n",
      "90/90 [==============================] - 498s 6s/step - loss: 0.3732 - accuracy: 0.8417 - val_loss: 0.4122 - val_accuracy: 0.8193\n",
      "Epoch 4/10\n",
      "90/90 [==============================] - 500s 6s/step - loss: 0.3381 - accuracy: 0.8620 - val_loss: 0.4200 - val_accuracy: 0.8256\n",
      "Epoch 5/10\n",
      "90/90 [==============================] - 504s 6s/step - loss: 0.3262 - accuracy: 0.8648 - val_loss: 0.4128 - val_accuracy: 0.8165\n",
      "Epoch 6/10\n",
      "90/90 [==============================] - 503s 6s/step - loss: 0.3002 - accuracy: 0.8810 - val_loss: 0.4070 - val_accuracy: 0.8249\n",
      "Epoch 7/10\n",
      "90/90 [==============================] - 500s 6s/step - loss: 0.2804 - accuracy: 0.8892 - val_loss: 0.4039 - val_accuracy: 0.8494\n",
      "Epoch 8/10\n",
      "90/90 [==============================] - 500s 6s/step - loss: 0.2477 - accuracy: 0.9016 - val_loss: 0.4148 - val_accuracy: 0.8438\n",
      "Epoch 9/10\n",
      "90/90 [==============================] - 499s 6s/step - loss: 0.2326 - accuracy: 0.9063 - val_loss: 0.4528 - val_accuracy: 0.8186\n",
      "Epoch 10/10\n",
      "90/90 [==============================] - 499s 6s/step - loss: 0.2158 - accuracy: 0.9119 - val_loss: 0.4762 - val_accuracy: 0.8291\n"
     ]
    },
    {
     "data": {
      "text/plain": [
       "<Figure size 1000x1000 with 0 Axes>"
      ]
     },
     "metadata": {},
     "output_type": "display_data"
    }
   ],
   "source": [
    "### VGG-19 batch size = 64\n",
    "\n",
    "\n",
    "img_height,img_width=150,150\n",
    "\n",
    "batch_size=64\n",
    "\n",
    "train_ds = tflow.keras.preprocessing.image_dataset_from_directory(\n",
    "\n",
    "  data_directory1,\n",
    "\n",
    "  validation_split=0.2,\n",
    "\n",
    "  subset=\"training\",\n",
    "\n",
    "  seed=123,\n",
    "\n",
    "label_mode='categorical',\n",
    "\n",
    "  image_size=(img_height, img_width),\n",
    "\n",
    "  batch_size=batch_size)\n",
    "\n",
    "\n",
    "\n",
    "validation_ds = tflow.keras.preprocessing.image_dataset_from_directory(\n",
    "\n",
    "  data_directory1,\n",
    "\n",
    "  validation_split=0.2,\n",
    "\n",
    "  subset=\"validation\",\n",
    "\n",
    "  seed=123,\n",
    "\n",
    "label_mode='categorical',\n",
    "\n",
    "  image_size=(img_height, img_width),\n",
    "\n",
    "  batch_size=batch_size)\n",
    "\n",
    "import matplotlib.pyplot as plotter_lib\n",
    "\n",
    "plotter_lib.figure(figsize=(10, 10))\n",
    "\n",
    "epochs=10\n",
    "\n",
    "demo_vgg_19_model = Sequential()\n",
    "\n",
    "pretrained_model_for_vgg_19_demo= tflow.keras.applications.VGG19(include_top=False,\n",
    "\n",
    "                   input_shape=(150,150,3),\n",
    "\n",
    "                   pooling='avg',classes=2,\n",
    "\n",
    "                   weights='imagenet')\n",
    "\n",
    "\n",
    "\n",
    "for each_layer in pretrained_model_for_vgg_19_demo.layers:\n",
    "\n",
    "        each_layer.trainable=False\n",
    "\n",
    "demo_vgg_19_model.add(pretrained_model_for_vgg_19_demo)\n",
    "\n",
    "\n",
    "demo_vgg_19_model.add(Flatten())\n",
    "\n",
    "demo_vgg_19_model.add(Dense(512, activation='relu'))\n",
    "demo_vgg_19_model.add(Dense(128, activation='relu'))\n",
    "\n",
    "demo_vgg_19_model.add(Dense(2, activation='sigmoid'))\n",
    "\n",
    "\n",
    "demo_vgg_19_model.compile(optimizer=Adam(lr=0.001),loss='binary_crossentropy',metrics=['accuracy'])\n",
    "\n",
    "history = demo_vgg_19_model.fit(train_ds, validation_data=validation_ds, epochs=epochs)"
   ]
  },
  {
   "cell_type": "code",
   "execution_count": 19,
   "id": "c122847a",
   "metadata": {},
   "outputs": [
    {
     "data": {
      "text/plain": [
       "<matplotlib.legend.Legend at 0x267036afc40>"
      ]
     },
     "execution_count": 19,
     "metadata": {},
     "output_type": "execute_result"
    },
    {
     "data": {
      "image/png": "[encoded data removed]",
      "text/plain": [
       "<Figure size 500x500 with 1 Axes>"
      ]
     },
     "metadata": {},
     "output_type": "display_data"
    }
   ],
   "source": [
    "plotter_lib.figure(figsize=(5, 5))\n",
    "\n",
    "epochs_range= range(epochs)\n",
    "\n",
    "plotter_lib.plot( epochs_range, history.history['accuracy'], label=\"Training Accuracy\")\n",
    "\n",
    "plotter_lib.plot(epochs_range, history.history['val_accuracy'], label=\"Validation Accuracy\")\n",
    "\n",
    "plotter_lib.axis(ymin=0.4,ymax=1)\n",
    "\n",
    "plotter_lib.grid()\n",
    "\n",
    "plotter_lib.title('Model Accuracy')\n",
    "\n",
    "plotter_lib.ylabel('Accuracy')\n",
    "\n",
    "plotter_lib.xlabel('Epochs')\n",
    "\n",
    "plotter_lib.legend(['train', 'validation'])"
   ]
  },
  {
   "cell_type": "code",
   "execution_count": 20,
   "id": "eb657d14",
   "metadata": {},
   "outputs": [
    {
     "data": {
      "text/plain": [
       "<Figure size 640x480 with 0 Axes>"
      ]
     },
     "metadata": {},
     "output_type": "display_data"
    }
   ],
   "source": [
    "plotter_lib.show()\n",
    "\n",
    "plotter_lib.savefig('output-plot.png') "
   ]
  },
  {
   "cell_type": "code",
   "execution_count": 21,
   "id": "9a38b8db",
   "metadata": {},
   "outputs": [
    {
     "name": "stdout",
     "output_type": "stream",
     "text": [
      "23/23 [==============================] - 100s 4s/step\n",
      "Accuracy: 0.6876750700280112\n",
      "Classification Report:\n",
      "               precision    recall  f1-score   support\n",
      "\n",
      "           0       0.79      0.83      0.81      1138\n",
      "           1       0.18      0.15      0.16       290\n",
      "\n",
      "    accuracy                           0.69      1428\n",
      "   macro avg       0.48      0.49      0.48      1428\n",
      "weighted avg       0.67      0.69      0.68      1428\n",
      "\n"
     ]
    }
   ],
   "source": [
    "from sklearn.metrics import classification_report, accuracy_score\n",
    "\n",
    "# predict on test data\n",
    "y_pred = demo_vgg_19_model.predict(validation_ds)\n",
    "\n",
    "# convert predicted probabilities to class labels\n",
    "y_pred = np.argmax(y_pred, axis=1)\n",
    "\n",
    "# get true class labels\n",
    "y_true = np.concatenate([y for x, y in validation_ds], axis=0)\n",
    "y_true = np.argmax(y_true, axis=1)\n",
    "\n",
    "# calculate accuracy\n",
    "acc = accuracy_score(y_true, y_pred)\n",
    "print(\"Accuracy:\", acc)\n",
    "\n",
    "# calculate precision, recall, f1-score\n",
    "report = classification_report(y_true, y_pred)\n",
    "print(\"Classification Report:\\n\", report)"
   ]
  },
  {
   "cell_type": "code",
   "execution_count": 22,
   "id": "b5a3003c",
   "metadata": {},
   "outputs": [
    {
     "name": "stdout",
     "output_type": "stream",
     "text": [
      "Found 7140 files belonging to 2 classes.\n",
      "Using 5712 files for training.\n",
      "Found 7140 files belonging to 2 classes.\n",
      "Using 1428 files for validation.\n"
     ]
    },
    {
     "name": "stderr",
     "output_type": "stream",
     "text": [
      "WARNING:absl:`lr` is deprecated, please use `learning_rate` instead, or use the legacy optimizer, e.g.,tf.keras.optimizers.legacy.Adam.\n"
     ]
    },
    {
     "name": "stdout",
     "output_type": "stream",
     "text": [
      "Epoch 1/10\n",
      "179/179 [==============================] - 463s 3s/step - loss: 0.4574 - accuracy: 0.8016 - val_loss: 0.4047 - val_accuracy: 0.8256\n",
      "Epoch 2/10\n",
      "179/179 [==============================] - 468s 3s/step - loss: 0.4145 - accuracy: 0.8195 - val_loss: 0.4043 - val_accuracy: 0.8256\n",
      "Epoch 3/10\n",
      "179/179 [==============================] - 423s 2s/step - loss: 0.3964 - accuracy: 0.8326 - val_loss: 0.3733 - val_accuracy: 0.8340\n",
      "Epoch 4/10\n",
      "179/179 [==============================] - 410s 2s/step - loss: 0.3745 - accuracy: 0.8430 - val_loss: 0.4123 - val_accuracy: 0.8284\n",
      "Epoch 5/10\n",
      "179/179 [==============================] - 420s 2s/step - loss: 0.3562 - accuracy: 0.8545 - val_loss: 0.3783 - val_accuracy: 0.8347\n",
      "Epoch 6/10\n",
      "179/179 [==============================] - 450s 3s/step - loss: 0.3372 - accuracy: 0.8584 - val_loss: 0.3617 - val_accuracy: 0.8424\n",
      "Epoch 7/10\n",
      "179/179 [==============================] - 401s 2s/step - loss: 0.3190 - accuracy: 0.8655 - val_loss: 0.3764 - val_accuracy: 0.8452\n",
      "Epoch 8/10\n",
      "179/179 [==============================] - 392s 2s/step - loss: 0.3013 - accuracy: 0.8755 - val_loss: 0.3786 - val_accuracy: 0.8445\n",
      "Epoch 9/10\n",
      "179/179 [==============================] - 392s 2s/step - loss: 0.2834 - accuracy: 0.8808 - val_loss: 0.3714 - val_accuracy: 0.8424\n",
      "Epoch 10/10\n",
      "179/179 [==============================] - 392s 2s/step - loss: 0.2838 - accuracy: 0.8804 - val_loss: 0.3761 - val_accuracy: 0.8536\n"
     ]
    },
    {
     "data": {
      "text/plain": [
       "<Figure size 1000x1000 with 0 Axes>"
      ]
     },
     "metadata": {},
     "output_type": "display_data"
    }
   ],
   "source": [
    "#### Resnet 101 batch size =32\n",
    "\n",
    "\n",
    "\n",
    "img_height,img_width=150,150\n",
    "\n",
    "batch_size=32\n",
    "\n",
    "train_ds = tflow.keras.preprocessing.image_dataset_from_directory(\n",
    "\n",
    "  data_directory1,\n",
    "\n",
    "  validation_split=0.2,\n",
    "\n",
    "  subset=\"training\",\n",
    "\n",
    "  seed=123,\n",
    "\n",
    "label_mode='categorical',\n",
    "\n",
    "  image_size=(img_height, img_width),\n",
    "\n",
    "  batch_size=batch_size)\n",
    "\n",
    "\n",
    "\n",
    "validation_ds = tflow.keras.preprocessing.image_dataset_from_directory(\n",
    "\n",
    "  data_directory1,\n",
    "\n",
    "  validation_split=0.2,\n",
    "\n",
    "  subset=\"validation\",\n",
    "\n",
    "  seed=123,\n",
    "\n",
    "label_mode='categorical',\n",
    "\n",
    "  image_size=(img_height, img_width),\n",
    "\n",
    "  batch_size=batch_size)\n",
    "\n",
    "\n",
    "demo_resnet_model = Sequential()\n",
    "\n",
    "pretrained_model_for_demo= tflow.keras.applications.ResNet101(include_top=False,\n",
    "\n",
    "                   input_shape=(150,150,3),\n",
    "\n",
    "                   pooling='avg',classes=2,\n",
    "\n",
    "                   weights='imagenet')\n",
    "\n",
    "for each_layer in pretrained_model_for_demo.layers:\n",
    "\n",
    "        each_layer.trainable=False\n",
    "\n",
    "demo_resnet_model.add(pretrained_model_for_demo)\n",
    "\n",
    "\n",
    "demo_resnet_model.add(Flatten())\n",
    "\n",
    "demo_resnet_model.add(Dense(512, activation='relu'))\n",
    "demo_resnet_model.add(Dense(128, activation='relu'))\n",
    "demo_resnet_model.add(Dense(2, activation='sigmoid'))\n",
    "\n",
    "import matplotlib.pyplot as plotter_lib\n",
    "\n",
    "plotter_lib.figure(figsize=(10, 10))\n",
    "\n",
    "epochs=10\n",
    "\n",
    "\n",
    "demo_resnet_model.compile(optimizer=Adam(lr=0.001),loss='binary_crossentropy',metrics=['accuracy'])\n",
    "\n",
    "history = demo_resnet_model.fit(train_ds, validation_data=validation_ds, epochs=epochs)"
   ]
  },
  {
   "cell_type": "code",
   "execution_count": 23,
   "id": "c2187e7d",
   "metadata": {},
   "outputs": [
    {
     "data": {
      "text/plain": [
       "<matplotlib.legend.Legend at 0x26751900970>"
      ]
     },
     "execution_count": 23,
     "metadata": {},
     "output_type": "execute_result"
    },
    {
     "data": {
      "image/png": "[encoded data removed]",
      "text/plain": [
       "<Figure size 500x500 with 1 Axes>"
      ]
     },
     "metadata": {},
     "output_type": "display_data"
    }
   ],
   "source": [
    "plotter_lib.figure(figsize=(5, 5))\n",
    "\n",
    "epochs_range= range(epochs)\n",
    "\n",
    "plotter_lib.plot( epochs_range, history.history['accuracy'], label=\"Training Accuracy\")\n",
    "\n",
    "plotter_lib.plot(epochs_range, history.history['val_accuracy'], label=\"Validation Accuracy\")\n",
    "\n",
    "plotter_lib.axis(ymin=0.4,ymax=1)\n",
    "\n",
    "plotter_lib.grid()\n",
    "\n",
    "plotter_lib.title('Model Accuracy')\n",
    "\n",
    "plotter_lib.ylabel('Accuracy')\n",
    "\n",
    "plotter_lib.xlabel('Epochs')\n",
    "\n",
    "plotter_lib.legend(['train', 'validation'])"
   ]
  },
  {
   "cell_type": "code",
   "execution_count": 24,
   "id": "2c1faec8",
   "metadata": {},
   "outputs": [
    {
     "data": {
      "text/plain": [
       "<Figure size 640x480 with 0 Axes>"
      ]
     },
     "metadata": {},
     "output_type": "display_data"
    }
   ],
   "source": [
    "plotter_lib.show()\n",
    "\n",
    "plotter_lib.savefig('output-plot.png') "
   ]
  },
  {
   "cell_type": "code",
   "execution_count": 25,
   "id": "53d779f4",
   "metadata": {},
   "outputs": [
    {
     "name": "stdout",
     "output_type": "stream",
     "text": [
      "45/45 [==============================] - 79s 2s/step\n",
      "Accuracy: 0.6981792717086834\n",
      "Classification Report:\n",
      "               precision    recall  f1-score   support\n",
      "\n",
      "           0       0.80      0.83      0.81      1138\n",
      "           1       0.21      0.17      0.19       290\n",
      "\n",
      "    accuracy                           0.70      1428\n",
      "   macro avg       0.50      0.50      0.50      1428\n",
      "weighted avg       0.68      0.70      0.69      1428\n",
      "\n"
     ]
    }
   ],
   "source": [
    "from sklearn.metrics import classification_report, accuracy_score\n",
    "\n",
    "# predict on test data\n",
    "y_pred = demo_resnet_model.predict(validation_ds)\n",
    "\n",
    "# convert predicted probabilities to class labels\n",
    "y_pred = np.argmax(y_pred, axis=1)\n",
    "\n",
    "# get true class labels\n",
    "y_true = np.concatenate([y for x, y in validation_ds], axis=0)\n",
    "y_true = np.argmax(y_true, axis=1)\n",
    "\n",
    "# calculate accuracy\n",
    "acc = accuracy_score(y_true, y_pred)\n",
    "print(\"Accuracy:\", acc)\n",
    "\n",
    "# calculate precision, recall, f1-score\n",
    "report = classification_report(y_true, y_pred)\n",
    "print(\"Classification Report:\\n\", report)"
   ]
  },
  {
   "cell_type": "code",
   "execution_count": null,
   "id": "f1cf1a2b",
   "metadata": {},
   "outputs": [],
   "source": []
  },
  {
   "cell_type": "code",
   "execution_count": null,
   "id": "843bb36f",
   "metadata": {},
   "outputs": [],
   "source": []
  },
  {
   "cell_type": "code",
   "execution_count": 26,
   "id": "e0b7baa6",
   "metadata": {},
   "outputs": [
    {
     "name": "stdout",
     "output_type": "stream",
     "text": [
      "Found 7140 files belonging to 2 classes.\n",
      "Using 5712 files for training.\n",
      "Found 7140 files belonging to 2 classes.\n",
      "Using 1428 files for validation.\n"
     ]
    },
    {
     "name": "stderr",
     "output_type": "stream",
     "text": [
      "WARNING:absl:`lr` is deprecated, please use `learning_rate` instead, or use the legacy optimizer, e.g.,tf.keras.optimizers.legacy.Adam.\n"
     ]
    },
    {
     "name": "stdout",
     "output_type": "stream",
     "text": [
      "Epoch 1/10\n",
      "714/714 [==============================] - 454s 625ms/step - loss: 0.4627 - accuracy: 0.7983 - val_loss: 0.4533 - val_accuracy: 0.8130\n",
      "Epoch 2/10\n",
      "714/714 [==============================] - 442s 619ms/step - loss: 0.4170 - accuracy: 0.8183 - val_loss: 0.3999 - val_accuracy: 0.8368\n",
      "Epoch 3/10\n",
      "714/714 [==============================] - 442s 620ms/step - loss: 0.3887 - accuracy: 0.8379 - val_loss: 0.3820 - val_accuracy: 0.8298\n",
      "Epoch 4/10\n",
      "714/714 [==============================] - 442s 619ms/step - loss: 0.3689 - accuracy: 0.8451 - val_loss: 0.3744 - val_accuracy: 0.8361\n",
      "Epoch 5/10\n",
      "714/714 [==============================] - 444s 622ms/step - loss: 0.3515 - accuracy: 0.8550 - val_loss: 0.3773 - val_accuracy: 0.8347\n",
      "Epoch 6/10\n",
      "714/714 [==============================] - 444s 622ms/step - loss: 0.3289 - accuracy: 0.8627 - val_loss: 0.3662 - val_accuracy: 0.8480\n",
      "Epoch 7/10\n",
      "714/714 [==============================] - 445s 623ms/step - loss: 0.3154 - accuracy: 0.8669 - val_loss: 0.3653 - val_accuracy: 0.8459\n",
      "Epoch 8/10\n",
      "714/714 [==============================] - 447s 627ms/step - loss: 0.2971 - accuracy: 0.8766 - val_loss: 0.3700 - val_accuracy: 0.8466\n",
      "Epoch 9/10\n",
      "714/714 [==============================] - 444s 622ms/step - loss: 0.2796 - accuracy: 0.8808 - val_loss: 0.3729 - val_accuracy: 0.8508\n",
      "Epoch 10/10\n",
      "714/714 [==============================] - 501s 702ms/step - loss: 0.2751 - accuracy: 0.8825 - val_loss: 0.3664 - val_accuracy: 0.8445\n"
     ]
    },
    {
     "data": {
      "text/plain": [
       "<Figure size 1000x1000 with 0 Axes>"
      ]
     },
     "metadata": {},
     "output_type": "display_data"
    }
   ],
   "source": [
    "#### Resnet 101 batch size =8\n",
    "\n",
    "\n",
    "\n",
    "img_height,img_width=150,150\n",
    "\n",
    "batch_size=8\n",
    "\n",
    "train_ds = tflow.keras.preprocessing.image_dataset_from_directory(\n",
    "\n",
    "  data_directory1,\n",
    "\n",
    "  validation_split=0.2,\n",
    "\n",
    "  subset=\"training\",\n",
    "\n",
    "  seed=123,\n",
    "\n",
    "label_mode='categorical',\n",
    "\n",
    "  image_size=(img_height, img_width),\n",
    "\n",
    "  batch_size=batch_size)\n",
    "\n",
    "\n",
    "\n",
    "validation_ds = tflow.keras.preprocessing.image_dataset_from_directory(\n",
    "\n",
    "  data_directory1,\n",
    "\n",
    "  validation_split=0.2,\n",
    "\n",
    "  subset=\"validation\",\n",
    "\n",
    "  seed=123,\n",
    "\n",
    "label_mode='categorical',\n",
    "\n",
    "  image_size=(img_height, img_width),\n",
    "\n",
    "  batch_size=batch_size)\n",
    "\n",
    "\n",
    "demo_resnet_model = Sequential()\n",
    "\n",
    "pretrained_model_for_demo= tflow.keras.applications.ResNet101(include_top=False,\n",
    "\n",
    "                   input_shape=(150,150,3),\n",
    "\n",
    "                   pooling='avg',classes=2,\n",
    "\n",
    "                   weights='imagenet')\n",
    "\n",
    "for each_layer in pretrained_model_for_demo.layers:\n",
    "\n",
    "        each_layer.trainable=False\n",
    "\n",
    "demo_resnet_model.add(pretrained_model_for_demo)\n",
    "\n",
    "\n",
    "demo_resnet_model.add(Flatten())\n",
    "\n",
    "demo_resnet_model.add(Dense(512, activation='relu'))\n",
    "demo_resnet_model.add(Dense(128, activation='relu'))\n",
    "demo_resnet_model.add(Dense(2, activation='sigmoid'))\n",
    "\n",
    "import matplotlib.pyplot as plotter_lib\n",
    "\n",
    "plotter_lib.figure(figsize=(10, 10))\n",
    "\n",
    "epochs=10\n",
    "\n",
    "\n",
    "demo_resnet_model.compile(optimizer=Adam(lr=0.001),loss='binary_crossentropy',metrics=['accuracy'])\n",
    "\n",
    "history = demo_resnet_model.fit(train_ds, validation_data=validation_ds, epochs=epochs)"
   ]
  },
  {
   "cell_type": "code",
   "execution_count": 27,
   "id": "75e7ebd9",
   "metadata": {},
   "outputs": [
    {
     "data": {
      "text/plain": [
       "<matplotlib.legend.Legend at 0x26751902f70>"
      ]
     },
     "execution_count": 27,
     "metadata": {},
     "output_type": "execute_result"
    },
    {
     "data": {
      "image/png": "[encoded data removed]",
      "text/plain": [
       "<Figure size 500x500 with 1 Axes>"
      ]
     },
     "metadata": {},
     "output_type": "display_data"
    }
   ],
   "source": [
    "plotter_lib.figure(figsize=(5, 5))\n",
    "\n",
    "epochs_range= range(epochs)\n",
    "\n",
    "plotter_lib.plot( epochs_range, history.history['accuracy'], label=\"Training Accuracy\")\n",
    "\n",
    "plotter_lib.plot(epochs_range, history.history['val_accuracy'], label=\"Validation Accuracy\")\n",
    "\n",
    "plotter_lib.axis(ymin=0.4,ymax=1)\n",
    "\n",
    "plotter_lib.grid()\n",
    "\n",
    "plotter_lib.title('Model Accuracy')\n",
    "\n",
    "plotter_lib.ylabel('Accuracy')\n",
    "\n",
    "plotter_lib.xlabel('Epochs')\n",
    "\n",
    "plotter_lib.legend(['train', 'validation'])"
   ]
  },
  {
   "cell_type": "code",
   "execution_count": 28,
   "id": "2ca66ca1",
   "metadata": {},
   "outputs": [
    {
     "data": {
      "text/plain": [
       "<Figure size 640x480 with 0 Axes>"
      ]
     },
     "metadata": {},
     "output_type": "display_data"
    }
   ],
   "source": [
    "plotter_lib.show()\n",
    "\n",
    "plotter_lib.savefig('output-plot.png') "
   ]
  },
  {
   "cell_type": "code",
   "execution_count": 29,
   "id": "579a7fe9",
   "metadata": {},
   "outputs": [
    {
     "name": "stdout",
     "output_type": "stream",
     "text": [
      "179/179 [==============================] - 94s 507ms/step\n",
      "Accuracy: 0.7226890756302521\n",
      "Classification Report:\n",
      "               precision    recall  f1-score   support\n",
      "\n",
      "           0       0.80      0.87      0.83      1138\n",
      "           1       0.22      0.15      0.18       290\n",
      "\n",
      "    accuracy                           0.72      1428\n",
      "   macro avg       0.51      0.51      0.51      1428\n",
      "weighted avg       0.68      0.72      0.70      1428\n",
      "\n"
     ]
    }
   ],
   "source": [
    "from sklearn.metrics import classification_report, accuracy_score\n",
    "\n",
    "# predict on test data\n",
    "y_pred = demo_resnet_model.predict(validation_ds)\n",
    "\n",
    "# convert predicted probabilities to class labels\n",
    "y_pred = np.argmax(y_pred, axis=1)\n",
    "\n",
    "# get true class labels\n",
    "y_true = np.concatenate([y for x, y in validation_ds], axis=0)\n",
    "y_true = np.argmax(y_true, axis=1)\n",
    "\n",
    "# calculate accuracy\n",
    "acc = accuracy_score(y_true, y_pred)\n",
    "print(\"Accuracy:\", acc)\n",
    "\n",
    "# calculate precision, recall, f1-score\n",
    "report = classification_report(y_true, y_pred)\n",
    "print(\"Classification Report:\\n\", report)"
   ]
  },
  {
   "cell_type": "code",
   "execution_count": null,
   "id": "e8e8d5a5",
   "metadata": {},
   "outputs": [],
   "source": []
  },
  {
   "cell_type": "code",
   "execution_count": 30,
   "id": "7192aa8e",
   "metadata": {},
   "outputs": [
    {
     "name": "stdout",
     "output_type": "stream",
     "text": [
      "Found 7140 files belonging to 2 classes.\n",
      "Using 5712 files for training.\n",
      "Found 7140 files belonging to 2 classes.\n",
      "Using 1428 files for validation.\n"
     ]
    },
    {
     "name": "stderr",
     "output_type": "stream",
     "text": [
      "WARNING:absl:`lr` is deprecated, please use `learning_rate` instead, or use the legacy optimizer, e.g.,tf.keras.optimizers.legacy.Adam.\n"
     ]
    },
    {
     "name": "stdout",
     "output_type": "stream",
     "text": [
      "Epoch 1/10\n",
      "357/357 [==============================] - 431s 1s/step - loss: 0.4596 - accuracy: 0.7962 - val_loss: 0.4363 - val_accuracy: 0.8207\n",
      "Epoch 2/10\n",
      "357/357 [==============================] - 446s 1s/step - loss: 0.4087 - accuracy: 0.8223 - val_loss: 0.4076 - val_accuracy: 0.8249\n",
      "Epoch 3/10\n",
      "357/357 [==============================] - 486s 1s/step - loss: 0.3902 - accuracy: 0.8363 - val_loss: 0.4124 - val_accuracy: 0.8438\n",
      "Epoch 4/10\n",
      "357/357 [==============================] - 436s 1s/step - loss: 0.3572 - accuracy: 0.8535 - val_loss: 0.4080 - val_accuracy: 0.8249\n",
      "Epoch 5/10\n",
      "357/357 [==============================] - 454s 1s/step - loss: 0.3457 - accuracy: 0.8559 - val_loss: 0.3762 - val_accuracy: 0.8417\n",
      "Epoch 6/10\n",
      "357/357 [==============================] - 425s 1s/step - loss: 0.3281 - accuracy: 0.8638 - val_loss: 0.3789 - val_accuracy: 0.8445\n",
      "Epoch 7/10\n",
      "357/357 [==============================] - 419s 1s/step - loss: 0.3090 - accuracy: 0.8699 - val_loss: 0.3868 - val_accuracy: 0.8424\n",
      "Epoch 8/10\n",
      "357/357 [==============================] - 412s 1s/step - loss: 0.2893 - accuracy: 0.8785 - val_loss: 0.3712 - val_accuracy: 0.8550\n",
      "Epoch 9/10\n",
      "357/357 [==============================] - 412s 1s/step - loss: 0.2791 - accuracy: 0.8831 - val_loss: 0.5033 - val_accuracy: 0.8004\n",
      "Epoch 10/10\n",
      "357/357 [==============================] - 410s 1s/step - loss: 0.2623 - accuracy: 0.8866 - val_loss: 0.4119 - val_accuracy: 0.8459\n"
     ]
    },
    {
     "data": {
      "text/plain": [
       "<Figure size 1000x1000 with 0 Axes>"
      ]
     },
     "metadata": {},
     "output_type": "display_data"
    }
   ],
   "source": [
    "#### Resnet 101 batch size =16\n",
    "\n",
    "\n",
    "\n",
    "img_height,img_width=150,150\n",
    "\n",
    "batch_size=16\n",
    "\n",
    "train_ds = tflow.keras.preprocessing.image_dataset_from_directory(\n",
    "\n",
    "  data_directory1,\n",
    "\n",
    "  validation_split=0.2,\n",
    "\n",
    "  subset=\"training\",\n",
    "\n",
    "  seed=123,\n",
    "\n",
    "label_mode='categorical',\n",
    "\n",
    "  image_size=(img_height, img_width),\n",
    "\n",
    "  batch_size=batch_size)\n",
    "\n",
    "\n",
    "\n",
    "validation_ds = tflow.keras.preprocessing.image_dataset_from_directory(\n",
    "\n",
    "  data_directory1,\n",
    "\n",
    "  validation_split=0.2,\n",
    "\n",
    "  subset=\"validation\",\n",
    "\n",
    "  seed=123,\n",
    "\n",
    "label_mode='categorical',\n",
    "\n",
    "  image_size=(img_height, img_width),\n",
    "\n",
    "  batch_size=batch_size)\n",
    "\n",
    "\n",
    "demo_resnet_model = Sequential()\n",
    "\n",
    "pretrained_model_for_demo= tflow.keras.applications.ResNet101(include_top=False,\n",
    "\n",
    "                   input_shape=(150,150,3),\n",
    "\n",
    "                   pooling='avg',classes=2,\n",
    "\n",
    "                   weights='imagenet')\n",
    "\n",
    "for each_layer in pretrained_model_for_demo.layers:\n",
    "\n",
    "        each_layer.trainable=False\n",
    "\n",
    "demo_resnet_model.add(pretrained_model_for_demo)\n",
    "\n",
    "\n",
    "demo_resnet_model.add(Flatten())\n",
    "\n",
    "demo_resnet_model.add(Dense(512, activation='relu'))\n",
    "demo_resnet_model.add(Dense(128, activation='relu'))\n",
    "demo_resnet_model.add(Dense(2, activation='sigmoid'))\n",
    "\n",
    "import matplotlib.pyplot as plotter_lib\n",
    "\n",
    "plotter_lib.figure(figsize=(10, 10))\n",
    "\n",
    "epochs=10\n",
    "\n",
    "\n",
    "demo_resnet_model.compile(optimizer=Adam(lr=0.001),loss='binary_crossentropy',metrics=['accuracy'])\n",
    "\n",
    "history = demo_resnet_model.fit(train_ds, validation_data=validation_ds, epochs=epochs)"
   ]
  },
  {
   "cell_type": "code",
   "execution_count": 31,
   "id": "d103ef09",
   "metadata": {},
   "outputs": [
    {
     "data": {
      "text/plain": [
       "<matplotlib.legend.Legend at 0x2671e024580>"
      ]
     },
     "execution_count": 31,
     "metadata": {},
     "output_type": "execute_result"
    },
    {
     "data": {
      "image/png": "[encoded data removed]",
      "text/plain": [
       "<Figure size 500x500 with 1 Axes>"
      ]
     },
     "metadata": {},
     "output_type": "display_data"
    }
   ],
   "source": [
    "plotter_lib.figure(figsize=(5, 5))\n",
    "\n",
    "epochs_range= range(epochs)\n",
    "\n",
    "plotter_lib.plot( epochs_range, history.history['accuracy'], label=\"Training Accuracy\")\n",
    "\n",
    "plotter_lib.plot(epochs_range, history.history['val_accuracy'], label=\"Validation Accuracy\")\n",
    "\n",
    "plotter_lib.axis(ymin=0.4,ymax=1)\n",
    "\n",
    "plotter_lib.grid()\n",
    "\n",
    "plotter_lib.title('Model Accuracy')\n",
    "\n",
    "plotter_lib.ylabel('Accuracy')\n",
    "\n",
    "plotter_lib.xlabel('Epochs')\n",
    "\n",
    "plotter_lib.legend(['train', 'validation'])"
   ]
  },
  {
   "cell_type": "code",
   "execution_count": 32,
   "id": "6c5e22e9",
   "metadata": {},
   "outputs": [
    {
     "data": {
      "text/plain": [
       "<Figure size 640x480 with 0 Axes>"
      ]
     },
     "metadata": {},
     "output_type": "display_data"
    }
   ],
   "source": [
    "plotter_lib.show()\n",
    "\n",
    "plotter_lib.savefig('output-plot.png') "
   ]
  },
  {
   "cell_type": "code",
   "execution_count": 33,
   "id": "d09e78f6",
   "metadata": {},
   "outputs": [
    {
     "name": "stdout",
     "output_type": "stream",
     "text": [
      "90/90 [==============================] - 85s 912ms/step\n",
      "Accuracy: 0.7086834733893558\n",
      "Classification Report:\n",
      "               precision    recall  f1-score   support\n",
      "\n",
      "           0       0.80      0.84      0.82      1138\n",
      "           1       0.24      0.20      0.22       290\n",
      "\n",
      "    accuracy                           0.71      1428\n",
      "   macro avg       0.52      0.52      0.52      1428\n",
      "weighted avg       0.69      0.71      0.70      1428\n",
      "\n"
     ]
    }
   ],
   "source": [
    "from sklearn.metrics import classification_report, accuracy_score\n",
    "\n",
    "# predict on test data\n",
    "y_pred = demo_resnet_model.predict(validation_ds)\n",
    "\n",
    "# convert predicted probabilities to class labels\n",
    "y_pred = np.argmax(y_pred, axis=1)\n",
    "\n",
    "# get true class labels\n",
    "y_true = np.concatenate([y for x, y in validation_ds], axis=0)\n",
    "y_true = np.argmax(y_true, axis=1)\n",
    "\n",
    "# calculate accuracy\n",
    "acc = accuracy_score(y_true, y_pred)\n",
    "print(\"Accuracy:\", acc)\n",
    "\n",
    "# calculate precision, recall, f1-score\n",
    "report = classification_report(y_true, y_pred)\n",
    "print(\"Classification Report:\\n\", report)"
   ]
  },
  {
   "cell_type": "code",
   "execution_count": null,
   "id": "f8acb51b",
   "metadata": {},
   "outputs": [],
   "source": []
  },
  {
   "cell_type": "code",
   "execution_count": null,
   "id": "f79e67bf",
   "metadata": {},
   "outputs": [],
   "source": []
  },
  {
   "cell_type": "code",
   "execution_count": 34,
   "id": "bf4809c7",
   "metadata": {},
   "outputs": [
    {
     "name": "stdout",
     "output_type": "stream",
     "text": [
      "Found 7140 files belonging to 2 classes.\n",
      "Using 5712 files for training.\n",
      "Found 7140 files belonging to 2 classes.\n",
      "Using 1428 files for validation.\n"
     ]
    },
    {
     "name": "stderr",
     "output_type": "stream",
     "text": [
      "WARNING:absl:`lr` is deprecated, please use `learning_rate` instead, or use the legacy optimizer, e.g.,tf.keras.optimizers.legacy.Adam.\n"
     ]
    },
    {
     "name": "stdout",
     "output_type": "stream",
     "text": [
      "Epoch 1/10\n",
      "90/90 [==============================] - 439s 5s/step - loss: 0.4673 - accuracy: 0.7973 - val_loss: 0.4115 - val_accuracy: 0.8123\n",
      "Epoch 2/10\n",
      "90/90 [==============================] - 413s 5s/step - loss: 0.4161 - accuracy: 0.8206 - val_loss: 0.3963 - val_accuracy: 0.8242\n",
      "Epoch 3/10\n",
      "90/90 [==============================] - 413s 5s/step - loss: 0.3909 - accuracy: 0.8335 - val_loss: 0.3836 - val_accuracy: 0.8382\n",
      "Epoch 4/10\n",
      "90/90 [==============================] - 415s 5s/step - loss: 0.3587 - accuracy: 0.8480 - val_loss: 0.3855 - val_accuracy: 0.8382\n",
      "Epoch 5/10\n",
      "90/90 [==============================] - 415s 5s/step - loss: 0.3570 - accuracy: 0.8480 - val_loss: 0.3609 - val_accuracy: 0.8466\n",
      "Epoch 6/10\n",
      "90/90 [==============================] - 430s 5s/step - loss: 0.3304 - accuracy: 0.8615 - val_loss: 0.3770 - val_accuracy: 0.8368\n",
      "Epoch 7/10\n",
      "90/90 [==============================] - 458s 5s/step - loss: 0.3076 - accuracy: 0.8727 - val_loss: 0.3935 - val_accuracy: 0.8410\n",
      "Epoch 8/10\n",
      "90/90 [==============================] - 424s 5s/step - loss: 0.3037 - accuracy: 0.8713 - val_loss: 0.3776 - val_accuracy: 0.8410\n",
      "Epoch 9/10\n",
      "90/90 [==============================] - 392s 4s/step - loss: 0.2828 - accuracy: 0.8843 - val_loss: 0.3773 - val_accuracy: 0.8445\n",
      "Epoch 10/10\n",
      "90/90 [==============================] - 391s 4s/step - loss: 0.2643 - accuracy: 0.8899 - val_loss: 0.3615 - val_accuracy: 0.8529\n"
     ]
    },
    {
     "data": {
      "text/plain": [
       "<Figure size 1000x1000 with 0 Axes>"
      ]
     },
     "metadata": {},
     "output_type": "display_data"
    }
   ],
   "source": [
    "#### Resnet 101 batch size =64\n",
    "\n",
    "\n",
    "\n",
    "img_height,img_width=150,150\n",
    "\n",
    "batch_size=64\n",
    "\n",
    "train_ds = tflow.keras.preprocessing.image_dataset_from_directory(\n",
    "\n",
    "  data_directory1,\n",
    "\n",
    "  validation_split=0.2,\n",
    "\n",
    "  subset=\"training\",\n",
    "\n",
    "  seed=123,\n",
    "\n",
    "label_mode='categorical',\n",
    "\n",
    "  image_size=(img_height, img_width),\n",
    "\n",
    "  batch_size=batch_size)\n",
    "\n",
    "\n",
    "\n",
    "validation_ds = tflow.keras.preprocessing.image_dataset_from_directory(\n",
    "\n",
    "  data_directory1,\n",
    "\n",
    "  validation_split=0.2,\n",
    "\n",
    "  subset=\"validation\",\n",
    "\n",
    "  seed=123,\n",
    "\n",
    "label_mode='categorical',\n",
    "\n",
    "  image_size=(img_height, img_width),\n",
    "\n",
    "  batch_size=batch_size)\n",
    "\n",
    "\n",
    "demo_resnet_model = Sequential()\n",
    "\n",
    "pretrained_model_for_demo= tflow.keras.applications.ResNet101(include_top=False,\n",
    "\n",
    "                   input_shape=(150,150,3),\n",
    "\n",
    "                   pooling='avg',classes=2,\n",
    "\n",
    "                   weights='imagenet')\n",
    "\n",
    "for each_layer in pretrained_model_for_demo.layers:\n",
    "\n",
    "        each_layer.trainable=False\n",
    "\n",
    "demo_resnet_model.add(pretrained_model_for_demo)\n",
    "\n",
    "\n",
    "demo_resnet_model.add(Flatten())\n",
    "\n",
    "demo_resnet_model.add(Dense(512, activation='relu'))\n",
    "demo_resnet_model.add(Dense(128, activation='relu'))\n",
    "demo_resnet_model.add(Dense(2, activation='sigmoid'))\n",
    "\n",
    "import matplotlib.pyplot as plotter_lib\n",
    "\n",
    "plotter_lib.figure(figsize=(10, 10))\n",
    "\n",
    "epochs=10\n",
    "\n",
    "\n",
    "demo_resnet_model.compile(optimizer=Adam(lr=0.001),loss='binary_crossentropy',metrics=['accuracy'])\n",
    "\n",
    "history = demo_resnet_model.fit(train_ds, validation_data=validation_ds, epochs=epochs)"
   ]
  },
  {
   "cell_type": "code",
   "execution_count": 35,
   "id": "9ea8a8f6",
   "metadata": {},
   "outputs": [
    {
     "data": {
      "text/plain": [
       "<matplotlib.legend.Legend at 0x26701b65b20>"
      ]
     },
     "execution_count": 35,
     "metadata": {},
     "output_type": "execute_result"
    },
    {
     "data": {
      "image/png": "[encoded data removed]",
      "text/plain": [
       "<Figure size 500x500 with 1 Axes>"
      ]
     },
     "metadata": {},
     "output_type": "display_data"
    }
   ],
   "source": [
    "plotter_lib.figure(figsize=(5, 5))\n",
    "\n",
    "epochs_range= range(epochs)\n",
    "\n",
    "plotter_lib.plot( epochs_range, history.history['accuracy'], label=\"Training Accuracy\")\n",
    "\n",
    "plotter_lib.plot(epochs_range, history.history['val_accuracy'], label=\"Validation Accuracy\")\n",
    "\n",
    "plotter_lib.axis(ymin=0.4,ymax=1)\n",
    "\n",
    "plotter_lib.grid()\n",
    "\n",
    "plotter_lib.title('Model Accuracy')\n",
    "\n",
    "plotter_lib.ylabel('Accuracy')\n",
    "\n",
    "plotter_lib.xlabel('Epochs')\n",
    "\n",
    "plotter_lib.legend(['train', 'validation'])"
   ]
  },
  {
   "cell_type": "code",
   "execution_count": 36,
   "id": "14289f2d",
   "metadata": {},
   "outputs": [
    {
     "data": {
      "text/plain": [
       "<Figure size 640x480 with 0 Axes>"
      ]
     },
     "metadata": {},
     "output_type": "display_data"
    }
   ],
   "source": [
    "plotter_lib.show()\n",
    "\n",
    "plotter_lib.savefig('output-plot.png') "
   ]
  },
  {
   "cell_type": "code",
   "execution_count": 37,
   "id": "2fe51db2",
   "metadata": {},
   "outputs": [
    {
     "name": "stdout",
     "output_type": "stream",
     "text": [
      "23/23 [==============================] - 79s 3s/step\n",
      "Accuracy: 0.7016806722689075\n",
      "Classification Report:\n",
      "               precision    recall  f1-score   support\n",
      "\n",
      "           0       0.79      0.85      0.82      1138\n",
      "           1       0.16      0.11      0.13       290\n",
      "\n",
      "    accuracy                           0.70      1428\n",
      "   macro avg       0.47      0.48      0.48      1428\n",
      "weighted avg       0.66      0.70      0.68      1428\n",
      "\n"
     ]
    }
   ],
   "source": [
    "from sklearn.metrics import classification_report, accuracy_score\n",
    "\n",
    "# predict on test data\n",
    "y_pred = demo_resnet_model.predict(validation_ds)\n",
    "\n",
    "# convert predicted probabilities to class labels\n",
    "y_pred = np.argmax(y_pred, axis=1)\n",
    "\n",
    "# get true class labels\n",
    "y_true = np.concatenate([y for x, y in validation_ds], axis=0)\n",
    "y_true = np.argmax(y_true, axis=1)\n",
    "\n",
    "# calculate accuracy\n",
    "acc = accuracy_score(y_true, y_pred)\n",
    "print(\"Accuracy:\", acc)\n",
    "\n",
    "# calculate precision, recall, f1-score\n",
    "report = classification_report(y_true, y_pred)\n",
    "print(\"Classification Report:\\n\", report)"
   ]
  },
  {
   "cell_type": "code",
   "execution_count": null,
   "id": "5ada0df7",
   "metadata": {},
   "outputs": [],
   "source": []
  },
  {
   "cell_type": "code",
   "execution_count": 45,
   "id": "8f78615c",
   "metadata": {},
   "outputs": [
    {
     "name": "stdout",
     "output_type": "stream",
     "text": [
      "Found 7140 files belonging to 2 classes.\n",
      "Using 5712 files for training.\n",
      "Found 7140 files belonging to 2 classes.\n",
      "Using 1428 files for validation.\n"
     ]
    },
    {
     "name": "stderr",
     "output_type": "stream",
     "text": [
      "WARNING:absl:`lr` is deprecated, please use `learning_rate` instead, or use the legacy optimizer, e.g.,tf.keras.optimizers.legacy.Adam.\n"
     ]
    },
    {
     "name": "stdout",
     "output_type": "stream",
     "text": [
      "Epoch 1/10\n",
      "714/714 [==============================] - 358s 483ms/step - loss: 0.4660 - accuracy: 0.8004 - val_loss: 0.4577 - val_accuracy: 0.8130\n",
      "Epoch 2/10\n",
      "714/714 [==============================] - 293s 410ms/step - loss: 0.4223 - accuracy: 0.8150 - val_loss: 0.3970 - val_accuracy: 0.8319\n",
      "Epoch 3/10\n",
      "714/714 [==============================] - 293s 410ms/step - loss: 0.3966 - accuracy: 0.8283 - val_loss: 0.3917 - val_accuracy: 0.8298\n",
      "Epoch 4/10\n",
      "714/714 [==============================] - 291s 407ms/step - loss: 0.3726 - accuracy: 0.8384 - val_loss: 0.3997 - val_accuracy: 0.8347\n",
      "Epoch 5/10\n",
      "714/714 [==============================] - 315s 442ms/step - loss: 0.3506 - accuracy: 0.8529 - val_loss: 0.3962 - val_accuracy: 0.8298\n",
      "Epoch 6/10\n",
      "714/714 [==============================] - 347s 487ms/step - loss: 0.3251 - accuracy: 0.8601 - val_loss: 0.4025 - val_accuracy: 0.8389\n",
      "Epoch 7/10\n",
      "714/714 [==============================] - 317s 444ms/step - loss: 0.3030 - accuracy: 0.8708 - val_loss: 0.4114 - val_accuracy: 0.8368\n",
      "Epoch 8/10\n",
      "714/714 [==============================] - 291s 408ms/step - loss: 0.2838 - accuracy: 0.8797 - val_loss: 0.4503 - val_accuracy: 0.8305\n",
      "Epoch 9/10\n",
      "714/714 [==============================] - 287s 402ms/step - loss: 0.2632 - accuracy: 0.8909 - val_loss: 0.4520 - val_accuracy: 0.8424\n",
      "Epoch 10/10\n",
      "714/714 [==============================] - 288s 403ms/step - loss: 0.2513 - accuracy: 0.8939 - val_loss: 0.4660 - val_accuracy: 0.8263\n"
     ]
    },
    {
     "data": {
      "text/plain": [
       "<Figure size 1000x1000 with 0 Axes>"
      ]
     },
     "metadata": {},
     "output_type": "display_data"
    }
   ],
   "source": [
    "\n",
    "#### Resnet 50 batch size =8\n",
    "\n",
    "\n",
    "\n",
    "img_height,img_width=150,150\n",
    "\n",
    "batch_size=8\n",
    "\n",
    "train_ds = tflow.keras.preprocessing.image_dataset_from_directory(\n",
    "\n",
    "  data_directory1,\n",
    "\n",
    "  validation_split=0.2,\n",
    "\n",
    "  subset=\"training\",\n",
    "\n",
    "  seed=123,\n",
    "\n",
    "label_mode='categorical',\n",
    "\n",
    "  image_size=(img_height, img_width),\n",
    "\n",
    "  batch_size=batch_size)\n",
    "\n",
    "\n",
    "\n",
    "validation_ds = tflow.keras.preprocessing.image_dataset_from_directory(\n",
    "\n",
    "  data_directory1,\n",
    "\n",
    "  validation_split=0.2,\n",
    "\n",
    "  subset=\"validation\",\n",
    "\n",
    "  seed=123,\n",
    "\n",
    "label_mode='categorical',\n",
    "\n",
    "  image_size=(img_height, img_width),\n",
    "\n",
    "  batch_size=batch_size)\n",
    "\n",
    "\n",
    "demo_resnet_model = Sequential()\n",
    "\n",
    "pretrained_model_for_demo= tflow.keras.applications.ResNet50(include_top=False,\n",
    "\n",
    "                   input_shape=(150,150,3),\n",
    "\n",
    "                   pooling='avg',classes=2,\n",
    "\n",
    "                   weights='imagenet')\n",
    "\n",
    "for each_layer in pretrained_model_for_demo.layers:\n",
    "\n",
    "        each_layer.trainable=False\n",
    "\n",
    "demo_resnet_model.add(pretrained_model_for_demo)\n",
    "\n",
    "\n",
    "demo_resnet_model.add(Flatten())\n",
    "\n",
    "demo_resnet_model.add(Dense(512, activation='relu'))\n",
    "demo_resnet_model.add(Dense(128, activation='relu'))\n",
    "demo_resnet_model.add(Dense(2, activation='sigmoid'))\n",
    "\n",
    "import matplotlib.pyplot as plotter_lib\n",
    "\n",
    "plotter_lib.figure(figsize=(10, 10))\n",
    "\n",
    "epochs=10\n",
    "\n",
    "\n",
    "demo_resnet_model.compile(optimizer=Adam(lr=0.001),loss='binary_crossentropy',metrics=['accuracy'])\n",
    "\n",
    "history = demo_resnet_model.fit(train_ds, validation_data=validation_ds, epochs=epochs)\n"
   ]
  },
  {
   "cell_type": "code",
   "execution_count": 46,
   "id": "c9a13b15",
   "metadata": {},
   "outputs": [
    {
     "data": {
      "text/plain": [
       "<matplotlib.legend.Legend at 0x26722e90a30>"
      ]
     },
     "execution_count": 46,
     "metadata": {},
     "output_type": "execute_result"
    },
    {
     "data": {
      "image/png": "[encoded data removed]",
      "text/plain": [
       "<Figure size 500x500 with 1 Axes>"
      ]
     },
     "metadata": {},
     "output_type": "display_data"
    }
   ],
   "source": [
    "plotter_lib.figure(figsize=(5, 5))\n",
    "\n",
    "epochs_range= range(epochs)\n",
    "\n",
    "plotter_lib.plot( epochs_range, history.history['accuracy'], label=\"Training Accuracy\")\n",
    "\n",
    "plotter_lib.plot(epochs_range, history.history['val_accuracy'], label=\"Validation Accuracy\")\n",
    "\n",
    "plotter_lib.axis(ymin=0.4,ymax=1)\n",
    "\n",
    "plotter_lib.grid()\n",
    "\n",
    "plotter_lib.title('Model Accuracy')\n",
    "\n",
    "plotter_lib.ylabel('Accuracy')\n",
    "\n",
    "plotter_lib.xlabel('Epochs')\n",
    "\n",
    "plotter_lib.legend(['train', 'validation'])"
   ]
  },
  {
   "cell_type": "code",
   "execution_count": 47,
   "id": "746eb642",
   "metadata": {},
   "outputs": [
    {
     "data": {
      "text/plain": [
       "<Figure size 640x480 with 0 Axes>"
      ]
     },
     "metadata": {},
     "output_type": "display_data"
    }
   ],
   "source": [
    "plotter_lib.show()\n",
    "\n",
    "plotter_lib.savefig('output-plot.png') "
   ]
  },
  {
   "cell_type": "code",
   "execution_count": 48,
   "id": "ef218675",
   "metadata": {},
   "outputs": [
    {
     "name": "stdout",
     "output_type": "stream",
     "text": [
      "179/179 [==============================] - 58s 314ms/step\n",
      "Accuracy: 0.6498599439775911\n",
      "Classification Report:\n",
      "               precision    recall  f1-score   support\n",
      "\n",
      "           0       0.79      0.77      0.78      1138\n",
      "           1       0.17      0.19      0.18       290\n",
      "\n",
      "    accuracy                           0.65      1428\n",
      "   macro avg       0.48      0.48      0.48      1428\n",
      "weighted avg       0.66      0.65      0.66      1428\n",
      "\n"
     ]
    }
   ],
   "source": [
    "from sklearn.metrics import classification_report, accuracy_score\n",
    "\n",
    "# predict on test data\n",
    "y_pred = demo_resnet_model.predict(validation_ds)\n",
    "\n",
    "# convert predicted probabilities to class labels\n",
    "y_pred = np.argmax(y_pred, axis=1)\n",
    "\n",
    "# get true class labels\n",
    "y_true = np.concatenate([y for x, y in validation_ds], axis=0)\n",
    "y_true = np.argmax(y_true, axis=1)\n",
    "\n",
    "# calculate accuracy\n",
    "acc = accuracy_score(y_true, y_pred)\n",
    "print(\"Accuracy:\", acc)\n",
    "\n",
    "# calculate precision, recall, f1-score\n",
    "report = classification_report(y_true, y_pred)\n",
    "print(\"Classification Report:\\n\", report)"
   ]
  },
  {
   "cell_type": "code",
   "execution_count": null,
   "id": "9dd54033",
   "metadata": {},
   "outputs": [],
   "source": []
  },
  {
   "cell_type": "code",
   "execution_count": 49,
   "id": "6ca50d8e",
   "metadata": {},
   "outputs": [
    {
     "name": "stdout",
     "output_type": "stream",
     "text": [
      "Found 7140 files belonging to 2 classes.\n",
      "Using 5712 files for training.\n",
      "Found 7140 files belonging to 2 classes.\n",
      "Using 1428 files for validation.\n"
     ]
    },
    {
     "name": "stderr",
     "output_type": "stream",
     "text": [
      "WARNING:absl:`lr` is deprecated, please use `learning_rate` instead, or use the legacy optimizer, e.g.,tf.keras.optimizers.legacy.Adam.\n"
     ]
    },
    {
     "name": "stdout",
     "output_type": "stream",
     "text": [
      "Epoch 1/10\n",
      "357/357 [==============================] - 272s 743ms/step - loss: 0.4568 - accuracy: 0.7992 - val_loss: 0.4415 - val_accuracy: 0.8144\n",
      "Epoch 2/10\n",
      "357/357 [==============================] - 262s 733ms/step - loss: 0.4092 - accuracy: 0.8241 - val_loss: 0.4505 - val_accuracy: 0.7885\n",
      "Epoch 3/10\n",
      "357/357 [==============================] - 263s 737ms/step - loss: 0.3886 - accuracy: 0.8367 - val_loss: 0.3930 - val_accuracy: 0.8368\n",
      "Epoch 4/10\n",
      "357/357 [==============================] - 263s 736ms/step - loss: 0.3628 - accuracy: 0.8536 - val_loss: 0.4593 - val_accuracy: 0.7815\n",
      "Epoch 5/10\n",
      "357/357 [==============================] - 263s 736ms/step - loss: 0.3432 - accuracy: 0.8540 - val_loss: 0.3917 - val_accuracy: 0.8438\n",
      "Epoch 6/10\n",
      "357/357 [==============================] - 265s 742ms/step - loss: 0.3220 - accuracy: 0.8626 - val_loss: 0.3840 - val_accuracy: 0.8424\n",
      "Epoch 7/10\n",
      "357/357 [==============================] - 264s 740ms/step - loss: 0.3041 - accuracy: 0.8682 - val_loss: 0.4104 - val_accuracy: 0.8235\n",
      "Epoch 8/10\n",
      "357/357 [==============================] - 267s 748ms/step - loss: 0.2823 - accuracy: 0.8796 - val_loss: 0.3975 - val_accuracy: 0.8291\n",
      "Epoch 9/10\n",
      "357/357 [==============================] - 264s 741ms/step - loss: 0.2680 - accuracy: 0.8890 - val_loss: 0.5210 - val_accuracy: 0.7752\n",
      "Epoch 10/10\n",
      "357/357 [==============================] - 265s 743ms/step - loss: 0.2552 - accuracy: 0.8944 - val_loss: 0.4400 - val_accuracy: 0.8424\n"
     ]
    },
    {
     "data": {
      "text/plain": [
       "<Figure size 1000x1000 with 0 Axes>"
      ]
     },
     "metadata": {},
     "output_type": "display_data"
    }
   ],
   "source": [
    "\n",
    "#### Resnet 50 batch size =16\n",
    "\n",
    "\n",
    "\n",
    "img_height,img_width=150,150\n",
    "\n",
    "batch_size=16\n",
    "\n",
    "train_ds = tflow.keras.preprocessing.image_dataset_from_directory(\n",
    "\n",
    "  data_directory1,\n",
    "\n",
    "  validation_split=0.2,\n",
    "\n",
    "  subset=\"training\",\n",
    "\n",
    "  seed=123,\n",
    "\n",
    "label_mode='categorical',\n",
    "\n",
    "  image_size=(img_height, img_width),\n",
    "\n",
    "  batch_size=batch_size)\n",
    "\n",
    "\n",
    "\n",
    "validation_ds = tflow.keras.preprocessing.image_dataset_from_directory(\n",
    "\n",
    "  data_directory1,\n",
    "\n",
    "  validation_split=0.2,\n",
    "\n",
    "  subset=\"validation\",\n",
    "\n",
    "  seed=123,\n",
    "\n",
    "label_mode='categorical',\n",
    "\n",
    "  image_size=(img_height, img_width),\n",
    "\n",
    "  batch_size=batch_size)\n",
    "\n",
    "\n",
    "demo_resnet_model = Sequential()\n",
    "\n",
    "pretrained_model_for_demo= tflow.keras.applications.ResNet50(include_top=False,\n",
    "\n",
    "                   input_shape=(150,150,3),\n",
    "\n",
    "                   pooling='avg',classes=2,\n",
    "\n",
    "                   weights='imagenet')\n",
    "\n",
    "for each_layer in pretrained_model_for_demo.layers:\n",
    "\n",
    "        each_layer.trainable=False\n",
    "\n",
    "demo_resnet_model.add(pretrained_model_for_demo)\n",
    "\n",
    "\n",
    "demo_resnet_model.add(Flatten())\n",
    "\n",
    "demo_resnet_model.add(Dense(512, activation='relu'))\n",
    "demo_resnet_model.add(Dense(128, activation='relu'))\n",
    "demo_resnet_model.add(Dense(2, activation='sigmoid'))\n",
    "\n",
    "import matplotlib.pyplot as plotter_lib\n",
    "\n",
    "plotter_lib.figure(figsize=(10, 10))\n",
    "\n",
    "epochs=10\n",
    "\n",
    "\n",
    "demo_resnet_model.compile(optimizer=Adam(lr=0.001),loss='binary_crossentropy',metrics=['accuracy'])\n",
    "\n",
    "history = demo_resnet_model.fit(train_ds, validation_data=validation_ds, epochs=epochs)\n"
   ]
  },
  {
   "cell_type": "code",
   "execution_count": 50,
   "id": "f5448b27",
   "metadata": {},
   "outputs": [
    {
     "data": {
      "text/plain": [
       "<matplotlib.legend.Legend at 0x267193c70d0>"
      ]
     },
     "execution_count": 50,
     "metadata": {},
     "output_type": "execute_result"
    },
    {
     "data": {
      "image/png": "[encoded data removed]",
      "text/plain": [
       "<Figure size 500x500 with 1 Axes>"
      ]
     },
     "metadata": {},
     "output_type": "display_data"
    }
   ],
   "source": [
    "plotter_lib.figure(figsize=(5, 5))\n",
    "\n",
    "epochs_range= range(epochs)\n",
    "\n",
    "plotter_lib.plot( epochs_range, history.history['accuracy'], label=\"Training Accuracy\")\n",
    "\n",
    "plotter_lib.plot(epochs_range, history.history['val_accuracy'], label=\"Validation Accuracy\")\n",
    "\n",
    "plotter_lib.axis(ymin=0.4,ymax=1)\n",
    "\n",
    "plotter_lib.grid()\n",
    "\n",
    "plotter_lib.title('Model Accuracy')\n",
    "\n",
    "plotter_lib.ylabel('Accuracy')\n",
    "\n",
    "plotter_lib.xlabel('Epochs')\n",
    "\n",
    "plotter_lib.legend(['train', 'validation'])"
   ]
  },
  {
   "cell_type": "code",
   "execution_count": 51,
   "id": "95387efd",
   "metadata": {},
   "outputs": [
    {
     "data": {
      "text/plain": [
       "<Figure size 640x480 with 0 Axes>"
      ]
     },
     "metadata": {},
     "output_type": "display_data"
    }
   ],
   "source": [
    "plotter_lib.show()\n",
    "\n",
    "plotter_lib.savefig('output-plot.png') "
   ]
  },
  {
   "cell_type": "code",
   "execution_count": 52,
   "id": "e5734598",
   "metadata": {},
   "outputs": [
    {
     "name": "stdout",
     "output_type": "stream",
     "text": [
      "90/90 [==============================] - 53s 580ms/step\n",
      "Accuracy: 0.7233893557422969\n",
      "Classification Report:\n",
      "               precision    recall  f1-score   support\n",
      "\n",
      "           0       0.80      0.87      0.83      1138\n",
      "           1       0.23      0.16      0.19       290\n",
      "\n",
      "    accuracy                           0.72      1428\n",
      "   macro avg       0.52      0.51      0.51      1428\n",
      "weighted avg       0.69      0.72      0.70      1428\n",
      "\n"
     ]
    }
   ],
   "source": [
    "from sklearn.metrics import classification_report, accuracy_score\n",
    "\n",
    "# predict on test data\n",
    "y_pred = demo_resnet_model.predict(validation_ds)\n",
    "\n",
    "# convert predicted probabilities to class labels\n",
    "y_pred = np.argmax(y_pred, axis=1)\n",
    "\n",
    "# get true class labels\n",
    "y_true = np.concatenate([y for x, y in validation_ds], axis=0)\n",
    "y_true = np.argmax(y_true, axis=1)\n",
    "\n",
    "# calculate accuracy\n",
    "acc = accuracy_score(y_true, y_pred)\n",
    "print(\"Accuracy:\", acc)\n",
    "\n",
    "# calculate precision, recall, f1-score\n",
    "report = classification_report(y_true, y_pred)\n",
    "print(\"Classification Report:\\n\", report)"
   ]
  },
  {
   "cell_type": "code",
   "execution_count": null,
   "id": "08fb3702",
   "metadata": {},
   "outputs": [],
   "source": []
  },
  {
   "cell_type": "code",
   "execution_count": 53,
   "id": "a7297b96",
   "metadata": {},
   "outputs": [
    {
     "name": "stdout",
     "output_type": "stream",
     "text": [
      "Found 7140 files belonging to 2 classes.\n",
      "Using 5712 files for training.\n",
      "Found 7140 files belonging to 2 classes.\n",
      "Using 1428 files for validation.\n"
     ]
    },
    {
     "name": "stderr",
     "output_type": "stream",
     "text": [
      "WARNING:absl:`lr` is deprecated, please use `learning_rate` instead, or use the legacy optimizer, e.g.,tf.keras.optimizers.legacy.Adam.\n"
     ]
    },
    {
     "name": "stdout",
     "output_type": "stream",
     "text": [
      "Epoch 1/10\n",
      "90/90 [==============================] - 267s 3s/step - loss: 0.4743 - accuracy: 0.7967 - val_loss: 0.4109 - val_accuracy: 0.8151\n",
      "Epoch 2/10\n",
      "90/90 [==============================] - 262s 3s/step - loss: 0.4154 - accuracy: 0.8214 - val_loss: 0.4048 - val_accuracy: 0.8179\n",
      "Epoch 3/10\n",
      "90/90 [==============================] - 261s 3s/step - loss: 0.3942 - accuracy: 0.8283 - val_loss: 0.3835 - val_accuracy: 0.8396\n",
      "Epoch 4/10\n",
      "90/90 [==============================] - 262s 3s/step - loss: 0.3617 - accuracy: 0.8470 - val_loss: 0.3960 - val_accuracy: 0.8361\n",
      "Epoch 5/10\n",
      "90/90 [==============================] - 261s 3s/step - loss: 0.3494 - accuracy: 0.8494 - val_loss: 0.3667 - val_accuracy: 0.8529\n",
      "Epoch 6/10\n",
      "90/90 [==============================] - 271s 3s/step - loss: 0.3276 - accuracy: 0.8622 - val_loss: 0.3661 - val_accuracy: 0.8501\n",
      "Epoch 7/10\n",
      "90/90 [==============================] - 279s 3s/step - loss: 0.3050 - accuracy: 0.8711 - val_loss: 0.3772 - val_accuracy: 0.8424\n",
      "Epoch 8/10\n",
      "90/90 [==============================] - 297s 3s/step - loss: 0.2884 - accuracy: 0.8773 - val_loss: 0.3815 - val_accuracy: 0.8438\n",
      "Epoch 9/10\n",
      "90/90 [==============================] - 271s 3s/step - loss: 0.2808 - accuracy: 0.8843 - val_loss: 0.3812 - val_accuracy: 0.8375\n",
      "Epoch 10/10\n",
      "90/90 [==============================] - 267s 3s/step - loss: 0.2528 - accuracy: 0.8939 - val_loss: 0.4337 - val_accuracy: 0.8088\n"
     ]
    },
    {
     "data": {
      "text/plain": [
       "<Figure size 1000x1000 with 0 Axes>"
      ]
     },
     "metadata": {},
     "output_type": "display_data"
    }
   ],
   "source": [
    "\n",
    "#### Resnet 50 batch size =64\n",
    "\n",
    "\n",
    "\n",
    "img_height,img_width=150,150\n",
    "\n",
    "batch_size=64\n",
    "\n",
    "train_ds = tflow.keras.preprocessing.image_dataset_from_directory(\n",
    "\n",
    "  data_directory1,\n",
    "\n",
    "  validation_split=0.2,\n",
    "\n",
    "  subset=\"training\",\n",
    "\n",
    "  seed=123,\n",
    "\n",
    "label_mode='categorical',\n",
    "\n",
    "  image_size=(img_height, img_width),\n",
    "\n",
    "  batch_size=batch_size)\n",
    "\n",
    "\n",
    "\n",
    "validation_ds = tflow.keras.preprocessing.image_dataset_from_directory(\n",
    "\n",
    "  data_directory1,\n",
    "\n",
    "  validation_split=0.2,\n",
    "\n",
    "  subset=\"validation\",\n",
    "\n",
    "  seed=123,\n",
    "\n",
    "label_mode='categorical',\n",
    "\n",
    "  image_size=(img_height, img_width),\n",
    "\n",
    "  batch_size=batch_size)\n",
    "\n",
    "\n",
    "demo_resnet_model = Sequential()\n",
    "\n",
    "pretrained_model_for_demo= tflow.keras.applications.ResNet50(include_top=False,\n",
    "\n",
    "                   input_shape=(150,150,3),\n",
    "\n",
    "                   pooling='avg',classes=2,\n",
    "\n",
    "                   weights='imagenet')\n",
    "\n",
    "for each_layer in pretrained_model_for_demo.layers:\n",
    "\n",
    "        each_layer.trainable=False\n",
    "\n",
    "demo_resnet_model.add(pretrained_model_for_demo)\n",
    "\n",
    "\n",
    "demo_resnet_model.add(Flatten())\n",
    "\n",
    "demo_resnet_model.add(Dense(512, activation='relu'))\n",
    "demo_resnet_model.add(Dense(128, activation='relu'))\n",
    "demo_resnet_model.add(Dense(2, activation='sigmoid'))\n",
    "\n",
    "import matplotlib.pyplot as plotter_lib\n",
    "\n",
    "plotter_lib.figure(figsize=(10, 10))\n",
    "\n",
    "epochs=10\n",
    "\n",
    "\n",
    "demo_resnet_model.compile(optimizer=Adam(lr=0.001),loss='binary_crossentropy',metrics=['accuracy'])\n",
    "\n",
    "history = demo_resnet_model.fit(train_ds, validation_data=validation_ds, epochs=epochs)\n"
   ]
  },
  {
   "cell_type": "code",
   "execution_count": 54,
   "id": "b8d0cbf7",
   "metadata": {},
   "outputs": [
    {
     "data": {
      "text/plain": [
       "<matplotlib.legend.Legend at 0x26719261f10>"
      ]
     },
     "execution_count": 54,
     "metadata": {},
     "output_type": "execute_result"
    },
    {
     "data": {
      "image/png": "[encoded data removed]",
      "text/plain": [
       "<Figure size 500x500 with 1 Axes>"
      ]
     },
     "metadata": {},
     "output_type": "display_data"
    }
   ],
   "source": [
    "plotter_lib.figure(figsize=(5, 5))\n",
    "\n",
    "epochs_range= range(epochs)\n",
    "\n",
    "plotter_lib.plot( epochs_range, history.history['accuracy'], label=\"Training Accuracy\")\n",
    "\n",
    "plotter_lib.plot(epochs_range, history.history['val_accuracy'], label=\"Validation Accuracy\")\n",
    "\n",
    "plotter_lib.axis(ymin=0.4,ymax=1)\n",
    "\n",
    "plotter_lib.grid()\n",
    "\n",
    "plotter_lib.title('Model Accuracy')\n",
    "\n",
    "plotter_lib.ylabel('Accuracy')\n",
    "\n",
    "plotter_lib.xlabel('Epochs')\n",
    "\n",
    "plotter_lib.legend(['train', 'validation'])"
   ]
  },
  {
   "cell_type": "code",
   "execution_count": 55,
   "id": "ad928e38",
   "metadata": {},
   "outputs": [
    {
     "data": {
      "text/plain": [
       "<Figure size 640x480 with 0 Axes>"
      ]
     },
     "metadata": {},
     "output_type": "display_data"
    }
   ],
   "source": [
    "plotter_lib.show()\n",
    "\n",
    "plotter_lib.savefig('output-plot.png') "
   ]
  },
  {
   "cell_type": "code",
   "execution_count": 56,
   "id": "6195e3ba",
   "metadata": {},
   "outputs": [
    {
     "name": "stdout",
     "output_type": "stream",
     "text": [
      "23/23 [==============================] - 54s 2s/step\n",
      "Accuracy: 0.6295518207282913\n",
      "Classification Report:\n",
      "               precision    recall  f1-score   support\n",
      "\n",
      "           0       0.78      0.75      0.76      1138\n",
      "           1       0.15      0.18      0.16       290\n",
      "\n",
      "    accuracy                           0.63      1428\n",
      "   macro avg       0.46      0.46      0.46      1428\n",
      "weighted avg       0.65      0.63      0.64      1428\n",
      "\n"
     ]
    }
   ],
   "source": [
    "from sklearn.metrics import classification_report, accuracy_score\n",
    "\n",
    "# predict on test data\n",
    "y_pred = demo_resnet_model.predict(validation_ds)\n",
    "\n",
    "# convert predicted probabilities to class labels\n",
    "y_pred = np.argmax(y_pred, axis=1)\n",
    "\n",
    "# get true class labels\n",
    "y_true = np.concatenate([y for x, y in validation_ds], axis=0)\n",
    "y_true = np.argmax(y_true, axis=1)\n",
    "\n",
    "# calculate accuracy\n",
    "acc = accuracy_score(y_true, y_pred)\n",
    "print(\"Accuracy:\", acc)\n",
    "\n",
    "# calculate precision, recall, f1-score\n",
    "report = classification_report(y_true, y_pred)\n",
    "print(\"Classification Report:\\n\", report)"
   ]
  },
  {
   "cell_type": "code",
   "execution_count": null,
   "id": "f70e6759",
   "metadata": {},
   "outputs": [],
   "source": []
  },
  {
   "cell_type": "code",
   "execution_count": null,
   "id": "32ac84a0",
   "metadata": {},
   "outputs": [],
   "source": []
  },
  {
   "cell_type": "code",
   "execution_count": 57,
   "id": "7354484c",
   "metadata": {},
   "outputs": [
    {
     "name": "stdout",
     "output_type": "stream",
     "text": [
      "Found 7140 files belonging to 2 classes.\n",
      "Using 5712 files for training.\n",
      "Found 7140 files belonging to 2 classes.\n",
      "Using 1428 files for validation.\n"
     ]
    },
    {
     "name": "stderr",
     "output_type": "stream",
     "text": [
      "WARNING:absl:`lr` is deprecated, please use `learning_rate` instead, or use the legacy optimizer, e.g.,tf.keras.optimizers.legacy.Adam.\n"
     ]
    },
    {
     "name": "stdout",
     "output_type": "stream",
     "text": [
      "Epoch 1/10\n",
      "714/714 [==============================] - 563s 786ms/step - loss: 0.4748 - accuracy: 0.7997 - val_loss: 0.4516 - val_accuracy: 0.7990\n",
      "Epoch 2/10\n",
      "714/714 [==============================] - 556s 778ms/step - loss: 0.4231 - accuracy: 0.8192 - val_loss: 0.4020 - val_accuracy: 0.8249\n",
      "Epoch 3/10\n",
      "714/714 [==============================] - 552s 774ms/step - loss: 0.3919 - accuracy: 0.8353 - val_loss: 0.3931 - val_accuracy: 0.8291\n",
      "Epoch 4/10\n",
      "714/714 [==============================] - 549s 770ms/step - loss: 0.3664 - accuracy: 0.8454 - val_loss: 0.4120 - val_accuracy: 0.8242\n",
      "Epoch 5/10\n",
      "714/714 [==============================] - 549s 769ms/step - loss: 0.3410 - accuracy: 0.8552 - val_loss: 0.4112 - val_accuracy: 0.8270\n",
      "Epoch 6/10\n",
      "714/714 [==============================] - 548s 767ms/step - loss: 0.3184 - accuracy: 0.8715 - val_loss: 0.4585 - val_accuracy: 0.8305\n",
      "Epoch 7/10\n",
      "714/714 [==============================] - 551s 772ms/step - loss: 0.2953 - accuracy: 0.8811 - val_loss: 0.5382 - val_accuracy: 0.8165\n",
      "Epoch 8/10\n",
      "714/714 [==============================] - 555s 778ms/step - loss: 0.2790 - accuracy: 0.8864 - val_loss: 0.4914 - val_accuracy: 0.8256\n",
      "Epoch 9/10\n",
      "714/714 [==============================] - 549s 769ms/step - loss: 0.2527 - accuracy: 0.8999 - val_loss: 0.4964 - val_accuracy: 0.8291\n",
      "Epoch 10/10\n",
      "714/714 [==============================] - 547s 766ms/step - loss: 0.2352 - accuracy: 0.9119 - val_loss: 0.4688 - val_accuracy: 0.8431\n"
     ]
    },
    {
     "data": {
      "text/plain": [
       "<Figure size 1000x1000 with 0 Axes>"
      ]
     },
     "metadata": {},
     "output_type": "display_data"
    }
   ],
   "source": [
    "\n",
    "#### vgg16 batch size =8\n",
    "\n",
    "\n",
    "\n",
    "img_height,img_width=150,150\n",
    "\n",
    "batch_size=8\n",
    "\n",
    "train_ds = tflow.keras.preprocessing.image_dataset_from_directory(\n",
    "\n",
    "  data_directory1,\n",
    "\n",
    "  validation_split=0.2,\n",
    "\n",
    "  subset=\"training\",\n",
    "\n",
    "  seed=123,\n",
    "\n",
    "label_mode='categorical',\n",
    "\n",
    "  image_size=(img_height, img_width),\n",
    "\n",
    "  batch_size=batch_size)\n",
    "\n",
    "\n",
    "\n",
    "validation_ds = tflow.keras.preprocessing.image_dataset_from_directory(\n",
    "\n",
    "  data_directory1,\n",
    "\n",
    "  validation_split=0.2,\n",
    "\n",
    "  subset=\"validation\",\n",
    "\n",
    "  seed=123,\n",
    "\n",
    "label_mode='categorical',\n",
    "\n",
    "  image_size=(img_height, img_width),\n",
    "\n",
    "  batch_size=batch_size)\n",
    "\n",
    "\n",
    "demo_resnet_model = Sequential()\n",
    "\n",
    "pretrained_model_for_demo= tflow.keras.applications.VGG16(include_top=False,\n",
    "\n",
    "                   input_shape=(150,150,3),\n",
    "\n",
    "                   pooling='avg',classes=2,\n",
    "\n",
    "                   weights='imagenet')\n",
    "\n",
    "for each_layer in pretrained_model_for_demo.layers:\n",
    "\n",
    "        each_layer.trainable=False\n",
    "\n",
    "demo_resnet_model.add(pretrained_model_for_demo)\n",
    "\n",
    "\n",
    "demo_resnet_model.add(Flatten())\n",
    "\n",
    "demo_resnet_model.add(Dense(512, activation='relu'))\n",
    "demo_resnet_model.add(Dense(128, activation='relu'))\n",
    "demo_resnet_model.add(Dense(2, activation='sigmoid'))\n",
    "\n",
    "import matplotlib.pyplot as plotter_lib\n",
    "\n",
    "plotter_lib.figure(figsize=(10, 10))\n",
    "\n",
    "epochs=10\n",
    "\n",
    "\n",
    "demo_resnet_model.compile(optimizer=Adam(lr=0.001),loss='binary_crossentropy',metrics=['accuracy'])\n",
    "\n",
    "history = demo_resnet_model.fit(train_ds, validation_data=validation_ds, epochs=epochs)\n"
   ]
  },
  {
   "cell_type": "code",
   "execution_count": null,
   "id": "c1b03168",
   "metadata": {},
   "outputs": [],
   "source": []
  },
  {
   "cell_type": "code",
   "execution_count": 58,
   "id": "bb8638b0",
   "metadata": {},
   "outputs": [
    {
     "data": {
      "text/plain": [
       "<matplotlib.legend.Legend at 0x26724cb7070>"
      ]
     },
     "execution_count": 58,
     "metadata": {},
     "output_type": "execute_result"
    },
    {
     "data": {
      "image/png": "[encoded data removed]",
      "text/plain": [
       "<Figure size 500x500 with 1 Axes>"
      ]
     },
     "metadata": {},
     "output_type": "display_data"
    }
   ],
   "source": [
    "plotter_lib.figure(figsize=(5, 5))\n",
    "\n",
    "epochs_range= range(epochs)\n",
    "\n",
    "plotter_lib.plot( epochs_range, history.history['accuracy'], label=\"Training Accuracy\")\n",
    "\n",
    "plotter_lib.plot(epochs_range, history.history['val_accuracy'], label=\"Validation Accuracy\")\n",
    "\n",
    "plotter_lib.axis(ymin=0.4,ymax=1)\n",
    "\n",
    "plotter_lib.grid()\n",
    "\n",
    "plotter_lib.title('Model Accuracy')\n",
    "\n",
    "plotter_lib.ylabel('Accuracy')\n",
    "\n",
    "plotter_lib.xlabel('Epochs')\n",
    "\n",
    "plotter_lib.legend(['train', 'validation'])"
   ]
  },
  {
   "cell_type": "code",
   "execution_count": 59,
   "id": "f55029d3",
   "metadata": {},
   "outputs": [
    {
     "data": {
      "text/plain": [
       "<Figure size 640x480 with 0 Axes>"
      ]
     },
     "metadata": {},
     "output_type": "display_data"
    }
   ],
   "source": [
    "plotter_lib.show()\n",
    "\n",
    "plotter_lib.savefig('output-plot.png') "
   ]
  },
  {
   "cell_type": "code",
   "execution_count": 60,
   "id": "1d296d5f",
   "metadata": {},
   "outputs": [
    {
     "name": "stdout",
     "output_type": "stream",
     "text": [
      "179/179 [==============================] - 109s 607ms/step\n",
      "Accuracy: 0.7142857142857143\n",
      "Classification Report:\n",
      "               precision    recall  f1-score   support\n",
      "\n",
      "           0       0.80      0.86      0.83      1138\n",
      "           1       0.20      0.13      0.16       290\n",
      "\n",
      "    accuracy                           0.71      1428\n",
      "   macro avg       0.50      0.50      0.49      1428\n",
      "weighted avg       0.67      0.71      0.69      1428\n",
      "\n"
     ]
    }
   ],
   "source": [
    "from sklearn.metrics import classification_report, accuracy_score\n",
    "\n",
    "# predict on test data\n",
    "y_pred = demo_resnet_model.predict(validation_ds)\n",
    "\n",
    "# convert predicted probabilities to class labels\n",
    "y_pred = np.argmax(y_pred, axis=1)\n",
    "\n",
    "# get true class labels\n",
    "y_true = np.concatenate([y for x, y in validation_ds], axis=0)\n",
    "y_true = np.argmax(y_true, axis=1)\n",
    "\n",
    "# calculate accuracy\n",
    "acc = accuracy_score(y_true, y_pred)\n",
    "print(\"Accuracy:\", acc)\n",
    "\n",
    "# calculate precision, recall, f1-score\n",
    "report = classification_report(y_true, y_pred)\n",
    "print(\"Classification Report:\\n\", report)"
   ]
  },
  {
   "cell_type": "code",
   "execution_count": null,
   "id": "a0a18538",
   "metadata": {},
   "outputs": [],
   "source": []
  },
  {
   "cell_type": "code",
   "execution_count": null,
   "id": "25b6f4da",
   "metadata": {},
   "outputs": [],
   "source": []
  },
  {
   "cell_type": "code",
   "execution_count": 61,
   "id": "53142870",
   "metadata": {},
   "outputs": [
    {
     "name": "stdout",
     "output_type": "stream",
     "text": [
      "Found 7140 files belonging to 2 classes.\n",
      "Using 5712 files for training.\n",
      "Found 7140 files belonging to 2 classes.\n",
      "Using 1428 files for validation.\n"
     ]
    },
    {
     "name": "stderr",
     "output_type": "stream",
     "text": [
      "WARNING:absl:`lr` is deprecated, please use `learning_rate` instead, or use the legacy optimizer, e.g.,tf.keras.optimizers.legacy.Adam.\n"
     ]
    },
    {
     "name": "stdout",
     "output_type": "stream",
     "text": [
      "Epoch 1/10\n",
      "357/357 [==============================] - 567s 2s/step - loss: 0.4790 - accuracy: 0.7948 - val_loss: 0.4474 - val_accuracy: 0.8018\n",
      "Epoch 2/10\n",
      "357/357 [==============================] - 566s 2s/step - loss: 0.4095 - accuracy: 0.8234 - val_loss: 0.3837 - val_accuracy: 0.8305\n",
      "Epoch 3/10\n",
      "357/357 [==============================] - 566s 2s/step - loss: 0.3799 - accuracy: 0.8389 - val_loss: 0.3952 - val_accuracy: 0.8333\n",
      "Epoch 4/10\n",
      "357/357 [==============================] - 581s 2s/step - loss: 0.3561 - accuracy: 0.8512 - val_loss: 0.3747 - val_accuracy: 0.8368\n",
      "Epoch 5/10\n",
      "357/357 [==============================] - 578s 2s/step - loss: 0.3314 - accuracy: 0.8657 - val_loss: 0.4047 - val_accuracy: 0.8340\n",
      "Epoch 6/10\n",
      "357/357 [==============================] - 617s 2s/step - loss: 0.3102 - accuracy: 0.8717 - val_loss: 0.4081 - val_accuracy: 0.8361\n",
      "Epoch 7/10\n",
      "357/357 [==============================] - 632s 2s/step - loss: 0.2848 - accuracy: 0.8839 - val_loss: 0.4838 - val_accuracy: 0.8158\n",
      "Epoch 8/10\n",
      "357/357 [==============================] - 618s 2s/step - loss: 0.2604 - accuracy: 0.8960 - val_loss: 0.4452 - val_accuracy: 0.8354\n",
      "Epoch 9/10\n",
      "357/357 [==============================] - 636s 2s/step - loss: 0.2482 - accuracy: 0.9042 - val_loss: 0.4661 - val_accuracy: 0.8438\n",
      "Epoch 10/10\n",
      "357/357 [==============================] - 593s 2s/step - loss: 0.2300 - accuracy: 0.9088 - val_loss: 0.5546 - val_accuracy: 0.8424\n"
     ]
    },
    {
     "data": {
      "text/plain": [
       "<Figure size 1000x1000 with 0 Axes>"
      ]
     },
     "metadata": {},
     "output_type": "display_data"
    }
   ],
   "source": [
    "\n",
    "#### vgg16 batch size =16\n",
    "\n",
    "\n",
    "\n",
    "img_height,img_width=150,150\n",
    "\n",
    "batch_size=16\n",
    "\n",
    "train_ds = tflow.keras.preprocessing.image_dataset_from_directory(\n",
    "\n",
    "  data_directory1,\n",
    "\n",
    "  validation_split=0.2,\n",
    "\n",
    "  subset=\"training\",\n",
    "\n",
    "  seed=123,\n",
    "\n",
    "label_mode='categorical',\n",
    "\n",
    "  image_size=(img_height, img_width),\n",
    "\n",
    "  batch_size=batch_size)\n",
    "\n",
    "\n",
    "\n",
    "validation_ds = tflow.keras.preprocessing.image_dataset_from_directory(\n",
    "\n",
    "  data_directory1,\n",
    "\n",
    "  validation_split=0.2,\n",
    "\n",
    "  subset=\"validation\",\n",
    "\n",
    "  seed=123,\n",
    "\n",
    "label_mode='categorical',\n",
    "\n",
    "  image_size=(img_height, img_width),\n",
    "\n",
    "  batch_size=batch_size)\n",
    "\n",
    "\n",
    "demo_resnet_model = Sequential()\n",
    "\n",
    "pretrained_model_for_demo= tflow.keras.applications.VGG16(include_top=False,\n",
    "\n",
    "                   input_shape=(150,150,3),\n",
    "\n",
    "                   pooling='avg',classes=2,\n",
    "\n",
    "                   weights='imagenet')\n",
    "\n",
    "for each_layer in pretrained_model_for_demo.layers:\n",
    "\n",
    "        each_layer.trainable=False\n",
    "\n",
    "demo_resnet_model.add(pretrained_model_for_demo)\n",
    "\n",
    "\n",
    "demo_resnet_model.add(Flatten())\n",
    "\n",
    "demo_resnet_model.add(Dense(512, activation='relu'))\n",
    "demo_resnet_model.add(Dense(128, activation='relu'))\n",
    "demo_resnet_model.add(Dense(2, activation='sigmoid'))\n",
    "\n",
    "import matplotlib.pyplot as plotter_lib\n",
    "\n",
    "plotter_lib.figure(figsize=(10, 10))\n",
    "\n",
    "epochs=10\n",
    "\n",
    "\n",
    "demo_resnet_model.compile(optimizer=Adam(lr=0.001),loss='binary_crossentropy',metrics=['accuracy'])\n",
    "\n",
    "history = demo_resnet_model.fit(train_ds, validation_data=validation_ds, epochs=epochs)\n"
   ]
  },
  {
   "cell_type": "code",
   "execution_count": 62,
   "id": "da560a50",
   "metadata": {},
   "outputs": [
    {
     "data": {
      "text/plain": [
       "<matplotlib.legend.Legend at 0x26724cb7100>"
      ]
     },
     "execution_count": 62,
     "metadata": {},
     "output_type": "execute_result"
    },
    {
     "data": {
      "image/png": "[encoded data removed]",
      "text/plain": [
       "<Figure size 500x500 with 1 Axes>"
      ]
     },
     "metadata": {},
     "output_type": "display_data"
    }
   ],
   "source": [
    "plotter_lib.figure(figsize=(5, 5))\n",
    "\n",
    "epochs_range= range(epochs)\n",
    "\n",
    "plotter_lib.plot( epochs_range, history.history['accuracy'], label=\"Training Accuracy\")\n",
    "\n",
    "plotter_lib.plot(epochs_range, history.history['val_accuracy'], label=\"Validation Accuracy\")\n",
    "\n",
    "plotter_lib.axis(ymin=0.4,ymax=1)\n",
    "\n",
    "plotter_lib.grid()\n",
    "\n",
    "plotter_lib.title('Model Accuracy')\n",
    "\n",
    "plotter_lib.ylabel('Accuracy')\n",
    "\n",
    "plotter_lib.xlabel('Epochs')\n",
    "\n",
    "plotter_lib.legend(['train', 'validation'])"
   ]
  },
  {
   "cell_type": "code",
   "execution_count": 63,
   "id": "9693e272",
   "metadata": {},
   "outputs": [
    {
     "data": {
      "text/plain": [
       "<Figure size 640x480 with 0 Axes>"
      ]
     },
     "metadata": {},
     "output_type": "display_data"
    }
   ],
   "source": [
    "plotter_lib.show()\n",
    "\n",
    "plotter_lib.savefig('output-plot.png') "
   ]
  },
  {
   "cell_type": "code",
   "execution_count": 64,
   "id": "0bfb9f91",
   "metadata": {},
   "outputs": [
    {
     "name": "stdout",
     "output_type": "stream",
     "text": [
      "90/90 [==============================] - 94s 1s/step\n",
      "Accuracy: 0.7584033613445378\n",
      "Classification Report:\n",
      "               precision    recall  f1-score   support\n",
      "\n",
      "           0       0.80      0.93      0.86      1138\n",
      "           1       0.24      0.09      0.13       290\n",
      "\n",
      "    accuracy                           0.76      1428\n",
      "   macro avg       0.52      0.51      0.50      1428\n",
      "weighted avg       0.69      0.76      0.71      1428\n",
      "\n"
     ]
    }
   ],
   "source": [
    "from sklearn.metrics import classification_report, accuracy_score\n",
    "\n",
    "# predict on test data\n",
    "y_pred = demo_resnet_model.predict(validation_ds)\n",
    "\n",
    "# convert predicted probabilities to class labels\n",
    "y_pred = np.argmax(y_pred, axis=1)\n",
    "\n",
    "# get true class labels\n",
    "y_true = np.concatenate([y for x, y in validation_ds], axis=0)\n",
    "y_true = np.argmax(y_true, axis=1)\n",
    "\n",
    "# calculate accuracy\n",
    "acc = accuracy_score(y_true, y_pred)\n",
    "print(\"Accuracy:\", acc)\n",
    "\n",
    "# calculate precision, recall, f1-score\n",
    "report = classification_report(y_true, y_pred)\n",
    "print(\"Classification Report:\\n\", report)"
   ]
  },
  {
   "cell_type": "code",
   "execution_count": null,
   "id": "dd6b4e80",
   "metadata": {},
   "outputs": [],
   "source": []
  },
  {
   "cell_type": "code",
   "execution_count": null,
   "id": "61916925",
   "metadata": {},
   "outputs": [],
   "source": []
  },
  {
   "cell_type": "code",
   "execution_count": null,
   "id": "17ed418f",
   "metadata": {},
   "outputs": [],
   "source": []
  },
  {
   "cell_type": "code",
   "execution_count": null,
   "id": "80366521",
   "metadata": {},
   "outputs": [],
   "source": []
  },
  {
   "cell_type": "code",
   "execution_count": null,
   "id": "23081e08",
   "metadata": {},
   "outputs": [],
   "source": []
  },
  {
   "cell_type": "code",
   "execution_count": null,
   "id": "5344384c",
   "metadata": {},
   "outputs": [],
   "source": []
  },
  {
   "cell_type": "code",
   "execution_count": null,
   "id": "5c946949",
   "metadata": {},
   "outputs": [],
   "source": []
  },
  {
   "cell_type": "code",
   "execution_count": null,
   "id": "16418754",
   "metadata": {},
   "outputs": [],
   "source": []
  }
 ],
 "metadata": {
  "kernelspec": {
   "display_name": "Python 3 (ipykernel)",
   "language": "python",
   "name": "python3"
  },
  "language_info": {
   "codemirror_mode": {
    "name": "ipython",
    "version": 3
   },
   "file_extension": ".py",
   "mimetype": "text/x-python",
   "name": "python",
   "nbconvert_exporter": "python",
   "pygments_lexer": "ipython3",
   "version": "3.9.0"
  }
 },
 "nbformat": 4,
 "nbformat_minor": 5
}

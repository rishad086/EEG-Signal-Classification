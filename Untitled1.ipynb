{
 "cells": [
  {
   "cell_type": "code",
   "execution_count": 2,
   "id": "7efdeeb7",
   "metadata": {},
   "outputs": [],
   "source": [
    "%%capture\n",
    "!pip install ssqueezepy\n",
    "!pip install timm\n",
    "!pip install pytorch-lightning\n",
    "!pip install mne"
   ]
  },
  {
   "cell_type": "code",
   "execution_count": 3,
   "id": "9d8e1f8b",
   "metadata": {},
   "outputs": [],
   "source": [
    "import pandas as pd\n",
    "import os"
   ]
  },
  {
   "cell_type": "code",
   "execution_count": 4,
   "id": "d46a73ac",
   "metadata": {},
   "outputs": [
    {
     "data": {
      "text/html": [
       "<div>\n",
       "<style scoped>\n",
       "    .dataframe tbody tr th:only-of-type {\n",
       "        vertical-align: middle;\n",
       "    }\n",
       "\n",
       "    .dataframe tbody tr th {\n",
       "        vertical-align: top;\n",
       "    }\n",
       "\n",
       "    .dataframe thead th {\n",
       "        text-align: right;\n",
       "    }\n",
       "</style>\n",
       "<table border=\"1\" class=\"dataframe\">\n",
       "  <thead>\n",
       "    <tr style=\"text-align: right;\">\n",
       "      <th></th>\n",
       "      <th>video_id</th>\n",
       "      <th>subject_id</th>\n",
       "      <th>EEG.AF3</th>\n",
       "      <th>EEG.F7</th>\n",
       "      <th>EEG.F3</th>\n",
       "      <th>EEG.FC5</th>\n",
       "      <th>EEG.T7</th>\n",
       "      <th>EEG.P7</th>\n",
       "      <th>EEG.O1</th>\n",
       "      <th>EEG.O2</th>\n",
       "      <th>...</th>\n",
       "      <th>POW.F8.Alpha</th>\n",
       "      <th>POW.F8.BetaL</th>\n",
       "      <th>POW.F8.BetaH</th>\n",
       "      <th>POW.F8.Gamma</th>\n",
       "      <th>POW.AF4.Theta</th>\n",
       "      <th>POW.AF4.Alpha</th>\n",
       "      <th>POW.AF4.BetaL</th>\n",
       "      <th>POW.AF4.BetaH</th>\n",
       "      <th>POW.AF4.Gamma</th>\n",
       "      <th>subject_understood</th>\n",
       "    </tr>\n",
       "  </thead>\n",
       "  <tbody>\n",
       "    <tr>\n",
       "      <th>0</th>\n",
       "      <td>0</td>\n",
       "      <td>0</td>\n",
       "      <td>4210.641113</td>\n",
       "      <td>4179.102539</td>\n",
       "      <td>4287.948730</td>\n",
       "      <td>4235.384766</td>\n",
       "      <td>4207.948730</td>\n",
       "      <td>4165.000000</td>\n",
       "      <td>4135.897461</td>\n",
       "      <td>4170.000000</td>\n",
       "      <td>...</td>\n",
       "      <td>1.583895</td>\n",
       "      <td>0.504567</td>\n",
       "      <td>0.471979</td>\n",
       "      <td>0.138717</td>\n",
       "      <td>1.801014</td>\n",
       "      <td>1.504794</td>\n",
       "      <td>0.258570</td>\n",
       "      <td>0.435745</td>\n",
       "      <td>0.469483</td>\n",
       "      <td>0</td>\n",
       "    </tr>\n",
       "    <tr>\n",
       "      <th>1</th>\n",
       "      <td>0</td>\n",
       "      <td>0</td>\n",
       "      <td>4201.025879</td>\n",
       "      <td>4188.717773</td>\n",
       "      <td>4280.128418</td>\n",
       "      <td>4236.922852</td>\n",
       "      <td>4209.615234</td>\n",
       "      <td>4152.436035</td>\n",
       "      <td>4130.128418</td>\n",
       "      <td>4149.487305</td>\n",
       "      <td>...</td>\n",
       "      <td>1.709560</td>\n",
       "      <td>0.606587</td>\n",
       "      <td>0.527616</td>\n",
       "      <td>0.155580</td>\n",
       "      <td>1.859177</td>\n",
       "      <td>1.379617</td>\n",
       "      <td>0.317579</td>\n",
       "      <td>0.468416</td>\n",
       "      <td>0.642560</td>\n",
       "      <td>0</td>\n",
       "    </tr>\n",
       "    <tr>\n",
       "      <th>2</th>\n",
       "      <td>0</td>\n",
       "      <td>0</td>\n",
       "      <td>4203.205078</td>\n",
       "      <td>4182.820313</td>\n",
       "      <td>4282.820313</td>\n",
       "      <td>4231.025879</td>\n",
       "      <td>4207.820313</td>\n",
       "      <td>4172.436035</td>\n",
       "      <td>4131.538574</td>\n",
       "      <td>4147.948730</td>\n",
       "      <td>...</td>\n",
       "      <td>1.873591</td>\n",
       "      <td>0.795834</td>\n",
       "      <td>0.565414</td>\n",
       "      <td>0.170816</td>\n",
       "      <td>2.027946</td>\n",
       "      <td>1.283876</td>\n",
       "      <td>0.441925</td>\n",
       "      <td>0.494701</td>\n",
       "      <td>0.798197</td>\n",
       "      <td>0</td>\n",
       "    </tr>\n",
       "    <tr>\n",
       "      <th>3</th>\n",
       "      <td>0</td>\n",
       "      <td>0</td>\n",
       "      <td>4186.538574</td>\n",
       "      <td>4168.717773</td>\n",
       "      <td>4266.794922</td>\n",
       "      <td>4229.230957</td>\n",
       "      <td>4202.179688</td>\n",
       "      <td>4155.384766</td>\n",
       "      <td>4128.333496</td>\n",
       "      <td>4151.666504</td>\n",
       "      <td>...</td>\n",
       "      <td>2.110017</td>\n",
       "      <td>1.021118</td>\n",
       "      <td>0.579656</td>\n",
       "      <td>0.180056</td>\n",
       "      <td>2.265952</td>\n",
       "      <td>1.306188</td>\n",
       "      <td>0.616881</td>\n",
       "      <td>0.506062</td>\n",
       "      <td>0.886495</td>\n",
       "      <td>0</td>\n",
       "    </tr>\n",
       "    <tr>\n",
       "      <th>4</th>\n",
       "      <td>0</td>\n",
       "      <td>0</td>\n",
       "      <td>4232.436035</td>\n",
       "      <td>4216.922852</td>\n",
       "      <td>4306.922852</td>\n",
       "      <td>4270.769043</td>\n",
       "      <td>4217.436035</td>\n",
       "      <td>4166.538574</td>\n",
       "      <td>4155.897461</td>\n",
       "      <td>4162.820313</td>\n",
       "      <td>...</td>\n",
       "      <td>2.462552</td>\n",
       "      <td>1.230984</td>\n",
       "      <td>0.573620</td>\n",
       "      <td>0.181081</td>\n",
       "      <td>2.461205</td>\n",
       "      <td>1.522420</td>\n",
       "      <td>0.822598</td>\n",
       "      <td>0.498361</td>\n",
       "      <td>0.874455</td>\n",
       "      <td>0</td>\n",
       "    </tr>\n",
       "  </tbody>\n",
       "</table>\n",
       "<p>5 rows × 87 columns</p>\n",
       "</div>"
      ],
      "text/plain": [
       "   video_id  subject_id      EEG.AF3       EEG.F7       EEG.F3      EEG.FC5  \\\n",
       "0         0           0  4210.641113  4179.102539  4287.948730  4235.384766   \n",
       "1         0           0  4201.025879  4188.717773  4280.128418  4236.922852   \n",
       "2         0           0  4203.205078  4182.820313  4282.820313  4231.025879   \n",
       "3         0           0  4186.538574  4168.717773  4266.794922  4229.230957   \n",
       "4         0           0  4232.436035  4216.922852  4306.922852  4270.769043   \n",
       "\n",
       "        EEG.T7       EEG.P7       EEG.O1       EEG.O2  ...  POW.F8.Alpha  \\\n",
       "0  4207.948730  4165.000000  4135.897461  4170.000000  ...      1.583895   \n",
       "1  4209.615234  4152.436035  4130.128418  4149.487305  ...      1.709560   \n",
       "2  4207.820313  4172.436035  4131.538574  4147.948730  ...      1.873591   \n",
       "3  4202.179688  4155.384766  4128.333496  4151.666504  ...      2.110017   \n",
       "4  4217.436035  4166.538574  4155.897461  4162.820313  ...      2.462552   \n",
       "\n",
       "   POW.F8.BetaL  POW.F8.BetaH  POW.F8.Gamma  POW.AF4.Theta  POW.AF4.Alpha  \\\n",
       "0      0.504567      0.471979      0.138717       1.801014       1.504794   \n",
       "1      0.606587      0.527616      0.155580       1.859177       1.379617   \n",
       "2      0.795834      0.565414      0.170816       2.027946       1.283876   \n",
       "3      1.021118      0.579656      0.180056       2.265952       1.306188   \n",
       "4      1.230984      0.573620      0.181081       2.461205       1.522420   \n",
       "\n",
       "   POW.AF4.BetaL  POW.AF4.BetaH  POW.AF4.Gamma  subject_understood  \n",
       "0       0.258570       0.435745       0.469483                   0  \n",
       "1       0.317579       0.468416       0.642560                   0  \n",
       "2       0.441925       0.494701       0.798197                   0  \n",
       "3       0.616881       0.506062       0.886495                   0  \n",
       "4       0.822598       0.498361       0.874455                   0  \n",
       "\n",
       "[5 rows x 87 columns]"
      ]
     },
     "execution_count": 4,
     "metadata": {},
     "output_type": "execute_result"
    }
   ],
   "source": [
    "df=pd.read_csv('EEG_data.csv')\n",
    "df.head()"
   ]
  },
  {
   "cell_type": "code",
   "execution_count": 5,
   "id": "dd09d380",
   "metadata": {},
   "outputs": [],
   "source": [
    "cols_remove=df.columns.tolist()[16:-1]"
   ]
  },
  {
   "cell_type": "code",
   "execution_count": 6,
   "id": "7b349bf6",
   "metadata": {},
   "outputs": [
    {
     "data": {
      "text/plain": [
       "['POW.AF3.Theta',\n",
       " 'POW.AF3.Alpha',\n",
       " 'POW.AF3.BetaL',\n",
       " 'POW.AF3.BetaH',\n",
       " 'POW.AF3.Gamma',\n",
       " 'POW.F7.Theta',\n",
       " 'POW.F7.Alpha',\n",
       " 'POW.F7.BetaL',\n",
       " 'POW.F7.BetaH',\n",
       " 'POW.F7.Gamma',\n",
       " 'POW.F3.Theta',\n",
       " 'POW.F3.Alpha',\n",
       " 'POW.F3.BetaL',\n",
       " 'POW.F3.BetaH',\n",
       " 'POW.F3.Gamma',\n",
       " 'POW.FC5.Theta',\n",
       " 'POW.FC5.Alpha',\n",
       " 'POW.FC5.BetaL',\n",
       " 'POW.FC5.BetaH',\n",
       " 'POW.FC5.Gamma',\n",
       " 'POW.T7.Theta',\n",
       " 'POW.T7.Alpha',\n",
       " 'POW.T7.BetaL',\n",
       " 'POW.T7.BetaH',\n",
       " 'POW.T7.Gamma',\n",
       " 'POW.P7.Theta',\n",
       " 'POW.P7.Alpha',\n",
       " 'POW.P7.BetaL',\n",
       " 'POW.P7.BetaH',\n",
       " 'POW.P7.Gamma',\n",
       " 'POW.O1.Theta',\n",
       " 'POW.O1.Alpha',\n",
       " 'POW.O1.BetaL',\n",
       " 'POW.O1.BetaH',\n",
       " 'POW.O1.Gamma',\n",
       " 'POW.O2.Theta',\n",
       " 'POW.O2.Alpha',\n",
       " 'POW.O2.BetaL',\n",
       " 'POW.O2.BetaH',\n",
       " 'POW.O2.Gamma',\n",
       " 'POW.P8.Theta',\n",
       " 'POW.P8.Alpha',\n",
       " 'POW.P8.BetaL',\n",
       " 'POW.P8.BetaH',\n",
       " 'POW.P8.Gamma',\n",
       " 'POW.T8.Theta',\n",
       " 'POW.T8.Alpha',\n",
       " 'POW.T8.BetaL',\n",
       " 'POW.T8.BetaH',\n",
       " 'POW.T8.Gamma',\n",
       " 'POW.FC6.Theta',\n",
       " 'POW.FC6.Alpha',\n",
       " 'POW.FC6.BetaL',\n",
       " 'POW.FC6.BetaH',\n",
       " 'POW.FC6.Gamma',\n",
       " 'POW.F4.Theta',\n",
       " 'POW.F4.Alpha',\n",
       " 'POW.F4.BetaL',\n",
       " 'POW.F4.BetaH',\n",
       " 'POW.F4.Gamma',\n",
       " 'POW.F8.Theta',\n",
       " 'POW.F8.Alpha',\n",
       " 'POW.F8.BetaL',\n",
       " 'POW.F8.BetaH',\n",
       " 'POW.F8.Gamma',\n",
       " 'POW.AF4.Theta',\n",
       " 'POW.AF4.Alpha',\n",
       " 'POW.AF4.BetaL',\n",
       " 'POW.AF4.BetaH',\n",
       " 'POW.AF4.Gamma']"
      ]
     },
     "execution_count": 6,
     "metadata": {},
     "output_type": "execute_result"
    }
   ],
   "source": [
    "cols_remove"
   ]
  },
  {
   "cell_type": "code",
   "execution_count": 8,
   "id": "34e5f14c",
   "metadata": {},
   "outputs": [
    {
     "data": {
      "text/plain": [
       "Index(['video_id', 'subject_id', 'EEG.AF3', 'EEG.F7', 'EEG.F3', 'EEG.FC5',\n",
       "       'EEG.T7', 'EEG.P7', 'EEG.O1', 'EEG.O2', 'EEG.P8', 'EEG.T8', 'EEG.FC6',\n",
       "       'EEG.F4', 'EEG.F8', 'EEG.AF4', 'subject_understood'],\n",
       "      dtype='object')"
      ]
     },
     "execution_count": 8,
     "metadata": {},
     "output_type": "execute_result"
    }
   ],
   "source": [
    "df=df.loc[:, ~df.columns.isin(cols_remove)]\n",
    "df.columns\n"
   ]
  },
  {
   "cell_type": "code",
   "execution_count": 8,
   "id": "071e5eb6",
   "metadata": {},
   "outputs": [],
   "source": [
    "df.columns = df.columns.str.strip('EEG.')"
   ]
  },
  {
   "cell_type": "code",
   "execution_count": 9,
   "id": "01f41d42",
   "metadata": {},
   "outputs": [
    {
     "data": {
      "text/plain": [
       "Index(['video_id', 'subject_id', 'AF3', 'F7', 'F3', 'FC5', 'T7', 'P7', 'O1',\n",
       "       'O2', 'P8', 'T8', 'FC6', 'F4', 'F8', 'AF4', 'subject_understood'],\n",
       "      dtype='object')"
      ]
     },
     "execution_count": 9,
     "metadata": {},
     "output_type": "execute_result"
    }
   ],
   "source": [
    "df.columns"
   ]
  },
  {
   "cell_type": "code",
   "execution_count": 10,
   "id": "78d5b46f",
   "metadata": {},
   "outputs": [
    {
     "data": {
      "text/html": [
       "<div>\n",
       "<style scoped>\n",
       "    .dataframe tbody tr th:only-of-type {\n",
       "        vertical-align: middle;\n",
       "    }\n",
       "\n",
       "    .dataframe tbody tr th {\n",
       "        vertical-align: top;\n",
       "    }\n",
       "\n",
       "    .dataframe thead th {\n",
       "        text-align: right;\n",
       "    }\n",
       "</style>\n",
       "<table border=\"1\" class=\"dataframe\">\n",
       "  <thead>\n",
       "    <tr style=\"text-align: right;\">\n",
       "      <th></th>\n",
       "      <th>video_id</th>\n",
       "      <th>subject_id</th>\n",
       "      <th>AF3</th>\n",
       "      <th>F7</th>\n",
       "      <th>F3</th>\n",
       "      <th>FC5</th>\n",
       "      <th>T7</th>\n",
       "      <th>P7</th>\n",
       "      <th>O1</th>\n",
       "      <th>O2</th>\n",
       "      <th>P8</th>\n",
       "      <th>T8</th>\n",
       "      <th>FC6</th>\n",
       "      <th>F4</th>\n",
       "      <th>F8</th>\n",
       "      <th>AF4</th>\n",
       "      <th>subject_understood</th>\n",
       "    </tr>\n",
       "  </thead>\n",
       "  <tbody>\n",
       "    <tr>\n",
       "      <th>0</th>\n",
       "      <td>0</td>\n",
       "      <td>0</td>\n",
       "      <td>4210.641113</td>\n",
       "      <td>4179.102539</td>\n",
       "      <td>4287.948730</td>\n",
       "      <td>4235.384766</td>\n",
       "      <td>4207.948730</td>\n",
       "      <td>4165.000000</td>\n",
       "      <td>4135.897461</td>\n",
       "      <td>4170.000000</td>\n",
       "      <td>4155.384766</td>\n",
       "      <td>4157.179688</td>\n",
       "      <td>4610.384766</td>\n",
       "      <td>4388.846191</td>\n",
       "      <td>4413.461426</td>\n",
       "      <td>4499.743652</td>\n",
       "      <td>0</td>\n",
       "    </tr>\n",
       "    <tr>\n",
       "      <th>1</th>\n",
       "      <td>0</td>\n",
       "      <td>0</td>\n",
       "      <td>4201.025879</td>\n",
       "      <td>4188.717773</td>\n",
       "      <td>4280.128418</td>\n",
       "      <td>4236.922852</td>\n",
       "      <td>4209.615234</td>\n",
       "      <td>4152.436035</td>\n",
       "      <td>4130.128418</td>\n",
       "      <td>4149.487305</td>\n",
       "      <td>4149.487305</td>\n",
       "      <td>4157.820313</td>\n",
       "      <td>4583.717773</td>\n",
       "      <td>4376.666504</td>\n",
       "      <td>4392.820313</td>\n",
       "      <td>4488.461426</td>\n",
       "      <td>0</td>\n",
       "    </tr>\n",
       "    <tr>\n",
       "      <th>2</th>\n",
       "      <td>0</td>\n",
       "      <td>0</td>\n",
       "      <td>4203.205078</td>\n",
       "      <td>4182.820313</td>\n",
       "      <td>4282.820313</td>\n",
       "      <td>4231.025879</td>\n",
       "      <td>4207.820313</td>\n",
       "      <td>4172.436035</td>\n",
       "      <td>4131.538574</td>\n",
       "      <td>4147.948730</td>\n",
       "      <td>4131.666504</td>\n",
       "      <td>4131.666504</td>\n",
       "      <td>4574.743652</td>\n",
       "      <td>4377.051270</td>\n",
       "      <td>4390.512695</td>\n",
       "      <td>4483.077148</td>\n",
       "      <td>0</td>\n",
       "    </tr>\n",
       "    <tr>\n",
       "      <th>3</th>\n",
       "      <td>0</td>\n",
       "      <td>0</td>\n",
       "      <td>4186.538574</td>\n",
       "      <td>4168.717773</td>\n",
       "      <td>4266.794922</td>\n",
       "      <td>4229.230957</td>\n",
       "      <td>4202.179688</td>\n",
       "      <td>4155.384766</td>\n",
       "      <td>4128.333496</td>\n",
       "      <td>4151.666504</td>\n",
       "      <td>4136.666504</td>\n",
       "      <td>4134.230957</td>\n",
       "      <td>4565.512695</td>\n",
       "      <td>4362.436035</td>\n",
       "      <td>4380.897461</td>\n",
       "      <td>4471.025879</td>\n",
       "      <td>0</td>\n",
       "    </tr>\n",
       "    <tr>\n",
       "      <th>4</th>\n",
       "      <td>0</td>\n",
       "      <td>0</td>\n",
       "      <td>4232.436035</td>\n",
       "      <td>4216.922852</td>\n",
       "      <td>4306.922852</td>\n",
       "      <td>4270.769043</td>\n",
       "      <td>4217.436035</td>\n",
       "      <td>4166.538574</td>\n",
       "      <td>4155.897461</td>\n",
       "      <td>4162.820313</td>\n",
       "      <td>4143.461426</td>\n",
       "      <td>4154.487305</td>\n",
       "      <td>4612.436035</td>\n",
       "      <td>4403.333496</td>\n",
       "      <td>4410.641113</td>\n",
       "      <td>4512.179688</td>\n",
       "      <td>0</td>\n",
       "    </tr>\n",
       "  </tbody>\n",
       "</table>\n",
       "</div>"
      ],
      "text/plain": [
       "   video_id  subject_id          AF3           F7           F3          FC5  \\\n",
       "0         0           0  4210.641113  4179.102539  4287.948730  4235.384766   \n",
       "1         0           0  4201.025879  4188.717773  4280.128418  4236.922852   \n",
       "2         0           0  4203.205078  4182.820313  4282.820313  4231.025879   \n",
       "3         0           0  4186.538574  4168.717773  4266.794922  4229.230957   \n",
       "4         0           0  4232.436035  4216.922852  4306.922852  4270.769043   \n",
       "\n",
       "            T7           P7           O1           O2           P8  \\\n",
       "0  4207.948730  4165.000000  4135.897461  4170.000000  4155.384766   \n",
       "1  4209.615234  4152.436035  4130.128418  4149.487305  4149.487305   \n",
       "2  4207.820313  4172.436035  4131.538574  4147.948730  4131.666504   \n",
       "3  4202.179688  4155.384766  4128.333496  4151.666504  4136.666504   \n",
       "4  4217.436035  4166.538574  4155.897461  4162.820313  4143.461426   \n",
       "\n",
       "            T8          FC6           F4           F8          AF4  \\\n",
       "0  4157.179688  4610.384766  4388.846191  4413.461426  4499.743652   \n",
       "1  4157.820313  4583.717773  4376.666504  4392.820313  4488.461426   \n",
       "2  4131.666504  4574.743652  4377.051270  4390.512695  4483.077148   \n",
       "3  4134.230957  4565.512695  4362.436035  4380.897461  4471.025879   \n",
       "4  4154.487305  4612.436035  4403.333496  4410.641113  4512.179688   \n",
       "\n",
       "   subject_understood  \n",
       "0                   0  \n",
       "1                   0  \n",
       "2                   0  \n",
       "3                   0  \n",
       "4                   0  "
      ]
     },
     "execution_count": 10,
     "metadata": {},
     "output_type": "execute_result"
    }
   ],
   "source": [
    "df.head()"
   ]
  },
  {
   "cell_type": "code",
   "execution_count": 11,
   "id": "b173c1eb",
   "metadata": {},
   "outputs": [
    {
     "data": {
      "text/plain": [
       "array([0, 1], dtype=int64)"
      ]
     },
     "execution_count": 11,
     "metadata": {},
     "output_type": "execute_result"
    }
   ],
   "source": [
    "df['subject_understood'].unique()"
   ]
  },
  {
   "cell_type": "code",
   "execution_count": 12,
   "id": "91aa8173",
   "metadata": {},
   "outputs": [],
   "source": [
    "groups=df.groupby(['subject_id','video_id'])"
   ]
  },
  {
   "cell_type": "code",
   "execution_count": 87,
   "id": "26642e18",
   "metadata": {},
   "outputs": [
    {
     "data": {
      "text/plain": [
       "<pandas.core.groupby.generic.DataFrameGroupBy object at 0x0000023C0EC2FB20>"
      ]
     },
     "execution_count": 87,
     "metadata": {},
     "output_type": "execute_result"
    }
   ],
   "source": [
    "groups"
   ]
  },
  {
   "cell_type": "code",
   "execution_count": 88,
   "id": "5e388c8a",
   "metadata": {},
   "outputs": [],
   "source": [
    "grp_keys=list(groups.groups.keys())"
   ]
  },
  {
   "cell_type": "code",
   "execution_count": 89,
   "id": "7169aea2",
   "metadata": {},
   "outputs": [
    {
     "data": {
      "text/plain": [
       "[(0, 0),\n",
       " (0, 1),\n",
       " (1, 2),\n",
       " (1, 3),\n",
       " (2, 4),\n",
       " (3, 5),\n",
       " (4, 6),\n",
       " (5, 7),\n",
       " (6, 8),\n",
       " (7, 9),\n",
       " (7, 10)]"
      ]
     },
     "execution_count": 89,
     "metadata": {},
     "output_type": "execute_result"
    }
   ],
   "source": [
    "grp_keys"
   ]
  },
  {
   "cell_type": "code",
   "execution_count": 90,
   "id": "26c6ee1c",
   "metadata": {},
   "outputs": [
    {
     "name": "stdout",
     "output_type": "stream",
     "text": [
      "[(0, 0), (0, 1), (1, 2), (1, 3), (2, 4), (3, 5), (4, 6), (5, 7), (6, 8), (7, 9), (7, 10)]\n"
     ]
    }
   ],
   "source": [
    "print(grp_keys)"
   ]
  },
  {
   "cell_type": "code",
   "execution_count": 91,
   "id": "e3a199d4",
   "metadata": {},
   "outputs": [],
   "source": [
    "grpno=grp_keys[0]"
   ]
  },
  {
   "cell_type": "code",
   "execution_count": 92,
   "id": "9f563ea7",
   "metadata": {},
   "outputs": [
    {
     "data": {
      "text/plain": [
       "(0, 0)"
      ]
     },
     "execution_count": 92,
     "metadata": {},
     "output_type": "execute_result"
    }
   ],
   "source": [
    "grpno"
   ]
  },
  {
   "cell_type": "code",
   "execution_count": 93,
   "id": "1619ec9e",
   "metadata": {},
   "outputs": [],
   "source": [
    "grp1=groups.get_group(grpno).drop(['subject_id','video_id'],axis=1)"
   ]
  },
  {
   "cell_type": "code",
   "execution_count": 94,
   "id": "5308580e",
   "metadata": {},
   "outputs": [
    {
     "data": {
      "text/html": [
       "<div>\n",
       "<style scoped>\n",
       "    .dataframe tbody tr th:only-of-type {\n",
       "        vertical-align: middle;\n",
       "    }\n",
       "\n",
       "    .dataframe tbody tr th {\n",
       "        vertical-align: top;\n",
       "    }\n",
       "\n",
       "    .dataframe thead th {\n",
       "        text-align: right;\n",
       "    }\n",
       "</style>\n",
       "<table border=\"1\" class=\"dataframe\">\n",
       "  <thead>\n",
       "    <tr style=\"text-align: right;\">\n",
       "      <th></th>\n",
       "      <th>AF3</th>\n",
       "      <th>F7</th>\n",
       "      <th>F3</th>\n",
       "      <th>FC5</th>\n",
       "      <th>T7</th>\n",
       "      <th>P7</th>\n",
       "      <th>O1</th>\n",
       "      <th>O2</th>\n",
       "      <th>P8</th>\n",
       "      <th>T8</th>\n",
       "      <th>FC6</th>\n",
       "      <th>F4</th>\n",
       "      <th>F8</th>\n",
       "      <th>AF4</th>\n",
       "      <th>subject_understood</th>\n",
       "    </tr>\n",
       "  </thead>\n",
       "  <tbody>\n",
       "    <tr>\n",
       "      <th>0</th>\n",
       "      <td>4210.641113</td>\n",
       "      <td>4179.102539</td>\n",
       "      <td>4287.948730</td>\n",
       "      <td>4235.384766</td>\n",
       "      <td>4207.948730</td>\n",
       "      <td>4165.000000</td>\n",
       "      <td>4135.897461</td>\n",
       "      <td>4170.000000</td>\n",
       "      <td>4155.384766</td>\n",
       "      <td>4157.179688</td>\n",
       "      <td>4610.384766</td>\n",
       "      <td>4388.846191</td>\n",
       "      <td>4413.461426</td>\n",
       "      <td>4499.743652</td>\n",
       "      <td>0</td>\n",
       "    </tr>\n",
       "    <tr>\n",
       "      <th>1</th>\n",
       "      <td>4201.025879</td>\n",
       "      <td>4188.717773</td>\n",
       "      <td>4280.128418</td>\n",
       "      <td>4236.922852</td>\n",
       "      <td>4209.615234</td>\n",
       "      <td>4152.436035</td>\n",
       "      <td>4130.128418</td>\n",
       "      <td>4149.487305</td>\n",
       "      <td>4149.487305</td>\n",
       "      <td>4157.820313</td>\n",
       "      <td>4583.717773</td>\n",
       "      <td>4376.666504</td>\n",
       "      <td>4392.820313</td>\n",
       "      <td>4488.461426</td>\n",
       "      <td>0</td>\n",
       "    </tr>\n",
       "    <tr>\n",
       "      <th>2</th>\n",
       "      <td>4203.205078</td>\n",
       "      <td>4182.820313</td>\n",
       "      <td>4282.820313</td>\n",
       "      <td>4231.025879</td>\n",
       "      <td>4207.820313</td>\n",
       "      <td>4172.436035</td>\n",
       "      <td>4131.538574</td>\n",
       "      <td>4147.948730</td>\n",
       "      <td>4131.666504</td>\n",
       "      <td>4131.666504</td>\n",
       "      <td>4574.743652</td>\n",
       "      <td>4377.051270</td>\n",
       "      <td>4390.512695</td>\n",
       "      <td>4483.077148</td>\n",
       "      <td>0</td>\n",
       "    </tr>\n",
       "    <tr>\n",
       "      <th>3</th>\n",
       "      <td>4186.538574</td>\n",
       "      <td>4168.717773</td>\n",
       "      <td>4266.794922</td>\n",
       "      <td>4229.230957</td>\n",
       "      <td>4202.179688</td>\n",
       "      <td>4155.384766</td>\n",
       "      <td>4128.333496</td>\n",
       "      <td>4151.666504</td>\n",
       "      <td>4136.666504</td>\n",
       "      <td>4134.230957</td>\n",
       "      <td>4565.512695</td>\n",
       "      <td>4362.436035</td>\n",
       "      <td>4380.897461</td>\n",
       "      <td>4471.025879</td>\n",
       "      <td>0</td>\n",
       "    </tr>\n",
       "    <tr>\n",
       "      <th>4</th>\n",
       "      <td>4232.436035</td>\n",
       "      <td>4216.922852</td>\n",
       "      <td>4306.922852</td>\n",
       "      <td>4270.769043</td>\n",
       "      <td>4217.436035</td>\n",
       "      <td>4166.538574</td>\n",
       "      <td>4155.897461</td>\n",
       "      <td>4162.820313</td>\n",
       "      <td>4143.461426</td>\n",
       "      <td>4154.487305</td>\n",
       "      <td>4612.436035</td>\n",
       "      <td>4403.333496</td>\n",
       "      <td>4410.641113</td>\n",
       "      <td>4512.179688</td>\n",
       "      <td>0</td>\n",
       "    </tr>\n",
       "    <tr>\n",
       "      <th>...</th>\n",
       "      <td>...</td>\n",
       "      <td>...</td>\n",
       "      <td>...</td>\n",
       "      <td>...</td>\n",
       "      <td>...</td>\n",
       "      <td>...</td>\n",
       "      <td>...</td>\n",
       "      <td>...</td>\n",
       "      <td>...</td>\n",
       "      <td>...</td>\n",
       "      <td>...</td>\n",
       "      <td>...</td>\n",
       "      <td>...</td>\n",
       "      <td>...</td>\n",
       "      <td>...</td>\n",
       "    </tr>\n",
       "    <tr>\n",
       "      <th>2397</th>\n",
       "      <td>4287.820313</td>\n",
       "      <td>4232.563965</td>\n",
       "      <td>4278.461426</td>\n",
       "      <td>4263.974121</td>\n",
       "      <td>4273.589844</td>\n",
       "      <td>4231.538574</td>\n",
       "      <td>4196.666504</td>\n",
       "      <td>4214.358887</td>\n",
       "      <td>4201.410156</td>\n",
       "      <td>4191.410156</td>\n",
       "      <td>4473.846191</td>\n",
       "      <td>4367.051270</td>\n",
       "      <td>4337.948730</td>\n",
       "      <td>4422.820313</td>\n",
       "      <td>0</td>\n",
       "    </tr>\n",
       "    <tr>\n",
       "      <th>2398</th>\n",
       "      <td>4291.282227</td>\n",
       "      <td>4238.333496</td>\n",
       "      <td>4276.794922</td>\n",
       "      <td>4265.641113</td>\n",
       "      <td>4275.256348</td>\n",
       "      <td>4214.871582</td>\n",
       "      <td>4211.282227</td>\n",
       "      <td>4215.000000</td>\n",
       "      <td>4191.666504</td>\n",
       "      <td>4190.128418</td>\n",
       "      <td>4455.769043</td>\n",
       "      <td>4371.282227</td>\n",
       "      <td>4337.820313</td>\n",
       "      <td>4420.256348</td>\n",
       "      <td>0</td>\n",
       "    </tr>\n",
       "    <tr>\n",
       "      <th>2399</th>\n",
       "      <td>4310.897461</td>\n",
       "      <td>4265.384766</td>\n",
       "      <td>4303.205078</td>\n",
       "      <td>4286.666504</td>\n",
       "      <td>4285.256348</td>\n",
       "      <td>4213.589844</td>\n",
       "      <td>4218.846191</td>\n",
       "      <td>4236.794922</td>\n",
       "      <td>4208.717773</td>\n",
       "      <td>4213.205078</td>\n",
       "      <td>4492.179688</td>\n",
       "      <td>4399.487305</td>\n",
       "      <td>4358.077148</td>\n",
       "      <td>4450.384766</td>\n",
       "      <td>0</td>\n",
       "    </tr>\n",
       "    <tr>\n",
       "      <th>2400</th>\n",
       "      <td>4290.256348</td>\n",
       "      <td>4256.538574</td>\n",
       "      <td>4288.333496</td>\n",
       "      <td>4276.922852</td>\n",
       "      <td>4282.692383</td>\n",
       "      <td>4219.102539</td>\n",
       "      <td>4213.461426</td>\n",
       "      <td>4225.384766</td>\n",
       "      <td>4201.538574</td>\n",
       "      <td>4197.436035</td>\n",
       "      <td>4489.487305</td>\n",
       "      <td>4380.512695</td>\n",
       "      <td>4361.794922</td>\n",
       "      <td>4434.230957</td>\n",
       "      <td>0</td>\n",
       "    </tr>\n",
       "    <tr>\n",
       "      <th>2401</th>\n",
       "      <td>4275.000000</td>\n",
       "      <td>4257.692383</td>\n",
       "      <td>4271.410156</td>\n",
       "      <td>4275.256348</td>\n",
       "      <td>4291.922852</td>\n",
       "      <td>4217.692383</td>\n",
       "      <td>4195.128418</td>\n",
       "      <td>4207.948730</td>\n",
       "      <td>4194.615234</td>\n",
       "      <td>4187.051270</td>\n",
       "      <td>4473.205078</td>\n",
       "      <td>4365.641113</td>\n",
       "      <td>4333.846191</td>\n",
       "      <td>4413.589844</td>\n",
       "      <td>0</td>\n",
       "    </tr>\n",
       "  </tbody>\n",
       "</table>\n",
       "<p>2402 rows × 15 columns</p>\n",
       "</div>"
      ],
      "text/plain": [
       "              AF3           F7           F3          FC5           T7  \\\n",
       "0     4210.641113  4179.102539  4287.948730  4235.384766  4207.948730   \n",
       "1     4201.025879  4188.717773  4280.128418  4236.922852  4209.615234   \n",
       "2     4203.205078  4182.820313  4282.820313  4231.025879  4207.820313   \n",
       "3     4186.538574  4168.717773  4266.794922  4229.230957  4202.179688   \n",
       "4     4232.436035  4216.922852  4306.922852  4270.769043  4217.436035   \n",
       "...           ...          ...          ...          ...          ...   \n",
       "2397  4287.820313  4232.563965  4278.461426  4263.974121  4273.589844   \n",
       "2398  4291.282227  4238.333496  4276.794922  4265.641113  4275.256348   \n",
       "2399  4310.897461  4265.384766  4303.205078  4286.666504  4285.256348   \n",
       "2400  4290.256348  4256.538574  4288.333496  4276.922852  4282.692383   \n",
       "2401  4275.000000  4257.692383  4271.410156  4275.256348  4291.922852   \n",
       "\n",
       "               P7           O1           O2           P8           T8  \\\n",
       "0     4165.000000  4135.897461  4170.000000  4155.384766  4157.179688   \n",
       "1     4152.436035  4130.128418  4149.487305  4149.487305  4157.820313   \n",
       "2     4172.436035  4131.538574  4147.948730  4131.666504  4131.666504   \n",
       "3     4155.384766  4128.333496  4151.666504  4136.666504  4134.230957   \n",
       "4     4166.538574  4155.897461  4162.820313  4143.461426  4154.487305   \n",
       "...           ...          ...          ...          ...          ...   \n",
       "2397  4231.538574  4196.666504  4214.358887  4201.410156  4191.410156   \n",
       "2398  4214.871582  4211.282227  4215.000000  4191.666504  4190.128418   \n",
       "2399  4213.589844  4218.846191  4236.794922  4208.717773  4213.205078   \n",
       "2400  4219.102539  4213.461426  4225.384766  4201.538574  4197.436035   \n",
       "2401  4217.692383  4195.128418  4207.948730  4194.615234  4187.051270   \n",
       "\n",
       "              FC6           F4           F8          AF4  subject_understood  \n",
       "0     4610.384766  4388.846191  4413.461426  4499.743652                   0  \n",
       "1     4583.717773  4376.666504  4392.820313  4488.461426                   0  \n",
       "2     4574.743652  4377.051270  4390.512695  4483.077148                   0  \n",
       "3     4565.512695  4362.436035  4380.897461  4471.025879                   0  \n",
       "4     4612.436035  4403.333496  4410.641113  4512.179688                   0  \n",
       "...           ...          ...          ...          ...                 ...  \n",
       "2397  4473.846191  4367.051270  4337.948730  4422.820313                   0  \n",
       "2398  4455.769043  4371.282227  4337.820313  4420.256348                   0  \n",
       "2399  4492.179688  4399.487305  4358.077148  4450.384766                   0  \n",
       "2400  4489.487305  4380.512695  4361.794922  4434.230957                   0  \n",
       "2401  4473.205078  4365.641113  4333.846191  4413.589844                   0  \n",
       "\n",
       "[2402 rows x 15 columns]"
      ]
     },
     "execution_count": 94,
     "metadata": {},
     "output_type": "execute_result"
    }
   ],
   "source": [
    "grp1"
   ]
  },
  {
   "cell_type": "code",
   "execution_count": 95,
   "id": "3de89f5b",
   "metadata": {},
   "outputs": [],
   "source": [
    "label=grp1['subject_understood']"
   ]
  },
  {
   "cell_type": "code",
   "execution_count": 96,
   "id": "e5990d3c",
   "metadata": {},
   "outputs": [
    {
     "data": {
      "text/plain": [
       "0       0\n",
       "1       0\n",
       "2       0\n",
       "3       0\n",
       "4       0\n",
       "       ..\n",
       "2397    0\n",
       "2398    0\n",
       "2399    0\n",
       "2400    0\n",
       "2401    0\n",
       "Name: subject_understood, Length: 2402, dtype: int64"
      ]
     },
     "execution_count": 96,
     "metadata": {},
     "output_type": "execute_result"
    }
   ],
   "source": [
    "label"
   ]
  },
  {
   "cell_type": "code",
   "execution_count": 97,
   "id": "f2548b21",
   "metadata": {},
   "outputs": [],
   "source": [
    "subject_id=grpno[0]"
   ]
  },
  {
   "cell_type": "code",
   "execution_count": 98,
   "id": "e0a32b1e",
   "metadata": {},
   "outputs": [
    {
     "data": {
      "text/plain": [
       "0"
      ]
     },
     "execution_count": 98,
     "metadata": {},
     "output_type": "execute_result"
    }
   ],
   "source": [
    "subject_id"
   ]
  },
  {
   "cell_type": "code",
   "execution_count": 1,
   "id": "f347f833",
   "metadata": {},
   "outputs": [
    {
     "ename": "NameError",
     "evalue": "name 'grp1' is not defined",
     "output_type": "error",
     "traceback": [
      "\u001b[1;31m---------------------------------------------------------------------------\u001b[0m",
      "\u001b[1;31mNameError\u001b[0m                                 Traceback (most recent call last)",
      "Input \u001b[1;32mIn [1]\u001b[0m, in \u001b[0;36m<cell line: 1>\u001b[1;34m()\u001b[0m\n\u001b[1;32m----> 1\u001b[0m grp1\u001b[38;5;241m=\u001b[39m\u001b[43mgrp1\u001b[49m\u001b[38;5;241m.\u001b[39mdrop(\u001b[38;5;124m'\u001b[39m\u001b[38;5;124msubject_understood\u001b[39m\u001b[38;5;124m'\u001b[39m,axis\u001b[38;5;241m=\u001b[39m\u001b[38;5;241m1\u001b[39m)\n\u001b[0;32m      2\u001b[0m grp1\n",
      "\u001b[1;31mNameError\u001b[0m: name 'grp1' is not defined"
     ]
    }
   ],
   "source": [
    "grp1=grp1.drop('subject_understood',axis=1)\n",
    "grp"
   ]
  },
  {
   "cell_type": "code",
   "execution_count": 100,
   "id": "0b3f1451",
   "metadata": {},
   "outputs": [],
   "source": [
    "import mne\n",
    "def convertDF2MNE(sub):\n",
    "    info = mne.create_info(list(sub.columns), ch_types=['eeg'] * len(sub.columns), sfreq=128)\n",
    "    info.set_montage('standard_1020')\n",
    "    data=mne.io.RawArray(sub.T, info)\n",
    "    data.set_eeg_reference()\n",
    "    #data.filter(l_freq=1,h_freq=30)\n",
    "    epochs=mne.make_fixed_length_epochs(data,duration=3,overlap=2)\n",
    "    return epochs.get_data()"
   ]
  },
  {
   "cell_type": "code",
   "execution_count": 101,
   "id": "7b054fd3",
   "metadata": {},
   "outputs": [
    {
     "name": "stdout",
     "output_type": "stream",
     "text": [
      "Creating RawArray with float64 data, n_channels=14, n_times=2402\n",
      "    Range : 0 ... 2401 =      0.000 ...    18.758 secs\n",
      "Ready.\n",
      "EEG channel type selected for re-referencing\n",
      "Applying average reference.\n",
      "Applying a custom ('EEG',) reference.\n",
      "Not setting metadata\n",
      "16 matching events found\n",
      "No baseline correction applied\n",
      "0 projection items activated\n",
      "Using data from preloaded Raw for 16 events and 384 original time points ...\n",
      "0 bad epochs dropped\n"
     ]
    },
    {
     "data": {
      "text/plain": [
       "(16, 14, 384)"
      ]
     },
     "execution_count": 101,
     "metadata": {},
     "output_type": "execute_result"
    }
   ],
   "source": [
    "test=convertDF2MNE(grp1)\n",
    "test.shape\n"
   ]
  },
  {
   "cell_type": "code",
   "execution_count": 102,
   "id": "fd9efe3a",
   "metadata": {},
   "outputs": [
    {
     "data": {
      "text/plain": [
       "384"
      ]
     },
     "execution_count": 102,
     "metadata": {},
     "output_type": "execute_result"
    }
   ],
   "source": [
    "128*3"
   ]
  },
  {
   "cell_type": "code",
   "execution_count": 103,
   "id": "23c7c7b0",
   "metadata": {},
   "outputs": [],
   "source": [
    "!mkdir scaleogram"
   ]
  },
  {
   "cell_type": "code",
   "execution_count": 104,
   "id": "e53f674b",
   "metadata": {},
   "outputs": [],
   "source": [
    "from glob import glob\n",
    "import scipy.io\n",
    "import torch.nn as nn\n",
    "import torch\n",
    "import numpy as np\n",
    "import mne\n",
    "from ssqueezepy import cwt\n",
    "from ssqueezepy.visuals import plot, imshow\n",
    "import os\n",
    "import re\n",
    "import pandas as pd"
   ]
  },
  {
   "cell_type": "code",
   "execution_count": 105,
   "id": "e486c4cb",
   "metadata": {},
   "outputs": [
    {
     "data": {
      "text/plain": [
       "(384,)"
      ]
     },
     "execution_count": 105,
     "metadata": {},
     "output_type": "execute_result"
    }
   ],
   "source": [
    "test[0][0].shape"
   ]
  },
  {
   "cell_type": "code",
   "execution_count": 106,
   "id": "7d952433",
   "metadata": {},
   "outputs": [
    {
     "data": {
      "text/plain": [
       "(14, 230, 384)"
      ]
     },
     "execution_count": 106,
     "metadata": {},
     "output_type": "execute_result"
    }
   ],
   "source": [
    "Wx, scales = cwt(test[0], 'morlet')\n",
    "Wx.shape"
   ]
  },
  {
   "cell_type": "code",
   "execution_count": 107,
   "id": "a69f09ea",
   "metadata": {},
   "outputs": [
    {
     "data": {
      "image/png": "[encoded data removed]",
      "text/plain": [
       "<Figure size 432x288 with 1 Axes>"
      ]
     },
     "metadata": {
      "needs_background": "light"
     },
     "output_type": "display_data"
    }
   ],
   "source": [
    "imshow(Wx[0])"
   ]
  },
  {
   "cell_type": "code",
   "execution_count": null,
   "id": "131cd4aa",
   "metadata": {},
   "outputs": [],
   "source": [
    "for i in range(68830,68830+1139):\n",
    "    df10.loc[i] = new_row\n",
    "    \n",
    "# df4.reset_index(drop = True)\n",
    "df10"
   ]
  }
 ],
 "metadata": {
  "kernelspec": {
   "display_name": "Python 3 (ipykernel)",
   "language": "python",
   "name": "python3"
  },
  "language_info": {
   "codemirror_mode": {
    "name": "ipython",
    "version": 3
   },
   "file_extension": ".py",
   "mimetype": "text/x-python",
   "name": "python",
   "nbconvert_exporter": "python",
   "pygments_lexer": "ipython3",
   "version": "3.9.0"
  }
 },
 "nbformat": 4,
 "nbformat_minor": 5
}

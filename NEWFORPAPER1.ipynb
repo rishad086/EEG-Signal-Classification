{
 "cells": [
  {
   "cell_type": "code",
   "execution_count": 2,
   "id": "1b89fce4",
   "metadata": {},
   "outputs": [],
   "source": [
    "import matplotlib.pyplot as plotter_lib\n",
    "\n",
    "import numpy as np\n",
    "\n",
    "import PIL as image_lib\n",
    "\n",
    "import tensorflow as tflow\n",
    "\n",
    "from tensorflow.keras.layers import Flatten\n",
    "\n",
    "from keras.layers.core import Dense\n",
    "\n",
    "from tensorflow.keras.models import Sequential\n",
    "\n",
    "from tensorflow.keras.optimizers import Adam\n",
    "import pathlib"
   ]
  },
  {
   "cell_type": "code",
   "execution_count": 2,
   "id": "3ab00280",
   "metadata": {},
   "outputs": [],
   "source": [
    "data_directory = pathlib.Path('F:\\\\EEG\\\\Zero')"
   ]
  },
  {
   "cell_type": "code",
   "execution_count": 3,
   "id": "d86adeec",
   "metadata": {},
   "outputs": [],
   "source": [
    "data_directory1 = pathlib.Path(data_directory)"
   ]
  },
  {
   "cell_type": "code",
   "execution_count": 4,
   "id": "795a27d7",
   "metadata": {},
   "outputs": [
    {
     "name": "stdout",
     "output_type": "stream",
     "text": [
      "Found 5150 files belonging to 2 classes.\n",
      "Using 4120 files for training.\n"
     ]
    }
   ],
   "source": [
    "img_height,img_width=180,180\n",
    "\n",
    "batch_size=32\n",
    "\n",
    "train_ds = tflow.keras.preprocessing.image_dataset_from_directory(\n",
    "\n",
    "  data_directory1,\n",
    "\n",
    "  validation_split=0.2,\n",
    "\n",
    "  subset=\"training\",\n",
    "\n",
    "  seed=123,\n",
    "\n",
    "label_mode='categorical',\n",
    "\n",
    "  image_size=(img_height, img_width),\n",
    "\n",
    "  batch_size=batch_size)"
   ]
  },
  {
   "cell_type": "code",
   "execution_count": 5,
   "id": "401629d6",
   "metadata": {},
   "outputs": [
    {
     "name": "stdout",
     "output_type": "stream",
     "text": [
      "Found 5150 files belonging to 2 classes.\n",
      "Using 1030 files for validation.\n"
     ]
    }
   ],
   "source": [
    "validation_ds = tflow.keras.preprocessing.image_dataset_from_directory(\n",
    "\n",
    "  data_directory1,\n",
    "\n",
    "  validation_split=0.2,\n",
    "\n",
    "  subset=\"validation\",\n",
    "\n",
    "  seed=123,\n",
    "\n",
    "label_mode='categorical',\n",
    "\n",
    "  image_size=(img_height, img_width),\n",
    "\n",
    "  batch_size=batch_size)"
   ]
  },
  {
   "cell_type": "code",
   "execution_count": 6,
   "id": "78384c38",
   "metadata": {},
   "outputs": [],
   "source": [
    "# import matplotlib.pyplot as plotter_lib\n",
    "\n",
    "# plotter_lib.figure(figsize=(10, 10))\n",
    "\n",
    "# epochs=10\n",
    "\n",
    "# for images, labels in train_ds.take(1):\n",
    "\n",
    "#   for var in range(6):\n",
    "\n",
    "#     ax = plt.subplot(3, 3, var + 1)\n",
    "\n",
    "#     plotter_lib.imshow(images[var].numpy().astype(\"uint8\"))\n",
    "\n",
    "#     plotter_lib.axis(\"off\")*"
   ]
  },
  {
   "cell_type": "code",
   "execution_count": 7,
   "id": "ce583f9f",
   "metadata": {},
   "outputs": [],
   "source": [
    "demo_resnet_model = Sequential()\n",
    "\n",
    "pretrained_model_for_demo= tflow.keras.applications.ResNet50(include_top=False,\n",
    "\n",
    "                   input_shape=(180,180,3),\n",
    "\n",
    "                   pooling='avg',classes=2,\n",
    "\n",
    "                   weights='imagenet')\n",
    "\n",
    "for each_layer in pretrained_model_for_demo.layers:\n",
    "\n",
    "        each_layer.trainable=False\n",
    "\n",
    "demo_resnet_model.add(pretrained_model_for_demo)"
   ]
  },
  {
   "cell_type": "code",
   "execution_count": 8,
   "id": "7d9b6348",
   "metadata": {},
   "outputs": [],
   "source": [
    "demo_resnet_model.add(Flatten())\n",
    "\n",
    "demo_resnet_model.add(Dense(512, activation='relu'))\n",
    "demo_resnet_model.add(Dense(128, activation='relu'))\n",
    "demo_resnet_model.add(Dense(2, activation='sigmoid'))"
   ]
  },
  {
   "cell_type": "code",
   "execution_count": 9,
   "id": "f499371e",
   "metadata": {},
   "outputs": [
    {
     "data": {
      "text/plain": [
       "<Figure size 1000x1000 with 0 Axes>"
      ]
     },
     "metadata": {},
     "output_type": "display_data"
    }
   ],
   "source": [
    "import matplotlib.pyplot as plotter_lib\n",
    "\n",
    "plotter_lib.figure(figsize=(10, 10))\n",
    "\n",
    "epochs=10"
   ]
  },
  {
   "cell_type": "code",
   "execution_count": 10,
   "id": "887461c7",
   "metadata": {},
   "outputs": [],
   "source": [
    "demo_resnet_model = Sequential()\n",
    "\n",
    "pretrained_model_for_demo= tflow.keras.applications.ResNet50(include_top=False,\n",
    "\n",
    "                   input_shape=(180,180,3),\n",
    "\n",
    "                   pooling='avg',classes=2,\n",
    "\n",
    "                   weights='imagenet')\n",
    "\n",
    "for each_layer in pretrained_model_for_demo.layers:\n",
    "\n",
    "        each_layer.trainable=False\n",
    "\n",
    "demo_resnet_model.add(pretrained_model_for_demo)"
   ]
  },
  {
   "cell_type": "code",
   "execution_count": 11,
   "id": "bb0d28df",
   "metadata": {},
   "outputs": [],
   "source": [
    "demo_resnet_model.add(Flatten())\n",
    "\n",
    "demo_resnet_model.add(Dense(512, activation='relu'))\n",
    "demo_resnet_model.add(Dense(128, activation='relu'))\n",
    "\n",
    "demo_resnet_model.add(Dense(2, activation='sigmoid'))"
   ]
  },
  {
   "cell_type": "code",
   "execution_count": 12,
   "id": "42204d84",
   "metadata": {},
   "outputs": [
    {
     "name": "stderr",
     "output_type": "stream",
     "text": [
      "WARNING:absl:`lr` is deprecated, please use `learning_rate` instead, or use the legacy optimizer, e.g.,tf.keras.optimizers.legacy.Adam.\n"
     ]
    },
    {
     "name": "stdout",
     "output_type": "stream",
     "text": [
      "Epoch 1/10\n",
      "129/129 [==============================] - 267s 2s/step - loss: 0.3307 - accuracy: 0.8794 - val_loss: 0.2941 - val_accuracy: 0.8757\n",
      "Epoch 2/10\n",
      "129/129 [==============================] - 252s 2s/step - loss: 0.2799 - accuracy: 0.8862 - val_loss: 0.2737 - val_accuracy: 0.8883\n",
      "Epoch 3/10\n",
      "129/129 [==============================] - 253s 2s/step - loss: 0.2556 - accuracy: 0.8951 - val_loss: 0.3118 - val_accuracy: 0.8777\n",
      "Epoch 4/10\n",
      "129/129 [==============================] - 250s 2s/step - loss: 0.2454 - accuracy: 0.9017 - val_loss: 0.3707 - val_accuracy: 0.8748\n",
      "Epoch 5/10\n",
      "129/129 [==============================] - 237s 2s/step - loss: 0.2324 - accuracy: 0.9034 - val_loss: 0.2795 - val_accuracy: 0.8874\n",
      "Epoch 6/10\n",
      "129/129 [==============================] - 234s 2s/step - loss: 0.2222 - accuracy: 0.9078 - val_loss: 0.2830 - val_accuracy: 0.8932\n",
      "Epoch 7/10\n",
      "129/129 [==============================] - 231s 2s/step - loss: 0.2147 - accuracy: 0.9131 - val_loss: 0.2543 - val_accuracy: 0.8961\n",
      "Epoch 8/10\n",
      "129/129 [==============================] - 231s 2s/step - loss: 0.2097 - accuracy: 0.9158 - val_loss: 0.2579 - val_accuracy: 0.8961\n",
      "Epoch 9/10\n",
      "129/129 [==============================] - 236s 2s/step - loss: 0.1918 - accuracy: 0.9257 - val_loss: 0.2553 - val_accuracy: 0.8942\n",
      "Epoch 10/10\n",
      "129/129 [==============================] - 231s 2s/step - loss: 0.1869 - accuracy: 0.9252 - val_loss: 0.2432 - val_accuracy: 0.9087\n"
     ]
    }
   ],
   "source": [
    "demo_resnet_model.compile(optimizer=Adam(lr=0.001),loss='binary_crossentropy',metrics=['accuracy'])\n",
    "\n",
    "history = demo_resnet_model.fit(train_ds, validation_data=validation_ds, epochs=epochs)"
   ]
  },
  {
   "cell_type": "code",
   "execution_count": 33,
   "id": "41d8aa4c",
   "metadata": {},
   "outputs": [
    {
     "data": {
      "text/plain": [
       "<matplotlib.legend.Legend at 0x2016ef09850>"
      ]
     },
     "execution_count": 33,
     "metadata": {},
     "output_type": "execute_result"
    },
    {
     "data": {
      "image/png": "[encoded data removed]",
      "text/plain": [
       "<Figure size 500x500 with 1 Axes>"
      ]
     },
     "metadata": {},
     "output_type": "display_data"
    }
   ],
   "source": [
    "plotter_lib.figure(figsize=(5, 5))\n",
    "\n",
    "epochs_range= range(epochs)\n",
    "\n",
    "plotter_lib.plot( epochs_range, history.history['accuracy'], label=\"Training Accuracy\")\n",
    "\n",
    "plotter_lib.plot(epochs_range, history.history['val_accuracy'], label=\"Validation Accuracy\")\n",
    "\n",
    "plotter_lib.axis(ymin=0.4,ymax=1)\n",
    "\n",
    "plotter_lib.grid()\n",
    "\n",
    "plotter_lib.title('Model Accuracy')\n",
    "\n",
    "plotter_lib.ylabel('Accuracy')\n",
    "\n",
    "plotter_lib.xlabel('Epochs')\n",
    "\n",
    "plotter_lib.legend(['train', 'validation'])"
   ]
  },
  {
   "cell_type": "code",
   "execution_count": 14,
   "id": "ef444432",
   "metadata": {},
   "outputs": [
    {
     "data": {
      "text/plain": [
       "<Figure size 640x480 with 0 Axes>"
      ]
     },
     "metadata": {},
     "output_type": "display_data"
    }
   ],
   "source": [
    "plotter_lib.show()\n",
    "\n",
    "plotter_lib.savefig('output-plot.png') "
   ]
  },
  {
   "cell_type": "code",
   "execution_count": 15,
   "id": "2c1ecbbc",
   "metadata": {},
   "outputs": [
    {
     "name": "stdout",
     "output_type": "stream",
     "text": [
      "33/33 [==============================] - 47s 1s/step\n",
      "Accuracy: 0.8135922330097087\n",
      "Classification Report:\n",
      "               precision    recall  f1-score   support\n",
      "\n",
      "           0       0.87      0.92      0.90       899\n",
      "           1       0.13      0.08      0.10       131\n",
      "\n",
      "    accuracy                           0.81      1030\n",
      "   macro avg       0.50      0.50      0.50      1030\n",
      "weighted avg       0.78      0.81      0.80      1030\n",
      "\n"
     ]
    }
   ],
   "source": [
    "from sklearn.metrics import classification_report, accuracy_score\n",
    "\n",
    "# predict on test data\n",
    "y_pred = demo_resnet_model.predict(validation_ds)\n",
    "\n",
    "# convert predicted probabilities to class labels\n",
    "y_pred = np.argmax(y_pred, axis=1)\n",
    "\n",
    "# get true class labels\n",
    "y_true = np.concatenate([y for x, y in validation_ds], axis=0)\n",
    "y_true = np.argmax(y_true, axis=1)\n",
    "\n",
    "# calculate accuracy\n",
    "acc = accuracy_score(y_true, y_pred)\n",
    "print(\"Accuracy:\", acc)\n",
    "\n",
    "# calculate precision, recall, f1-score\n",
    "report = classification_report(y_true, y_pred)\n",
    "print(\"Classification Report:\\n\", report)\n"
   ]
  },
  {
   "cell_type": "markdown",
   "id": "236dad6e",
   "metadata": {},
   "source": [
    "### VGG-16\n"
   ]
  },
  {
   "cell_type": "code",
   "execution_count": 16,
   "id": "97ae265f",
   "metadata": {},
   "outputs": [],
   "source": [
    "demo_vgg_16_model = Sequential()\n",
    "\n",
    "pretrained_model_for_vgg_16_demo= tflow.keras.applications.VGG16(include_top=False,\n",
    "\n",
    "                   input_shape=(180,180,3),\n",
    "\n",
    "                   pooling='avg',classes=2,\n",
    "\n",
    "                   weights='imagenet')\n",
    "\n",
    "for each_layer in pretrained_model_for_vgg_16_demo.layers:\n",
    "\n",
    "        each_layer.trainable=False\n",
    "\n",
    "demo_vgg_16_model.add(pretrained_model_for_demo)"
   ]
  },
  {
   "cell_type": "code",
   "execution_count": 17,
   "id": "3a9de05e",
   "metadata": {},
   "outputs": [],
   "source": [
    "demo_vgg_16_model.add(Flatten())\n",
    "\n",
    "demo_vgg_16_model.add(Dense(512, activation='relu'))\n",
    "demo_vgg_16_model.add(Dense(128, activation='relu'))\n",
    "demo_vgg_16_model.add(Dense(2, activation='sigmoid'))"
   ]
  },
  {
   "cell_type": "code",
   "execution_count": 18,
   "id": "446ec963",
   "metadata": {},
   "outputs": [
    {
     "data": {
      "text/plain": [
       "<Figure size 1000x1000 with 0 Axes>"
      ]
     },
     "metadata": {},
     "output_type": "display_data"
    }
   ],
   "source": [
    "import matplotlib.pyplot as plotter_lib\n",
    "\n",
    "plotter_lib.figure(figsize=(10, 10))\n",
    "\n",
    "epochs=10"
   ]
  },
  {
   "cell_type": "code",
   "execution_count": 19,
   "id": "cc913160",
   "metadata": {},
   "outputs": [],
   "source": [
    "demo_vgg_16_model = Sequential()\n",
    "\n",
    "pretrained_model_for_vgg_16_demo= tflow.keras.applications.VGG16(include_top=False,\n",
    "\n",
    "                   input_shape=(180,180,3),\n",
    "\n",
    "                   pooling='avg',classes=2,\n",
    "\n",
    "                   weights='imagenet')\n",
    "\n",
    "for each_layer in pretrained_model_for_vgg_16_demo.layers:\n",
    "\n",
    "        each_layer.trainable=False\n",
    "\n",
    "demo_vgg_16_model.add(pretrained_model_for_vgg_16_demo)"
   ]
  },
  {
   "cell_type": "code",
   "execution_count": 20,
   "id": "c91d694f",
   "metadata": {},
   "outputs": [],
   "source": [
    "demo_vgg_16_model.add(Flatten())\n",
    "\n",
    "demo_vgg_16_model.add(Dense(512, activation='relu'))\n",
    "demo_vgg_16_model.add(Dense(128, activation='relu'))\n",
    "\n",
    "demo_vgg_16_model.add(Dense(2, activation='sigmoid'))"
   ]
  },
  {
   "cell_type": "code",
   "execution_count": 21,
   "id": "41c1147a",
   "metadata": {},
   "outputs": [
    {
     "name": "stderr",
     "output_type": "stream",
     "text": [
      "WARNING:absl:`lr` is deprecated, please use `learning_rate` instead, or use the legacy optimizer, e.g.,tf.keras.optimizers.legacy.Adam.\n"
     ]
    },
    {
     "name": "stdout",
     "output_type": "stream",
     "text": [
      "Epoch 1/10\n",
      "129/129 [==============================] - 426s 3s/step - loss: 0.3141 - accuracy: 0.8794 - val_loss: 0.2971 - val_accuracy: 0.8825\n",
      "Epoch 2/10\n",
      "129/129 [==============================] - 429s 3s/step - loss: 0.2568 - accuracy: 0.9005 - val_loss: 0.2820 - val_accuracy: 0.8874\n",
      "Epoch 3/10\n",
      "129/129 [==============================] - 438s 3s/step - loss: 0.2346 - accuracy: 0.9155 - val_loss: 0.2660 - val_accuracy: 0.8903\n",
      "Epoch 4/10\n",
      "129/129 [==============================] - 424s 3s/step - loss: 0.2214 - accuracy: 0.9107 - val_loss: 0.2757 - val_accuracy: 0.8874\n",
      "Epoch 5/10\n",
      "129/129 [==============================] - 422s 3s/step - loss: 0.2011 - accuracy: 0.9180 - val_loss: 0.2746 - val_accuracy: 0.8757\n",
      "Epoch 6/10\n",
      "129/129 [==============================] - 420s 3s/step - loss: 0.1879 - accuracy: 0.9265 - val_loss: 0.2934 - val_accuracy: 0.8922\n",
      "Epoch 7/10\n",
      "129/129 [==============================] - 421s 3s/step - loss: 0.1690 - accuracy: 0.9367 - val_loss: 0.2906 - val_accuracy: 0.8942\n",
      "Epoch 8/10\n",
      "129/129 [==============================] - 424s 3s/step - loss: 0.1508 - accuracy: 0.9427 - val_loss: 0.3244 - val_accuracy: 0.8573\n",
      "Epoch 9/10\n",
      "129/129 [==============================] - 426s 3s/step - loss: 0.1397 - accuracy: 0.9476 - val_loss: 0.3501 - val_accuracy: 0.8922\n",
      "Epoch 10/10\n",
      "129/129 [==============================] - 428s 3s/step - loss: 0.1365 - accuracy: 0.9473 - val_loss: 0.3348 - val_accuracy: 0.8893\n"
     ]
    }
   ],
   "source": [
    "demo_vgg_16_model.compile(optimizer=Adam(lr=0.001),loss='binary_crossentropy',metrics=['accuracy'])\n",
    "\n",
    "history = demo_vgg_16_model.fit(train_ds, validation_data=validation_ds, epochs=epochs)"
   ]
  },
  {
   "cell_type": "code",
   "execution_count": 34,
   "id": "a021895a",
   "metadata": {},
   "outputs": [
    {
     "data": {
      "text/plain": [
       "<matplotlib.legend.Legend at 0x20111676df0>"
      ]
     },
     "execution_count": 34,
     "metadata": {},
     "output_type": "execute_result"
    },
    {
     "data": {
      "image/png": "[encoded data removed]",
      "text/plain": [
       "<Figure size 500x500 with 1 Axes>"
      ]
     },
     "metadata": {},
     "output_type": "display_data"
    }
   ],
   "source": [
    "plotter_lib.figure(figsize=(5, 5))\n",
    "\n",
    "epochs_range= range(epochs)\n",
    "\n",
    "plotter_lib.plot( epochs_range, history.history['accuracy'], label=\"Training Accuracy\")\n",
    "\n",
    "plotter_lib.plot(epochs_range, history.history['val_accuracy'], label=\"Validation Accuracy\")\n",
    "\n",
    "plotter_lib.axis(ymin=0.4,ymax=1)\n",
    "\n",
    "plotter_lib.grid()\n",
    "\n",
    "plotter_lib.title('Model Accuracy')\n",
    "\n",
    "plotter_lib.ylabel('Accuracy')\n",
    "\n",
    "plotter_lib.xlabel('Epochs')\n",
    "\n",
    "plotter_lib.legend(['train', 'validation'])"
   ]
  },
  {
   "cell_type": "code",
   "execution_count": 23,
   "id": "40b1b537",
   "metadata": {},
   "outputs": [
    {
     "data": {
      "text/plain": [
       "<Figure size 640x480 with 0 Axes>"
      ]
     },
     "metadata": {},
     "output_type": "display_data"
    }
   ],
   "source": [
    "plotter_lib.show()\n",
    "\n",
    "plotter_lib.savefig('output-plot.png') "
   ]
  },
  {
   "cell_type": "code",
   "execution_count": 24,
   "id": "15ca26d9",
   "metadata": {},
   "outputs": [
    {
     "name": "stdout",
     "output_type": "stream",
     "text": [
      "33/33 [==============================] - 85s 3s/step\n",
      "Accuracy: 0.8019417475728156\n",
      "Classification Report:\n",
      "               precision    recall  f1-score   support\n",
      "\n",
      "           0       0.87      0.90      0.89       899\n",
      "           1       0.13      0.10      0.11       131\n",
      "\n",
      "    accuracy                           0.80      1030\n",
      "   macro avg       0.50      0.50      0.50      1030\n",
      "weighted avg       0.78      0.80      0.79      1030\n",
      "\n"
     ]
    }
   ],
   "source": [
    "from sklearn.metrics import classification_report, accuracy_score\n",
    "\n",
    "# predict on test data\n",
    "y_pred = demo_vgg_16_model.predict(validation_ds)\n",
    "\n",
    "# convert predicted probabilities to class labels\n",
    "y_pred = np.argmax(y_pred, axis=1)\n",
    "\n",
    "# get true class labels\n",
    "y_true = np.concatenate([y for x, y in validation_ds], axis=0)\n",
    "y_true = np.argmax(y_true, axis=1)\n",
    "\n",
    "# calculate accuracy\n",
    "acc = accuracy_score(y_true, y_pred)\n",
    "print(\"Accuracy:\", acc)\n",
    "\n",
    "# calculate precision, recall, f1-score\n",
    "report = classification_report(y_true, y_pred)\n",
    "print(\"Classification Report:\\n\", report)"
   ]
  },
  {
   "cell_type": "markdown",
   "id": "4984fbda",
   "metadata": {},
   "source": [
    "### VGG 19\\"
   ]
  },
  {
   "cell_type": "code",
   "execution_count": 25,
   "id": "36afba43",
   "metadata": {},
   "outputs": [],
   "source": [
    "demo_vgg_19_model = Sequential()\n",
    "\n",
    "pretrained_model_for_vgg_19_demo= tflow.keras.applications.VGG19(include_top=False,\n",
    "\n",
    "                   input_shape=(180,180,3),\n",
    "\n",
    "                   pooling='avg',classes=2,\n",
    "\n",
    "                   weights='imagenet')\n",
    "\n",
    "for each_layer in pretrained_model_for_vgg_19_demo.layers:\n",
    "\n",
    "        each_layer.trainable=False\n",
    "\n",
    "demo_vgg_19_model.add(pretrained_model_for_vgg_19_demo)"
   ]
  },
  {
   "cell_type": "code",
   "execution_count": 26,
   "id": "06e98a8e",
   "metadata": {},
   "outputs": [],
   "source": [
    "demo_vgg_19_model.add(Flatten())\n",
    "\n",
    "demo_vgg_19_model.add(Dense(512, activation='relu'))\n",
    "demo_vgg_19_model.add(Dense(128, activation='relu'))\n",
    "\n",
    "demo_vgg_19_model.add(Dense(2, activation='sigmoid'))"
   ]
  },
  {
   "cell_type": "code",
   "execution_count": 27,
   "id": "2910b8db",
   "metadata": {},
   "outputs": [
    {
     "name": "stderr",
     "output_type": "stream",
     "text": [
      "WARNING:absl:`lr` is deprecated, please use `learning_rate` instead, or use the legacy optimizer, e.g.,tf.keras.optimizers.legacy.Adam.\n"
     ]
    },
    {
     "name": "stdout",
     "output_type": "stream",
     "text": [
      "Epoch 1/10\n",
      "129/129 [==============================] - 540s 4s/step - loss: 0.3557 - accuracy: 0.8779 - val_loss: 0.3131 - val_accuracy: 0.8796\n",
      "Epoch 2/10\n",
      "129/129 [==============================] - 528s 4s/step - loss: 0.2674 - accuracy: 0.8944 - val_loss: 0.3090 - val_accuracy: 0.8854\n",
      "Epoch 3/10\n",
      "129/129 [==============================] - 527s 4s/step - loss: 0.2481 - accuracy: 0.9012 - val_loss: 0.2760 - val_accuracy: 0.8942\n",
      "Epoch 4/10\n",
      "129/129 [==============================] - 531s 4s/step - loss: 0.2263 - accuracy: 0.9117 - val_loss: 0.2846 - val_accuracy: 0.8971\n",
      "Epoch 5/10\n",
      "129/129 [==============================] - 524s 4s/step - loss: 0.2179 - accuracy: 0.9129 - val_loss: 0.2821 - val_accuracy: 0.8864\n",
      "Epoch 6/10\n",
      "129/129 [==============================] - 519s 4s/step - loss: 0.1968 - accuracy: 0.9250 - val_loss: 0.2662 - val_accuracy: 0.8981\n",
      "Epoch 7/10\n",
      "129/129 [==============================] - 3147s 25s/step - loss: 0.1748 - accuracy: 0.9316 - val_loss: 0.3348 - val_accuracy: 0.8951\n",
      "Epoch 8/10\n",
      "129/129 [==============================] - 518s 4s/step - loss: 0.1695 - accuracy: 0.9316 - val_loss: 0.2841 - val_accuracy: 0.9039\n",
      "Epoch 9/10\n",
      "129/129 [==============================] - 531s 4s/step - loss: 0.1564 - accuracy: 0.9383 - val_loss: 0.2850 - val_accuracy: 0.9000\n",
      "Epoch 10/10\n",
      "129/129 [==============================] - 524s 4s/step - loss: 0.1386 - accuracy: 0.9432 - val_loss: 0.3198 - val_accuracy: 0.9010\n"
     ]
    }
   ],
   "source": [
    "demo_vgg_19_model.compile(optimizer=Adam(lr=0.001),loss='binary_crossentropy',metrics=['accuracy'])\n",
    "\n",
    "history = demo_vgg_19_model.fit(train_ds, validation_data=validation_ds, epochs=epochs)"
   ]
  },
  {
   "cell_type": "code",
   "execution_count": 35,
   "id": "214702fb",
   "metadata": {},
   "outputs": [
    {
     "data": {
      "text/plain": [
       "<matplotlib.legend.Legend at 0x2010150cac0>"
      ]
     },
     "execution_count": 35,
     "metadata": {},
     "output_type": "execute_result"
    },
    {
     "data": {
      "image/png": "[encoded data removed]",
      "text/plain": [
       "<Figure size 500x500 with 1 Axes>"
      ]
     },
     "metadata": {},
     "output_type": "display_data"
    }
   ],
   "source": [
    "plotter_lib.figure(figsize=(5, 5))\n",
    "\n",
    "epochs_range= range(epochs)\n",
    "\n",
    "plotter_lib.plot( epochs_range, history.history['accuracy'], label=\"Training Accuracy\")\n",
    "\n",
    "plotter_lib.plot(epochs_range, history.history['val_accuracy'], label=\"Validation Accuracy\")\n",
    "\n",
    "plotter_lib.axis(ymin=0.4,ymax=1)\n",
    "\n",
    "plotter_lib.grid()\n",
    "\n",
    "plotter_lib.title('Model Accuracy')\n",
    "\n",
    "plotter_lib.ylabel('Accuracy')\n",
    "\n",
    "plotter_lib.xlabel('Epochs')\n",
    "\n",
    "plotter_lib.legend(['train', 'validation'])"
   ]
  },
  {
   "cell_type": "code",
   "execution_count": 29,
   "id": "ebbb4ac9",
   "metadata": {},
   "outputs": [
    {
     "data": {
      "text/plain": [
       "<Figure size 640x480 with 0 Axes>"
      ]
     },
     "metadata": {},
     "output_type": "display_data"
    }
   ],
   "source": [
    "plotter_lib.show()\n",
    "\n",
    "plotter_lib.savefig('output-plot.png') "
   ]
  },
  {
   "cell_type": "code",
   "execution_count": 30,
   "id": "98d27452",
   "metadata": {},
   "outputs": [
    {
     "name": "stdout",
     "output_type": "stream",
     "text": [
      "33/33 [==============================] - 105s 3s/step\n",
      "Accuracy: 0.8116504854368932\n",
      "Classification Report:\n",
      "               precision    recall  f1-score   support\n",
      "\n",
      "           0       0.87      0.92      0.90       899\n",
      "           1       0.11      0.07      0.08       131\n",
      "\n",
      "    accuracy                           0.81      1030\n",
      "   macro avg       0.49      0.49      0.49      1030\n",
      "weighted avg       0.77      0.81      0.79      1030\n",
      "\n"
     ]
    }
   ],
   "source": [
    "from sklearn.metrics import classification_report, accuracy_score\n",
    "\n",
    "# predict on test data\n",
    "y_pred = demo_vgg_19_model.predict(validation_ds)\n",
    "\n",
    "# convert predicted probabilities to class labels\n",
    "y_pred = np.argmax(y_pred, axis=1)\n",
    "\n",
    "# get true class labels\n",
    "y_true = np.concatenate([y for x, y in validation_ds], axis=0)\n",
    "y_true = np.argmax(y_true, axis=1)\n",
    "\n",
    "# calculate accuracy\n",
    "acc = accuracy_score(y_true, y_pred)\n",
    "print(\"Accuracy:\", acc)\n",
    "\n",
    "# calculate precision, recall, f1-score\n",
    "report = classification_report(y_true, y_pred)\n",
    "print(\"Classification Report:\\n\", report)"
   ]
  },
  {
   "cell_type": "code",
   "execution_count": 32,
   "id": "6319c5e7",
   "metadata": {},
   "outputs": [
    {
     "data": {
      "text/plain": [
       "<Figure size 1000x1000 with 0 Axes>"
      ]
     },
     "metadata": {},
     "output_type": "display_data"
    }
   ],
   "source": [
    "### Resnet-101 batch_size=32\n",
    "\n",
    "\n",
    "\n",
    "demo_resnet_model_resnet_101 = Sequential()\n",
    "\n",
    "pretrained_model_for_demo= tflow.keras.applications.ResNet101(include_top=False,\n",
    "\n",
    "                   input_shape=(180,180,3),\n",
    "\n",
    "                   pooling='avg',classes=2,\n",
    "\n",
    "                   weights='imagenet')\n",
    "\n",
    "for each_layer in pretrained_model_for_demo.layers:\n",
    "\n",
    "        each_layer.trainable=False\n",
    "\n",
    "demo_resnet_model_resnet_101.add(pretrained_model_for_demo)\n",
    "\n",
    "\n",
    "\n",
    "demo_resnet_model_resnet_101.add(Flatten())\n",
    "\n",
    "demo_resnet_model_resnet_101.add(Dense(512, activation='relu'))\n",
    "demo_resnet_model_resnet_101.add(Dense(128, activation='relu'))\n",
    "demo_resnet_model_resnet_101.add(Dense(2, activation='sigmoid'))\n",
    "\n",
    "\n",
    "import matplotlib.pyplot as plotter_lib\n",
    "\n",
    "plotter_lib.figure(figsize=(10, 10))\n",
    "\n",
    "epochs=10"
   ]
  },
  {
   "cell_type": "code",
   "execution_count": 36,
   "id": "b1a67372",
   "metadata": {},
   "outputs": [
    {
     "name": "stderr",
     "output_type": "stream",
     "text": [
      "WARNING:absl:`lr` is deprecated, please use `learning_rate` instead, or use the legacy optimizer, e.g.,tf.keras.optimizers.legacy.Adam.\n"
     ]
    },
    {
     "name": "stdout",
     "output_type": "stream",
     "text": [
      "Epoch 1/10\n",
      "129/129 [==============================] - 412s 3s/step - loss: 0.3145 - accuracy: 0.8813 - val_loss: 0.2975 - val_accuracy: 0.8816\n",
      "Epoch 2/10\n",
      "129/129 [==============================] - 395s 3s/step - loss: 0.2774 - accuracy: 0.8910 - val_loss: 0.2943 - val_accuracy: 0.8825\n",
      "Epoch 3/10\n",
      "129/129 [==============================] - 391s 3s/step - loss: 0.2538 - accuracy: 0.8956 - val_loss: 0.2833 - val_accuracy: 0.8796\n",
      "Epoch 4/10\n",
      "129/129 [==============================] - 394s 3s/step - loss: 0.2481 - accuracy: 0.9010 - val_loss: 0.2664 - val_accuracy: 0.8922\n",
      "Epoch 5/10\n",
      "129/129 [==============================] - 389s 3s/step - loss: 0.2391 - accuracy: 0.9066 - val_loss: 0.2690 - val_accuracy: 0.8883\n",
      "Epoch 6/10\n",
      "129/129 [==============================] - 389s 3s/step - loss: 0.2224 - accuracy: 0.9124 - val_loss: 0.2837 - val_accuracy: 0.8903\n",
      "Epoch 7/10\n",
      "129/129 [==============================] - 389s 3s/step - loss: 0.2152 - accuracy: 0.9170 - val_loss: 0.2635 - val_accuracy: 0.8942\n",
      "Epoch 8/10\n",
      "129/129 [==============================] - 567s 4s/step - loss: 0.2060 - accuracy: 0.9189 - val_loss: 0.2644 - val_accuracy: 0.8971\n",
      "Epoch 9/10\n",
      "129/129 [==============================] - 391s 3s/step - loss: 0.1957 - accuracy: 0.9189 - val_loss: 0.2569 - val_accuracy: 0.8922\n",
      "Epoch 10/10\n",
      "129/129 [==============================] - 413s 3s/step - loss: 0.1818 - accuracy: 0.9279 - val_loss: 0.2574 - val_accuracy: 0.9000\n"
     ]
    }
   ],
   "source": [
    "demo_resnet_model_resnet_101.compile(optimizer=Adam(lr=0.001),loss='binary_crossentropy',metrics=['accuracy'])\n",
    "\n",
    "history = demo_resnet_model_resnet_101.fit(train_ds, validation_data=validation_ds, epochs=epochs)"
   ]
  },
  {
   "cell_type": "code",
   "execution_count": 3,
   "id": "66370f61",
   "metadata": {},
   "outputs": [
    {
     "ename": "NameError",
     "evalue": "name 'epochs' is not defined",
     "output_type": "error",
     "traceback": [
      "\u001b[1;31m---------------------------------------------------------------------------\u001b[0m",
      "\u001b[1;31mNameError\u001b[0m                                 Traceback (most recent call last)",
      "Cell \u001b[1;32mIn[3], line 3\u001b[0m\n\u001b[0;32m      1\u001b[0m plotter_lib\u001b[38;5;241m.\u001b[39mfigure(figsize\u001b[38;5;241m=\u001b[39m(\u001b[38;5;241m5\u001b[39m, \u001b[38;5;241m5\u001b[39m))\n\u001b[1;32m----> 3\u001b[0m epochs_range\u001b[38;5;241m=\u001b[39m \u001b[38;5;28mrange\u001b[39m(\u001b[43mepochs\u001b[49m)\n\u001b[0;32m      5\u001b[0m plotter_lib\u001b[38;5;241m.\u001b[39mplot( epochs_range, history\u001b[38;5;241m.\u001b[39mhistory[\u001b[38;5;124m'\u001b[39m\u001b[38;5;124maccuracy\u001b[39m\u001b[38;5;124m'\u001b[39m], label\u001b[38;5;241m=\u001b[39m\u001b[38;5;124m\"\u001b[39m\u001b[38;5;124mTraining Accuracy\u001b[39m\u001b[38;5;124m\"\u001b[39m)\n\u001b[0;32m      7\u001b[0m plotter_lib\u001b[38;5;241m.\u001b[39mplot(epochs_range, history\u001b[38;5;241m.\u001b[39mhistory[\u001b[38;5;124m'\u001b[39m\u001b[38;5;124mval_accuracy\u001b[39m\u001b[38;5;124m'\u001b[39m], label\u001b[38;5;241m=\u001b[39m\u001b[38;5;124m\"\u001b[39m\u001b[38;5;124mValidation Accuracy\u001b[39m\u001b[38;5;124m\"\u001b[39m)\n",
      "\u001b[1;31mNameError\u001b[0m: name 'epochs' is not defined"
     ]
    },
    {
     "data": {
      "text/plain": [
       "<Figure size 500x500 with 0 Axes>"
      ]
     },
     "metadata": {},
     "output_type": "display_data"
    }
   ],
   "source": [
    "plotter_lib.figure(figsize=(5, 5))\n",
    "\n",
    "epochs_range= range(epochs)\n",
    "\n",
    "plotter_lib.plot( epochs_range, history.history['accuracy'], label=\"Training Accuracy\")\n",
    "\n",
    "plotter_lib.plot(epochs_range, history.history['val_accuracy'], label=\"Validation Accuracy\")\n",
    "\n",
    "plotter_lib.axis(ymin=0.4,ymax=1)\n",
    "\n",
    "plotter_lib.grid()\n",
    "\n",
    "plotter_lib.title('Model Accuracy')\n",
    "\n",
    "plotter_lib.ylabel('Accuracy')\n",
    "\n",
    "plotter_lib.xlabel('Epochs')\n",
    "\n",
    "plotter_lib.legend(['train', 'validation'])"
   ]
  },
  {
   "cell_type": "code",
   "execution_count": 38,
   "id": "ea9d9e50",
   "metadata": {},
   "outputs": [
    {
     "data": {
      "text/plain": [
       "<Figure size 640x480 with 0 Axes>"
      ]
     },
     "metadata": {},
     "output_type": "display_data"
    }
   ],
   "source": [
    "plotter_lib.show()\n",
    "\n",
    "plotter_lib.savefig('output-plot.png') "
   ]
  },
  {
   "cell_type": "code",
   "execution_count": 39,
   "id": "d9f7c8df",
   "metadata": {},
   "outputs": [
    {
     "name": "stdout",
     "output_type": "stream",
     "text": [
      "33/33 [==============================] - 81s 2s/step\n",
      "Accuracy: 0.8106796116504854\n",
      "Classification Report:\n",
      "               precision    recall  f1-score   support\n",
      "\n",
      "           0       0.87      0.92      0.89       899\n",
      "           1       0.07      0.04      0.05       131\n",
      "\n",
      "    accuracy                           0.81      1030\n",
      "   macro avg       0.47      0.48      0.47      1030\n",
      "weighted avg       0.77      0.81      0.79      1030\n",
      "\n"
     ]
    }
   ],
   "source": [
    "from sklearn.metrics import classification_report, accuracy_score\n",
    "\n",
    "# predict on test data\n",
    "y_pred = demo_resnet_model_resnet_101.predict(validation_ds)\n",
    "\n",
    "# convert predicted probabilities to class labels\n",
    "y_pred = np.argmax(y_pred, axis=1)\n",
    "\n",
    "# get true class labels\n",
    "y_true = np.concatenate([y for x, y in validation_ds], axis=0)\n",
    "y_true = np.argmax(y_true, axis=1)\n",
    "\n",
    "# calculate accuracy\n",
    "acc = accuracy_score(y_true, y_pred)\n",
    "print(\"Accuracy:\", acc)\n",
    "\n",
    "# calculate precision, recall, f1-score\n",
    "report = classification_report(y_true, y_pred)\n",
    "print(\"Classification Report:\\n\", report)"
   ]
  },
  {
   "cell_type": "code",
   "execution_count": null,
   "id": "7c6ca4c8",
   "metadata": {},
   "outputs": [],
   "source": []
  },
  {
   "cell_type": "code",
   "execution_count": null,
   "id": "1a8b8a6c",
   "metadata": {},
   "outputs": [],
   "source": []
  },
  {
   "cell_type": "code",
   "execution_count": null,
   "id": "c8b333ed",
   "metadata": {},
   "outputs": [],
   "source": []
  },
  {
   "cell_type": "code",
   "execution_count": null,
   "id": "1e6a4c14",
   "metadata": {},
   "outputs": [],
   "source": []
  },
  {
   "cell_type": "code",
   "execution_count": 40,
   "id": "9fddb049",
   "metadata": {},
   "outputs": [],
   "source": [
    "### Resnet-101 batch_size=16"
   ]
  },
  {
   "cell_type": "code",
   "execution_count": 41,
   "id": "6c295036",
   "metadata": {},
   "outputs": [
    {
     "name": "stdout",
     "output_type": "stream",
     "text": [
      "Found 5150 files belonging to 2 classes.\n",
      "Using 4120 files for training.\n"
     ]
    }
   ],
   "source": [
    "img_height,img_width=180,180\n",
    "\n",
    "batch_size=16\n",
    "\n",
    "train_ds = tflow.keras.preprocessing.image_dataset_from_directory(\n",
    "\n",
    "  data_directory1,\n",
    "\n",
    "  validation_split=0.2,\n",
    "\n",
    "  subset=\"training\",\n",
    "\n",
    "  seed=123,\n",
    "\n",
    "label_mode='categorical',\n",
    "\n",
    "  image_size=(img_height, img_width),\n",
    "\n",
    "  batch_size=batch_size)"
   ]
  },
  {
   "cell_type": "code",
   "execution_count": 42,
   "id": "27e956cc",
   "metadata": {},
   "outputs": [
    {
     "name": "stdout",
     "output_type": "stream",
     "text": [
      "Found 5150 files belonging to 2 classes.\n",
      "Using 1030 files for validation.\n"
     ]
    }
   ],
   "source": [
    "validation_ds = tflow.keras.preprocessing.image_dataset_from_directory(\n",
    "\n",
    "  data_directory1,\n",
    "\n",
    "  validation_split=0.2,\n",
    "\n",
    "  subset=\"validation\",\n",
    "\n",
    "  seed=123,\n",
    "\n",
    "label_mode='categorical',\n",
    "\n",
    "  image_size=(img_height, img_width),\n",
    "\n",
    "  batch_size=batch_size)"
   ]
  },
  {
   "cell_type": "code",
   "execution_count": 43,
   "id": "d86187db",
   "metadata": {},
   "outputs": [
    {
     "data": {
      "text/plain": [
       "<Figure size 1000x1000 with 0 Axes>"
      ]
     },
     "metadata": {},
     "output_type": "display_data"
    }
   ],
   "source": [
    "demo_resnet_model_resnet_101 = Sequential()\n",
    "\n",
    "pretrained_model_for_demo= tflow.keras.applications.ResNet101(include_top=False,\n",
    "\n",
    "                   input_shape=(180,180,3),\n",
    "\n",
    "                   pooling='avg',classes=2,\n",
    "\n",
    "                   weights='imagenet')\n",
    "\n",
    "for each_layer in pretrained_model_for_demo.layers:\n",
    "\n",
    "        each_layer.trainable=False\n",
    "\n",
    "demo_resnet_model_resnet_101.add(pretrained_model_for_demo)\n",
    "\n",
    "\n",
    "\n",
    "demo_resnet_model_resnet_101.add(Flatten())\n",
    "\n",
    "demo_resnet_model_resnet_101.add(Dense(512, activation='relu'))\n",
    "demo_resnet_model_resnet_101.add(Dense(128, activation='relu'))\n",
    "demo_resnet_model_resnet_101.add(Dense(2, activation='sigmoid'))\n",
    "\n",
    "\n",
    "import matplotlib.pyplot as plotter_lib\n",
    "\n",
    "plotter_lib.figure(figsize=(10, 10))\n",
    "\n",
    "epochs=10"
   ]
  },
  {
   "cell_type": "code",
   "execution_count": 44,
   "id": "6b7af29a",
   "metadata": {},
   "outputs": [
    {
     "name": "stderr",
     "output_type": "stream",
     "text": [
      "WARNING:absl:`lr` is deprecated, please use `learning_rate` instead, or use the legacy optimizer, e.g.,tf.keras.optimizers.legacy.Adam.\n"
     ]
    },
    {
     "name": "stdout",
     "output_type": "stream",
     "text": [
      "Epoch 1/10\n",
      "258/258 [==============================] - 414s 2s/step - loss: 0.3124 - accuracy: 0.8803 - val_loss: 0.2987 - val_accuracy: 0.8806\n",
      "Epoch 2/10\n",
      "258/258 [==============================] - 423s 2s/step - loss: 0.2803 - accuracy: 0.8903 - val_loss: 0.3285 - val_accuracy: 0.8806\n",
      "Epoch 3/10\n",
      "258/258 [==============================] - 408s 2s/step - loss: 0.2556 - accuracy: 0.9007 - val_loss: 0.2769 - val_accuracy: 0.8864\n",
      "Epoch 4/10\n",
      "258/258 [==============================] - 403s 2s/step - loss: 0.2520 - accuracy: 0.8968 - val_loss: 0.3056 - val_accuracy: 0.8845\n",
      "Epoch 5/10\n",
      "258/258 [==============================] - 404s 2s/step - loss: 0.2341 - accuracy: 0.9083 - val_loss: 0.3616 - val_accuracy: 0.8786\n",
      "Epoch 6/10\n",
      "258/258 [==============================] - 402s 2s/step - loss: 0.2209 - accuracy: 0.9117 - val_loss: 0.3001 - val_accuracy: 0.8825\n",
      "Epoch 7/10\n",
      "258/258 [==============================] - 400s 2s/step - loss: 0.2202 - accuracy: 0.9100 - val_loss: 0.2719 - val_accuracy: 0.8971\n",
      "Epoch 8/10\n",
      "258/258 [==============================] - 400s 2s/step - loss: 0.2045 - accuracy: 0.9163 - val_loss: 0.2582 - val_accuracy: 0.8961\n",
      "Epoch 9/10\n",
      "258/258 [==============================] - 9400s 37s/step - loss: 0.2018 - accuracy: 0.9172 - val_loss: 0.2846 - val_accuracy: 0.8922\n",
      "Epoch 10/10\n",
      "258/258 [==============================] - 403s 2s/step - loss: 0.1961 - accuracy: 0.9235 - val_loss: 0.2557 - val_accuracy: 0.8990\n"
     ]
    }
   ],
   "source": [
    "demo_resnet_model_resnet_101.compile(optimizer=Adam(lr=0.001),loss='binary_crossentropy',metrics=['accuracy'])\n",
    "\n",
    "history = demo_resnet_model_resnet_101.fit(train_ds, validation_data=validation_ds, epochs=epochs)"
   ]
  },
  {
   "cell_type": "code",
   "execution_count": 46,
   "id": "199c4526",
   "metadata": {},
   "outputs": [
    {
     "data": {
      "text/plain": [
       "<matplotlib.legend.Legend at 0x201108368b0>"
      ]
     },
     "execution_count": 46,
     "metadata": {},
     "output_type": "execute_result"
    },
    {
     "data": {
      "image/png": "[encoded data removed]",
      "text/plain": [
       "<Figure size 800x800 with 1 Axes>"
      ]
     },
     "metadata": {},
     "output_type": "display_data"
    }
   ],
   "source": [
    "plotter_lib.figure(figsize=(8, 8))\n",
    "\n",
    "epochs_range= range(epochs)\n",
    "\n",
    "plotter_lib.plot( epochs_range, history.history['accuracy'], label=\"Training Accuracy\")\n",
    "\n",
    "plotter_lib.plot(epochs_range, history.history['val_accuracy'], label=\"Validation Accuracy\")\n",
    "\n",
    "plotter_lib.axis(ymin=0.4,ymax=1)\n",
    "\n",
    "plotter_lib.grid()\n",
    "\n",
    "plotter_lib.title('Model Accuracy')\n",
    "\n",
    "plotter_lib.ylabel('Accuracy')\n",
    "\n",
    "plotter_lib.xlabel('Epochs')\n",
    "\n",
    "plotter_lib.legend(['train', 'validation'])"
   ]
  },
  {
   "cell_type": "code",
   "execution_count": 47,
   "id": "0036aa98",
   "metadata": {},
   "outputs": [
    {
     "data": {
      "text/plain": [
       "<Figure size 640x480 with 0 Axes>"
      ]
     },
     "metadata": {},
     "output_type": "display_data"
    }
   ],
   "source": [
    "plotter_lib.show()\n",
    "\n",
    "plotter_lib.savefig('output-plot.png') "
   ]
  },
  {
   "cell_type": "code",
   "execution_count": 48,
   "id": "c2c67468",
   "metadata": {},
   "outputs": [
    {
     "name": "stdout",
     "output_type": "stream",
     "text": [
      "65/65 [==============================] - 97s 1s/step\n",
      "Accuracy: 0.8252427184466019\n",
      "Classification Report:\n",
      "               precision    recall  f1-score   support\n",
      "\n",
      "           0       0.87      0.94      0.90       899\n",
      "           1       0.11      0.05      0.07       131\n",
      "\n",
      "    accuracy                           0.83      1030\n",
      "   macro avg       0.49      0.50      0.49      1030\n",
      "weighted avg       0.78      0.83      0.80      1030\n",
      "\n"
     ]
    }
   ],
   "source": [
    "from sklearn.metrics import classification_report, accuracy_score\n",
    "\n",
    "# predict on test data\n",
    "y_pred = demo_resnet_model_resnet_101.predict(validation_ds)\n",
    "\n",
    "# convert predicted probabilities to class labels\n",
    "y_pred = np.argmax(y_pred, axis=1)\n",
    "\n",
    "# get true class labels\n",
    "y_true = np.concatenate([y for x, y in validation_ds], axis=0)\n",
    "y_true = np.argmax(y_true, axis=1)\n",
    "\n",
    "# calculate accuracy\n",
    "acc = accuracy_score(y_true, y_pred)\n",
    "print(\"Accuracy:\", acc)\n",
    "\n",
    "# calculate precision, recall, f1-score\n",
    "report = classification_report(y_true, y_pred)\n",
    "print(\"Classification Report:\\n\", report)"
   ]
  },
  {
   "cell_type": "code",
   "execution_count": null,
   "id": "fd3ef72d",
   "metadata": {},
   "outputs": [],
   "source": []
  },
  {
   "cell_type": "code",
   "execution_count": null,
   "id": "eb3b0976",
   "metadata": {},
   "outputs": [],
   "source": []
  },
  {
   "cell_type": "code",
   "execution_count": null,
   "id": "6360f584",
   "metadata": {},
   "outputs": [],
   "source": []
  },
  {
   "cell_type": "code",
   "execution_count": null,
   "id": "f96780bc",
   "metadata": {},
   "outputs": [],
   "source": []
  },
  {
   "cell_type": "code",
   "execution_count": null,
   "id": "01fac8d8",
   "metadata": {},
   "outputs": [],
   "source": [
    "### Resnet-101 batch_size=8"
   ]
  },
  {
   "cell_type": "code",
   "execution_count": 51,
   "id": "96bbb5ac",
   "metadata": {},
   "outputs": [
    {
     "name": "stdout",
     "output_type": "stream",
     "text": [
      "Found 5150 files belonging to 2 classes.\n",
      "Using 4120 files for training.\n"
     ]
    }
   ],
   "source": [
    "img_height,img_width=180,180\n",
    "\n",
    "batch_size=8\n",
    "\n",
    "train_ds = tflow.keras.preprocessing.image_dataset_from_directory(\n",
    "\n",
    "  data_directory1,\n",
    "\n",
    "  validation_split=0.2,\n",
    "\n",
    "  subset=\"training\",\n",
    "\n",
    "  seed=123,\n",
    "\n",
    "label_mode='categorical',\n",
    "\n",
    "  image_size=(img_height, img_width),\n",
    "\n",
    "  batch_size=batch_size)"
   ]
  },
  {
   "cell_type": "code",
   "execution_count": 52,
   "id": "8e2d53d8",
   "metadata": {},
   "outputs": [
    {
     "name": "stdout",
     "output_type": "stream",
     "text": [
      "Found 5150 files belonging to 2 classes.\n",
      "Using 1030 files for validation.\n"
     ]
    }
   ],
   "source": [
    "validation_ds = tflow.keras.preprocessing.image_dataset_from_directory(\n",
    "\n",
    "  data_directory1,\n",
    "\n",
    "  validation_split=0.2,\n",
    "\n",
    "  subset=\"validation\",\n",
    "\n",
    "  seed=123,\n",
    "\n",
    "label_mode='categorical',\n",
    "\n",
    "  image_size=(img_height, img_width),\n",
    "\n",
    "  batch_size=batch_size)"
   ]
  },
  {
   "cell_type": "code",
   "execution_count": 53,
   "id": "4e01ee83",
   "metadata": {},
   "outputs": [
    {
     "data": {
      "text/plain": [
       "<Figure size 1000x1000 with 0 Axes>"
      ]
     },
     "metadata": {},
     "output_type": "display_data"
    }
   ],
   "source": [
    "demo_resnet_model_resnet_101 = Sequential()\n",
    "\n",
    "pretrained_model_for_demo= tflow.keras.applications.ResNet101(include_top=False,\n",
    "\n",
    "                   input_shape=(180,180,3),\n",
    "\n",
    "                   pooling='avg',classes=2,\n",
    "\n",
    "                   weights='imagenet')\n",
    "\n",
    "for each_layer in pretrained_model_for_demo.layers:\n",
    "\n",
    "        each_layer.trainable=False\n",
    "\n",
    "demo_resnet_model_resnet_101.add(pretrained_model_for_demo)\n",
    "\n",
    "\n",
    "\n",
    "demo_resnet_model_resnet_101.add(Flatten())\n",
    "\n",
    "demo_resnet_model_resnet_101.add(Dense(512, activation='relu'))\n",
    "demo_resnet_model_resnet_101.add(Dense(128, activation='relu'))\n",
    "demo_resnet_model_resnet_101.add(Dense(2, activation='sigmoid'))\n",
    "\n",
    "\n",
    "import matplotlib.pyplot as plotter_lib\n",
    "\n",
    "plotter_lib.figure(figsize=(10, 10))\n",
    "\n",
    "epochs=10"
   ]
  },
  {
   "cell_type": "code",
   "execution_count": 54,
   "id": "9bb1db9d",
   "metadata": {},
   "outputs": [
    {
     "name": "stderr",
     "output_type": "stream",
     "text": [
      "WARNING:absl:`lr` is deprecated, please use `learning_rate` instead, or use the legacy optimizer, e.g.,tf.keras.optimizers.legacy.Adam.\n"
     ]
    },
    {
     "name": "stdout",
     "output_type": "stream",
     "text": [
      "Epoch 1/10\n",
      "515/515 [==============================] - 473s 902ms/step - loss: 0.3166 - accuracy: 0.8828 - val_loss: 0.3136 - val_accuracy: 0.8816\n",
      "Epoch 2/10\n",
      "515/515 [==============================] - 445s 865ms/step - loss: 0.2792 - accuracy: 0.8896 - val_loss: 0.3069 - val_accuracy: 0.8816\n",
      "Epoch 3/10\n",
      "515/515 [==============================] - 446s 866ms/step - loss: 0.2608 - accuracy: 0.8966 - val_loss: 0.2859 - val_accuracy: 0.8816\n",
      "Epoch 4/10\n",
      "515/515 [==============================] - 450s 873ms/step - loss: 0.2436 - accuracy: 0.9027 - val_loss: 0.2936 - val_accuracy: 0.8845\n",
      "Epoch 5/10\n",
      "515/515 [==============================] - 498s 967ms/step - loss: 0.2297 - accuracy: 0.9087 - val_loss: 0.2900 - val_accuracy: 0.8874\n",
      "Epoch 6/10\n",
      "515/515 [==============================] - 595s 1s/step - loss: 0.2288 - accuracy: 0.9083 - val_loss: 0.2657 - val_accuracy: 0.8913\n",
      "Epoch 7/10\n",
      "515/515 [==============================] - 477s 926ms/step - loss: 0.2145 - accuracy: 0.9100 - val_loss: 0.2920 - val_accuracy: 0.8874\n",
      "Epoch 8/10\n",
      "515/515 [==============================] - 558s 1s/step - loss: 0.2029 - accuracy: 0.9167 - val_loss: 0.2581 - val_accuracy: 0.8961\n",
      "Epoch 9/10\n",
      "515/515 [==============================] - 528s 1s/step - loss: 0.1921 - accuracy: 0.9223 - val_loss: 0.2564 - val_accuracy: 0.8981\n",
      "Epoch 10/10\n",
      "515/515 [==============================] - 457s 888ms/step - loss: 0.1957 - accuracy: 0.9172 - val_loss: 0.2764 - val_accuracy: 0.8883\n"
     ]
    }
   ],
   "source": [
    "demo_resnet_model_resnet_101.compile(optimizer=Adam(lr=0.001),loss='binary_crossentropy',metrics=['accuracy'])\n",
    "\n",
    "history = demo_resnet_model_resnet_101.fit(train_ds, validation_data=validation_ds, epochs=epochs)"
   ]
  },
  {
   "cell_type": "code",
   "execution_count": 56,
   "id": "e9630f7f",
   "metadata": {},
   "outputs": [
    {
     "data": {
      "text/plain": [
       "<matplotlib.legend.Legend at 0x2017f0e0dc0>"
      ]
     },
     "execution_count": 56,
     "metadata": {},
     "output_type": "execute_result"
    },
    {
     "data": {
      "image/png": "[encoded data removed]",
      "text/plain": [
       "<Figure size 800x800 with 1 Axes>"
      ]
     },
     "metadata": {},
     "output_type": "display_data"
    }
   ],
   "source": [
    "plotter_lib.figure(figsize=(8, 8))\n",
    "\n",
    "epochs_range= range(epochs)\n",
    "\n",
    "plotter_lib.plot( epochs_range, history.history['accuracy'], label=\"Training Accuracy\")\n",
    "\n",
    "plotter_lib.plot(epochs_range, history.history['val_accuracy'], label=\"Validation Accuracy\")\n",
    "\n",
    "plotter_lib.axis(ymin=0.4,ymax=1)\n",
    "\n",
    "plotter_lib.grid()\n",
    "\n",
    "plotter_lib.title('Model Accuracy')\n",
    "\n",
    "plotter_lib.ylabel('Accuracy')\n",
    "\n",
    "plotter_lib.xlabel('Epochs')\n",
    "\n",
    "plotter_lib.legend(['train', 'validation'])"
   ]
  },
  {
   "cell_type": "code",
   "execution_count": 57,
   "id": "b547e7dc",
   "metadata": {},
   "outputs": [
    {
     "data": {
      "text/plain": [
       "<Figure size 640x480 with 0 Axes>"
      ]
     },
     "metadata": {},
     "output_type": "display_data"
    }
   ],
   "source": [
    "plotter_lib.show()\n",
    "\n",
    "plotter_lib.savefig('output-plot.png') "
   ]
  },
  {
   "cell_type": "code",
   "execution_count": 58,
   "id": "87b01f51",
   "metadata": {},
   "outputs": [
    {
     "name": "stdout",
     "output_type": "stream",
     "text": [
      "129/129 [==============================] - 96s 713ms/step\n",
      "Accuracy: 0.7776699029126214\n",
      "Classification Report:\n",
      "               precision    recall  f1-score   support\n",
      "\n",
      "           0       0.87      0.88      0.87       899\n",
      "           1       0.07      0.06      0.07       131\n",
      "\n",
      "    accuracy                           0.78      1030\n",
      "   macro avg       0.47      0.47      0.47      1030\n",
      "weighted avg       0.76      0.78      0.77      1030\n",
      "\n"
     ]
    }
   ],
   "source": [
    "from sklearn.metrics import classification_report, accuracy_score\n",
    "\n",
    "# predict on test data\n",
    "y_pred = demo_resnet_model_resnet_101.predict(validation_ds)\n",
    "\n",
    "# convert predicted probabilities to class labels\n",
    "y_pred = np.argmax(y_pred, axis=1)\n",
    "\n",
    "# get true class labels\n",
    "y_true = np.concatenate([y for x, y in validation_ds], axis=0)\n",
    "y_true = np.argmax(y_true, axis=1)\n",
    "\n",
    "# calculate accuracy\n",
    "acc = accuracy_score(y_true, y_pred)\n",
    "print(\"Accuracy:\", acc)\n",
    "\n",
    "# calculate precision, recall, f1-score\n",
    "report = classification_report(y_true, y_pred)\n",
    "print(\"Classification Report:\\n\", report)"
   ]
  },
  {
   "cell_type": "code",
   "execution_count": null,
   "id": "92d703e0",
   "metadata": {},
   "outputs": [],
   "source": []
  },
  {
   "cell_type": "code",
   "execution_count": null,
   "id": "c5f39d0b",
   "metadata": {},
   "outputs": [],
   "source": []
  },
  {
   "cell_type": "code",
   "execution_count": null,
   "id": "2fc87c01",
   "metadata": {},
   "outputs": [],
   "source": []
  },
  {
   "cell_type": "code",
   "execution_count": null,
   "id": "63847010",
   "metadata": {},
   "outputs": [],
   "source": []
  },
  {
   "cell_type": "code",
   "execution_count": null,
   "id": "86873a34",
   "metadata": {},
   "outputs": [],
   "source": []
  },
  {
   "cell_type": "code",
   "execution_count": 59,
   "id": "8e4dbe97",
   "metadata": {},
   "outputs": [],
   "source": [
    "### Resnet-101 batch_size=64"
   ]
  },
  {
   "cell_type": "code",
   "execution_count": 60,
   "id": "fcd6757c",
   "metadata": {},
   "outputs": [
    {
     "name": "stdout",
     "output_type": "stream",
     "text": [
      "Found 5150 files belonging to 2 classes.\n",
      "Using 4120 files for training.\n"
     ]
    }
   ],
   "source": [
    "img_height,img_width=180,180\n",
    "\n",
    "batch_size=64\n",
    "\n",
    "train_ds = tflow.keras.preprocessing.image_dataset_from_directory(\n",
    "\n",
    "  data_directory1,\n",
    "\n",
    "  validation_split=0.2,\n",
    "\n",
    "  subset=\"training\",\n",
    "\n",
    "  seed=123,\n",
    "\n",
    "label_mode='categorical',\n",
    "\n",
    "  image_size=(img_height, img_width),\n",
    "\n",
    "  batch_size=batch_size)"
   ]
  },
  {
   "cell_type": "code",
   "execution_count": 61,
   "id": "8b07df7d",
   "metadata": {},
   "outputs": [
    {
     "name": "stdout",
     "output_type": "stream",
     "text": [
      "Found 5150 files belonging to 2 classes.\n",
      "Using 1030 files for validation.\n"
     ]
    }
   ],
   "source": [
    "validation_ds = tflow.keras.preprocessing.image_dataset_from_directory(\n",
    "\n",
    "  data_directory1,\n",
    "\n",
    "  validation_split=0.2,\n",
    "\n",
    "  subset=\"validation\",\n",
    "\n",
    "  seed=123,\n",
    "\n",
    "label_mode='categorical',\n",
    "\n",
    "  image_size=(img_height, img_width),\n",
    "\n",
    "  batch_size=batch_size)"
   ]
  },
  {
   "cell_type": "code",
   "execution_count": 62,
   "id": "80c7d8a4",
   "metadata": {},
   "outputs": [
    {
     "data": {
      "text/plain": [
       "<Figure size 1000x1000 with 0 Axes>"
      ]
     },
     "metadata": {},
     "output_type": "display_data"
    }
   ],
   "source": [
    "demo_resnet_model_resnet_101 = Sequential()\n",
    "\n",
    "pretrained_model_for_demo= tflow.keras.applications.ResNet101(include_top=False,\n",
    "\n",
    "                   input_shape=(180,180,3),\n",
    "\n",
    "                   pooling='avg',classes=2,\n",
    "\n",
    "                   weights='imagenet')\n",
    "\n",
    "for each_layer in pretrained_model_for_demo.layers:\n",
    "\n",
    "        each_layer.trainable=False\n",
    "\n",
    "demo_resnet_model_resnet_101.add(pretrained_model_for_demo)\n",
    "\n",
    "\n",
    "\n",
    "demo_resnet_model_resnet_101.add(Flatten())\n",
    "\n",
    "demo_resnet_model_resnet_101.add(Dense(512, activation='relu'))\n",
    "demo_resnet_model_resnet_101.add(Dense(128, activation='relu'))\n",
    "demo_resnet_model_resnet_101.add(Dense(2, activation='sigmoid'))\n",
    "\n",
    "\n",
    "import matplotlib.pyplot as plotter_lib\n",
    "\n",
    "plotter_lib.figure(figsize=(10, 10))\n",
    "\n",
    "epochs=10"
   ]
  },
  {
   "cell_type": "code",
   "execution_count": 63,
   "id": "2fbd6fc4",
   "metadata": {},
   "outputs": [
    {
     "name": "stderr",
     "output_type": "stream",
     "text": [
      "WARNING:absl:`lr` is deprecated, please use `learning_rate` instead, or use the legacy optimizer, e.g.,tf.keras.optimizers.legacy.Adam.\n"
     ]
    },
    {
     "name": "stdout",
     "output_type": "stream",
     "text": [
      "Epoch 1/10\n",
      "65/65 [==============================] - 419s 6s/step - loss: 0.3325 - accuracy: 0.8748 - val_loss: 0.3146 - val_accuracy: 0.8806\n",
      "Epoch 2/10\n",
      "65/65 [==============================] - 401s 6s/step - loss: 0.2749 - accuracy: 0.8949 - val_loss: 0.2953 - val_accuracy: 0.8825\n",
      "Epoch 3/10\n",
      "65/65 [==============================] - 399s 6s/step - loss: 0.2732 - accuracy: 0.8937 - val_loss: 0.2829 - val_accuracy: 0.8796\n",
      "Epoch 4/10\n",
      "65/65 [==============================] - 397s 6s/step - loss: 0.2404 - accuracy: 0.9027 - val_loss: 0.2944 - val_accuracy: 0.8835\n",
      "Epoch 5/10\n",
      "65/65 [==============================] - 397s 6s/step - loss: 0.2260 - accuracy: 0.9100 - val_loss: 0.2866 - val_accuracy: 0.8825\n",
      "Epoch 6/10\n",
      "65/65 [==============================] - 396s 6s/step - loss: 0.2364 - accuracy: 0.9049 - val_loss: 0.2685 - val_accuracy: 0.8942\n",
      "Epoch 7/10\n",
      "65/65 [==============================] - 392s 6s/step - loss: 0.2032 - accuracy: 0.9201 - val_loss: 0.2607 - val_accuracy: 0.8942\n",
      "Epoch 8/10\n",
      "65/65 [==============================] - 400s 6s/step - loss: 0.2018 - accuracy: 0.9165 - val_loss: 0.3067 - val_accuracy: 0.8913\n",
      "Epoch 9/10\n",
      "65/65 [==============================] - 396s 6s/step - loss: 0.2006 - accuracy: 0.9170 - val_loss: 0.3034 - val_accuracy: 0.8913\n",
      "Epoch 10/10\n",
      "65/65 [==============================] - 394s 6s/step - loss: 0.1799 - accuracy: 0.9289 - val_loss: 0.4613 - val_accuracy: 0.8893\n"
     ]
    }
   ],
   "source": [
    "demo_resnet_model_resnet_101.compile(optimizer=Adam(lr=0.001),loss='binary_crossentropy',metrics=['accuracy'])\n",
    "\n",
    "history = demo_resnet_model_resnet_101.fit(train_ds, validation_data=validation_ds, epochs=epochs)"
   ]
  },
  {
   "cell_type": "code",
   "execution_count": 64,
   "id": "5d11df55",
   "metadata": {},
   "outputs": [
    {
     "data": {
      "text/plain": [
       "<matplotlib.legend.Legend at 0x2012d99d790>"
      ]
     },
     "execution_count": 64,
     "metadata": {},
     "output_type": "execute_result"
    },
    {
     "data": {
      "image/png": "[encoded data removed]",
      "text/plain": [
       "<Figure size 800x800 with 1 Axes>"
      ]
     },
     "metadata": {},
     "output_type": "display_data"
    }
   ],
   "source": [
    "plotter_lib.figure(figsize=(8, 8))\n",
    "\n",
    "epochs_range= range(epochs)\n",
    "\n",
    "plotter_lib.plot( epochs_range, history.history['accuracy'], label=\"Training Accuracy\")\n",
    "\n",
    "plotter_lib.plot(epochs_range, history.history['val_accuracy'], label=\"Validation Accuracy\")\n",
    "\n",
    "plotter_lib.axis(ymin=0.4,ymax=1)\n",
    "\n",
    "plotter_lib.grid()\n",
    "\n",
    "plotter_lib.title('Model Accuracy')\n",
    "\n",
    "plotter_lib.ylabel('Accuracy')\n",
    "\n",
    "plotter_lib.xlabel('Epochs')\n",
    "\n",
    "plotter_lib.legend(['train', 'validation'])"
   ]
  },
  {
   "cell_type": "code",
   "execution_count": 65,
   "id": "988a59bf",
   "metadata": {},
   "outputs": [
    {
     "data": {
      "text/plain": [
       "<Figure size 640x480 with 0 Axes>"
      ]
     },
     "metadata": {},
     "output_type": "display_data"
    }
   ],
   "source": [
    "plotter_lib.show()\n",
    "\n",
    "plotter_lib.savefig('output-plot.png') "
   ]
  },
  {
   "cell_type": "code",
   "execution_count": 66,
   "id": "6f5e25d5",
   "metadata": {},
   "outputs": [
    {
     "name": "stdout",
     "output_type": "stream",
     "text": [
      "17/17 [==============================] - 89s 5s/step\n",
      "Accuracy: 0.8563106796116505\n",
      "Classification Report:\n",
      "               precision    recall  f1-score   support\n",
      "\n",
      "           0       0.87      0.98      0.92       899\n",
      "           1       0.05      0.01      0.01       131\n",
      "\n",
      "    accuracy                           0.86      1030\n",
      "   macro avg       0.46      0.49      0.47      1030\n",
      "weighted avg       0.77      0.86      0.81      1030\n",
      "\n"
     ]
    }
   ],
   "source": [
    "from sklearn.metrics import classification_report, accuracy_score\n",
    "\n",
    "# predict on test data\n",
    "y_pred = demo_resnet_model_resnet_101.predict(validation_ds)\n",
    "\n",
    "# convert predicted probabilities to class labels\n",
    "y_pred = np.argmax(y_pred, axis=1)\n",
    "\n",
    "# get true class labels\n",
    "y_true = np.concatenate([y for x, y in validation_ds], axis=0)\n",
    "y_true = np.argmax(y_true, axis=1)\n",
    "\n",
    "# calculate accuracy\n",
    "acc = accuracy_score(y_true, y_pred)\n",
    "print(\"Accuracy:\", acc)\n",
    "\n",
    "# calculate precision, recall, f1-score\n",
    "report = classification_report(y_true, y_pred)\n",
    "print(\"Classification Report:\\n\", report)"
   ]
  },
  {
   "cell_type": "code",
   "execution_count": null,
   "id": "2727b66c",
   "metadata": {},
   "outputs": [],
   "source": []
  },
  {
   "cell_type": "code",
   "execution_count": null,
   "id": "70526496",
   "metadata": {},
   "outputs": [],
   "source": []
  },
  {
   "cell_type": "code",
   "execution_count": 68,
   "id": "9f3fd6e7",
   "metadata": {},
   "outputs": [
    {
     "name": "stdout",
     "output_type": "stream",
     "text": [
      "Found 5150 files belonging to 2 classes.\n",
      "Using 4120 files for training.\n",
      "Found 5150 files belonging to 2 classes.\n",
      "Using 1030 files for validation.\n"
     ]
    },
    {
     "name": "stderr",
     "output_type": "stream",
     "text": [
      "WARNING:absl:`lr` is deprecated, please use `learning_rate` instead, or use the legacy optimizer, e.g.,tf.keras.optimizers.legacy.Adam.\n"
     ]
    },
    {
     "name": "stdout",
     "output_type": "stream",
     "text": [
      "Epoch 1/10\n",
      "515/515 [==============================] - 275s 523ms/step - loss: 0.3180 - accuracy: 0.8820 - val_loss: 0.3030 - val_accuracy: 0.8728\n",
      "Epoch 2/10\n",
      "515/515 [==============================] - 264s 512ms/step - loss: 0.2784 - accuracy: 0.8891 - val_loss: 0.2788 - val_accuracy: 0.8864\n",
      "Epoch 3/10\n",
      "515/515 [==============================] - 263s 512ms/step - loss: 0.2672 - accuracy: 0.8915 - val_loss: 0.2732 - val_accuracy: 0.8835\n",
      "Epoch 4/10\n",
      "515/515 [==============================] - 271s 527ms/step - loss: 0.2466 - accuracy: 0.9000 - val_loss: 0.2707 - val_accuracy: 0.8864\n",
      "Epoch 5/10\n",
      "515/515 [==============================] - 264s 513ms/step - loss: 0.2350 - accuracy: 0.9012 - val_loss: 0.2676 - val_accuracy: 0.8864\n",
      "Epoch 6/10\n",
      "515/515 [==============================] - 268s 520ms/step - loss: 0.2280 - accuracy: 0.9087 - val_loss: 0.2615 - val_accuracy: 0.8893\n",
      "Epoch 7/10\n",
      "515/515 [==============================] - 279s 542ms/step - loss: 0.2175 - accuracy: 0.9085 - val_loss: 0.2534 - val_accuracy: 0.8913\n",
      "Epoch 8/10\n",
      "515/515 [==============================] - 262s 509ms/step - loss: 0.2098 - accuracy: 0.9138 - val_loss: 0.2771 - val_accuracy: 0.8981\n",
      "Epoch 9/10\n",
      "515/515 [==============================] - 263s 511ms/step - loss: 0.1940 - accuracy: 0.9192 - val_loss: 0.2604 - val_accuracy: 0.9000\n",
      "Epoch 10/10\n",
      "515/515 [==============================] - 261s 508ms/step - loss: 0.2074 - accuracy: 0.9182 - val_loss: 0.2643 - val_accuracy: 0.8981\n"
     ]
    },
    {
     "data": {
      "text/plain": [
       "<Figure size 1000x1000 with 0 Axes>"
      ]
     },
     "metadata": {},
     "output_type": "display_data"
    }
   ],
   "source": [
    "### Resnet-50 batch_size=8\n",
    "\n",
    "\n",
    "\n",
    "\n",
    "\n",
    "\n",
    "img_height,img_width=180,180\n",
    "\n",
    "batch_size=8\n",
    "\n",
    "train_ds = tflow.keras.preprocessing.image_dataset_from_directory(\n",
    "\n",
    "  data_directory1,\n",
    "\n",
    "  validation_split=0.2,\n",
    "\n",
    "  subset=\"training\",\n",
    "\n",
    "  seed=123,\n",
    "\n",
    "label_mode='categorical',\n",
    "\n",
    "  image_size=(img_height, img_width),\n",
    "\n",
    "  batch_size=batch_size)\n",
    "\n",
    "\n",
    "\n",
    "\n",
    "validation_ds = tflow.keras.preprocessing.image_dataset_from_directory(\n",
    "\n",
    "  data_directory1,\n",
    "\n",
    "  validation_split=0.2,\n",
    "\n",
    "  subset=\"validation\",\n",
    "\n",
    "  seed=123,\n",
    "\n",
    "label_mode='categorical',\n",
    "\n",
    "  image_size=(img_height, img_width),\n",
    "\n",
    "  batch_size=batch_size)\n",
    "\n",
    "\n",
    "\n",
    "import matplotlib.pyplot as plotter_lib\n",
    "\n",
    "plotter_lib.figure(figsize=(10, 10))\n",
    "\n",
    "epochs=10\n",
    "\n",
    "\n",
    "demo_resnet_model = Sequential()\n",
    "\n",
    "pretrained_model_for_demo= tflow.keras.applications.ResNet50(include_top=False,\n",
    "\n",
    "                   input_shape=(180,180,3),\n",
    "\n",
    "                   pooling='avg',classes=2,\n",
    "\n",
    "                   weights='imagenet')\n",
    "\n",
    "for each_layer in pretrained_model_for_demo.layers:\n",
    "\n",
    "        each_layer.trainable=False\n",
    "\n",
    "demo_resnet_model.add(pretrained_model_for_demo)\n",
    "\n",
    "\n",
    "\n",
    "demo_resnet_model.add(Flatten())\n",
    "\n",
    "demo_resnet_model.add(Dense(512, activation='relu'))\n",
    "demo_resnet_model.add(Dense(128, activation='relu'))\n",
    "\n",
    "demo_resnet_model.add(Dense(2, activation='sigmoid'))\n",
    "\n",
    "\n",
    "\n",
    "demo_resnet_model.compile(optimizer=Adam(lr=0.001),loss='binary_crossentropy',metrics=['accuracy'])\n",
    "\n",
    "history = demo_resnet_model.fit(train_ds, validation_data=validation_ds, epochs=epochs)\n",
    "\n",
    "\n",
    "\n",
    "\n",
    "\n",
    "\n",
    "\n",
    "\n",
    "\n",
    "\n",
    "\n"
   ]
  },
  {
   "cell_type": "code",
   "execution_count": 69,
   "id": "172ca9eb",
   "metadata": {},
   "outputs": [
    {
     "data": {
      "text/plain": [
       "<matplotlib.legend.Legend at 0x201329d7cd0>"
      ]
     },
     "execution_count": 69,
     "metadata": {},
     "output_type": "execute_result"
    },
    {
     "data": {
      "image/png": "[encoded data removed]",
      "text/plain": [
       "<Figure size 500x500 with 1 Axes>"
      ]
     },
     "metadata": {},
     "output_type": "display_data"
    }
   ],
   "source": [
    "plotter_lib.figure(figsize=(5, 5))\n",
    "\n",
    "epochs_range= range(epochs)\n",
    "\n",
    "plotter_lib.plot( epochs_range, history.history['accuracy'], label=\"Training Accuracy\")\n",
    "\n",
    "plotter_lib.plot(epochs_range, history.history['val_accuracy'], label=\"Validation Accuracy\")\n",
    "\n",
    "plotter_lib.axis(ymin=0.4,ymax=1)\n",
    "\n",
    "plotter_lib.grid()\n",
    "\n",
    "plotter_lib.title('Model Accuracy')\n",
    "\n",
    "plotter_lib.ylabel('Accuracy')\n",
    "\n",
    "plotter_lib.xlabel('Epochs')\n",
    "\n",
    "plotter_lib.legend(['train', 'validation'])"
   ]
  },
  {
   "cell_type": "code",
   "execution_count": 70,
   "id": "2b819733",
   "metadata": {},
   "outputs": [
    {
     "data": {
      "text/plain": [
       "<Figure size 640x480 with 0 Axes>"
      ]
     },
     "metadata": {},
     "output_type": "display_data"
    }
   ],
   "source": [
    "\n",
    "plotter_lib.show()\n",
    "\n",
    "plotter_lib.savefig('output-plot.png') "
   ]
  },
  {
   "cell_type": "code",
   "execution_count": 71,
   "id": "51944f23",
   "metadata": {},
   "outputs": [
    {
     "name": "stdout",
     "output_type": "stream",
     "text": [
      "129/129 [==============================] - 52s 395ms/step\n",
      "Accuracy: 0.8223300970873786\n",
      "Classification Report:\n",
      "               precision    recall  f1-score   support\n",
      "\n",
      "           0       0.87      0.94      0.90       899\n",
      "           1       0.07      0.03      0.04       131\n",
      "\n",
      "    accuracy                           0.82      1030\n",
      "   macro avg       0.47      0.48      0.47      1030\n",
      "weighted avg       0.77      0.82      0.79      1030\n",
      "\n"
     ]
    }
   ],
   "source": [
    "from sklearn.metrics import classification_report, accuracy_score\n",
    "\n",
    "# predict on test data\n",
    "y_pred = demo_resnet_model.predict(validation_ds)\n",
    "\n",
    "# convert predicted probabilities to class labels\n",
    "y_pred = np.argmax(y_pred, axis=1)\n",
    "\n",
    "# get true class labels\n",
    "y_true = np.concatenate([y for x, y in validation_ds], axis=0)\n",
    "y_true = np.argmax(y_true, axis=1)\n",
    "\n",
    "# calculate accuracy\n",
    "acc = accuracy_score(y_true, y_pred)\n",
    "print(\"Accuracy:\", acc)\n",
    "\n",
    "# calculate precision, recall, f1-score\n",
    "report = classification_report(y_true, y_pred)\n",
    "print(\"Classification Report:\\n\", report)"
   ]
  },
  {
   "cell_type": "code",
   "execution_count": 72,
   "id": "e61b491a",
   "metadata": {},
   "outputs": [
    {
     "name": "stdout",
     "output_type": "stream",
     "text": [
      "Found 5150 files belonging to 2 classes.\n",
      "Using 4120 files for training.\n",
      "Found 5150 files belonging to 2 classes.\n",
      "Using 1030 files for validation.\n"
     ]
    },
    {
     "name": "stderr",
     "output_type": "stream",
     "text": [
      "WARNING:absl:`lr` is deprecated, please use `learning_rate` instead, or use the legacy optimizer, e.g.,tf.keras.optimizers.legacy.Adam.\n"
     ]
    },
    {
     "name": "stdout",
     "output_type": "stream",
     "text": [
      "Epoch 1/10\n",
      "258/258 [==============================] - 249s 948ms/step - loss: 0.3196 - accuracy: 0.8854 - val_loss: 0.2928 - val_accuracy: 0.8825\n",
      "Epoch 2/10\n",
      "258/258 [==============================] - 242s 939ms/step - loss: 0.2788 - accuracy: 0.8910 - val_loss: 0.3003 - val_accuracy: 0.8767\n",
      "Epoch 3/10\n",
      "258/258 [==============================] - 241s 935ms/step - loss: 0.2579 - accuracy: 0.8964 - val_loss: 0.2700 - val_accuracy: 0.8893\n",
      "Epoch 4/10\n",
      "258/258 [==============================] - 242s 936ms/step - loss: 0.2517 - accuracy: 0.8949 - val_loss: 0.2968 - val_accuracy: 0.8748\n",
      "Epoch 5/10\n",
      "258/258 [==============================] - 6193s 24s/step - loss: 0.2442 - accuracy: 0.8971 - val_loss: 0.3193 - val_accuracy: 0.8777\n",
      "Epoch 6/10\n",
      "258/258 [==============================] - 244s 945ms/step - loss: 0.2240 - accuracy: 0.9119 - val_loss: 0.2850 - val_accuracy: 0.8816\n",
      "Epoch 7/10\n",
      "258/258 [==============================] - 243s 942ms/step - loss: 0.2260 - accuracy: 0.9119 - val_loss: 0.2702 - val_accuracy: 0.8883\n",
      "Epoch 8/10\n",
      "258/258 [==============================] - 243s 941ms/step - loss: 0.2081 - accuracy: 0.9129 - val_loss: 0.2556 - val_accuracy: 0.8951\n",
      "Epoch 9/10\n",
      "258/258 [==============================] - 241s 936ms/step - loss: 0.2083 - accuracy: 0.9158 - val_loss: 0.2558 - val_accuracy: 0.8951\n",
      "Epoch 10/10\n",
      "258/258 [==============================] - 244s 947ms/step - loss: 0.2009 - accuracy: 0.9233 - val_loss: 0.2537 - val_accuracy: 0.9058\n"
     ]
    },
    {
     "data": {
      "text/plain": [
       "<Figure size 1000x1000 with 0 Axes>"
      ]
     },
     "metadata": {},
     "output_type": "display_data"
    }
   ],
   "source": [
    "### Resnet-50 batch_size=16\n",
    "\n",
    "\n",
    "\n",
    "\n",
    "\n",
    "\n",
    "\n",
    "\n",
    "\n",
    "\n",
    "\n",
    "img_height,img_width=180,180\n",
    "\n",
    "batch_size=16\n",
    "\n",
    "train_ds = tflow.keras.preprocessing.image_dataset_from_directory(\n",
    "\n",
    "  data_directory1,\n",
    "\n",
    "  validation_split=0.2,\n",
    "\n",
    "  subset=\"training\",\n",
    "\n",
    "  seed=123,\n",
    "\n",
    "label_mode='categorical',\n",
    "\n",
    "  image_size=(img_height, img_width),\n",
    "\n",
    "  batch_size=batch_size)\n",
    "\n",
    "\n",
    "\n",
    "\n",
    "validation_ds = tflow.keras.preprocessing.image_dataset_from_directory(\n",
    "\n",
    "  data_directory1,\n",
    "\n",
    "  validation_split=0.2,\n",
    "\n",
    "  subset=\"validation\",\n",
    "\n",
    "  seed=123,\n",
    "\n",
    "label_mode='categorical',\n",
    "\n",
    "  image_size=(img_height, img_width),\n",
    "\n",
    "  batch_size=batch_size)\n",
    "\n",
    "\n",
    "\n",
    "import matplotlib.pyplot as plotter_lib\n",
    "\n",
    "plotter_lib.figure(figsize=(10, 10))\n",
    "\n",
    "epochs=10\n",
    "\n",
    "\n",
    "demo_resnet_model = Sequential()\n",
    "\n",
    "pretrained_model_for_demo= tflow.keras.applications.ResNet50(include_top=False,\n",
    "\n",
    "                   input_shape=(180,180,3),\n",
    "\n",
    "                   pooling='avg',classes=2,\n",
    "\n",
    "                   weights='imagenet')\n",
    "\n",
    "for each_layer in pretrained_model_for_demo.layers:\n",
    "\n",
    "        each_layer.trainable=False\n",
    "\n",
    "demo_resnet_model.add(pretrained_model_for_demo)\n",
    "\n",
    "\n",
    "\n",
    "demo_resnet_model.add(Flatten())\n",
    "\n",
    "demo_resnet_model.add(Dense(512, activation='relu'))\n",
    "demo_resnet_model.add(Dense(128, activation='relu'))\n",
    "\n",
    "demo_resnet_model.add(Dense(2, activation='sigmoid'))\n",
    "\n",
    "\n",
    "\n",
    "demo_resnet_model.compile(optimizer=Adam(lr=0.001),loss='binary_crossentropy',metrics=['accuracy'])\n",
    "\n",
    "history = demo_resnet_model.fit(train_ds, validation_data=validation_ds, epochs=epochs)\n",
    "\n",
    "\n",
    "\n",
    "\n",
    "\n",
    "\n",
    "\n",
    "\n",
    "\n",
    "\n",
    "\n"
   ]
  },
  {
   "cell_type": "code",
   "execution_count": 73,
   "id": "57d59df4",
   "metadata": {},
   "outputs": [
    {
     "data": {
      "text/plain": [
       "<matplotlib.legend.Legend at 0x20129ca4610>"
      ]
     },
     "execution_count": 73,
     "metadata": {},
     "output_type": "execute_result"
    },
    {
     "data": {
      "image/png": "[encoded data removed]",
      "text/plain": [
       "<Figure size 500x500 with 1 Axes>"
      ]
     },
     "metadata": {},
     "output_type": "display_data"
    }
   ],
   "source": [
    "plotter_lib.figure(figsize=(5, 5))\n",
    "\n",
    "epochs_range= range(epochs)\n",
    "\n",
    "plotter_lib.plot( epochs_range, history.history['accuracy'], label=\"Training Accuracy\")\n",
    "\n",
    "plotter_lib.plot(epochs_range, history.history['val_accuracy'], label=\"Validation Accuracy\")\n",
    "\n",
    "plotter_lib.axis(ymin=0.4,ymax=1)\n",
    "\n",
    "plotter_lib.grid()\n",
    "\n",
    "plotter_lib.title('Model Accuracy')\n",
    "\n",
    "plotter_lib.ylabel('Accuracy')\n",
    "\n",
    "plotter_lib.xlabel('Epochs')\n",
    "\n",
    "plotter_lib.legend(['train', 'validation'])"
   ]
  },
  {
   "cell_type": "code",
   "execution_count": 74,
   "id": "2b565b66",
   "metadata": {},
   "outputs": [
    {
     "data": {
      "text/plain": [
       "<Figure size 640x480 with 0 Axes>"
      ]
     },
     "metadata": {},
     "output_type": "display_data"
    }
   ],
   "source": [
    "\n",
    "plotter_lib.show()\n",
    "\n",
    "plotter_lib.savefig('output-plot.png') "
   ]
  },
  {
   "cell_type": "code",
   "execution_count": 75,
   "id": "2329e4c6",
   "metadata": {},
   "outputs": [
    {
     "name": "stdout",
     "output_type": "stream",
     "text": [
      "65/65 [==============================] - 49s 733ms/step\n",
      "Accuracy: 0.8126213592233009\n",
      "Classification Report:\n",
      "               precision    recall  f1-score   support\n",
      "\n",
      "           0       0.87      0.92      0.90       899\n",
      "           1       0.14      0.09      0.11       131\n",
      "\n",
      "    accuracy                           0.81      1030\n",
      "   macro avg       0.51      0.50      0.50      1030\n",
      "weighted avg       0.78      0.81      0.80      1030\n",
      "\n"
     ]
    }
   ],
   "source": [
    "from sklearn.metrics import classification_report, accuracy_score\n",
    "\n",
    "# predict on test data\n",
    "y_pred = demo_resnet_model.predict(validation_ds)\n",
    "\n",
    "# convert predicted probabilities to class labels\n",
    "y_pred = np.argmax(y_pred, axis=1)\n",
    "\n",
    "# get true class labels\n",
    "y_true = np.concatenate([y for x, y in validation_ds], axis=0)\n",
    "y_true = np.argmax(y_true, axis=1)\n",
    "\n",
    "# calculate accuracy\n",
    "acc = accuracy_score(y_true, y_pred)\n",
    "print(\"Accuracy:\", acc)\n",
    "\n",
    "# calculate precision, recall, f1-score\n",
    "report = classification_report(y_true, y_pred)\n",
    "print(\"Classification Report:\\n\", report)"
   ]
  },
  {
   "cell_type": "code",
   "execution_count": 76,
   "id": "2951bd56",
   "metadata": {},
   "outputs": [
    {
     "name": "stdout",
     "output_type": "stream",
     "text": [
      "Found 5150 files belonging to 2 classes.\n",
      "Using 4120 files for training.\n",
      "Found 5150 files belonging to 2 classes.\n",
      "Using 1030 files for validation.\n"
     ]
    },
    {
     "name": "stderr",
     "output_type": "stream",
     "text": [
      "WARNING:absl:`lr` is deprecated, please use `learning_rate` instead, or use the legacy optimizer, e.g.,tf.keras.optimizers.legacy.Adam.\n"
     ]
    },
    {
     "name": "stdout",
     "output_type": "stream",
     "text": [
      "Epoch 1/10\n",
      "65/65 [==============================] - 239s 4s/step - loss: 0.3586 - accuracy: 0.8740 - val_loss: 0.3144 - val_accuracy: 0.8748\n",
      "Epoch 2/10\n",
      "65/65 [==============================] - 230s 4s/step - loss: 0.2763 - accuracy: 0.8905 - val_loss: 0.2960 - val_accuracy: 0.8786\n",
      "Epoch 3/10\n",
      "65/65 [==============================] - 230s 4s/step - loss: 0.2867 - accuracy: 0.8891 - val_loss: 0.2947 - val_accuracy: 0.8893\n",
      "Epoch 4/10\n",
      "65/65 [==============================] - 229s 4s/step - loss: 0.2563 - accuracy: 0.8966 - val_loss: 0.2733 - val_accuracy: 0.8845\n",
      "Epoch 5/10\n",
      "65/65 [==============================] - 233s 4s/step - loss: 0.2364 - accuracy: 0.9027 - val_loss: 0.2675 - val_accuracy: 0.8874\n",
      "Epoch 6/10\n",
      "65/65 [==============================] - 247s 4s/step - loss: 0.2329 - accuracy: 0.9083 - val_loss: 0.2783 - val_accuracy: 0.8845\n",
      "Epoch 7/10\n",
      "65/65 [==============================] - 235s 4s/step - loss: 0.2170 - accuracy: 0.9136 - val_loss: 0.2560 - val_accuracy: 0.9000\n",
      "Epoch 8/10\n",
      "65/65 [==============================] - 2588s 40s/step - loss: 0.2208 - accuracy: 0.9146 - val_loss: 0.2998 - val_accuracy: 0.8767\n",
      "Epoch 9/10\n",
      "65/65 [==============================] - 229s 4s/step - loss: 0.2060 - accuracy: 0.9192 - val_loss: 0.2644 - val_accuracy: 0.8961\n",
      "Epoch 10/10\n",
      "65/65 [==============================] - 229s 4s/step - loss: 0.1926 - accuracy: 0.9221 - val_loss: 0.4007 - val_accuracy: 0.8767\n"
     ]
    },
    {
     "data": {
      "text/plain": [
       "<Figure size 1000x1000 with 0 Axes>"
      ]
     },
     "metadata": {},
     "output_type": "display_data"
    }
   ],
   "source": [
    "### Resnet-50 batch_size=64\n",
    "\n",
    "\n",
    "\n",
    "\n",
    "\n",
    "\n",
    "\n",
    "\n",
    "\n",
    "\n",
    "\n",
    "\n",
    "\n",
    "\n",
    "\n",
    "\n",
    "\n",
    "\n",
    "\n",
    "img_height,img_width=180,180\n",
    "\n",
    "batch_size=64\n",
    "\n",
    "train_ds = tflow.keras.preprocessing.image_dataset_from_directory(\n",
    "\n",
    "  data_directory1,\n",
    "\n",
    "  validation_split=0.2,\n",
    "\n",
    "  subset=\"training\",\n",
    "\n",
    "  seed=123,\n",
    "\n",
    "label_mode='categorical',\n",
    "\n",
    "  image_size=(img_height, img_width),\n",
    "\n",
    "  batch_size=batch_size)\n",
    "\n",
    "\n",
    "\n",
    "\n",
    "validation_ds = tflow.keras.preprocessing.image_dataset_from_directory(\n",
    "\n",
    "  data_directory1,\n",
    "\n",
    "  validation_split=0.2,\n",
    "\n",
    "  subset=\"validation\",\n",
    "\n",
    "  seed=123,\n",
    "\n",
    "label_mode='categorical',\n",
    "\n",
    "  image_size=(img_height, img_width),\n",
    "\n",
    "  batch_size=batch_size)\n",
    "\n",
    "\n",
    "\n",
    "import matplotlib.pyplot as plotter_lib\n",
    "\n",
    "plotter_lib.figure(figsize=(10, 10))\n",
    "\n",
    "epochs=10\n",
    "\n",
    "\n",
    "demo_resnet_model = Sequential()\n",
    "\n",
    "pretrained_model_for_demo= tflow.keras.applications.ResNet50(include_top=False,\n",
    "\n",
    "                   input_shape=(180,180,3),\n",
    "\n",
    "                   pooling='avg',classes=2,\n",
    "\n",
    "                   weights='imagenet')\n",
    "\n",
    "for each_layer in pretrained_model_for_demo.layers:\n",
    "\n",
    "        each_layer.trainable=False\n",
    "\n",
    "demo_resnet_model.add(pretrained_model_for_demo)\n",
    "\n",
    "\n",
    "\n",
    "demo_resnet_model.add(Flatten())\n",
    "\n",
    "demo_resnet_model.add(Dense(512, activation='relu'))\n",
    "demo_resnet_model.add(Dense(128, activation='relu'))\n",
    "\n",
    "demo_resnet_model.add(Dense(2, activation='sigmoid'))\n",
    "\n",
    "\n",
    "\n",
    "demo_resnet_model.compile(optimizer=Adam(lr=0.001),loss='binary_crossentropy',metrics=['accuracy'])\n",
    "\n",
    "history = demo_resnet_model.fit(train_ds, validation_data=validation_ds, epochs=epochs)\n",
    "\n",
    "\n",
    "\n",
    "\n",
    "\n",
    "\n",
    "\n",
    "\n",
    "\n",
    "\n",
    "\n",
    "\n",
    "\n",
    "\n",
    "\n"
   ]
  },
  {
   "cell_type": "code",
   "execution_count": 77,
   "id": "ee294599",
   "metadata": {},
   "outputs": [
    {
     "data": {
      "text/plain": [
       "<matplotlib.legend.Legend at 0x20101780c10>"
      ]
     },
     "execution_count": 77,
     "metadata": {},
     "output_type": "execute_result"
    },
    {
     "data": {
      "image/png": "[encoded data removed]",
      "text/plain": [
       "<Figure size 500x500 with 1 Axes>"
      ]
     },
     "metadata": {},
     "output_type": "display_data"
    }
   ],
   "source": [
    "plotter_lib.figure(figsize=(5, 5))\n",
    "\n",
    "epochs_range= range(epochs)\n",
    "\n",
    "plotter_lib.plot( epochs_range, history.history['accuracy'], label=\"Training Accuracy\")\n",
    "\n",
    "plotter_lib.plot(epochs_range, history.history['val_accuracy'], label=\"Validation Accuracy\")\n",
    "\n",
    "plotter_lib.axis(ymin=0.4,ymax=1)\n",
    "\n",
    "plotter_lib.grid()\n",
    "\n",
    "plotter_lib.title('Model Accuracy')\n",
    "\n",
    "plotter_lib.ylabel('Accuracy')\n",
    "\n",
    "plotter_lib.xlabel('Epochs')\n",
    "\n",
    "plotter_lib.legend(['train', 'validation'])"
   ]
  },
  {
   "cell_type": "code",
   "execution_count": 78,
   "id": "a12e2d3f",
   "metadata": {},
   "outputs": [
    {
     "data": {
      "text/plain": [
       "<Figure size 640x480 with 0 Axes>"
      ]
     },
     "metadata": {},
     "output_type": "display_data"
    }
   ],
   "source": [
    "\n",
    "plotter_lib.show()\n",
    "\n",
    "plotter_lib.savefig('output-plot.png') "
   ]
  },
  {
   "cell_type": "code",
   "execution_count": 79,
   "id": "841aa8e2",
   "metadata": {},
   "outputs": [
    {
     "name": "stdout",
     "output_type": "stream",
     "text": [
      "17/17 [==============================] - 47s 3s/step\n",
      "Accuracy: 0.8689320388349514\n",
      "Classification Report:\n",
      "               precision    recall  f1-score   support\n",
      "\n",
      "           0       0.87      1.00      0.93       899\n",
      "           1       0.00      0.00      0.00       131\n",
      "\n",
      "    accuracy                           0.87      1030\n",
      "   macro avg       0.44      0.50      0.46      1030\n",
      "weighted avg       0.76      0.87      0.81      1030\n",
      "\n"
     ]
    }
   ],
   "source": [
    "from sklearn.metrics import classification_report, accuracy_score\n",
    "\n",
    "# predict on test data\n",
    "y_pred = demo_resnet_model.predict(validation_ds)\n",
    "\n",
    "# convert predicted probabilities to class labels\n",
    "y_pred = np.argmax(y_pred, axis=1)\n",
    "\n",
    "# get true class labels\n",
    "y_true = np.concatenate([y for x, y in validation_ds], axis=0)\n",
    "y_true = np.argmax(y_true, axis=1)\n",
    "\n",
    "# calculate accuracy\n",
    "acc = accuracy_score(y_true, y_pred)\n",
    "print(\"Accuracy:\", acc)\n",
    "\n",
    "# calculate precision, recall, f1-score\n",
    "report = classification_report(y_true, y_pred)\n",
    "print(\"Classification Report:\\n\", report)"
   ]
  },
  {
   "cell_type": "code",
   "execution_count": null,
   "id": "82ea4fe1",
   "metadata": {},
   "outputs": [],
   "source": []
  },
  {
   "cell_type": "code",
   "execution_count": null,
   "id": "fde56ecd",
   "metadata": {},
   "outputs": [],
   "source": []
  },
  {
   "cell_type": "code",
   "execution_count": null,
   "id": "36b5b024",
   "metadata": {},
   "outputs": [],
   "source": []
  },
  {
   "cell_type": "code",
   "execution_count": null,
   "id": "17abbf91",
   "metadata": {},
   "outputs": [],
   "source": []
  },
  {
   "cell_type": "code",
   "execution_count": null,
   "id": "09a4fd3a",
   "metadata": {},
   "outputs": [],
   "source": []
  },
  {
   "cell_type": "code",
   "execution_count": null,
   "id": "29f1d728",
   "metadata": {},
   "outputs": [],
   "source": []
  },
  {
   "cell_type": "code",
   "execution_count": null,
   "id": "6200cd80",
   "metadata": {},
   "outputs": [],
   "source": []
  },
  {
   "cell_type": "code",
   "execution_count": null,
   "id": "8c0d5cb9",
   "metadata": {},
   "outputs": [],
   "source": []
  },
  {
   "cell_type": "code",
   "execution_count": null,
   "id": "00d70d6c",
   "metadata": {},
   "outputs": [],
   "source": []
  },
  {
   "cell_type": "code",
   "execution_count": null,
   "id": "377354d1",
   "metadata": {},
   "outputs": [],
   "source": []
  },
  {
   "cell_type": "code",
   "execution_count": null,
   "id": "f48003e8",
   "metadata": {},
   "outputs": [],
   "source": []
  },
  {
   "cell_type": "code",
   "execution_count": null,
   "id": "ce214440",
   "metadata": {},
   "outputs": [],
   "source": []
  },
  {
   "cell_type": "code",
   "execution_count": null,
   "id": "83a9d1a4",
   "metadata": {},
   "outputs": [],
   "source": []
  },
  {
   "cell_type": "code",
   "execution_count": null,
   "id": "5332abf4",
   "metadata": {},
   "outputs": [],
   "source": []
  },
  {
   "cell_type": "code",
   "execution_count": null,
   "id": "c6d2322d",
   "metadata": {},
   "outputs": [],
   "source": []
  },
  {
   "cell_type": "code",
   "execution_count": null,
   "id": "e98edaa6",
   "metadata": {},
   "outputs": [],
   "source": []
  },
  {
   "cell_type": "code",
   "execution_count": null,
   "id": "427f931b",
   "metadata": {},
   "outputs": [],
   "source": []
  },
  {
   "cell_type": "code",
   "execution_count": null,
   "id": "f413e0fc",
   "metadata": {},
   "outputs": [],
   "source": []
  },
  {
   "cell_type": "code",
   "execution_count": null,
   "id": "9cfb8fb1",
   "metadata": {},
   "outputs": [],
   "source": []
  },
  {
   "cell_type": "code",
   "execution_count": null,
   "id": "e0b5b9e7",
   "metadata": {},
   "outputs": [],
   "source": []
  },
  {
   "cell_type": "code",
   "execution_count": null,
   "id": "d0e5ecc2",
   "metadata": {},
   "outputs": [],
   "source": []
  },
  {
   "cell_type": "code",
   "execution_count": null,
   "id": "2a569c2e",
   "metadata": {},
   "outputs": [],
   "source": []
  },
  {
   "cell_type": "code",
   "execution_count": null,
   "id": "00393bd4",
   "metadata": {},
   "outputs": [],
   "source": []
  },
  {
   "cell_type": "code",
   "execution_count": null,
   "id": "04d75e90",
   "metadata": {},
   "outputs": [],
   "source": []
  },
  {
   "cell_type": "code",
   "execution_count": null,
   "id": "7038a21c",
   "metadata": {},
   "outputs": [],
   "source": []
  },
  {
   "cell_type": "code",
   "execution_count": null,
   "id": "3a5eb12b",
   "metadata": {},
   "outputs": [],
   "source": []
  },
  {
   "cell_type": "code",
   "execution_count": null,
   "id": "1f7643fe",
   "metadata": {},
   "outputs": [],
   "source": []
  },
  {
   "cell_type": "code",
   "execution_count": null,
   "id": "c36b07a9",
   "metadata": {},
   "outputs": [],
   "source": []
  },
  {
   "cell_type": "code",
   "execution_count": null,
   "id": "d95351a1",
   "metadata": {},
   "outputs": [],
   "source": []
  },
  {
   "cell_type": "code",
   "execution_count": null,
   "id": "c2861de3",
   "metadata": {},
   "outputs": [],
   "source": []
  },
  {
   "cell_type": "code",
   "execution_count": null,
   "id": "94694895",
   "metadata": {},
   "outputs": [],
   "source": []
  },
  {
   "cell_type": "code",
   "execution_count": null,
   "id": "8daf24fc",
   "metadata": {},
   "outputs": [],
   "source": []
  },
  {
   "cell_type": "code",
   "execution_count": null,
   "id": "286677f7",
   "metadata": {},
   "outputs": [],
   "source": []
  },
  {
   "cell_type": "code",
   "execution_count": null,
   "id": "e32bbd56",
   "metadata": {},
   "outputs": [],
   "source": []
  },
  {
   "cell_type": "code",
   "execution_count": null,
   "id": "6c0e292c",
   "metadata": {},
   "outputs": [],
   "source": []
  },
  {
   "cell_type": "code",
   "execution_count": null,
   "id": "f07058e1",
   "metadata": {},
   "outputs": [],
   "source": []
  },
  {
   "cell_type": "code",
   "execution_count": null,
   "id": "995c5113",
   "metadata": {},
   "outputs": [],
   "source": []
  },
  {
   "cell_type": "code",
   "execution_count": null,
   "id": "7c709af8",
   "metadata": {},
   "outputs": [],
   "source": []
  },
  {
   "cell_type": "code",
   "execution_count": null,
   "id": "191abfc8",
   "metadata": {},
   "outputs": [],
   "source": []
  },
  {
   "cell_type": "code",
   "execution_count": null,
   "id": "90bfe5f7",
   "metadata": {},
   "outputs": [],
   "source": []
  },
  {
   "cell_type": "code",
   "execution_count": null,
   "id": "fe4edc17",
   "metadata": {},
   "outputs": [],
   "source": []
  },
  {
   "cell_type": "code",
   "execution_count": null,
   "id": "cf919703",
   "metadata": {},
   "outputs": [],
   "source": []
  },
  {
   "cell_type": "code",
   "execution_count": null,
   "id": "ce2fb588",
   "metadata": {},
   "outputs": [],
   "source": []
  },
  {
   "cell_type": "code",
   "execution_count": null,
   "id": "aef4f6df",
   "metadata": {},
   "outputs": [],
   "source": []
  },
  {
   "cell_type": "code",
   "execution_count": null,
   "id": "e4311230",
   "metadata": {},
   "outputs": [],
   "source": []
  },
  {
   "cell_type": "code",
   "execution_count": null,
   "id": "7c5b29ea",
   "metadata": {},
   "outputs": [],
   "source": []
  },
  {
   "cell_type": "code",
   "execution_count": null,
   "id": "4802cd50",
   "metadata": {},
   "outputs": [],
   "source": []
  },
  {
   "cell_type": "code",
   "execution_count": null,
   "id": "099ba5b4",
   "metadata": {},
   "outputs": [],
   "source": []
  },
  {
   "cell_type": "code",
   "execution_count": null,
   "id": "479bfb6b",
   "metadata": {},
   "outputs": [],
   "source": []
  },
  {
   "cell_type": "code",
   "execution_count": null,
   "id": "374ccba8",
   "metadata": {},
   "outputs": [],
   "source": []
  },
  {
   "cell_type": "code",
   "execution_count": null,
   "id": "04cb35a7",
   "metadata": {},
   "outputs": [],
   "source": []
  },
  {
   "cell_type": "code",
   "execution_count": null,
   "id": "a45f0966",
   "metadata": {},
   "outputs": [],
   "source": []
  },
  {
   "cell_type": "code",
   "execution_count": null,
   "id": "34e724a5",
   "metadata": {},
   "outputs": [],
   "source": []
  },
  {
   "cell_type": "code",
   "execution_count": null,
   "id": "322c5207",
   "metadata": {},
   "outputs": [],
   "source": []
  },
  {
   "cell_type": "code",
   "execution_count": null,
   "id": "291c4bf4",
   "metadata": {},
   "outputs": [],
   "source": []
  },
  {
   "cell_type": "code",
   "execution_count": null,
   "id": "7b23ab86",
   "metadata": {},
   "outputs": [],
   "source": []
  },
  {
   "cell_type": "code",
   "execution_count": null,
   "id": "99ec0e9d",
   "metadata": {},
   "outputs": [],
   "source": []
  },
  {
   "cell_type": "code",
   "execution_count": null,
   "id": "1e25958a",
   "metadata": {},
   "outputs": [],
   "source": []
  },
  {
   "cell_type": "code",
   "execution_count": null,
   "id": "02f16ef4",
   "metadata": {},
   "outputs": [],
   "source": []
  },
  {
   "cell_type": "code",
   "execution_count": null,
   "id": "df71446a",
   "metadata": {},
   "outputs": [],
   "source": []
  },
  {
   "cell_type": "code",
   "execution_count": null,
   "id": "baaf24d8",
   "metadata": {},
   "outputs": [],
   "source": []
  },
  {
   "cell_type": "code",
   "execution_count": null,
   "id": "c233efc9",
   "metadata": {},
   "outputs": [],
   "source": []
  },
  {
   "cell_type": "code",
   "execution_count": null,
   "id": "cce6775d",
   "metadata": {},
   "outputs": [],
   "source": []
  },
  {
   "cell_type": "code",
   "execution_count": null,
   "id": "f606330e",
   "metadata": {},
   "outputs": [],
   "source": []
  },
  {
   "cell_type": "code",
   "execution_count": null,
   "id": "f4d945f9",
   "metadata": {},
   "outputs": [],
   "source": []
  },
  {
   "cell_type": "code",
   "execution_count": null,
   "id": "b20fe5dc",
   "metadata": {},
   "outputs": [],
   "source": []
  },
  {
   "cell_type": "code",
   "execution_count": null,
   "id": "0e56e7b1",
   "metadata": {},
   "outputs": [],
   "source": []
  },
  {
   "cell_type": "code",
   "execution_count": null,
   "id": "3e42a55a",
   "metadata": {},
   "outputs": [],
   "source": []
  },
  {
   "cell_type": "code",
   "execution_count": null,
   "id": "fdff047c",
   "metadata": {},
   "outputs": [],
   "source": []
  },
  {
   "cell_type": "code",
   "execution_count": null,
   "id": "508109cb",
   "metadata": {},
   "outputs": [],
   "source": []
  }
 ],
 "metadata": {
  "kernelspec": {
   "display_name": "Python 3 (ipykernel)",
   "language": "python",
   "name": "python3"
  },
  "language_info": {
   "codemirror_mode": {
    "name": "ipython",
    "version": 3
   },
   "file_extension": ".py",
   "mimetype": "text/x-python",
   "name": "python",
   "nbconvert_exporter": "python",
   "pygments_lexer": "ipython3",
   "version": "3.9.0"
  }
 },
 "nbformat": 4,
 "nbformat_minor": 5
}
